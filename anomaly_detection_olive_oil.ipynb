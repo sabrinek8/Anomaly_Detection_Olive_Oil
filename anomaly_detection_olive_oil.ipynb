{
 "cells": [
  {
   "cell_type": "code",
   "execution_count": 1,
   "id": "a5393f8d",
   "metadata": {
    "_cell_guid": "b1076dfc-b9ad-4769-8c92-a6c4dae69d19",
    "_uuid": "8f2839f25d086af736a60e9eeb907d3b93b6e0e5",
    "execution": {
     "iopub.execute_input": "2025-09-03T17:29:20.004896Z",
     "iopub.status.busy": "2025-09-03T17:29:20.004469Z",
     "iopub.status.idle": "2025-09-03T17:29:40.051289Z",
     "shell.execute_reply": "2025-09-03T17:29:40.050286Z"
    },
    "papermill": {
     "duration": 20.055024,
     "end_time": "2025-09-03T17:29:40.053538",
     "exception": false,
     "start_time": "2025-09-03T17:29:19.998514",
     "status": "completed"
    },
    "tags": []
   },
   "outputs": [
    {
     "name": "stderr",
     "output_type": "stream",
     "text": [
      "2025-09-03 17:29:23.732221: E external/local_xla/xla/stream_executor/cuda/cuda_fft.cc:477] Unable to register cuFFT factory: Attempting to register factory for plugin cuFFT when one has already been registered\n",
      "WARNING: All log messages before absl::InitializeLog() is called are written to STDERR\n",
      "E0000 00:00:1756920563.958013      13 cuda_dnn.cc:8310] Unable to register cuDNN factory: Attempting to register factory for plugin cuDNN when one has already been registered\n",
      "E0000 00:00:1756920564.025212      13 cuda_blas.cc:1418] Unable to register cuBLAS factory: Attempting to register factory for plugin cuBLAS when one has already been registered\n"
     ]
    }
   ],
   "source": [
    "import pandas as pd\n",
    "import matplotlib.pyplot as plt\n",
    "import tensorflow as tf\n",
    "from sklearn.model_selection import train_test_split\n",
    "from sklearn.metrics import accuracy_score, precision_score, recall_score, f1_score, fbeta_score\n",
    "from tensorflow.keras.utils import to_categorical\n",
    "from sklearn.metrics import precision_recall_fscore_support\n",
    "from tensorflow.keras.models import load_model\n",
    "from tensorflow.keras import layers, models\n",
    "from tensorflow.keras.layers import LeakyReLU\n",
    "from tensorflow.keras import regularizers\n",
    "from sklearn.preprocessing import OneHotEncoder\n",
    "from tensorflow import keras\n",
    "from tensorflow.keras.utils import to_categorical\n",
    "from sklearn.metrics import precision_recall_fscore_support\n",
    "from tensorflow.keras.models import load_model\n",
    "import numpy as np\n",
    "import ast"
   ]
  },
  {
   "cell_type": "code",
   "execution_count": 2,
   "id": "e63f440b",
   "metadata": {
    "execution": {
     "iopub.execute_input": "2025-09-03T17:29:40.063543Z",
     "iopub.status.busy": "2025-09-03T17:29:40.062305Z",
     "iopub.status.idle": "2025-09-03T17:29:40.221381Z",
     "shell.execute_reply": "2025-09-03T17:29:40.220557Z"
    },
    "papermill": {
     "duration": 0.165431,
     "end_time": "2025-09-03T17:29:40.223234",
     "exception": false,
     "start_time": "2025-09-03T17:29:40.057803",
     "status": "completed"
    },
    "tags": []
   },
   "outputs": [],
   "source": [
    "df = pd.read_csv('/kaggle/input/olive-oil/Fluorescence_olive_oil_dataset.csv')\n"
   ]
  },
  {
   "cell_type": "code",
   "execution_count": 3,
   "id": "ea4a6145",
   "metadata": {
    "execution": {
     "iopub.execute_input": "2025-09-03T17:29:40.231739Z",
     "iopub.status.busy": "2025-09-03T17:29:40.231452Z",
     "iopub.status.idle": "2025-09-03T17:29:40.260213Z",
     "shell.execute_reply": "2025-09-03T17:29:40.258711Z"
    },
    "papermill": {
     "duration": 0.034858,
     "end_time": "2025-09-03T17:29:40.262032",
     "exception": false,
     "start_time": "2025-09-03T17:29:40.227174",
     "status": "completed"
    },
    "tags": []
   },
   "outputs": [
    {
     "name": "stderr",
     "output_type": "stream",
     "text": [
      "/usr/local/lib/python3.11/dist-packages/pandas/io/formats/format.py:1458: RuntimeWarning: invalid value encountered in greater\n",
      "  has_large_values = (abs_vals > 1e6).any()\n",
      "/usr/local/lib/python3.11/dist-packages/pandas/io/formats/format.py:1459: RuntimeWarning: invalid value encountered in less\n",
      "  has_small_values = ((abs_vals < 10 ** (-self.digits)) & (abs_vals > 0)).any()\n",
      "/usr/local/lib/python3.11/dist-packages/pandas/io/formats/format.py:1459: RuntimeWarning: invalid value encountered in greater\n",
      "  has_small_values = ((abs_vals < 10 ** (-self.digits)) & (abs_vals > 0)).any()\n"
     ]
    },
    {
     "data": {
      "text/html": [
       "<div>\n",
       "<style scoped>\n",
       "    .dataframe tbody tr th:only-of-type {\n",
       "        vertical-align: middle;\n",
       "    }\n",
       "\n",
       "    .dataframe tbody tr th {\n",
       "        vertical-align: top;\n",
       "    }\n",
       "\n",
       "    .dataframe thead th {\n",
       "        text-align: right;\n",
       "    }\n",
       "</style>\n",
       "<table border=\"1\" class=\"dataframe\">\n",
       "  <thead>\n",
       "    <tr style=\"text-align: right;\">\n",
       "      <th></th>\n",
       "      <th>Unnamed: 0</th>\n",
       "      <th>Sample</th>\n",
       "      <th>Repetition</th>\n",
       "      <th>Led</th>\n",
       "      <th>Data</th>\n",
       "      <th>Quality</th>\n",
       "      <th>FAEES</th>\n",
       "      <th>K232</th>\n",
       "      <th>K270</th>\n",
       "      <th>Acidity</th>\n",
       "      <th>Peroxide Index</th>\n",
       "    </tr>\n",
       "  </thead>\n",
       "  <tbody>\n",
       "    <tr>\n",
       "      <th>0</th>\n",
       "      <td>0</td>\n",
       "      <td>D73</td>\n",
       "      <td>19</td>\n",
       "      <td>2</td>\n",
       "      <td>[1490.0,1521.0,1544.0,1509.0,1491.0,1574.0,157...</td>\n",
       "      <td>EXTRA</td>\n",
       "      <td>15.0</td>\n",
       "      <td>1.66</td>\n",
       "      <td>0.14</td>\n",
       "      <td>0.20</td>\n",
       "      <td>8.9</td>\n",
       "    </tr>\n",
       "    <tr>\n",
       "      <th>1</th>\n",
       "      <td>1</td>\n",
       "      <td>D35</td>\n",
       "      <td>19</td>\n",
       "      <td>2</td>\n",
       "      <td>[1487.0,1518.0,1537.0,1506.0,1485.0,1562.0,156...</td>\n",
       "      <td>EXTRA</td>\n",
       "      <td>8.0</td>\n",
       "      <td>1.63</td>\n",
       "      <td>0.12</td>\n",
       "      <td>0.17</td>\n",
       "      <td>6.4</td>\n",
       "    </tr>\n",
       "    <tr>\n",
       "      <th>2</th>\n",
       "      <td>2</td>\n",
       "      <td>D77</td>\n",
       "      <td>3</td>\n",
       "      <td>1</td>\n",
       "      <td>[1490.0,1528.0,1541.0,1509.0,1486.0,1577.0,157...</td>\n",
       "      <td>VIRGEN</td>\n",
       "      <td>26.0</td>\n",
       "      <td>1.74</td>\n",
       "      <td>0.13</td>\n",
       "      <td>0.24</td>\n",
       "      <td>10.4</td>\n",
       "    </tr>\n",
       "    <tr>\n",
       "      <th>3</th>\n",
       "      <td>3</td>\n",
       "      <td>D09</td>\n",
       "      <td>8</td>\n",
       "      <td>2</td>\n",
       "      <td>[1486.0,1517.0,1531.0,1501.0,1483.0,1558.0,155...</td>\n",
       "      <td>LAMPANTE</td>\n",
       "      <td>NaN</td>\n",
       "      <td>NaN</td>\n",
       "      <td>NaN</td>\n",
       "      <td>NaN</td>\n",
       "      <td>NaN</td>\n",
       "    </tr>\n",
       "    <tr>\n",
       "      <th>4</th>\n",
       "      <td>4</td>\n",
       "      <td>D35</td>\n",
       "      <td>14</td>\n",
       "      <td>1</td>\n",
       "      <td>[1492.0,1515.0,1534.0,1505.0,1487.0,1568.0,156...</td>\n",
       "      <td>EXTRA</td>\n",
       "      <td>8.0</td>\n",
       "      <td>1.63</td>\n",
       "      <td>0.12</td>\n",
       "      <td>0.17</td>\n",
       "      <td>6.4</td>\n",
       "    </tr>\n",
       "  </tbody>\n",
       "</table>\n",
       "</div>"
      ],
      "text/plain": [
       "   Unnamed: 0 Sample  Repetition  Led  \\\n",
       "0           0    D73          19    2   \n",
       "1           1    D35          19    2   \n",
       "2           2    D77           3    1   \n",
       "3           3    D09           8    2   \n",
       "4           4    D35          14    1   \n",
       "\n",
       "                                                Data   Quality  FAEES  K232  \\\n",
       "0  [1490.0,1521.0,1544.0,1509.0,1491.0,1574.0,157...     EXTRA   15.0  1.66   \n",
       "1  [1487.0,1518.0,1537.0,1506.0,1485.0,1562.0,156...     EXTRA    8.0  1.63   \n",
       "2  [1490.0,1528.0,1541.0,1509.0,1486.0,1577.0,157...    VIRGEN   26.0  1.74   \n",
       "3  [1486.0,1517.0,1531.0,1501.0,1483.0,1558.0,155...  LAMPANTE    NaN   NaN   \n",
       "4  [1492.0,1515.0,1534.0,1505.0,1487.0,1568.0,156...     EXTRA    8.0  1.63   \n",
       "\n",
       "   K270  Acidity  Peroxide Index  \n",
       "0  0.14     0.20             8.9  \n",
       "1  0.12     0.17             6.4  \n",
       "2  0.13     0.24            10.4  \n",
       "3   NaN      NaN             NaN  \n",
       "4  0.12     0.17             6.4  "
      ]
     },
     "execution_count": 3,
     "metadata": {},
     "output_type": "execute_result"
    }
   ],
   "source": [
    "df.head()"
   ]
  },
  {
   "cell_type": "code",
   "execution_count": 4,
   "id": "78c9859f",
   "metadata": {
    "execution": {
     "iopub.execute_input": "2025-09-03T17:29:40.271210Z",
     "iopub.status.busy": "2025-09-03T17:29:40.270535Z",
     "iopub.status.idle": "2025-09-03T17:29:40.298962Z",
     "shell.execute_reply": "2025-09-03T17:29:40.297947Z"
    },
    "papermill": {
     "duration": 0.034556,
     "end_time": "2025-09-03T17:29:40.300607",
     "exception": false,
     "start_time": "2025-09-03T17:29:40.266051",
     "status": "completed"
    },
    "tags": []
   },
   "outputs": [
    {
     "data": {
      "text/html": [
       "<div>\n",
       "<style scoped>\n",
       "    .dataframe tbody tr th:only-of-type {\n",
       "        vertical-align: middle;\n",
       "    }\n",
       "\n",
       "    .dataframe tbody tr th {\n",
       "        vertical-align: top;\n",
       "    }\n",
       "\n",
       "    .dataframe thead th {\n",
       "        text-align: right;\n",
       "    }\n",
       "</style>\n",
       "<table border=\"1\" class=\"dataframe\">\n",
       "  <thead>\n",
       "    <tr style=\"text-align: right;\">\n",
       "      <th></th>\n",
       "      <th>Unnamed: 0</th>\n",
       "      <th>Repetition</th>\n",
       "      <th>Led</th>\n",
       "      <th>FAEES</th>\n",
       "      <th>K232</th>\n",
       "      <th>K270</th>\n",
       "      <th>Acidity</th>\n",
       "      <th>Peroxide Index</th>\n",
       "    </tr>\n",
       "  </thead>\n",
       "  <tbody>\n",
       "    <tr>\n",
       "      <th>count</th>\n",
       "      <td>960.000000</td>\n",
       "      <td>960.000000</td>\n",
       "      <td>960.000000</td>\n",
       "      <td>720.000000</td>\n",
       "      <td>720.000000</td>\n",
       "      <td>720.000000</td>\n",
       "      <td>880.000000</td>\n",
       "      <td>840.000000</td>\n",
       "    </tr>\n",
       "    <tr>\n",
       "      <th>mean</th>\n",
       "      <td>541.183333</td>\n",
       "      <td>9.500000</td>\n",
       "      <td>1.500000</td>\n",
       "      <td>18.666667</td>\n",
       "      <td>1.591944</td>\n",
       "      <td>0.132333</td>\n",
       "      <td>0.461364</td>\n",
       "      <td>8.009524</td>\n",
       "    </tr>\n",
       "    <tr>\n",
       "      <th>std</th>\n",
       "      <td>312.607160</td>\n",
       "      <td>5.769287</td>\n",
       "      <td>0.500261</td>\n",
       "      <td>11.183139</td>\n",
       "      <td>0.116583</td>\n",
       "      <td>0.015969</td>\n",
       "      <td>0.513697</td>\n",
       "      <td>3.699938</td>\n",
       "    </tr>\n",
       "    <tr>\n",
       "      <th>min</th>\n",
       "      <td>0.000000</td>\n",
       "      <td>0.000000</td>\n",
       "      <td>1.000000</td>\n",
       "      <td>7.000000</td>\n",
       "      <td>1.403000</td>\n",
       "      <td>0.108000</td>\n",
       "      <td>0.160000</td>\n",
       "      <td>4.600000</td>\n",
       "    </tr>\n",
       "    <tr>\n",
       "      <th>25%</th>\n",
       "      <td>269.750000</td>\n",
       "      <td>4.750000</td>\n",
       "      <td>1.000000</td>\n",
       "      <td>9.000000</td>\n",
       "      <td>1.537000</td>\n",
       "      <td>0.120000</td>\n",
       "      <td>0.180000</td>\n",
       "      <td>5.000000</td>\n",
       "    </tr>\n",
       "    <tr>\n",
       "      <th>50%</th>\n",
       "      <td>545.500000</td>\n",
       "      <td>9.500000</td>\n",
       "      <td>1.500000</td>\n",
       "      <td>15.500000</td>\n",
       "      <td>1.630000</td>\n",
       "      <td>0.130000</td>\n",
       "      <td>0.255000</td>\n",
       "      <td>8.400000</td>\n",
       "    </tr>\n",
       "    <tr>\n",
       "      <th>75%</th>\n",
       "      <td>812.250000</td>\n",
       "      <td>14.250000</td>\n",
       "      <td>2.000000</td>\n",
       "      <td>26.000000</td>\n",
       "      <td>1.630000</td>\n",
       "      <td>0.140000</td>\n",
       "      <td>0.400000</td>\n",
       "      <td>8.900000</td>\n",
       "    </tr>\n",
       "    <tr>\n",
       "      <th>max</th>\n",
       "      <td>1081.000000</td>\n",
       "      <td>19.000000</td>\n",
       "      <td>2.000000</td>\n",
       "      <td>47.000000</td>\n",
       "      <td>1.910000</td>\n",
       "      <td>0.170000</td>\n",
       "      <td>2.160000</td>\n",
       "      <td>22.000000</td>\n",
       "    </tr>\n",
       "  </tbody>\n",
       "</table>\n",
       "</div>"
      ],
      "text/plain": [
       "        Unnamed: 0  Repetition         Led       FAEES        K232  \\\n",
       "count   960.000000  960.000000  960.000000  720.000000  720.000000   \n",
       "mean    541.183333    9.500000    1.500000   18.666667    1.591944   \n",
       "std     312.607160    5.769287    0.500261   11.183139    0.116583   \n",
       "min       0.000000    0.000000    1.000000    7.000000    1.403000   \n",
       "25%     269.750000    4.750000    1.000000    9.000000    1.537000   \n",
       "50%     545.500000    9.500000    1.500000   15.500000    1.630000   \n",
       "75%     812.250000   14.250000    2.000000   26.000000    1.630000   \n",
       "max    1081.000000   19.000000    2.000000   47.000000    1.910000   \n",
       "\n",
       "             K270     Acidity  Peroxide Index  \n",
       "count  720.000000  880.000000      840.000000  \n",
       "mean     0.132333    0.461364        8.009524  \n",
       "std      0.015969    0.513697        3.699938  \n",
       "min      0.108000    0.160000        4.600000  \n",
       "25%      0.120000    0.180000        5.000000  \n",
       "50%      0.130000    0.255000        8.400000  \n",
       "75%      0.140000    0.400000        8.900000  \n",
       "max      0.170000    2.160000       22.000000  "
      ]
     },
     "execution_count": 4,
     "metadata": {},
     "output_type": "execute_result"
    }
   ],
   "source": [
    "df.describe()"
   ]
  },
  {
   "cell_type": "code",
   "execution_count": 5,
   "id": "00755db4",
   "metadata": {
    "execution": {
     "iopub.execute_input": "2025-09-03T17:29:40.310031Z",
     "iopub.status.busy": "2025-09-03T17:29:40.309697Z",
     "iopub.status.idle": "2025-09-03T17:29:40.320170Z",
     "shell.execute_reply": "2025-09-03T17:29:40.319313Z"
    },
    "papermill": {
     "duration": 0.017123,
     "end_time": "2025-09-03T17:29:40.321862",
     "exception": false,
     "start_time": "2025-09-03T17:29:40.304739",
     "status": "completed"
    },
    "tags": []
   },
   "outputs": [],
   "source": [
    "df = df.drop(['Unnamed: 0', 'Sample'], axis=1)"
   ]
  },
  {
   "cell_type": "code",
   "execution_count": 6,
   "id": "31f84b4d",
   "metadata": {
    "execution": {
     "iopub.execute_input": "2025-09-03T17:29:40.331081Z",
     "iopub.status.busy": "2025-09-03T17:29:40.330742Z",
     "iopub.status.idle": "2025-09-03T17:29:40.337798Z",
     "shell.execute_reply": "2025-09-03T17:29:40.336682Z"
    },
    "papermill": {
     "duration": 0.013172,
     "end_time": "2025-09-03T17:29:40.339209",
     "exception": false,
     "start_time": "2025-09-03T17:29:40.326037",
     "status": "completed"
    },
    "tags": []
   },
   "outputs": [],
   "source": [
    "df[\"Led\"]=df[\"Led\"].replace({1:0,2:1})"
   ]
  },
  {
   "cell_type": "code",
   "execution_count": 7,
   "id": "bc96a1e6",
   "metadata": {
    "execution": {
     "iopub.execute_input": "2025-09-03T17:29:40.349184Z",
     "iopub.status.busy": "2025-09-03T17:29:40.348853Z",
     "iopub.status.idle": "2025-09-03T17:29:41.976612Z",
     "shell.execute_reply": "2025-09-03T17:29:41.975659Z"
    },
    "papermill": {
     "duration": 1.635325,
     "end_time": "2025-09-03T17:29:41.978792",
     "exception": false,
     "start_time": "2025-09-03T17:29:40.343467",
     "status": "completed"
    },
    "tags": []
   },
   "outputs": [],
   "source": [
    "data_to_array=df[\"Data\"].apply(lambda x: ast.literal_eval(x))"
   ]
  },
  {
   "cell_type": "code",
   "execution_count": 8,
   "id": "1cd5068d",
   "metadata": {
    "execution": {
     "iopub.execute_input": "2025-09-03T17:29:41.988879Z",
     "iopub.status.busy": "2025-09-03T17:29:41.988553Z",
     "iopub.status.idle": "2025-09-03T17:29:42.155869Z",
     "shell.execute_reply": "2025-09-03T17:29:42.154861Z"
    },
    "papermill": {
     "duration": 0.174572,
     "end_time": "2025-09-03T17:29:42.157434",
     "exception": false,
     "start_time": "2025-09-03T17:29:41.982862",
     "status": "completed"
    },
    "tags": []
   },
   "outputs": [],
   "source": [
    "data_expanded = pd.DataFrame(data_to_array.to_list())\n",
    "data_expanded_cols=data_expanded.columns\n",
    "df = df.drop(columns=['Data']).reset_index(drop=True)\n",
    "df = pd.concat([df, data_expanded], axis=1)"
   ]
  },
  {
   "cell_type": "code",
   "execution_count": 9,
   "id": "7908c340",
   "metadata": {
    "execution": {
     "iopub.execute_input": "2025-09-03T17:29:42.166802Z",
     "iopub.status.busy": "2025-09-03T17:29:42.166077Z",
     "iopub.status.idle": "2025-09-03T17:29:42.187443Z",
     "shell.execute_reply": "2025-09-03T17:29:42.186205Z"
    },
    "papermill": {
     "duration": 0.027349,
     "end_time": "2025-09-03T17:29:42.188786",
     "exception": false,
     "start_time": "2025-09-03T17:29:42.161437",
     "status": "completed"
    },
    "tags": []
   },
   "outputs": [
    {
     "name": "stderr",
     "output_type": "stream",
     "text": [
      "/usr/local/lib/python3.11/dist-packages/pandas/io/formats/format.py:1458: RuntimeWarning: invalid value encountered in greater\n",
      "  has_large_values = (abs_vals > 1e6).any()\n",
      "/usr/local/lib/python3.11/dist-packages/pandas/io/formats/format.py:1459: RuntimeWarning: invalid value encountered in less\n",
      "  has_small_values = ((abs_vals < 10 ** (-self.digits)) & (abs_vals > 0)).any()\n",
      "/usr/local/lib/python3.11/dist-packages/pandas/io/formats/format.py:1459: RuntimeWarning: invalid value encountered in greater\n",
      "  has_small_values = ((abs_vals < 10 ** (-self.digits)) & (abs_vals > 0)).any()\n",
      "/usr/local/lib/python3.11/dist-packages/pandas/io/formats/format.py:1458: RuntimeWarning: invalid value encountered in greater\n",
      "  has_large_values = (abs_vals > 1e6).any()\n",
      "/usr/local/lib/python3.11/dist-packages/pandas/io/formats/format.py:1459: RuntimeWarning: invalid value encountered in less\n",
      "  has_small_values = ((abs_vals < 10 ** (-self.digits)) & (abs_vals > 0)).any()\n",
      "/usr/local/lib/python3.11/dist-packages/pandas/io/formats/format.py:1459: RuntimeWarning: invalid value encountered in greater\n",
      "  has_small_values = ((abs_vals < 10 ** (-self.digits)) & (abs_vals > 0)).any()\n"
     ]
    },
    {
     "data": {
      "text/html": [
       "<div>\n",
       "<style scoped>\n",
       "    .dataframe tbody tr th:only-of-type {\n",
       "        vertical-align: middle;\n",
       "    }\n",
       "\n",
       "    .dataframe tbody tr th {\n",
       "        vertical-align: top;\n",
       "    }\n",
       "\n",
       "    .dataframe thead th {\n",
       "        text-align: right;\n",
       "    }\n",
       "</style>\n",
       "<table border=\"1\" class=\"dataframe\">\n",
       "  <thead>\n",
       "    <tr style=\"text-align: right;\">\n",
       "      <th></th>\n",
       "      <th>Repetition</th>\n",
       "      <th>Led</th>\n",
       "      <th>Quality</th>\n",
       "      <th>FAEES</th>\n",
       "      <th>K232</th>\n",
       "      <th>K270</th>\n",
       "      <th>Acidity</th>\n",
       "      <th>Peroxide Index</th>\n",
       "      <th>0</th>\n",
       "      <th>1</th>\n",
       "      <th>...</th>\n",
       "      <th>1014</th>\n",
       "      <th>1015</th>\n",
       "      <th>1016</th>\n",
       "      <th>1017</th>\n",
       "      <th>1018</th>\n",
       "      <th>1019</th>\n",
       "      <th>1020</th>\n",
       "      <th>1021</th>\n",
       "      <th>1022</th>\n",
       "      <th>1023</th>\n",
       "    </tr>\n",
       "  </thead>\n",
       "  <tbody>\n",
       "    <tr>\n",
       "      <th>0</th>\n",
       "      <td>19</td>\n",
       "      <td>1</td>\n",
       "      <td>EXTRA</td>\n",
       "      <td>15.0</td>\n",
       "      <td>1.66</td>\n",
       "      <td>0.14</td>\n",
       "      <td>0.20</td>\n",
       "      <td>8.9</td>\n",
       "      <td>1490.0</td>\n",
       "      <td>1521.0</td>\n",
       "      <td>...</td>\n",
       "      <td>1641.0</td>\n",
       "      <td>1590.0</td>\n",
       "      <td>1595.0</td>\n",
       "      <td>1633.0</td>\n",
       "      <td>1545.0</td>\n",
       "      <td>1594.0</td>\n",
       "      <td>1614.0</td>\n",
       "      <td>1490.0</td>\n",
       "      <td>1605.0</td>\n",
       "      <td>1583.0</td>\n",
       "    </tr>\n",
       "    <tr>\n",
       "      <th>1</th>\n",
       "      <td>19</td>\n",
       "      <td>1</td>\n",
       "      <td>EXTRA</td>\n",
       "      <td>8.0</td>\n",
       "      <td>1.63</td>\n",
       "      <td>0.12</td>\n",
       "      <td>0.17</td>\n",
       "      <td>6.4</td>\n",
       "      <td>1487.0</td>\n",
       "      <td>1518.0</td>\n",
       "      <td>...</td>\n",
       "      <td>1626.0</td>\n",
       "      <td>1586.0</td>\n",
       "      <td>1588.0</td>\n",
       "      <td>1619.0</td>\n",
       "      <td>1547.0</td>\n",
       "      <td>1586.0</td>\n",
       "      <td>1610.0</td>\n",
       "      <td>1488.0</td>\n",
       "      <td>1598.0</td>\n",
       "      <td>1574.0</td>\n",
       "    </tr>\n",
       "    <tr>\n",
       "      <th>2</th>\n",
       "      <td>3</td>\n",
       "      <td>0</td>\n",
       "      <td>VIRGEN</td>\n",
       "      <td>26.0</td>\n",
       "      <td>1.74</td>\n",
       "      <td>0.13</td>\n",
       "      <td>0.24</td>\n",
       "      <td>10.4</td>\n",
       "      <td>1490.0</td>\n",
       "      <td>1528.0</td>\n",
       "      <td>...</td>\n",
       "      <td>1643.0</td>\n",
       "      <td>1592.0</td>\n",
       "      <td>1596.0</td>\n",
       "      <td>1631.0</td>\n",
       "      <td>1550.0</td>\n",
       "      <td>1596.0</td>\n",
       "      <td>1616.0</td>\n",
       "      <td>1486.0</td>\n",
       "      <td>1598.0</td>\n",
       "      <td>1579.0</td>\n",
       "    </tr>\n",
       "    <tr>\n",
       "      <th>3</th>\n",
       "      <td>8</td>\n",
       "      <td>1</td>\n",
       "      <td>LAMPANTE</td>\n",
       "      <td>NaN</td>\n",
       "      <td>NaN</td>\n",
       "      <td>NaN</td>\n",
       "      <td>NaN</td>\n",
       "      <td>NaN</td>\n",
       "      <td>1486.0</td>\n",
       "      <td>1517.0</td>\n",
       "      <td>...</td>\n",
       "      <td>1611.0</td>\n",
       "      <td>1574.0</td>\n",
       "      <td>1577.0</td>\n",
       "      <td>1602.0</td>\n",
       "      <td>1534.0</td>\n",
       "      <td>1572.0</td>\n",
       "      <td>1593.0</td>\n",
       "      <td>1483.0</td>\n",
       "      <td>1579.0</td>\n",
       "      <td>1565.0</td>\n",
       "    </tr>\n",
       "    <tr>\n",
       "      <th>4</th>\n",
       "      <td>14</td>\n",
       "      <td>0</td>\n",
       "      <td>EXTRA</td>\n",
       "      <td>8.0</td>\n",
       "      <td>1.63</td>\n",
       "      <td>0.12</td>\n",
       "      <td>0.17</td>\n",
       "      <td>6.4</td>\n",
       "      <td>1492.0</td>\n",
       "      <td>1515.0</td>\n",
       "      <td>...</td>\n",
       "      <td>1611.0</td>\n",
       "      <td>1569.0</td>\n",
       "      <td>1573.0</td>\n",
       "      <td>1605.0</td>\n",
       "      <td>1535.0</td>\n",
       "      <td>1573.0</td>\n",
       "      <td>1592.0</td>\n",
       "      <td>1476.0</td>\n",
       "      <td>1583.0</td>\n",
       "      <td>1560.0</td>\n",
       "    </tr>\n",
       "  </tbody>\n",
       "</table>\n",
       "<p>5 rows × 1032 columns</p>\n",
       "</div>"
      ],
      "text/plain": [
       "   Repetition  Led   Quality  FAEES  K232  K270  Acidity  Peroxide Index  \\\n",
       "0          19    1     EXTRA   15.0  1.66  0.14     0.20             8.9   \n",
       "1          19    1     EXTRA    8.0  1.63  0.12     0.17             6.4   \n",
       "2           3    0    VIRGEN   26.0  1.74  0.13     0.24            10.4   \n",
       "3           8    1  LAMPANTE    NaN   NaN   NaN      NaN             NaN   \n",
       "4          14    0     EXTRA    8.0  1.63  0.12     0.17             6.4   \n",
       "\n",
       "        0       1  ...    1014    1015    1016    1017    1018    1019  \\\n",
       "0  1490.0  1521.0  ...  1641.0  1590.0  1595.0  1633.0  1545.0  1594.0   \n",
       "1  1487.0  1518.0  ...  1626.0  1586.0  1588.0  1619.0  1547.0  1586.0   \n",
       "2  1490.0  1528.0  ...  1643.0  1592.0  1596.0  1631.0  1550.0  1596.0   \n",
       "3  1486.0  1517.0  ...  1611.0  1574.0  1577.0  1602.0  1534.0  1572.0   \n",
       "4  1492.0  1515.0  ...  1611.0  1569.0  1573.0  1605.0  1535.0  1573.0   \n",
       "\n",
       "     1020    1021    1022    1023  \n",
       "0  1614.0  1490.0  1605.0  1583.0  \n",
       "1  1610.0  1488.0  1598.0  1574.0  \n",
       "2  1616.0  1486.0  1598.0  1579.0  \n",
       "3  1593.0  1483.0  1579.0  1565.0  \n",
       "4  1592.0  1476.0  1583.0  1560.0  \n",
       "\n",
       "[5 rows x 1032 columns]"
      ]
     },
     "execution_count": 9,
     "metadata": {},
     "output_type": "execute_result"
    }
   ],
   "source": [
    "df.head(5)"
   ]
  },
  {
   "cell_type": "code",
   "execution_count": 10,
   "id": "86003520",
   "metadata": {
    "execution": {
     "iopub.execute_input": "2025-09-03T17:29:42.199511Z",
     "iopub.status.busy": "2025-09-03T17:29:42.198865Z",
     "iopub.status.idle": "2025-09-03T17:29:42.203484Z",
     "shell.execute_reply": "2025-09-03T17:29:42.202711Z"
    },
    "papermill": {
     "duration": 0.011448,
     "end_time": "2025-09-03T17:29:42.205078",
     "exception": false,
     "start_time": "2025-09-03T17:29:42.193630",
     "status": "completed"
    },
    "tags": []
   },
   "outputs": [],
   "source": [
    "categorical_columns=[\"Repetition\",\"Quality\",\"Led\"]\n",
    "numerical_columns = [\"FAEES\", \"K232\", \"K270\", \"Acidity\", \"Peroxide Index\"]\n",
    "numerical_columns.extend(data_expanded_cols)"
   ]
  },
  {
   "cell_type": "code",
   "execution_count": 11,
   "id": "35896466",
   "metadata": {
    "execution": {
     "iopub.execute_input": "2025-09-03T17:29:42.214527Z",
     "iopub.status.busy": "2025-09-03T17:29:42.214261Z",
     "iopub.status.idle": "2025-09-03T17:29:42.229685Z",
     "shell.execute_reply": "2025-09-03T17:29:42.228848Z"
    },
    "papermill": {
     "duration": 0.022047,
     "end_time": "2025-09-03T17:29:42.231415",
     "exception": false,
     "start_time": "2025-09-03T17:29:42.209368",
     "status": "completed"
    },
    "tags": []
   },
   "outputs": [
    {
     "data": {
      "text/plain": [
       "Repetition      0\n",
       "Led             0\n",
       "Quality         0\n",
       "FAEES         240\n",
       "K232          240\n",
       "             ... \n",
       "1019            0\n",
       "1020            0\n",
       "1021            0\n",
       "1022            0\n",
       "1023            0\n",
       "Length: 1032, dtype: int64"
      ]
     },
     "execution_count": 11,
     "metadata": {},
     "output_type": "execute_result"
    }
   ],
   "source": [
    "df.isna().sum()"
   ]
  },
  {
   "cell_type": "code",
   "execution_count": 12,
   "id": "1c6c6f35",
   "metadata": {
    "execution": {
     "iopub.execute_input": "2025-09-03T17:29:42.241629Z",
     "iopub.status.busy": "2025-09-03T17:29:42.241332Z",
     "iopub.status.idle": "2025-09-03T17:29:42.301405Z",
     "shell.execute_reply": "2025-09-03T17:29:42.300612Z"
    },
    "papermill": {
     "duration": 0.066811,
     "end_time": "2025-09-03T17:29:42.302927",
     "exception": false,
     "start_time": "2025-09-03T17:29:42.236116",
     "status": "completed"
    },
    "tags": []
   },
   "outputs": [
    {
     "data": {
      "text/plain": [
       "FAEES             1.091297\n",
       "K232              0.713190\n",
       "K270              0.713331\n",
       "Acidity           2.371726\n",
       "Peroxide Index    2.414490\n",
       "0                 0.341968\n",
       "dtype: float64"
      ]
     },
     "execution_count": 12,
     "metadata": {},
     "output_type": "execute_result"
    }
   ],
   "source": [
    "df[numerical_columns].skew().head(6)"
   ]
  },
  {
   "cell_type": "code",
   "execution_count": 13,
   "id": "5c51774e",
   "metadata": {
    "execution": {
     "iopub.execute_input": "2025-09-03T17:29:42.313689Z",
     "iopub.status.busy": "2025-09-03T17:29:42.312888Z",
     "iopub.status.idle": "2025-09-03T17:29:42.322327Z",
     "shell.execute_reply": "2025-09-03T17:29:42.321325Z"
    },
    "papermill": {
     "duration": 0.016314,
     "end_time": "2025-09-03T17:29:42.324066",
     "exception": false,
     "start_time": "2025-09-03T17:29:42.307752",
     "status": "completed"
    },
    "tags": []
   },
   "outputs": [],
   "source": [
    "cols_to_median=['FAEES', 'K232', 'K270', 'Acidity', 'Peroxide Index']\n",
    "df[cols_to_median]=df[cols_to_median].fillna(df[cols_to_median].median())"
   ]
  },
  {
   "cell_type": "code",
   "execution_count": 14,
   "id": "609ce677",
   "metadata": {
    "execution": {
     "iopub.execute_input": "2025-09-03T17:29:42.334090Z",
     "iopub.status.busy": "2025-09-03T17:29:42.333733Z",
     "iopub.status.idle": "2025-09-03T17:29:42.350705Z",
     "shell.execute_reply": "2025-09-03T17:29:42.349662Z"
    },
    "papermill": {
     "duration": 0.023844,
     "end_time": "2025-09-03T17:29:42.352333",
     "exception": false,
     "start_time": "2025-09-03T17:29:42.328489",
     "status": "completed"
    },
    "tags": []
   },
   "outputs": [
    {
     "data": {
      "text/plain": [
       "Repetition    0\n",
       "Led           0\n",
       "Quality       0\n",
       "FAEES         0\n",
       "K232          0\n",
       "             ..\n",
       "1019          0\n",
       "1020          0\n",
       "1021          0\n",
       "1022          0\n",
       "1023          0\n",
       "Length: 1032, dtype: int64"
      ]
     },
     "execution_count": 14,
     "metadata": {},
     "output_type": "execute_result"
    }
   ],
   "source": [
    "df.isna().sum()"
   ]
  },
  {
   "cell_type": "markdown",
   "id": "9820464d",
   "metadata": {
    "papermill": {
     "duration": 0.004067,
     "end_time": "2025-09-03T17:29:42.360790",
     "exception": false,
     "start_time": "2025-09-03T17:29:42.356723",
     "status": "completed"
    },
    "tags": []
   },
   "source": [
    "Encoder"
   ]
  },
  {
   "cell_type": "code",
   "execution_count": 15,
   "id": "f84b44d0",
   "metadata": {
    "execution": {
     "iopub.execute_input": "2025-09-03T17:29:42.370935Z",
     "iopub.status.busy": "2025-09-03T17:29:42.370578Z",
     "iopub.status.idle": "2025-09-03T17:29:42.404919Z",
     "shell.execute_reply": "2025-09-03T17:29:42.404055Z"
    },
    "papermill": {
     "duration": 0.041606,
     "end_time": "2025-09-03T17:29:42.406684",
     "exception": false,
     "start_time": "2025-09-03T17:29:42.365078",
     "status": "completed"
    },
    "tags": []
   },
   "outputs": [],
   "source": [
    "encoder = OneHotEncoder(sparse_output=False)\n",
    "encoded_array = encoder.fit_transform(df[['Quality']])\n",
    "encoded_df = pd.DataFrame(encoded_array, columns=encoder.get_feature_names_out(['Quality']))\n",
    "df2 = df.drop(columns=['Quality']).reset_index(drop=True)\n",
    "df2 = pd.concat([df2, encoded_df], axis=1)"
   ]
  },
  {
   "cell_type": "code",
   "execution_count": 16,
   "id": "30fd77e7",
   "metadata": {
    "execution": {
     "iopub.execute_input": "2025-09-03T17:29:42.416673Z",
     "iopub.status.busy": "2025-09-03T17:29:42.416354Z",
     "iopub.status.idle": "2025-09-03T17:29:42.437775Z",
     "shell.execute_reply": "2025-09-03T17:29:42.436838Z"
    },
    "papermill": {
     "duration": 0.028054,
     "end_time": "2025-09-03T17:29:42.439374",
     "exception": false,
     "start_time": "2025-09-03T17:29:42.411320",
     "status": "completed"
    },
    "tags": []
   },
   "outputs": [
    {
     "data": {
      "text/html": [
       "<div>\n",
       "<style scoped>\n",
       "    .dataframe tbody tr th:only-of-type {\n",
       "        vertical-align: middle;\n",
       "    }\n",
       "\n",
       "    .dataframe tbody tr th {\n",
       "        vertical-align: top;\n",
       "    }\n",
       "\n",
       "    .dataframe thead th {\n",
       "        text-align: right;\n",
       "    }\n",
       "</style>\n",
       "<table border=\"1\" class=\"dataframe\">\n",
       "  <thead>\n",
       "    <tr style=\"text-align: right;\">\n",
       "      <th></th>\n",
       "      <th>Repetition</th>\n",
       "      <th>Led</th>\n",
       "      <th>FAEES</th>\n",
       "      <th>K232</th>\n",
       "      <th>K270</th>\n",
       "      <th>Acidity</th>\n",
       "      <th>Peroxide Index</th>\n",
       "      <th>0</th>\n",
       "      <th>1</th>\n",
       "      <th>2</th>\n",
       "      <th>...</th>\n",
       "      <th>1017</th>\n",
       "      <th>1018</th>\n",
       "      <th>1019</th>\n",
       "      <th>1020</th>\n",
       "      <th>1021</th>\n",
       "      <th>1022</th>\n",
       "      <th>1023</th>\n",
       "      <th>Quality_EXTRA</th>\n",
       "      <th>Quality_LAMPANTE</th>\n",
       "      <th>Quality_VIRGEN</th>\n",
       "    </tr>\n",
       "  </thead>\n",
       "  <tbody>\n",
       "    <tr>\n",
       "      <th>0</th>\n",
       "      <td>19</td>\n",
       "      <td>1</td>\n",
       "      <td>15.0</td>\n",
       "      <td>1.66</td>\n",
       "      <td>0.14</td>\n",
       "      <td>0.200</td>\n",
       "      <td>8.9</td>\n",
       "      <td>1490.0</td>\n",
       "      <td>1521.0</td>\n",
       "      <td>1544.0</td>\n",
       "      <td>...</td>\n",
       "      <td>1633.0</td>\n",
       "      <td>1545.0</td>\n",
       "      <td>1594.0</td>\n",
       "      <td>1614.0</td>\n",
       "      <td>1490.0</td>\n",
       "      <td>1605.0</td>\n",
       "      <td>1583.0</td>\n",
       "      <td>1.0</td>\n",
       "      <td>0.0</td>\n",
       "      <td>0.0</td>\n",
       "    </tr>\n",
       "    <tr>\n",
       "      <th>1</th>\n",
       "      <td>19</td>\n",
       "      <td>1</td>\n",
       "      <td>8.0</td>\n",
       "      <td>1.63</td>\n",
       "      <td>0.12</td>\n",
       "      <td>0.170</td>\n",
       "      <td>6.4</td>\n",
       "      <td>1487.0</td>\n",
       "      <td>1518.0</td>\n",
       "      <td>1537.0</td>\n",
       "      <td>...</td>\n",
       "      <td>1619.0</td>\n",
       "      <td>1547.0</td>\n",
       "      <td>1586.0</td>\n",
       "      <td>1610.0</td>\n",
       "      <td>1488.0</td>\n",
       "      <td>1598.0</td>\n",
       "      <td>1574.0</td>\n",
       "      <td>1.0</td>\n",
       "      <td>0.0</td>\n",
       "      <td>0.0</td>\n",
       "    </tr>\n",
       "    <tr>\n",
       "      <th>2</th>\n",
       "      <td>3</td>\n",
       "      <td>0</td>\n",
       "      <td>26.0</td>\n",
       "      <td>1.74</td>\n",
       "      <td>0.13</td>\n",
       "      <td>0.240</td>\n",
       "      <td>10.4</td>\n",
       "      <td>1490.0</td>\n",
       "      <td>1528.0</td>\n",
       "      <td>1541.0</td>\n",
       "      <td>...</td>\n",
       "      <td>1631.0</td>\n",
       "      <td>1550.0</td>\n",
       "      <td>1596.0</td>\n",
       "      <td>1616.0</td>\n",
       "      <td>1486.0</td>\n",
       "      <td>1598.0</td>\n",
       "      <td>1579.0</td>\n",
       "      <td>0.0</td>\n",
       "      <td>0.0</td>\n",
       "      <td>1.0</td>\n",
       "    </tr>\n",
       "    <tr>\n",
       "      <th>3</th>\n",
       "      <td>8</td>\n",
       "      <td>1</td>\n",
       "      <td>15.5</td>\n",
       "      <td>1.63</td>\n",
       "      <td>0.13</td>\n",
       "      <td>0.255</td>\n",
       "      <td>8.4</td>\n",
       "      <td>1486.0</td>\n",
       "      <td>1517.0</td>\n",
       "      <td>1531.0</td>\n",
       "      <td>...</td>\n",
       "      <td>1602.0</td>\n",
       "      <td>1534.0</td>\n",
       "      <td>1572.0</td>\n",
       "      <td>1593.0</td>\n",
       "      <td>1483.0</td>\n",
       "      <td>1579.0</td>\n",
       "      <td>1565.0</td>\n",
       "      <td>0.0</td>\n",
       "      <td>1.0</td>\n",
       "      <td>0.0</td>\n",
       "    </tr>\n",
       "    <tr>\n",
       "      <th>4</th>\n",
       "      <td>14</td>\n",
       "      <td>0</td>\n",
       "      <td>8.0</td>\n",
       "      <td>1.63</td>\n",
       "      <td>0.12</td>\n",
       "      <td>0.170</td>\n",
       "      <td>6.4</td>\n",
       "      <td>1492.0</td>\n",
       "      <td>1515.0</td>\n",
       "      <td>1534.0</td>\n",
       "      <td>...</td>\n",
       "      <td>1605.0</td>\n",
       "      <td>1535.0</td>\n",
       "      <td>1573.0</td>\n",
       "      <td>1592.0</td>\n",
       "      <td>1476.0</td>\n",
       "      <td>1583.0</td>\n",
       "      <td>1560.0</td>\n",
       "      <td>1.0</td>\n",
       "      <td>0.0</td>\n",
       "      <td>0.0</td>\n",
       "    </tr>\n",
       "  </tbody>\n",
       "</table>\n",
       "<p>5 rows × 1034 columns</p>\n",
       "</div>"
      ],
      "text/plain": [
       "   Repetition  Led  FAEES  K232  K270  Acidity  Peroxide Index       0  \\\n",
       "0          19    1   15.0  1.66  0.14    0.200             8.9  1490.0   \n",
       "1          19    1    8.0  1.63  0.12    0.170             6.4  1487.0   \n",
       "2           3    0   26.0  1.74  0.13    0.240            10.4  1490.0   \n",
       "3           8    1   15.5  1.63  0.13    0.255             8.4  1486.0   \n",
       "4          14    0    8.0  1.63  0.12    0.170             6.4  1492.0   \n",
       "\n",
       "        1       2  ...    1017    1018    1019    1020    1021    1022  \\\n",
       "0  1521.0  1544.0  ...  1633.0  1545.0  1594.0  1614.0  1490.0  1605.0   \n",
       "1  1518.0  1537.0  ...  1619.0  1547.0  1586.0  1610.0  1488.0  1598.0   \n",
       "2  1528.0  1541.0  ...  1631.0  1550.0  1596.0  1616.0  1486.0  1598.0   \n",
       "3  1517.0  1531.0  ...  1602.0  1534.0  1572.0  1593.0  1483.0  1579.0   \n",
       "4  1515.0  1534.0  ...  1605.0  1535.0  1573.0  1592.0  1476.0  1583.0   \n",
       "\n",
       "     1023  Quality_EXTRA  Quality_LAMPANTE  Quality_VIRGEN  \n",
       "0  1583.0            1.0               0.0             0.0  \n",
       "1  1574.0            1.0               0.0             0.0  \n",
       "2  1579.0            0.0               0.0             1.0  \n",
       "3  1565.0            0.0               1.0             0.0  \n",
       "4  1560.0            1.0               0.0             0.0  \n",
       "\n",
       "[5 rows x 1034 columns]"
      ]
     },
     "execution_count": 16,
     "metadata": {},
     "output_type": "execute_result"
    }
   ],
   "source": [
    "df2.head()"
   ]
  },
  {
   "cell_type": "code",
   "execution_count": 17,
   "id": "9287b065",
   "metadata": {
    "execution": {
     "iopub.execute_input": "2025-09-03T17:29:42.450141Z",
     "iopub.status.busy": "2025-09-03T17:29:42.449813Z",
     "iopub.status.idle": "2025-09-03T17:29:42.467005Z",
     "shell.execute_reply": "2025-09-03T17:29:42.465761Z"
    },
    "papermill": {
     "duration": 0.024363,
     "end_time": "2025-09-03T17:29:42.468622",
     "exception": false,
     "start_time": "2025-09-03T17:29:42.444259",
     "status": "completed"
    },
    "tags": []
   },
   "outputs": [],
   "source": [
    "train_data, test_data = train_test_split(df2, test_size=0.2, random_state=42)\n",
    "train_data, val_data = train_test_split(train_data, test_size=0.2, random_state=42)"
   ]
  },
  {
   "cell_type": "code",
   "execution_count": 18,
   "id": "7b64b385",
   "metadata": {
    "execution": {
     "iopub.execute_input": "2025-09-03T17:29:42.479672Z",
     "iopub.status.busy": "2025-09-03T17:29:42.478935Z",
     "iopub.status.idle": "2025-09-03T17:29:42.559047Z",
     "shell.execute_reply": "2025-09-03T17:29:42.558076Z"
    },
    "papermill": {
     "duration": 0.087293,
     "end_time": "2025-09-03T17:29:42.560620",
     "exception": false,
     "start_time": "2025-09-03T17:29:42.473327",
     "status": "completed"
    },
    "tags": []
   },
   "outputs": [
    {
     "data": {
      "text/plain": [
       "Index([    'Repetition',          'FAEES',           'K232',           'K270',\n",
       "              'Acidity', 'Peroxide Index',                0,                1,\n",
       "                      2,                3,\n",
       "       ...\n",
       "                   1014,             1015,             1016,             1017,\n",
       "                   1018,             1019,             1020,             1021,\n",
       "                   1022,             1023],\n",
       "      dtype='object', length=1030)"
      ]
     },
     "execution_count": 18,
     "metadata": {},
     "output_type": "execute_result"
    }
   ],
   "source": [
    "num_cols = df2.columns[(df2.nunique() != 2)] \n",
    "num_cols"
   ]
  },
  {
   "cell_type": "code",
   "execution_count": 19,
   "id": "95abeac2",
   "metadata": {
    "execution": {
     "iopub.execute_input": "2025-09-03T17:29:42.571472Z",
     "iopub.status.busy": "2025-09-03T17:29:42.571217Z",
     "iopub.status.idle": "2025-09-03T17:29:42.576462Z",
     "shell.execute_reply": "2025-09-03T17:29:42.575550Z"
    },
    "papermill": {
     "duration": 0.01213,
     "end_time": "2025-09-03T17:29:42.577883",
     "exception": false,
     "start_time": "2025-09-03T17:29:42.565753",
     "status": "completed"
    },
    "tags": []
   },
   "outputs": [],
   "source": [
    "def scale_data(data,cols):\n",
    "    data_to_scale=data[cols]\n",
    "    min_val = tf.reduce_min(data[cols]).numpy()\n",
    "    max_val= tf.reduce_max(data[cols]).numpy()\n",
    "    data[cols] = (data[cols] - min_val) / (max_val - min_val)\n",
    "    data = tf.cast(data, tf.float32)\n",
    "    return data"
   ]
  },
  {
   "cell_type": "code",
   "execution_count": 20,
   "id": "90570678",
   "metadata": {
    "execution": {
     "iopub.execute_input": "2025-09-03T17:29:42.588856Z",
     "iopub.status.busy": "2025-09-03T17:29:42.588575Z",
     "iopub.status.idle": "2025-09-03T17:29:43.283131Z",
     "shell.execute_reply": "2025-09-03T17:29:43.282188Z"
    },
    "papermill": {
     "duration": 0.702153,
     "end_time": "2025-09-03T17:29:43.284844",
     "exception": false,
     "start_time": "2025-09-03T17:29:42.582691",
     "status": "completed"
    },
    "tags": []
   },
   "outputs": [
    {
     "name": "stderr",
     "output_type": "stream",
     "text": [
      "2025-09-03 17:29:42.598486: E external/local_xla/xla/stream_executor/cuda/cuda_driver.cc:152] failed call to cuInit: INTERNAL: CUDA error: Failed call to cuInit: UNKNOWN ERROR (303)\n"
     ]
    }
   ],
   "source": [
    "train_data=scale_data(train_data,num_cols)\n",
    "test_data=scale_data(test_data,num_cols)\n",
    "val_data=scale_data(val_data,num_cols)\n",
    "train_data = tf.cast(train_data, tf.float32)\n",
    "test_data=tf.cast(test_data, tf.float32)\n",
    "val_data=tf.cast(val_data, tf.float32)"
   ]
  }
 ],
 "metadata": {
  "kaggle": {
   "accelerator": "none",
   "dataSources": [
    {
     "datasetId": 7183841,
     "sourceId": 11464109,
     "sourceType": "datasetVersion"
    }
   ],
   "dockerImageVersionId": 31089,
   "isGpuEnabled": false,
   "isInternetEnabled": false,
   "language": "python",
   "sourceType": "notebook"
  },
  "kernelspec": {
   "display_name": "Python 3",
   "language": "python",
   "name": "python3"
  },
  "language_info": {
   "codemirror_mode": {
    "name": "ipython",
    "version": 3
   },
   "file_extension": ".py",
   "mimetype": "text/x-python",
   "name": "python",
   "nbconvert_exporter": "python",
   "pygments_lexer": "ipython3",
   "version": "3.11.13"
  },
  "papermill": {
   "default_parameters": {},
   "duration": 31.76538,
   "end_time": "2025-09-03T17:29:46.195448",
   "environment_variables": {},
   "exception": null,
   "input_path": "__notebook__.ipynb",
   "output_path": "__notebook__.ipynb",
   "parameters": {},
   "start_time": "2025-09-03T17:29:14.430068",
   "version": "2.6.0"
  }
 },
 "nbformat": 4,
 "nbformat_minor": 5
}
