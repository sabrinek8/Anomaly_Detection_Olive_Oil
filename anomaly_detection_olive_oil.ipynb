{
 "cells": [
  {
   "cell_type": "code",
   "execution_count": 1,
   "id": "ba7ed9da",
   "metadata": {
    "_cell_guid": "b1076dfc-b9ad-4769-8c92-a6c4dae69d19",
    "_uuid": "8f2839f25d086af736a60e9eeb907d3b93b6e0e5",
    "execution": {
     "iopub.execute_input": "2025-09-03T17:19:37.516947Z",
     "iopub.status.busy": "2025-09-03T17:19:37.516569Z",
     "iopub.status.idle": "2025-09-03T17:19:59.090835Z",
     "shell.execute_reply": "2025-09-03T17:19:59.089803Z"
    },
    "papermill": {
     "duration": 21.583174,
     "end_time": "2025-09-03T17:19:59.092954",
     "exception": false,
     "start_time": "2025-09-03T17:19:37.509780",
     "status": "completed"
    },
    "tags": []
   },
   "outputs": [
    {
     "name": "stderr",
     "output_type": "stream",
     "text": [
      "2025-09-03 17:19:41.507713: E external/local_xla/xla/stream_executor/cuda/cuda_fft.cc:477] Unable to register cuFFT factory: Attempting to register factory for plugin cuFFT when one has already been registered\n",
      "WARNING: All log messages before absl::InitializeLog() is called are written to STDERR\n",
      "E0000 00:00:1756919981.749511      13 cuda_dnn.cc:8310] Unable to register cuDNN factory: Attempting to register factory for plugin cuDNN when one has already been registered\n",
      "E0000 00:00:1756919981.822322      13 cuda_blas.cc:1418] Unable to register cuBLAS factory: Attempting to register factory for plugin cuBLAS when one has already been registered\n"
     ]
    }
   ],
   "source": [
    "import pandas as pd\n",
    "import matplotlib.pyplot as plt\n",
    "import tensorflow as tf\n",
    "from sklearn.model_selection import train_test_split\n",
    "from sklearn.metrics import accuracy_score, precision_score, recall_score, f1_score, fbeta_score\n",
    "from tensorflow.keras.utils import to_categorical\n",
    "from sklearn.metrics import precision_recall_fscore_support\n",
    "from tensorflow.keras.models import load_model\n",
    "from tensorflow.keras import layers, models\n",
    "from tensorflow.keras.layers import LeakyReLU\n",
    "from tensorflow.keras import regularizers\n",
    "from sklearn.preprocessing import OneHotEncoder\n",
    "from tensorflow import keras\n",
    "from tensorflow.keras.utils import to_categorical\n",
    "from sklearn.metrics import precision_recall_fscore_support\n",
    "from tensorflow.keras.models import load_model\n",
    "import numpy as np\n",
    "import ast"
   ]
  },
  {
   "cell_type": "code",
   "execution_count": 2,
   "id": "a40dbf68",
   "metadata": {
    "execution": {
     "iopub.execute_input": "2025-09-03T17:19:59.105742Z",
     "iopub.status.busy": "2025-09-03T17:19:59.105043Z",
     "iopub.status.idle": "2025-09-03T17:19:59.304277Z",
     "shell.execute_reply": "2025-09-03T17:19:59.302967Z"
    },
    "papermill": {
     "duration": 0.207582,
     "end_time": "2025-09-03T17:19:59.306359",
     "exception": false,
     "start_time": "2025-09-03T17:19:59.098777",
     "status": "completed"
    },
    "tags": []
   },
   "outputs": [],
   "source": [
    "df = pd.read_csv('/kaggle/input/olive-oil/Fluorescence_olive_oil_dataset.csv')\n"
   ]
  },
  {
   "cell_type": "code",
   "execution_count": 3,
   "id": "66f85cc5",
   "metadata": {
    "execution": {
     "iopub.execute_input": "2025-09-03T17:19:59.318537Z",
     "iopub.status.busy": "2025-09-03T17:19:59.318194Z",
     "iopub.status.idle": "2025-09-03T17:19:59.354625Z",
     "shell.execute_reply": "2025-09-03T17:19:59.352427Z"
    },
    "papermill": {
     "duration": 0.045981,
     "end_time": "2025-09-03T17:19:59.357650",
     "exception": false,
     "start_time": "2025-09-03T17:19:59.311669",
     "status": "completed"
    },
    "tags": []
   },
   "outputs": [
    {
     "name": "stderr",
     "output_type": "stream",
     "text": [
      "/usr/local/lib/python3.11/dist-packages/pandas/io/formats/format.py:1458: RuntimeWarning: invalid value encountered in greater\n",
      "  has_large_values = (abs_vals > 1e6).any()\n",
      "/usr/local/lib/python3.11/dist-packages/pandas/io/formats/format.py:1459: RuntimeWarning: invalid value encountered in less\n",
      "  has_small_values = ((abs_vals < 10 ** (-self.digits)) & (abs_vals > 0)).any()\n",
      "/usr/local/lib/python3.11/dist-packages/pandas/io/formats/format.py:1459: RuntimeWarning: invalid value encountered in greater\n",
      "  has_small_values = ((abs_vals < 10 ** (-self.digits)) & (abs_vals > 0)).any()\n"
     ]
    },
    {
     "data": {
      "text/html": [
       "<div>\n",
       "<style scoped>\n",
       "    .dataframe tbody tr th:only-of-type {\n",
       "        vertical-align: middle;\n",
       "    }\n",
       "\n",
       "    .dataframe tbody tr th {\n",
       "        vertical-align: top;\n",
       "    }\n",
       "\n",
       "    .dataframe thead th {\n",
       "        text-align: right;\n",
       "    }\n",
       "</style>\n",
       "<table border=\"1\" class=\"dataframe\">\n",
       "  <thead>\n",
       "    <tr style=\"text-align: right;\">\n",
       "      <th></th>\n",
       "      <th>Unnamed: 0</th>\n",
       "      <th>Sample</th>\n",
       "      <th>Repetition</th>\n",
       "      <th>Led</th>\n",
       "      <th>Data</th>\n",
       "      <th>Quality</th>\n",
       "      <th>FAEES</th>\n",
       "      <th>K232</th>\n",
       "      <th>K270</th>\n",
       "      <th>Acidity</th>\n",
       "      <th>Peroxide Index</th>\n",
       "    </tr>\n",
       "  </thead>\n",
       "  <tbody>\n",
       "    <tr>\n",
       "      <th>0</th>\n",
       "      <td>0</td>\n",
       "      <td>D73</td>\n",
       "      <td>19</td>\n",
       "      <td>2</td>\n",
       "      <td>[1490.0,1521.0,1544.0,1509.0,1491.0,1574.0,157...</td>\n",
       "      <td>EXTRA</td>\n",
       "      <td>15.0</td>\n",
       "      <td>1.66</td>\n",
       "      <td>0.14</td>\n",
       "      <td>0.20</td>\n",
       "      <td>8.9</td>\n",
       "    </tr>\n",
       "    <tr>\n",
       "      <th>1</th>\n",
       "      <td>1</td>\n",
       "      <td>D35</td>\n",
       "      <td>19</td>\n",
       "      <td>2</td>\n",
       "      <td>[1487.0,1518.0,1537.0,1506.0,1485.0,1562.0,156...</td>\n",
       "      <td>EXTRA</td>\n",
       "      <td>8.0</td>\n",
       "      <td>1.63</td>\n",
       "      <td>0.12</td>\n",
       "      <td>0.17</td>\n",
       "      <td>6.4</td>\n",
       "    </tr>\n",
       "    <tr>\n",
       "      <th>2</th>\n",
       "      <td>2</td>\n",
       "      <td>D77</td>\n",
       "      <td>3</td>\n",
       "      <td>1</td>\n",
       "      <td>[1490.0,1528.0,1541.0,1509.0,1486.0,1577.0,157...</td>\n",
       "      <td>VIRGEN</td>\n",
       "      <td>26.0</td>\n",
       "      <td>1.74</td>\n",
       "      <td>0.13</td>\n",
       "      <td>0.24</td>\n",
       "      <td>10.4</td>\n",
       "    </tr>\n",
       "    <tr>\n",
       "      <th>3</th>\n",
       "      <td>3</td>\n",
       "      <td>D09</td>\n",
       "      <td>8</td>\n",
       "      <td>2</td>\n",
       "      <td>[1486.0,1517.0,1531.0,1501.0,1483.0,1558.0,155...</td>\n",
       "      <td>LAMPANTE</td>\n",
       "      <td>NaN</td>\n",
       "      <td>NaN</td>\n",
       "      <td>NaN</td>\n",
       "      <td>NaN</td>\n",
       "      <td>NaN</td>\n",
       "    </tr>\n",
       "    <tr>\n",
       "      <th>4</th>\n",
       "      <td>4</td>\n",
       "      <td>D35</td>\n",
       "      <td>14</td>\n",
       "      <td>1</td>\n",
       "      <td>[1492.0,1515.0,1534.0,1505.0,1487.0,1568.0,156...</td>\n",
       "      <td>EXTRA</td>\n",
       "      <td>8.0</td>\n",
       "      <td>1.63</td>\n",
       "      <td>0.12</td>\n",
       "      <td>0.17</td>\n",
       "      <td>6.4</td>\n",
       "    </tr>\n",
       "  </tbody>\n",
       "</table>\n",
       "</div>"
      ],
      "text/plain": [
       "   Unnamed: 0 Sample  Repetition  Led  \\\n",
       "0           0    D73          19    2   \n",
       "1           1    D35          19    2   \n",
       "2           2    D77           3    1   \n",
       "3           3    D09           8    2   \n",
       "4           4    D35          14    1   \n",
       "\n",
       "                                                Data   Quality  FAEES  K232  \\\n",
       "0  [1490.0,1521.0,1544.0,1509.0,1491.0,1574.0,157...     EXTRA   15.0  1.66   \n",
       "1  [1487.0,1518.0,1537.0,1506.0,1485.0,1562.0,156...     EXTRA    8.0  1.63   \n",
       "2  [1490.0,1528.0,1541.0,1509.0,1486.0,1577.0,157...    VIRGEN   26.0  1.74   \n",
       "3  [1486.0,1517.0,1531.0,1501.0,1483.0,1558.0,155...  LAMPANTE    NaN   NaN   \n",
       "4  [1492.0,1515.0,1534.0,1505.0,1487.0,1568.0,156...     EXTRA    8.0  1.63   \n",
       "\n",
       "   K270  Acidity  Peroxide Index  \n",
       "0  0.14     0.20             8.9  \n",
       "1  0.12     0.17             6.4  \n",
       "2  0.13     0.24            10.4  \n",
       "3   NaN      NaN             NaN  \n",
       "4  0.12     0.17             6.4  "
      ]
     },
     "execution_count": 3,
     "metadata": {},
     "output_type": "execute_result"
    }
   ],
   "source": [
    "df.head()"
   ]
  },
  {
   "cell_type": "code",
   "execution_count": 4,
   "id": "912bdc4f",
   "metadata": {
    "execution": {
     "iopub.execute_input": "2025-09-03T17:19:59.370094Z",
     "iopub.status.busy": "2025-09-03T17:19:59.369567Z",
     "iopub.status.idle": "2025-09-03T17:19:59.407739Z",
     "shell.execute_reply": "2025-09-03T17:19:59.406682Z"
    },
    "papermill": {
     "duration": 0.046652,
     "end_time": "2025-09-03T17:19:59.409739",
     "exception": false,
     "start_time": "2025-09-03T17:19:59.363087",
     "status": "completed"
    },
    "tags": []
   },
   "outputs": [
    {
     "data": {
      "text/html": [
       "<div>\n",
       "<style scoped>\n",
       "    .dataframe tbody tr th:only-of-type {\n",
       "        vertical-align: middle;\n",
       "    }\n",
       "\n",
       "    .dataframe tbody tr th {\n",
       "        vertical-align: top;\n",
       "    }\n",
       "\n",
       "    .dataframe thead th {\n",
       "        text-align: right;\n",
       "    }\n",
       "</style>\n",
       "<table border=\"1\" class=\"dataframe\">\n",
       "  <thead>\n",
       "    <tr style=\"text-align: right;\">\n",
       "      <th></th>\n",
       "      <th>Unnamed: 0</th>\n",
       "      <th>Repetition</th>\n",
       "      <th>Led</th>\n",
       "      <th>FAEES</th>\n",
       "      <th>K232</th>\n",
       "      <th>K270</th>\n",
       "      <th>Acidity</th>\n",
       "      <th>Peroxide Index</th>\n",
       "    </tr>\n",
       "  </thead>\n",
       "  <tbody>\n",
       "    <tr>\n",
       "      <th>count</th>\n",
       "      <td>960.000000</td>\n",
       "      <td>960.000000</td>\n",
       "      <td>960.000000</td>\n",
       "      <td>720.000000</td>\n",
       "      <td>720.000000</td>\n",
       "      <td>720.000000</td>\n",
       "      <td>880.000000</td>\n",
       "      <td>840.000000</td>\n",
       "    </tr>\n",
       "    <tr>\n",
       "      <th>mean</th>\n",
       "      <td>541.183333</td>\n",
       "      <td>9.500000</td>\n",
       "      <td>1.500000</td>\n",
       "      <td>18.666667</td>\n",
       "      <td>1.591944</td>\n",
       "      <td>0.132333</td>\n",
       "      <td>0.461364</td>\n",
       "      <td>8.009524</td>\n",
       "    </tr>\n",
       "    <tr>\n",
       "      <th>std</th>\n",
       "      <td>312.607160</td>\n",
       "      <td>5.769287</td>\n",
       "      <td>0.500261</td>\n",
       "      <td>11.183139</td>\n",
       "      <td>0.116583</td>\n",
       "      <td>0.015969</td>\n",
       "      <td>0.513697</td>\n",
       "      <td>3.699938</td>\n",
       "    </tr>\n",
       "    <tr>\n",
       "      <th>min</th>\n",
       "      <td>0.000000</td>\n",
       "      <td>0.000000</td>\n",
       "      <td>1.000000</td>\n",
       "      <td>7.000000</td>\n",
       "      <td>1.403000</td>\n",
       "      <td>0.108000</td>\n",
       "      <td>0.160000</td>\n",
       "      <td>4.600000</td>\n",
       "    </tr>\n",
       "    <tr>\n",
       "      <th>25%</th>\n",
       "      <td>269.750000</td>\n",
       "      <td>4.750000</td>\n",
       "      <td>1.000000</td>\n",
       "      <td>9.000000</td>\n",
       "      <td>1.537000</td>\n",
       "      <td>0.120000</td>\n",
       "      <td>0.180000</td>\n",
       "      <td>5.000000</td>\n",
       "    </tr>\n",
       "    <tr>\n",
       "      <th>50%</th>\n",
       "      <td>545.500000</td>\n",
       "      <td>9.500000</td>\n",
       "      <td>1.500000</td>\n",
       "      <td>15.500000</td>\n",
       "      <td>1.630000</td>\n",
       "      <td>0.130000</td>\n",
       "      <td>0.255000</td>\n",
       "      <td>8.400000</td>\n",
       "    </tr>\n",
       "    <tr>\n",
       "      <th>75%</th>\n",
       "      <td>812.250000</td>\n",
       "      <td>14.250000</td>\n",
       "      <td>2.000000</td>\n",
       "      <td>26.000000</td>\n",
       "      <td>1.630000</td>\n",
       "      <td>0.140000</td>\n",
       "      <td>0.400000</td>\n",
       "      <td>8.900000</td>\n",
       "    </tr>\n",
       "    <tr>\n",
       "      <th>max</th>\n",
       "      <td>1081.000000</td>\n",
       "      <td>19.000000</td>\n",
       "      <td>2.000000</td>\n",
       "      <td>47.000000</td>\n",
       "      <td>1.910000</td>\n",
       "      <td>0.170000</td>\n",
       "      <td>2.160000</td>\n",
       "      <td>22.000000</td>\n",
       "    </tr>\n",
       "  </tbody>\n",
       "</table>\n",
       "</div>"
      ],
      "text/plain": [
       "        Unnamed: 0  Repetition         Led       FAEES        K232  \\\n",
       "count   960.000000  960.000000  960.000000  720.000000  720.000000   \n",
       "mean    541.183333    9.500000    1.500000   18.666667    1.591944   \n",
       "std     312.607160    5.769287    0.500261   11.183139    0.116583   \n",
       "min       0.000000    0.000000    1.000000    7.000000    1.403000   \n",
       "25%     269.750000    4.750000    1.000000    9.000000    1.537000   \n",
       "50%     545.500000    9.500000    1.500000   15.500000    1.630000   \n",
       "75%     812.250000   14.250000    2.000000   26.000000    1.630000   \n",
       "max    1081.000000   19.000000    2.000000   47.000000    1.910000   \n",
       "\n",
       "             K270     Acidity  Peroxide Index  \n",
       "count  720.000000  880.000000      840.000000  \n",
       "mean     0.132333    0.461364        8.009524  \n",
       "std      0.015969    0.513697        3.699938  \n",
       "min      0.108000    0.160000        4.600000  \n",
       "25%      0.120000    0.180000        5.000000  \n",
       "50%      0.130000    0.255000        8.400000  \n",
       "75%      0.140000    0.400000        8.900000  \n",
       "max      0.170000    2.160000       22.000000  "
      ]
     },
     "execution_count": 4,
     "metadata": {},
     "output_type": "execute_result"
    }
   ],
   "source": [
    "df.describe()"
   ]
  },
  {
   "cell_type": "code",
   "execution_count": 5,
   "id": "215370f3",
   "metadata": {
    "execution": {
     "iopub.execute_input": "2025-09-03T17:19:59.421644Z",
     "iopub.status.busy": "2025-09-03T17:19:59.421355Z",
     "iopub.status.idle": "2025-09-03T17:19:59.433391Z",
     "shell.execute_reply": "2025-09-03T17:19:59.432240Z"
    },
    "papermill": {
     "duration": 0.019866,
     "end_time": "2025-09-03T17:19:59.435012",
     "exception": false,
     "start_time": "2025-09-03T17:19:59.415146",
     "status": "completed"
    },
    "tags": []
   },
   "outputs": [],
   "source": [
    "df = df.drop(['Unnamed: 0', 'Sample'], axis=1)"
   ]
  },
  {
   "cell_type": "code",
   "execution_count": 6,
   "id": "a639ccd8",
   "metadata": {
    "execution": {
     "iopub.execute_input": "2025-09-03T17:19:59.447058Z",
     "iopub.status.busy": "2025-09-03T17:19:59.446732Z",
     "iopub.status.idle": "2025-09-03T17:19:59.453136Z",
     "shell.execute_reply": "2025-09-03T17:19:59.452036Z"
    },
    "papermill": {
     "duration": 0.014117,
     "end_time": "2025-09-03T17:19:59.454685",
     "exception": false,
     "start_time": "2025-09-03T17:19:59.440568",
     "status": "completed"
    },
    "tags": []
   },
   "outputs": [],
   "source": [
    "df[\"Led\"]=df[\"Led\"].replace({1:0,2:1})"
   ]
  },
  {
   "cell_type": "code",
   "execution_count": 7,
   "id": "00b1d6c7",
   "metadata": {
    "execution": {
     "iopub.execute_input": "2025-09-03T17:19:59.467710Z",
     "iopub.status.busy": "2025-09-03T17:19:59.467408Z",
     "iopub.status.idle": "2025-09-03T17:20:01.375642Z",
     "shell.execute_reply": "2025-09-03T17:20:01.374629Z"
    },
    "papermill": {
     "duration": 1.917356,
     "end_time": "2025-09-03T17:20:01.377659",
     "exception": false,
     "start_time": "2025-09-03T17:19:59.460303",
     "status": "completed"
    },
    "tags": []
   },
   "outputs": [],
   "source": [
    "data_to_array=df[\"Data\"].apply(lambda x: ast.literal_eval(x))"
   ]
  },
  {
   "cell_type": "code",
   "execution_count": 8,
   "id": "07606e3a",
   "metadata": {
    "execution": {
     "iopub.execute_input": "2025-09-03T17:20:01.389936Z",
     "iopub.status.busy": "2025-09-03T17:20:01.389576Z",
     "iopub.status.idle": "2025-09-03T17:20:01.618313Z",
     "shell.execute_reply": "2025-09-03T17:20:01.617213Z"
    },
    "papermill": {
     "duration": 0.237023,
     "end_time": "2025-09-03T17:20:01.620111",
     "exception": false,
     "start_time": "2025-09-03T17:20:01.383088",
     "status": "completed"
    },
    "tags": []
   },
   "outputs": [],
   "source": [
    "data_expanded = pd.DataFrame(data_to_array.to_list())\n",
    "data_expanded_cols=data_expanded.columns\n",
    "df = df.drop(columns=['Data']).reset_index(drop=True)\n",
    "df = pd.concat([df, data_expanded], axis=1)"
   ]
  },
  {
   "cell_type": "code",
   "execution_count": 9,
   "id": "06c7562d",
   "metadata": {
    "execution": {
     "iopub.execute_input": "2025-09-03T17:20:01.631638Z",
     "iopub.status.busy": "2025-09-03T17:20:01.631303Z",
     "iopub.status.idle": "2025-09-03T17:20:01.658507Z",
     "shell.execute_reply": "2025-09-03T17:20:01.657281Z"
    },
    "papermill": {
     "duration": 0.035042,
     "end_time": "2025-09-03T17:20:01.660334",
     "exception": false,
     "start_time": "2025-09-03T17:20:01.625292",
     "status": "completed"
    },
    "tags": []
   },
   "outputs": [
    {
     "name": "stderr",
     "output_type": "stream",
     "text": [
      "/usr/local/lib/python3.11/dist-packages/pandas/io/formats/format.py:1458: RuntimeWarning: invalid value encountered in greater\n",
      "  has_large_values = (abs_vals > 1e6).any()\n",
      "/usr/local/lib/python3.11/dist-packages/pandas/io/formats/format.py:1459: RuntimeWarning: invalid value encountered in less\n",
      "  has_small_values = ((abs_vals < 10 ** (-self.digits)) & (abs_vals > 0)).any()\n",
      "/usr/local/lib/python3.11/dist-packages/pandas/io/formats/format.py:1459: RuntimeWarning: invalid value encountered in greater\n",
      "  has_small_values = ((abs_vals < 10 ** (-self.digits)) & (abs_vals > 0)).any()\n",
      "/usr/local/lib/python3.11/dist-packages/pandas/io/formats/format.py:1458: RuntimeWarning: invalid value encountered in greater\n",
      "  has_large_values = (abs_vals > 1e6).any()\n",
      "/usr/local/lib/python3.11/dist-packages/pandas/io/formats/format.py:1459: RuntimeWarning: invalid value encountered in less\n",
      "  has_small_values = ((abs_vals < 10 ** (-self.digits)) & (abs_vals > 0)).any()\n",
      "/usr/local/lib/python3.11/dist-packages/pandas/io/formats/format.py:1459: RuntimeWarning: invalid value encountered in greater\n",
      "  has_small_values = ((abs_vals < 10 ** (-self.digits)) & (abs_vals > 0)).any()\n"
     ]
    },
    {
     "data": {
      "text/html": [
       "<div>\n",
       "<style scoped>\n",
       "    .dataframe tbody tr th:only-of-type {\n",
       "        vertical-align: middle;\n",
       "    }\n",
       "\n",
       "    .dataframe tbody tr th {\n",
       "        vertical-align: top;\n",
       "    }\n",
       "\n",
       "    .dataframe thead th {\n",
       "        text-align: right;\n",
       "    }\n",
       "</style>\n",
       "<table border=\"1\" class=\"dataframe\">\n",
       "  <thead>\n",
       "    <tr style=\"text-align: right;\">\n",
       "      <th></th>\n",
       "      <th>Repetition</th>\n",
       "      <th>Led</th>\n",
       "      <th>Quality</th>\n",
       "      <th>FAEES</th>\n",
       "      <th>K232</th>\n",
       "      <th>K270</th>\n",
       "      <th>Acidity</th>\n",
       "      <th>Peroxide Index</th>\n",
       "      <th>0</th>\n",
       "      <th>1</th>\n",
       "      <th>...</th>\n",
       "      <th>1014</th>\n",
       "      <th>1015</th>\n",
       "      <th>1016</th>\n",
       "      <th>1017</th>\n",
       "      <th>1018</th>\n",
       "      <th>1019</th>\n",
       "      <th>1020</th>\n",
       "      <th>1021</th>\n",
       "      <th>1022</th>\n",
       "      <th>1023</th>\n",
       "    </tr>\n",
       "  </thead>\n",
       "  <tbody>\n",
       "    <tr>\n",
       "      <th>0</th>\n",
       "      <td>19</td>\n",
       "      <td>1</td>\n",
       "      <td>EXTRA</td>\n",
       "      <td>15.0</td>\n",
       "      <td>1.66</td>\n",
       "      <td>0.14</td>\n",
       "      <td>0.20</td>\n",
       "      <td>8.9</td>\n",
       "      <td>1490.0</td>\n",
       "      <td>1521.0</td>\n",
       "      <td>...</td>\n",
       "      <td>1641.0</td>\n",
       "      <td>1590.0</td>\n",
       "      <td>1595.0</td>\n",
       "      <td>1633.0</td>\n",
       "      <td>1545.0</td>\n",
       "      <td>1594.0</td>\n",
       "      <td>1614.0</td>\n",
       "      <td>1490.0</td>\n",
       "      <td>1605.0</td>\n",
       "      <td>1583.0</td>\n",
       "    </tr>\n",
       "    <tr>\n",
       "      <th>1</th>\n",
       "      <td>19</td>\n",
       "      <td>1</td>\n",
       "      <td>EXTRA</td>\n",
       "      <td>8.0</td>\n",
       "      <td>1.63</td>\n",
       "      <td>0.12</td>\n",
       "      <td>0.17</td>\n",
       "      <td>6.4</td>\n",
       "      <td>1487.0</td>\n",
       "      <td>1518.0</td>\n",
       "      <td>...</td>\n",
       "      <td>1626.0</td>\n",
       "      <td>1586.0</td>\n",
       "      <td>1588.0</td>\n",
       "      <td>1619.0</td>\n",
       "      <td>1547.0</td>\n",
       "      <td>1586.0</td>\n",
       "      <td>1610.0</td>\n",
       "      <td>1488.0</td>\n",
       "      <td>1598.0</td>\n",
       "      <td>1574.0</td>\n",
       "    </tr>\n",
       "    <tr>\n",
       "      <th>2</th>\n",
       "      <td>3</td>\n",
       "      <td>0</td>\n",
       "      <td>VIRGEN</td>\n",
       "      <td>26.0</td>\n",
       "      <td>1.74</td>\n",
       "      <td>0.13</td>\n",
       "      <td>0.24</td>\n",
       "      <td>10.4</td>\n",
       "      <td>1490.0</td>\n",
       "      <td>1528.0</td>\n",
       "      <td>...</td>\n",
       "      <td>1643.0</td>\n",
       "      <td>1592.0</td>\n",
       "      <td>1596.0</td>\n",
       "      <td>1631.0</td>\n",
       "      <td>1550.0</td>\n",
       "      <td>1596.0</td>\n",
       "      <td>1616.0</td>\n",
       "      <td>1486.0</td>\n",
       "      <td>1598.0</td>\n",
       "      <td>1579.0</td>\n",
       "    </tr>\n",
       "    <tr>\n",
       "      <th>3</th>\n",
       "      <td>8</td>\n",
       "      <td>1</td>\n",
       "      <td>LAMPANTE</td>\n",
       "      <td>NaN</td>\n",
       "      <td>NaN</td>\n",
       "      <td>NaN</td>\n",
       "      <td>NaN</td>\n",
       "      <td>NaN</td>\n",
       "      <td>1486.0</td>\n",
       "      <td>1517.0</td>\n",
       "      <td>...</td>\n",
       "      <td>1611.0</td>\n",
       "      <td>1574.0</td>\n",
       "      <td>1577.0</td>\n",
       "      <td>1602.0</td>\n",
       "      <td>1534.0</td>\n",
       "      <td>1572.0</td>\n",
       "      <td>1593.0</td>\n",
       "      <td>1483.0</td>\n",
       "      <td>1579.0</td>\n",
       "      <td>1565.0</td>\n",
       "    </tr>\n",
       "    <tr>\n",
       "      <th>4</th>\n",
       "      <td>14</td>\n",
       "      <td>0</td>\n",
       "      <td>EXTRA</td>\n",
       "      <td>8.0</td>\n",
       "      <td>1.63</td>\n",
       "      <td>0.12</td>\n",
       "      <td>0.17</td>\n",
       "      <td>6.4</td>\n",
       "      <td>1492.0</td>\n",
       "      <td>1515.0</td>\n",
       "      <td>...</td>\n",
       "      <td>1611.0</td>\n",
       "      <td>1569.0</td>\n",
       "      <td>1573.0</td>\n",
       "      <td>1605.0</td>\n",
       "      <td>1535.0</td>\n",
       "      <td>1573.0</td>\n",
       "      <td>1592.0</td>\n",
       "      <td>1476.0</td>\n",
       "      <td>1583.0</td>\n",
       "      <td>1560.0</td>\n",
       "    </tr>\n",
       "  </tbody>\n",
       "</table>\n",
       "<p>5 rows × 1032 columns</p>\n",
       "</div>"
      ],
      "text/plain": [
       "   Repetition  Led   Quality  FAEES  K232  K270  Acidity  Peroxide Index  \\\n",
       "0          19    1     EXTRA   15.0  1.66  0.14     0.20             8.9   \n",
       "1          19    1     EXTRA    8.0  1.63  0.12     0.17             6.4   \n",
       "2           3    0    VIRGEN   26.0  1.74  0.13     0.24            10.4   \n",
       "3           8    1  LAMPANTE    NaN   NaN   NaN      NaN             NaN   \n",
       "4          14    0     EXTRA    8.0  1.63  0.12     0.17             6.4   \n",
       "\n",
       "        0       1  ...    1014    1015    1016    1017    1018    1019  \\\n",
       "0  1490.0  1521.0  ...  1641.0  1590.0  1595.0  1633.0  1545.0  1594.0   \n",
       "1  1487.0  1518.0  ...  1626.0  1586.0  1588.0  1619.0  1547.0  1586.0   \n",
       "2  1490.0  1528.0  ...  1643.0  1592.0  1596.0  1631.0  1550.0  1596.0   \n",
       "3  1486.0  1517.0  ...  1611.0  1574.0  1577.0  1602.0  1534.0  1572.0   \n",
       "4  1492.0  1515.0  ...  1611.0  1569.0  1573.0  1605.0  1535.0  1573.0   \n",
       "\n",
       "     1020    1021    1022    1023  \n",
       "0  1614.0  1490.0  1605.0  1583.0  \n",
       "1  1610.0  1488.0  1598.0  1574.0  \n",
       "2  1616.0  1486.0  1598.0  1579.0  \n",
       "3  1593.0  1483.0  1579.0  1565.0  \n",
       "4  1592.0  1476.0  1583.0  1560.0  \n",
       "\n",
       "[5 rows x 1032 columns]"
      ]
     },
     "execution_count": 9,
     "metadata": {},
     "output_type": "execute_result"
    }
   ],
   "source": [
    "df.head(5)"
   ]
  },
  {
   "cell_type": "code",
   "execution_count": 10,
   "id": "623bbba8",
   "metadata": {
    "execution": {
     "iopub.execute_input": "2025-09-03T17:20:01.672656Z",
     "iopub.status.busy": "2025-09-03T17:20:01.672370Z",
     "iopub.status.idle": "2025-09-03T17:20:01.677133Z",
     "shell.execute_reply": "2025-09-03T17:20:01.676302Z"
    },
    "papermill": {
     "duration": 0.012574,
     "end_time": "2025-09-03T17:20:01.678617",
     "exception": false,
     "start_time": "2025-09-03T17:20:01.666043",
     "status": "completed"
    },
    "tags": []
   },
   "outputs": [],
   "source": [
    "categorical_columns=[\"Repetition\",\"Quality\",\"Led\"]\n",
    "numerical_columns = [\"FAEES\", \"K232\", \"K270\", \"Acidity\", \"Peroxide Index\"]\n",
    "numerical_columns.extend(data_expanded_cols)"
   ]
  },
  {
   "cell_type": "code",
   "execution_count": 11,
   "id": "61cfa858",
   "metadata": {
    "execution": {
     "iopub.execute_input": "2025-09-03T17:20:01.691218Z",
     "iopub.status.busy": "2025-09-03T17:20:01.690792Z",
     "iopub.status.idle": "2025-09-03T17:20:01.710937Z",
     "shell.execute_reply": "2025-09-03T17:20:01.710043Z"
    },
    "papermill": {
     "duration": 0.028276,
     "end_time": "2025-09-03T17:20:01.712608",
     "exception": false,
     "start_time": "2025-09-03T17:20:01.684332",
     "status": "completed"
    },
    "tags": []
   },
   "outputs": [
    {
     "data": {
      "text/plain": [
       "Repetition      0\n",
       "Led             0\n",
       "Quality         0\n",
       "FAEES         240\n",
       "K232          240\n",
       "             ... \n",
       "1019            0\n",
       "1020            0\n",
       "1021            0\n",
       "1022            0\n",
       "1023            0\n",
       "Length: 1032, dtype: int64"
      ]
     },
     "execution_count": 11,
     "metadata": {},
     "output_type": "execute_result"
    }
   ],
   "source": [
    "df.isna().sum()"
   ]
  },
  {
   "cell_type": "code",
   "execution_count": 12,
   "id": "dd2ac0b7",
   "metadata": {
    "execution": {
     "iopub.execute_input": "2025-09-03T17:20:01.725262Z",
     "iopub.status.busy": "2025-09-03T17:20:01.724736Z",
     "iopub.status.idle": "2025-09-03T17:20:01.785668Z",
     "shell.execute_reply": "2025-09-03T17:20:01.784933Z"
    },
    "papermill": {
     "duration": 0.069562,
     "end_time": "2025-09-03T17:20:01.787926",
     "exception": false,
     "start_time": "2025-09-03T17:20:01.718364",
     "status": "completed"
    },
    "tags": []
   },
   "outputs": [
    {
     "data": {
      "text/plain": [
       "FAEES             1.091297\n",
       "K232              0.713190\n",
       "K270              0.713331\n",
       "Acidity           2.371726\n",
       "Peroxide Index    2.414490\n",
       "0                 0.341968\n",
       "dtype: float64"
      ]
     },
     "execution_count": 12,
     "metadata": {},
     "output_type": "execute_result"
    }
   ],
   "source": [
    "df[numerical_columns].skew().head(6)"
   ]
  },
  {
   "cell_type": "code",
   "execution_count": 13,
   "id": "2f88aa15",
   "metadata": {
    "execution": {
     "iopub.execute_input": "2025-09-03T17:20:01.814555Z",
     "iopub.status.busy": "2025-09-03T17:20:01.813955Z",
     "iopub.status.idle": "2025-09-03T17:20:01.825472Z",
     "shell.execute_reply": "2025-09-03T17:20:01.824458Z"
    },
    "papermill": {
     "duration": 0.024257,
     "end_time": "2025-09-03T17:20:01.827506",
     "exception": false,
     "start_time": "2025-09-03T17:20:01.803249",
     "status": "completed"
    },
    "tags": []
   },
   "outputs": [],
   "source": [
    "cols_to_median=['FAEES', 'K232', 'K270', 'Acidity', 'Peroxide Index']\n",
    "df[cols_to_median]=df[cols_to_median].fillna(df[cols_to_median].median())"
   ]
  },
  {
   "cell_type": "code",
   "execution_count": 14,
   "id": "bb5a6ea6",
   "metadata": {
    "execution": {
     "iopub.execute_input": "2025-09-03T17:20:01.841981Z",
     "iopub.status.busy": "2025-09-03T17:20:01.840668Z",
     "iopub.status.idle": "2025-09-03T17:20:01.861340Z",
     "shell.execute_reply": "2025-09-03T17:20:01.860272Z"
    },
    "papermill": {
     "duration": 0.029632,
     "end_time": "2025-09-03T17:20:01.863046",
     "exception": false,
     "start_time": "2025-09-03T17:20:01.833414",
     "status": "completed"
    },
    "tags": []
   },
   "outputs": [
    {
     "data": {
      "text/plain": [
       "Repetition    0\n",
       "Led           0\n",
       "Quality       0\n",
       "FAEES         0\n",
       "K232          0\n",
       "             ..\n",
       "1019          0\n",
       "1020          0\n",
       "1021          0\n",
       "1022          0\n",
       "1023          0\n",
       "Length: 1032, dtype: int64"
      ]
     },
     "execution_count": 14,
     "metadata": {},
     "output_type": "execute_result"
    }
   ],
   "source": [
    "df.isna().sum()"
   ]
  },
  {
   "cell_type": "markdown",
   "id": "6c1174ba",
   "metadata": {
    "papermill": {
     "duration": 0.005771,
     "end_time": "2025-09-03T17:20:01.875404",
     "exception": false,
     "start_time": "2025-09-03T17:20:01.869633",
     "status": "completed"
    },
    "tags": []
   },
   "source": [
    "Encoder"
   ]
  },
  {
   "cell_type": "code",
   "execution_count": 15,
   "id": "fcbad149",
   "metadata": {
    "execution": {
     "iopub.execute_input": "2025-09-03T17:20:01.888189Z",
     "iopub.status.busy": "2025-09-03T17:20:01.887799Z",
     "iopub.status.idle": "2025-09-03T17:20:01.923770Z",
     "shell.execute_reply": "2025-09-03T17:20:01.922688Z"
    },
    "papermill": {
     "duration": 0.04448,
     "end_time": "2025-09-03T17:20:01.925613",
     "exception": false,
     "start_time": "2025-09-03T17:20:01.881133",
     "status": "completed"
    },
    "tags": []
   },
   "outputs": [],
   "source": [
    "encoder = OneHotEncoder(sparse_output=False)\n",
    "encoded_array = encoder.fit_transform(df[['Quality']])\n",
    "encoded_df = pd.DataFrame(encoded_array, columns=encoder.get_feature_names_out(['Quality']))\n",
    "df2 = df.drop(columns=['Quality']).reset_index(drop=True)\n",
    "df2 = pd.concat([df2, encoded_df], axis=1)"
   ]
  },
  {
   "cell_type": "code",
   "execution_count": 16,
   "id": "00a65a53",
   "metadata": {
    "execution": {
     "iopub.execute_input": "2025-09-03T17:20:01.939586Z",
     "iopub.status.busy": "2025-09-03T17:20:01.938714Z",
     "iopub.status.idle": "2025-09-03T17:20:01.964086Z",
     "shell.execute_reply": "2025-09-03T17:20:01.963066Z"
    },
    "papermill": {
     "duration": 0.033857,
     "end_time": "2025-09-03T17:20:01.965651",
     "exception": false,
     "start_time": "2025-09-03T17:20:01.931794",
     "status": "completed"
    },
    "tags": []
   },
   "outputs": [
    {
     "data": {
      "text/html": [
       "<div>\n",
       "<style scoped>\n",
       "    .dataframe tbody tr th:only-of-type {\n",
       "        vertical-align: middle;\n",
       "    }\n",
       "\n",
       "    .dataframe tbody tr th {\n",
       "        vertical-align: top;\n",
       "    }\n",
       "\n",
       "    .dataframe thead th {\n",
       "        text-align: right;\n",
       "    }\n",
       "</style>\n",
       "<table border=\"1\" class=\"dataframe\">\n",
       "  <thead>\n",
       "    <tr style=\"text-align: right;\">\n",
       "      <th></th>\n",
       "      <th>Repetition</th>\n",
       "      <th>Led</th>\n",
       "      <th>FAEES</th>\n",
       "      <th>K232</th>\n",
       "      <th>K270</th>\n",
       "      <th>Acidity</th>\n",
       "      <th>Peroxide Index</th>\n",
       "      <th>0</th>\n",
       "      <th>1</th>\n",
       "      <th>2</th>\n",
       "      <th>...</th>\n",
       "      <th>1017</th>\n",
       "      <th>1018</th>\n",
       "      <th>1019</th>\n",
       "      <th>1020</th>\n",
       "      <th>1021</th>\n",
       "      <th>1022</th>\n",
       "      <th>1023</th>\n",
       "      <th>Quality_EXTRA</th>\n",
       "      <th>Quality_LAMPANTE</th>\n",
       "      <th>Quality_VIRGEN</th>\n",
       "    </tr>\n",
       "  </thead>\n",
       "  <tbody>\n",
       "    <tr>\n",
       "      <th>0</th>\n",
       "      <td>19</td>\n",
       "      <td>1</td>\n",
       "      <td>15.0</td>\n",
       "      <td>1.66</td>\n",
       "      <td>0.14</td>\n",
       "      <td>0.200</td>\n",
       "      <td>8.9</td>\n",
       "      <td>1490.0</td>\n",
       "      <td>1521.0</td>\n",
       "      <td>1544.0</td>\n",
       "      <td>...</td>\n",
       "      <td>1633.0</td>\n",
       "      <td>1545.0</td>\n",
       "      <td>1594.0</td>\n",
       "      <td>1614.0</td>\n",
       "      <td>1490.0</td>\n",
       "      <td>1605.0</td>\n",
       "      <td>1583.0</td>\n",
       "      <td>1.0</td>\n",
       "      <td>0.0</td>\n",
       "      <td>0.0</td>\n",
       "    </tr>\n",
       "    <tr>\n",
       "      <th>1</th>\n",
       "      <td>19</td>\n",
       "      <td>1</td>\n",
       "      <td>8.0</td>\n",
       "      <td>1.63</td>\n",
       "      <td>0.12</td>\n",
       "      <td>0.170</td>\n",
       "      <td>6.4</td>\n",
       "      <td>1487.0</td>\n",
       "      <td>1518.0</td>\n",
       "      <td>1537.0</td>\n",
       "      <td>...</td>\n",
       "      <td>1619.0</td>\n",
       "      <td>1547.0</td>\n",
       "      <td>1586.0</td>\n",
       "      <td>1610.0</td>\n",
       "      <td>1488.0</td>\n",
       "      <td>1598.0</td>\n",
       "      <td>1574.0</td>\n",
       "      <td>1.0</td>\n",
       "      <td>0.0</td>\n",
       "      <td>0.0</td>\n",
       "    </tr>\n",
       "    <tr>\n",
       "      <th>2</th>\n",
       "      <td>3</td>\n",
       "      <td>0</td>\n",
       "      <td>26.0</td>\n",
       "      <td>1.74</td>\n",
       "      <td>0.13</td>\n",
       "      <td>0.240</td>\n",
       "      <td>10.4</td>\n",
       "      <td>1490.0</td>\n",
       "      <td>1528.0</td>\n",
       "      <td>1541.0</td>\n",
       "      <td>...</td>\n",
       "      <td>1631.0</td>\n",
       "      <td>1550.0</td>\n",
       "      <td>1596.0</td>\n",
       "      <td>1616.0</td>\n",
       "      <td>1486.0</td>\n",
       "      <td>1598.0</td>\n",
       "      <td>1579.0</td>\n",
       "      <td>0.0</td>\n",
       "      <td>0.0</td>\n",
       "      <td>1.0</td>\n",
       "    </tr>\n",
       "    <tr>\n",
       "      <th>3</th>\n",
       "      <td>8</td>\n",
       "      <td>1</td>\n",
       "      <td>15.5</td>\n",
       "      <td>1.63</td>\n",
       "      <td>0.13</td>\n",
       "      <td>0.255</td>\n",
       "      <td>8.4</td>\n",
       "      <td>1486.0</td>\n",
       "      <td>1517.0</td>\n",
       "      <td>1531.0</td>\n",
       "      <td>...</td>\n",
       "      <td>1602.0</td>\n",
       "      <td>1534.0</td>\n",
       "      <td>1572.0</td>\n",
       "      <td>1593.0</td>\n",
       "      <td>1483.0</td>\n",
       "      <td>1579.0</td>\n",
       "      <td>1565.0</td>\n",
       "      <td>0.0</td>\n",
       "      <td>1.0</td>\n",
       "      <td>0.0</td>\n",
       "    </tr>\n",
       "    <tr>\n",
       "      <th>4</th>\n",
       "      <td>14</td>\n",
       "      <td>0</td>\n",
       "      <td>8.0</td>\n",
       "      <td>1.63</td>\n",
       "      <td>0.12</td>\n",
       "      <td>0.170</td>\n",
       "      <td>6.4</td>\n",
       "      <td>1492.0</td>\n",
       "      <td>1515.0</td>\n",
       "      <td>1534.0</td>\n",
       "      <td>...</td>\n",
       "      <td>1605.0</td>\n",
       "      <td>1535.0</td>\n",
       "      <td>1573.0</td>\n",
       "      <td>1592.0</td>\n",
       "      <td>1476.0</td>\n",
       "      <td>1583.0</td>\n",
       "      <td>1560.0</td>\n",
       "      <td>1.0</td>\n",
       "      <td>0.0</td>\n",
       "      <td>0.0</td>\n",
       "    </tr>\n",
       "  </tbody>\n",
       "</table>\n",
       "<p>5 rows × 1034 columns</p>\n",
       "</div>"
      ],
      "text/plain": [
       "   Repetition  Led  FAEES  K232  K270  Acidity  Peroxide Index       0  \\\n",
       "0          19    1   15.0  1.66  0.14    0.200             8.9  1490.0   \n",
       "1          19    1    8.0  1.63  0.12    0.170             6.4  1487.0   \n",
       "2           3    0   26.0  1.74  0.13    0.240            10.4  1490.0   \n",
       "3           8    1   15.5  1.63  0.13    0.255             8.4  1486.0   \n",
       "4          14    0    8.0  1.63  0.12    0.170             6.4  1492.0   \n",
       "\n",
       "        1       2  ...    1017    1018    1019    1020    1021    1022  \\\n",
       "0  1521.0  1544.0  ...  1633.0  1545.0  1594.0  1614.0  1490.0  1605.0   \n",
       "1  1518.0  1537.0  ...  1619.0  1547.0  1586.0  1610.0  1488.0  1598.0   \n",
       "2  1528.0  1541.0  ...  1631.0  1550.0  1596.0  1616.0  1486.0  1598.0   \n",
       "3  1517.0  1531.0  ...  1602.0  1534.0  1572.0  1593.0  1483.0  1579.0   \n",
       "4  1515.0  1534.0  ...  1605.0  1535.0  1573.0  1592.0  1476.0  1583.0   \n",
       "\n",
       "     1023  Quality_EXTRA  Quality_LAMPANTE  Quality_VIRGEN  \n",
       "0  1583.0            1.0               0.0             0.0  \n",
       "1  1574.0            1.0               0.0             0.0  \n",
       "2  1579.0            0.0               0.0             1.0  \n",
       "3  1565.0            0.0               1.0             0.0  \n",
       "4  1560.0            1.0               0.0             0.0  \n",
       "\n",
       "[5 rows x 1034 columns]"
      ]
     },
     "execution_count": 16,
     "metadata": {},
     "output_type": "execute_result"
    }
   ],
   "source": [
    "df2.head()"
   ]
  },
  {
   "cell_type": "code",
   "execution_count": 17,
   "id": "6e8eb9cc",
   "metadata": {
    "execution": {
     "iopub.execute_input": "2025-09-03T17:20:01.978781Z",
     "iopub.status.busy": "2025-09-03T17:20:01.978477Z",
     "iopub.status.idle": "2025-09-03T17:20:01.997674Z",
     "shell.execute_reply": "2025-09-03T17:20:01.996645Z"
    },
    "papermill": {
     "duration": 0.027586,
     "end_time": "2025-09-03T17:20:01.999375",
     "exception": false,
     "start_time": "2025-09-03T17:20:01.971789",
     "status": "completed"
    },
    "tags": []
   },
   "outputs": [],
   "source": [
    "train_data, test_data = train_test_split(df2, test_size=0.2, random_state=42)\n",
    "train_data, val_data = train_test_split(train_data, test_size=0.2, random_state=42)"
   ]
  },
  {
   "cell_type": "code",
   "execution_count": 18,
   "id": "55bbae9c",
   "metadata": {
    "execution": {
     "iopub.execute_input": "2025-09-03T17:20:02.012641Z",
     "iopub.status.busy": "2025-09-03T17:20:02.012328Z",
     "iopub.status.idle": "2025-09-03T17:20:02.110038Z",
     "shell.execute_reply": "2025-09-03T17:20:02.108716Z"
    },
    "papermill": {
     "duration": 0.106769,
     "end_time": "2025-09-03T17:20:02.112224",
     "exception": false,
     "start_time": "2025-09-03T17:20:02.005455",
     "status": "completed"
    },
    "tags": []
   },
   "outputs": [
    {
     "data": {
      "text/plain": [
       "Index([    'Repetition',          'FAEES',           'K232',           'K270',\n",
       "              'Acidity', 'Peroxide Index',                0,                1,\n",
       "                      2,                3,\n",
       "       ...\n",
       "                   1014,             1015,             1016,             1017,\n",
       "                   1018,             1019,             1020,             1021,\n",
       "                   1022,             1023],\n",
       "      dtype='object', length=1030)"
      ]
     },
     "execution_count": 18,
     "metadata": {},
     "output_type": "execute_result"
    }
   ],
   "source": [
    "num_cols = df2.columns[(df2.nunique() != 2)] \n",
    "num_cols"
   ]
  },
  {
   "cell_type": "code",
   "execution_count": 19,
   "id": "e16a1e79",
   "metadata": {
    "execution": {
     "iopub.execute_input": "2025-09-03T17:20:02.126620Z",
     "iopub.status.busy": "2025-09-03T17:20:02.126291Z",
     "iopub.status.idle": "2025-09-03T17:20:02.132026Z",
     "shell.execute_reply": "2025-09-03T17:20:02.130872Z"
    },
    "papermill": {
     "duration": 0.015694,
     "end_time": "2025-09-03T17:20:02.134049",
     "exception": false,
     "start_time": "2025-09-03T17:20:02.118355",
     "status": "completed"
    },
    "tags": []
   },
   "outputs": [],
   "source": [
    "def scale_data(data,cols):\n",
    "    data_to_scale=data[cols]\n",
    "    min_val = tf.reduce_min(data[cols]).numpy()\n",
    "    max_val= tf.reduce_max(data[cols]).numpy()\n",
    "    data[cols] = (data[cols] - min_val) / (max_val - min_val)\n",
    "    data = tf.cast(data, tf.float32)\n",
    "    return data"
   ]
  },
  {
   "cell_type": "code",
   "execution_count": null,
   "id": "72fb15b1",
   "metadata": {
    "execution": {
     "iopub.execute_input": "2025-09-03T17:06:27.763818Z",
     "iopub.status.busy": "2025-09-03T17:06:27.763503Z",
     "iopub.status.idle": "2025-09-03T17:06:27.784445Z",
     "shell.execute_reply": "2025-09-03T17:06:27.782635Z",
     "shell.execute_reply.started": "2025-09-03T17:06:27.763797Z"
    },
    "papermill": {
     "duration": 0.005694,
     "end_time": "2025-09-03T17:20:02.146634",
     "exception": false,
     "start_time": "2025-09-03T17:20:02.140940",
     "status": "completed"
    },
    "tags": []
   },
   "outputs": [],
   "source": []
  },
  {
   "cell_type": "code",
   "execution_count": 20,
   "id": "a5c289b0",
   "metadata": {
    "execution": {
     "iopub.execute_input": "2025-09-03T17:20:02.160617Z",
     "iopub.status.busy": "2025-09-03T17:20:02.160252Z",
     "iopub.status.idle": "2025-09-03T17:20:02.963777Z",
     "shell.execute_reply": "2025-09-03T17:20:02.962837Z"
    },
    "papermill": {
     "duration": 0.81288,
     "end_time": "2025-09-03T17:20:02.965488",
     "exception": false,
     "start_time": "2025-09-03T17:20:02.152608",
     "status": "completed"
    },
    "tags": []
   },
   "outputs": [
    {
     "name": "stderr",
     "output_type": "stream",
     "text": [
      "2025-09-03 17:20:02.172544: E external/local_xla/xla/stream_executor/cuda/cuda_driver.cc:152] failed call to cuInit: INTERNAL: CUDA error: Failed call to cuInit: UNKNOWN ERROR (303)\n"
     ]
    }
   ],
   "source": [
    "train_data=scale_data(train_data,num_cols)\n",
    "test_data=scale_data(test_data,num_cols)\n",
    "val_data=scale_data(val_data,num_cols)\n",
    "train_data = tf.cast(train_data, tf.float32)\n",
    "test_data=tf.cast(test_data, tf.float32)\n",
    "val_data=tf.cast(val_data, tf.float32)"
   ]
  },
  {
   "cell_type": "code",
   "execution_count": 21,
   "id": "7f7c5fd5",
   "metadata": {
    "execution": {
     "iopub.execute_input": "2025-09-03T17:20:02.980313Z",
     "iopub.status.busy": "2025-09-03T17:20:02.979984Z",
     "iopub.status.idle": "2025-09-03T17:20:02.997009Z",
     "shell.execute_reply": "2025-09-03T17:20:02.995596Z"
    },
    "papermill": {
     "duration": 0.026993,
     "end_time": "2025-09-03T17:20:02.998992",
     "exception": false,
     "start_time": "2025-09-03T17:20:02.971999",
     "status": "completed"
    },
    "tags": []
   },
   "outputs": [],
   "source": [
    "X_train = train_data[:, :-3]  \n",
    "y_train = train_data[:, -3:]  \n",
    "\n",
    "X_test = test_data[:, :-3]  \n",
    "y_test = test_data[:, -3:] \n",
    "\n",
    "X_val= val_data[:, :-3]\n",
    "y_val= val_data[:,-3:]"
   ]
  },
  {
   "cell_type": "code",
   "execution_count": 22,
   "id": "fd5b384b",
   "metadata": {
    "execution": {
     "iopub.execute_input": "2025-09-03T17:20:03.014146Z",
     "iopub.status.busy": "2025-09-03T17:20:03.013774Z",
     "iopub.status.idle": "2025-09-03T17:20:03.051102Z",
     "shell.execute_reply": "2025-09-03T17:20:03.050030Z"
    },
    "papermill": {
     "duration": 0.047429,
     "end_time": "2025-09-03T17:20:03.052781",
     "exception": false,
     "start_time": "2025-09-03T17:20:03.005352",
     "status": "completed"
    },
    "tags": []
   },
   "outputs": [],
   "source": [
    "class QualityClassifier(tf.keras.Model):\n",
    "  def __init__(self):\n",
    "    super(QualityClassifier, self).__init__()\n",
    "    self.encoder = tf.keras.Sequential([\n",
    "        layers.Dense(1024, activation=\"relu\"),\n",
    "        layers.Dense(128, activation=\"relu\"),\n",
    "        layers.Dense(64,activation=\"relu\"),\n",
    "        ])\n",
    "\n",
    "    self.classifier = tf.keras.Sequential([\n",
    "        layers.Dense(32, activation=\"relu\"),  \n",
    "        layers.Dense(3, activation=\"softmax\"),  \n",
    "        ])\n",
    "        \n",
    "  def call(self, x):\n",
    "    encoded = self.encoder(x)\n",
    "    class_probs = self.classifier(encoded)\n",
    "    return class_probs\n",
    "\n",
    "autoencoder = QualityClassifier()\n",
    "autoencoder.compile(optimizer=\"adam\", loss=\"categorical_crossentropy\", metrics=[\"accuracy\"])"
   ]
  },
  {
   "cell_type": "code",
   "execution_count": 23,
   "id": "d987f442",
   "metadata": {
    "execution": {
     "iopub.execute_input": "2025-09-03T17:20:03.067207Z",
     "iopub.status.busy": "2025-09-03T17:20:03.066896Z",
     "iopub.status.idle": "2025-09-03T17:20:27.728170Z",
     "shell.execute_reply": "2025-09-03T17:20:27.727024Z"
    },
    "papermill": {
     "duration": 24.670426,
     "end_time": "2025-09-03T17:20:27.730073",
     "exception": false,
     "start_time": "2025-09-03T17:20:03.059647",
     "status": "completed"
    },
    "tags": []
   },
   "outputs": [
    {
     "name": "stdout",
     "output_type": "stream",
     "text": [
      "Epoch 1/90\n",
      "\u001b[1m10/10\u001b[0m \u001b[32m━━━━━━━━━━━━━━━━━━━━\u001b[0m\u001b[37m\u001b[0m \u001b[1m3s\u001b[0m 61ms/step - accuracy: 0.3373 - loss: 1.0853 - val_accuracy: 0.6104 - val_loss: 0.9628\n",
      "Epoch 2/90\n",
      "\u001b[1m10/10\u001b[0m \u001b[32m━━━━━━━━━━━━━━━━━━━━\u001b[0m\u001b[37m\u001b[0m \u001b[1m0s\u001b[0m 21ms/step - accuracy: 0.5890 - loss: 0.9352 - val_accuracy: 0.5714 - val_loss: 0.8300\n",
      "Epoch 3/90\n",
      "\u001b[1m10/10\u001b[0m \u001b[32m━━━━━━━━━━━━━━━━━━━━\u001b[0m\u001b[37m\u001b[0m \u001b[1m0s\u001b[0m 23ms/step - accuracy: 0.5967 - loss: 0.7755 - val_accuracy: 0.6169 - val_loss: 0.7679\n",
      "Epoch 4/90\n",
      "\u001b[1m10/10\u001b[0m \u001b[32m━━━━━━━━━━━━━━━━━━━━\u001b[0m\u001b[37m\u001b[0m \u001b[1m0s\u001b[0m 21ms/step - accuracy: 0.6291 - loss: 0.7036 - val_accuracy: 0.6494 - val_loss: 0.6297\n",
      "Epoch 5/90\n",
      "\u001b[1m10/10\u001b[0m \u001b[32m━━━━━━━━━━━━━━━━━━━━\u001b[0m\u001b[37m\u001b[0m \u001b[1m0s\u001b[0m 20ms/step - accuracy: 0.6716 - loss: 0.6274 - val_accuracy: 0.6104 - val_loss: 0.6019\n",
      "Epoch 6/90\n",
      "\u001b[1m10/10\u001b[0m \u001b[32m━━━━━━━━━━━━━━━━━━━━\u001b[0m\u001b[37m\u001b[0m \u001b[1m0s\u001b[0m 21ms/step - accuracy: 0.6445 - loss: 0.6051 - val_accuracy: 0.6623 - val_loss: 0.5781\n",
      "Epoch 7/90\n",
      "\u001b[1m10/10\u001b[0m \u001b[32m━━━━━━━━━━━━━━━━━━━━\u001b[0m\u001b[37m\u001b[0m \u001b[1m0s\u001b[0m 22ms/step - accuracy: 0.6569 - loss: 0.6066 - val_accuracy: 0.6429 - val_loss: 0.6902\n",
      "Epoch 8/90\n",
      "\u001b[1m10/10\u001b[0m \u001b[32m━━━━━━━━━━━━━━━━━━━━\u001b[0m\u001b[37m\u001b[0m \u001b[1m0s\u001b[0m 21ms/step - accuracy: 0.6304 - loss: 0.6631 - val_accuracy: 0.6429 - val_loss: 0.5859\n",
      "Epoch 9/90\n",
      "\u001b[1m10/10\u001b[0m \u001b[32m━━━━━━━━━━━━━━━━━━━━\u001b[0m\u001b[37m\u001b[0m \u001b[1m0s\u001b[0m 24ms/step - accuracy: 0.6502 - loss: 0.5872 - val_accuracy: 0.6688 - val_loss: 0.6577\n",
      "Epoch 10/90\n",
      "\u001b[1m10/10\u001b[0m \u001b[32m━━━━━━━━━━━━━━━━━━━━\u001b[0m\u001b[37m\u001b[0m \u001b[1m0s\u001b[0m 23ms/step - accuracy: 0.6039 - loss: 0.6596 - val_accuracy: 0.6429 - val_loss: 0.6816\n",
      "Epoch 11/90\n",
      "\u001b[1m10/10\u001b[0m \u001b[32m━━━━━━━━━━━━━━━━━━━━\u001b[0m\u001b[37m\u001b[0m \u001b[1m0s\u001b[0m 21ms/step - accuracy: 0.6375 - loss: 0.6419 - val_accuracy: 0.6558 - val_loss: 0.6065\n",
      "Epoch 12/90\n",
      "\u001b[1m10/10\u001b[0m \u001b[32m━━━━━━━━━━━━━━━━━━━━\u001b[0m\u001b[37m\u001b[0m \u001b[1m0s\u001b[0m 22ms/step - accuracy: 0.6786 - loss: 0.5847 - val_accuracy: 0.6234 - val_loss: 0.6073\n",
      "Epoch 13/90\n",
      "\u001b[1m10/10\u001b[0m \u001b[32m━━━━━━━━━━━━━━━━━━━━\u001b[0m\u001b[37m\u001b[0m \u001b[1m0s\u001b[0m 23ms/step - accuracy: 0.6393 - loss: 0.6061 - val_accuracy: 0.7208 - val_loss: 0.5416\n",
      "Epoch 14/90\n",
      "\u001b[1m10/10\u001b[0m \u001b[32m━━━━━━━━━━━━━━━━━━━━\u001b[0m\u001b[37m\u001b[0m \u001b[1m0s\u001b[0m 21ms/step - accuracy: 0.7128 - loss: 0.5690 - val_accuracy: 0.7078 - val_loss: 0.5343\n",
      "Epoch 15/90\n",
      "\u001b[1m10/10\u001b[0m \u001b[32m━━━━━━━━━━━━━━━━━━━━\u001b[0m\u001b[37m\u001b[0m \u001b[1m0s\u001b[0m 22ms/step - accuracy: 0.7272 - loss: 0.5549 - val_accuracy: 0.7468 - val_loss: 0.5294\n",
      "Epoch 16/90\n",
      "\u001b[1m10/10\u001b[0m \u001b[32m━━━━━━━━━━━━━━━━━━━━\u001b[0m\u001b[37m\u001b[0m \u001b[1m0s\u001b[0m 21ms/step - accuracy: 0.7318 - loss: 0.5504 - val_accuracy: 0.7208 - val_loss: 0.5186\n",
      "Epoch 17/90\n",
      "\u001b[1m10/10\u001b[0m \u001b[32m━━━━━━━━━━━━━━━━━━━━\u001b[0m\u001b[37m\u001b[0m \u001b[1m0s\u001b[0m 21ms/step - accuracy: 0.7222 - loss: 0.5546 - val_accuracy: 0.7403 - val_loss: 0.5207\n",
      "Epoch 18/90\n",
      "\u001b[1m10/10\u001b[0m \u001b[32m━━━━━━━━━━━━━━━━━━━━\u001b[0m\u001b[37m\u001b[0m \u001b[1m0s\u001b[0m 20ms/step - accuracy: 0.7466 - loss: 0.5372 - val_accuracy: 0.6299 - val_loss: 0.5618\n",
      "Epoch 19/90\n",
      "\u001b[1m10/10\u001b[0m \u001b[32m━━━━━━━━━━━━━━━━━━━━\u001b[0m\u001b[37m\u001b[0m \u001b[1m0s\u001b[0m 22ms/step - accuracy: 0.6497 - loss: 0.6186 - val_accuracy: 0.6429 - val_loss: 0.6847\n",
      "Epoch 20/90\n",
      "\u001b[1m10/10\u001b[0m \u001b[32m━━━━━━━━━━━━━━━━━━━━\u001b[0m\u001b[37m\u001b[0m \u001b[1m0s\u001b[0m 23ms/step - accuracy: 0.6302 - loss: 0.6420 - val_accuracy: 0.7143 - val_loss: 0.5376\n",
      "Epoch 21/90\n",
      "\u001b[1m10/10\u001b[0m \u001b[32m━━━━━━━━━━━━━━━━━━━━\u001b[0m\u001b[37m\u001b[0m \u001b[1m0s\u001b[0m 22ms/step - accuracy: 0.6979 - loss: 0.5468 - val_accuracy: 0.7338 - val_loss: 0.5081\n",
      "Epoch 22/90\n",
      "\u001b[1m10/10\u001b[0m \u001b[32m━━━━━━━━━━━━━━━━━━━━\u001b[0m\u001b[37m\u001b[0m \u001b[1m0s\u001b[0m 22ms/step - accuracy: 0.7169 - loss: 0.5390 - val_accuracy: 0.7597 - val_loss: 0.5110\n",
      "Epoch 23/90\n",
      "\u001b[1m10/10\u001b[0m \u001b[32m━━━━━━━━━━━━━━━━━━━━\u001b[0m\u001b[37m\u001b[0m \u001b[1m0s\u001b[0m 20ms/step - accuracy: 0.7371 - loss: 0.5281 - val_accuracy: 0.7403 - val_loss: 0.5085\n",
      "Epoch 24/90\n",
      "\u001b[1m10/10\u001b[0m \u001b[32m━━━━━━━━━━━━━━━━━━━━\u001b[0m\u001b[37m\u001b[0m \u001b[1m0s\u001b[0m 21ms/step - accuracy: 0.7375 - loss: 0.5162 - val_accuracy: 0.7532 - val_loss: 0.4915\n",
      "Epoch 25/90\n",
      "\u001b[1m10/10\u001b[0m \u001b[32m━━━━━━━━━━━━━━━━━━━━\u001b[0m\u001b[37m\u001b[0m \u001b[1m0s\u001b[0m 22ms/step - accuracy: 0.7228 - loss: 0.5238 - val_accuracy: 0.6883 - val_loss: 0.5179\n",
      "Epoch 26/90\n",
      "\u001b[1m10/10\u001b[0m \u001b[32m━━━━━━━━━━━━━━━━━━━━\u001b[0m\u001b[37m\u001b[0m \u001b[1m0s\u001b[0m 21ms/step - accuracy: 0.7013 - loss: 0.5609 - val_accuracy: 0.7338 - val_loss: 0.5269\n",
      "Epoch 27/90\n",
      "\u001b[1m10/10\u001b[0m \u001b[32m━━━━━━━━━━━━━━━━━━━━\u001b[0m\u001b[37m\u001b[0m \u001b[1m0s\u001b[0m 21ms/step - accuracy: 0.7277 - loss: 0.5238 - val_accuracy: 0.6494 - val_loss: 0.5312\n",
      "Epoch 28/90\n",
      "\u001b[1m10/10\u001b[0m \u001b[32m━━━━━━━━━━━━━━━━━━━━\u001b[0m\u001b[37m\u001b[0m \u001b[1m0s\u001b[0m 21ms/step - accuracy: 0.7244 - loss: 0.5466 - val_accuracy: 0.7273 - val_loss: 0.4636\n",
      "Epoch 29/90\n",
      "\u001b[1m10/10\u001b[0m \u001b[32m━━━━━━━━━━━━━━━━━━━━\u001b[0m\u001b[37m\u001b[0m \u001b[1m0s\u001b[0m 21ms/step - accuracy: 0.7369 - loss: 0.4842 - val_accuracy: 0.7013 - val_loss: 0.6794\n",
      "Epoch 30/90\n",
      "\u001b[1m10/10\u001b[0m \u001b[32m━━━━━━━━━━━━━━━━━━━━\u001b[0m\u001b[37m\u001b[0m \u001b[1m0s\u001b[0m 21ms/step - accuracy: 0.7111 - loss: 0.5782 - val_accuracy: 0.7273 - val_loss: 0.4787\n",
      "Epoch 31/90\n",
      "\u001b[1m10/10\u001b[0m \u001b[32m━━━━━━━━━━━━━━━━━━━━\u001b[0m\u001b[37m\u001b[0m \u001b[1m0s\u001b[0m 20ms/step - accuracy: 0.7083 - loss: 0.5124 - val_accuracy: 0.7662 - val_loss: 0.4617\n",
      "Epoch 32/90\n",
      "\u001b[1m10/10\u001b[0m \u001b[32m━━━━━━━━━━━━━━━━━━━━\u001b[0m\u001b[37m\u001b[0m \u001b[1m0s\u001b[0m 20ms/step - accuracy: 0.7582 - loss: 0.4930 - val_accuracy: 0.7727 - val_loss: 0.4574\n",
      "Epoch 33/90\n",
      "\u001b[1m10/10\u001b[0m \u001b[32m━━━━━━━━━━━━━━━━━━━━\u001b[0m\u001b[37m\u001b[0m \u001b[1m0s\u001b[0m 22ms/step - accuracy: 0.7767 - loss: 0.4713 - val_accuracy: 0.8052 - val_loss: 0.4496\n",
      "Epoch 34/90\n",
      "\u001b[1m10/10\u001b[0m \u001b[32m━━━━━━━━━━━━━━━━━━━━\u001b[0m\u001b[37m\u001b[0m \u001b[1m0s\u001b[0m 22ms/step - accuracy: 0.8325 - loss: 0.4397 - val_accuracy: 0.7922 - val_loss: 0.4241\n",
      "Epoch 35/90\n",
      "\u001b[1m10/10\u001b[0m \u001b[32m━━━━━━━━━━━━━━━━━━━━\u001b[0m\u001b[37m\u001b[0m \u001b[1m0s\u001b[0m 21ms/step - accuracy: 0.7868 - loss: 0.4604 - val_accuracy: 0.8052 - val_loss: 0.4151\n",
      "Epoch 36/90\n",
      "\u001b[1m10/10\u001b[0m \u001b[32m━━━━━━━━━━━━━━━━━━━━\u001b[0m\u001b[37m\u001b[0m \u001b[1m0s\u001b[0m 20ms/step - accuracy: 0.7885 - loss: 0.4494 - val_accuracy: 0.8312 - val_loss: 0.4096\n",
      "Epoch 37/90\n",
      "\u001b[1m10/10\u001b[0m \u001b[32m━━━━━━━━━━━━━━━━━━━━\u001b[0m\u001b[37m\u001b[0m \u001b[1m0s\u001b[0m 21ms/step - accuracy: 0.8144 - loss: 0.4349 - val_accuracy: 0.7468 - val_loss: 0.4823\n",
      "Epoch 38/90\n",
      "\u001b[1m10/10\u001b[0m \u001b[32m━━━━━━━━━━━━━━━━━━━━\u001b[0m\u001b[37m\u001b[0m \u001b[1m0s\u001b[0m 20ms/step - accuracy: 0.7452 - loss: 0.4949 - val_accuracy: 0.8117 - val_loss: 0.4154\n",
      "Epoch 39/90\n",
      "\u001b[1m10/10\u001b[0m \u001b[32m━━━━━━━━━━━━━━━━━━━━\u001b[0m\u001b[37m\u001b[0m \u001b[1m0s\u001b[0m 24ms/step - accuracy: 0.7818 - loss: 0.4435 - val_accuracy: 0.7922 - val_loss: 0.4088\n",
      "Epoch 40/90\n",
      "\u001b[1m10/10\u001b[0m \u001b[32m━━━━━━━━━━━━━━━━━━━━\u001b[0m\u001b[37m\u001b[0m \u001b[1m0s\u001b[0m 21ms/step - accuracy: 0.8363 - loss: 0.4104 - val_accuracy: 0.7792 - val_loss: 0.4217\n",
      "Epoch 41/90\n",
      "\u001b[1m10/10\u001b[0m \u001b[32m━━━━━━━━━━━━━━━━━━━━\u001b[0m\u001b[37m\u001b[0m \u001b[1m0s\u001b[0m 22ms/step - accuracy: 0.8211 - loss: 0.4092 - val_accuracy: 0.8312 - val_loss: 0.3960\n",
      "Epoch 42/90\n",
      "\u001b[1m10/10\u001b[0m \u001b[32m━━━━━━━━━━━━━━━━━━━━\u001b[0m\u001b[37m\u001b[0m \u001b[1m0s\u001b[0m 21ms/step - accuracy: 0.8276 - loss: 0.4111 - val_accuracy: 0.7468 - val_loss: 0.4052\n",
      "Epoch 43/90\n",
      "\u001b[1m10/10\u001b[0m \u001b[32m━━━━━━━━━━━━━━━━━━━━\u001b[0m\u001b[37m\u001b[0m \u001b[1m0s\u001b[0m 22ms/step - accuracy: 0.7745 - loss: 0.4496 - val_accuracy: 0.8701 - val_loss: 0.3571\n",
      "Epoch 44/90\n",
      "\u001b[1m10/10\u001b[0m \u001b[32m━━━━━━━━━━━━━━━━━━━━\u001b[0m\u001b[37m\u001b[0m \u001b[1m0s\u001b[0m 22ms/step - accuracy: 0.8465 - loss: 0.3827 - val_accuracy: 0.8506 - val_loss: 0.3551\n",
      "Epoch 45/90\n",
      "\u001b[1m10/10\u001b[0m \u001b[32m━━━━━━━━━━━━━━━━━━━━\u001b[0m\u001b[37m\u001b[0m \u001b[1m0s\u001b[0m 21ms/step - accuracy: 0.8532 - loss: 0.3667 - val_accuracy: 0.8506 - val_loss: 0.3334\n",
      "Epoch 46/90\n",
      "\u001b[1m10/10\u001b[0m \u001b[32m━━━━━━━━━━━━━━━━━━━━\u001b[0m\u001b[37m\u001b[0m \u001b[1m0s\u001b[0m 20ms/step - accuracy: 0.8524 - loss: 0.3541 - val_accuracy: 0.8506 - val_loss: 0.3272\n",
      "Epoch 47/90\n",
      "\u001b[1m10/10\u001b[0m \u001b[32m━━━━━━━━━━━━━━━━━━━━\u001b[0m\u001b[37m\u001b[0m \u001b[1m0s\u001b[0m 21ms/step - accuracy: 0.8326 - loss: 0.3693 - val_accuracy: 0.8506 - val_loss: 0.3494\n",
      "Epoch 48/90\n",
      "\u001b[1m10/10\u001b[0m \u001b[32m━━━━━━━━━━━━━━━━━━━━\u001b[0m\u001b[37m\u001b[0m \u001b[1m0s\u001b[0m 20ms/step - accuracy: 0.8603 - loss: 0.3306 - val_accuracy: 0.8506 - val_loss: 0.3200\n",
      "Epoch 49/90\n",
      "\u001b[1m10/10\u001b[0m \u001b[32m━━━━━━━━━━━━━━━━━━━━\u001b[0m\u001b[37m\u001b[0m \u001b[1m0s\u001b[0m 21ms/step - accuracy: 0.8227 - loss: 0.3535 - val_accuracy: 0.8247 - val_loss: 0.3383\n",
      "Epoch 50/90\n",
      "\u001b[1m10/10\u001b[0m \u001b[32m━━━━━━━━━━━━━━━━━━━━\u001b[0m\u001b[37m\u001b[0m \u001b[1m0s\u001b[0m 21ms/step - accuracy: 0.8304 - loss: 0.3550 - val_accuracy: 0.8506 - val_loss: 0.3439\n",
      "Epoch 51/90\n",
      "\u001b[1m10/10\u001b[0m \u001b[32m━━━━━━━━━━━━━━━━━━━━\u001b[0m\u001b[37m\u001b[0m \u001b[1m0s\u001b[0m 22ms/step - accuracy: 0.7676 - loss: 0.4774 - val_accuracy: 0.7273 - val_loss: 0.5188\n",
      "Epoch 52/90\n",
      "\u001b[1m10/10\u001b[0m \u001b[32m━━━━━━━━━━━━━━━━━━━━\u001b[0m\u001b[37m\u001b[0m \u001b[1m0s\u001b[0m 23ms/step - accuracy: 0.7620 - loss: 0.4651 - val_accuracy: 0.7987 - val_loss: 0.4115\n",
      "Epoch 53/90\n",
      "\u001b[1m10/10\u001b[0m \u001b[32m━━━━━━━━━━━━━━━━━━━━\u001b[0m\u001b[37m\u001b[0m \u001b[1m0s\u001b[0m 24ms/step - accuracy: 0.8210 - loss: 0.3875 - val_accuracy: 0.8442 - val_loss: 0.3489\n",
      "Epoch 54/90\n",
      "\u001b[1m10/10\u001b[0m \u001b[32m━━━━━━━━━━━━━━━━━━━━\u001b[0m\u001b[37m\u001b[0m \u001b[1m0s\u001b[0m 22ms/step - accuracy: 0.8556 - loss: 0.3450 - val_accuracy: 0.8312 - val_loss: 0.3272\n",
      "Epoch 55/90\n",
      "\u001b[1m10/10\u001b[0m \u001b[32m━━━━━━━━━━━━━━━━━━━━\u001b[0m\u001b[37m\u001b[0m \u001b[1m0s\u001b[0m 21ms/step - accuracy: 0.8251 - loss: 0.3643 - val_accuracy: 0.8247 - val_loss: 0.3544\n",
      "Epoch 56/90\n",
      "\u001b[1m10/10\u001b[0m \u001b[32m━━━━━━━━━━━━━━━━━━━━\u001b[0m\u001b[37m\u001b[0m \u001b[1m0s\u001b[0m 22ms/step - accuracy: 0.8276 - loss: 0.3647 - val_accuracy: 0.8506 - val_loss: 0.3318\n",
      "Epoch 57/90\n",
      "\u001b[1m10/10\u001b[0m \u001b[32m━━━━━━━━━━━━━━━━━━━━\u001b[0m\u001b[37m\u001b[0m \u001b[1m0s\u001b[0m 22ms/step - accuracy: 0.8008 - loss: 0.3869 - val_accuracy: 0.8182 - val_loss: 0.3996\n",
      "Epoch 58/90\n",
      "\u001b[1m10/10\u001b[0m \u001b[32m━━━━━━━━━━━━━━━━━━━━\u001b[0m\u001b[37m\u001b[0m \u001b[1m0s\u001b[0m 22ms/step - accuracy: 0.8361 - loss: 0.3652 - val_accuracy: 0.8312 - val_loss: 0.3569\n",
      "Epoch 59/90\n",
      "\u001b[1m10/10\u001b[0m \u001b[32m━━━━━━━━━━━━━━━━━━━━\u001b[0m\u001b[37m\u001b[0m \u001b[1m0s\u001b[0m 21ms/step - accuracy: 0.8694 - loss: 0.3246 - val_accuracy: 0.8831 - val_loss: 0.2899\n",
      "Epoch 60/90\n",
      "\u001b[1m10/10\u001b[0m \u001b[32m━━━━━━━━━━━━━━━━━━━━\u001b[0m\u001b[37m\u001b[0m \u001b[1m0s\u001b[0m 21ms/step - accuracy: 0.8857 - loss: 0.3134 - val_accuracy: 0.8961 - val_loss: 0.2770\n",
      "Epoch 61/90\n",
      "\u001b[1m10/10\u001b[0m \u001b[32m━━━━━━━━━━━━━━━━━━━━\u001b[0m\u001b[37m\u001b[0m \u001b[1m0s\u001b[0m 21ms/step - accuracy: 0.8870 - loss: 0.2880 - val_accuracy: 0.8766 - val_loss: 0.2934\n",
      "Epoch 62/90\n",
      "\u001b[1m10/10\u001b[0m \u001b[32m━━━━━━━━━━━━━━━━━━━━\u001b[0m\u001b[37m\u001b[0m \u001b[1m0s\u001b[0m 22ms/step - accuracy: 0.8945 - loss: 0.2818 - val_accuracy: 0.8701 - val_loss: 0.2741\n",
      "Epoch 63/90\n",
      "\u001b[1m10/10\u001b[0m \u001b[32m━━━━━━━━━━━━━━━━━━━━\u001b[0m\u001b[37m\u001b[0m \u001b[1m0s\u001b[0m 21ms/step - accuracy: 0.8929 - loss: 0.2787 - val_accuracy: 0.8571 - val_loss: 0.2877\n",
      "Epoch 64/90\n",
      "\u001b[1m10/10\u001b[0m \u001b[32m━━━━━━━━━━━━━━━━━━━━\u001b[0m\u001b[37m\u001b[0m \u001b[1m0s\u001b[0m 24ms/step - accuracy: 0.8574 - loss: 0.3059 - val_accuracy: 0.8571 - val_loss: 0.2636\n",
      "Epoch 65/90\n",
      "\u001b[1m10/10\u001b[0m \u001b[32m━━━━━━━━━━━━━━━━━━━━\u001b[0m\u001b[37m\u001b[0m \u001b[1m0s\u001b[0m 22ms/step - accuracy: 0.8720 - loss: 0.2627 - val_accuracy: 0.8571 - val_loss: 0.2868\n",
      "Epoch 66/90\n",
      "\u001b[1m10/10\u001b[0m \u001b[32m━━━━━━━━━━━━━━━━━━━━\u001b[0m\u001b[37m\u001b[0m \u001b[1m0s\u001b[0m 22ms/step - accuracy: 0.8527 - loss: 0.2883 - val_accuracy: 0.8312 - val_loss: 0.3937\n",
      "Epoch 67/90\n",
      "\u001b[1m10/10\u001b[0m \u001b[32m━━━━━━━━━━━━━━━━━━━━\u001b[0m\u001b[37m\u001b[0m \u001b[1m0s\u001b[0m 22ms/step - accuracy: 0.8464 - loss: 0.3550 - val_accuracy: 0.8896 - val_loss: 0.2609\n",
      "Epoch 68/90\n",
      "\u001b[1m10/10\u001b[0m \u001b[32m━━━━━━━━━━━━━━━━━━━━\u001b[0m\u001b[37m\u001b[0m \u001b[1m0s\u001b[0m 23ms/step - accuracy: 0.8606 - loss: 0.3105 - val_accuracy: 0.7273 - val_loss: 0.5528\n",
      "Epoch 69/90\n",
      "\u001b[1m10/10\u001b[0m \u001b[32m━━━━━━━━━━━━━━━━━━━━\u001b[0m\u001b[37m\u001b[0m \u001b[1m0s\u001b[0m 23ms/step - accuracy: 0.5537 - loss: 0.8343 - val_accuracy: 0.7013 - val_loss: 0.4859\n",
      "Epoch 70/90\n",
      "\u001b[1m10/10\u001b[0m \u001b[32m━━━━━━━━━━━━━━━━━━━━\u001b[0m\u001b[37m\u001b[0m \u001b[1m0s\u001b[0m 22ms/step - accuracy: 0.6697 - loss: 0.5918 - val_accuracy: 0.7532 - val_loss: 0.4747\n",
      "Epoch 71/90\n",
      "\u001b[1m10/10\u001b[0m \u001b[32m━━━━━━━━━━━━━━━━━━━━\u001b[0m\u001b[37m\u001b[0m \u001b[1m0s\u001b[0m 25ms/step - accuracy: 0.7324 - loss: 0.5244 - val_accuracy: 0.7532 - val_loss: 0.4593\n",
      "Epoch 72/90\n",
      "\u001b[1m10/10\u001b[0m \u001b[32m━━━━━━━━━━━━━━━━━━━━\u001b[0m\u001b[37m\u001b[0m \u001b[1m0s\u001b[0m 26ms/step - accuracy: 0.7724 - loss: 0.4819 - val_accuracy: 0.7987 - val_loss: 0.4170\n",
      "Epoch 73/90\n",
      "\u001b[1m10/10\u001b[0m \u001b[32m━━━━━━━━━━━━━━━━━━━━\u001b[0m\u001b[37m\u001b[0m \u001b[1m0s\u001b[0m 23ms/step - accuracy: 0.7967 - loss: 0.4728 - val_accuracy: 0.6558 - val_loss: 0.7103\n",
      "Epoch 74/90\n",
      "\u001b[1m10/10\u001b[0m \u001b[32m━━━━━━━━━━━━━━━━━━━━\u001b[0m\u001b[37m\u001b[0m \u001b[1m0s\u001b[0m 22ms/step - accuracy: 0.7635 - loss: 0.5958 - val_accuracy: 0.8182 - val_loss: 0.4135\n",
      "Epoch 75/90\n",
      "\u001b[1m10/10\u001b[0m \u001b[32m━━━━━━━━━━━━━━━━━━━━\u001b[0m\u001b[37m\u001b[0m \u001b[1m0s\u001b[0m 22ms/step - accuracy: 0.6899 - loss: 0.4953 - val_accuracy: 0.7922 - val_loss: 0.4254\n",
      "Epoch 76/90\n",
      "\u001b[1m10/10\u001b[0m \u001b[32m━━━━━━━━━━━━━━━━━━━━\u001b[0m\u001b[37m\u001b[0m \u001b[1m0s\u001b[0m 22ms/step - accuracy: 0.7868 - loss: 0.4340 - val_accuracy: 0.8377 - val_loss: 0.4095\n",
      "Epoch 77/90\n",
      "\u001b[1m10/10\u001b[0m \u001b[32m━━━━━━━━━━━━━━━━━━━━\u001b[0m\u001b[37m\u001b[0m \u001b[1m0s\u001b[0m 22ms/step - accuracy: 0.8554 - loss: 0.4231 - val_accuracy: 0.8247 - val_loss: 0.3898\n",
      "Epoch 78/90\n",
      "\u001b[1m10/10\u001b[0m \u001b[32m━━━━━━━━━━━━━━━━━━━━\u001b[0m\u001b[37m\u001b[0m \u001b[1m0s\u001b[0m 22ms/step - accuracy: 0.8429 - loss: 0.3972 - val_accuracy: 0.8571 - val_loss: 0.3778\n",
      "Epoch 79/90\n",
      "\u001b[1m10/10\u001b[0m \u001b[32m━━━━━━━━━━━━━━━━━━━━\u001b[0m\u001b[37m\u001b[0m \u001b[1m0s\u001b[0m 22ms/step - accuracy: 0.8718 - loss: 0.3921 - val_accuracy: 0.8571 - val_loss: 0.3709\n",
      "Epoch 80/90\n",
      "\u001b[1m10/10\u001b[0m \u001b[32m━━━━━━━━━━━━━━━━━━━━\u001b[0m\u001b[37m\u001b[0m \u001b[1m0s\u001b[0m 22ms/step - accuracy: 0.8592 - loss: 0.4198 - val_accuracy: 0.8442 - val_loss: 0.3673\n",
      "Epoch 81/90\n",
      "\u001b[1m10/10\u001b[0m \u001b[32m━━━━━━━━━━━━━━━━━━━━\u001b[0m\u001b[37m\u001b[0m \u001b[1m0s\u001b[0m 23ms/step - accuracy: 0.8534 - loss: 0.4040 - val_accuracy: 0.8312 - val_loss: 0.4049\n",
      "Epoch 82/90\n",
      "\u001b[1m10/10\u001b[0m \u001b[32m━━━━━━━━━━━━━━━━━━━━\u001b[0m\u001b[37m\u001b[0m \u001b[1m0s\u001b[0m 21ms/step - accuracy: 0.8139 - loss: 0.4201 - val_accuracy: 0.8377 - val_loss: 0.3895\n",
      "Epoch 83/90\n",
      "\u001b[1m10/10\u001b[0m \u001b[32m━━━━━━━━━━━━━━━━━━━━\u001b[0m\u001b[37m\u001b[0m \u001b[1m0s\u001b[0m 21ms/step - accuracy: 0.8467 - loss: 0.3800 - val_accuracy: 0.7662 - val_loss: 0.4402\n",
      "Epoch 84/90\n",
      "\u001b[1m10/10\u001b[0m \u001b[32m━━━━━━━━━━━━━━━━━━━━\u001b[0m\u001b[37m\u001b[0m \u001b[1m0s\u001b[0m 22ms/step - accuracy: 0.7855 - loss: 0.4517 - val_accuracy: 0.8377 - val_loss: 0.3851\n",
      "Epoch 85/90\n",
      "\u001b[1m10/10\u001b[0m \u001b[32m━━━━━━━━━━━━━━━━━━━━\u001b[0m\u001b[37m\u001b[0m \u001b[1m0s\u001b[0m 24ms/step - accuracy: 0.8338 - loss: 0.3972 - val_accuracy: 0.7208 - val_loss: 0.3786\n",
      "Epoch 86/90\n",
      "\u001b[1m10/10\u001b[0m \u001b[32m━━━━━━━━━━━━━━━━━━━━\u001b[0m\u001b[37m\u001b[0m \u001b[1m0s\u001b[0m 21ms/step - accuracy: 0.8142 - loss: 0.3935 - val_accuracy: 0.8571 - val_loss: 0.3542\n",
      "Epoch 87/90\n",
      "\u001b[1m10/10\u001b[0m \u001b[32m━━━━━━━━━━━━━━━━━━━━\u001b[0m\u001b[37m\u001b[0m \u001b[1m0s\u001b[0m 22ms/step - accuracy: 0.8416 - loss: 0.3859 - val_accuracy: 0.8571 - val_loss: 0.3483\n",
      "Epoch 88/90\n",
      "\u001b[1m10/10\u001b[0m \u001b[32m━━━━━━━━━━━━━━━━━━━━\u001b[0m\u001b[37m\u001b[0m \u001b[1m0s\u001b[0m 21ms/step - accuracy: 0.8723 - loss: 0.3544 - val_accuracy: 0.8831 - val_loss: 0.3286\n",
      "Epoch 89/90\n",
      "\u001b[1m10/10\u001b[0m \u001b[32m━━━━━━━━━━━━━━━━━━━━\u001b[0m\u001b[37m\u001b[0m \u001b[1m0s\u001b[0m 21ms/step - accuracy: 0.8552 - loss: 0.3538 - val_accuracy: 0.8506 - val_loss: 0.3614\n",
      "Epoch 90/90\n",
      "\u001b[1m10/10\u001b[0m \u001b[32m━━━━━━━━━━━━━━━━━━━━\u001b[0m\u001b[37m\u001b[0m \u001b[1m0s\u001b[0m 21ms/step - accuracy: 0.8302 - loss: 0.3993 - val_accuracy: 0.8052 - val_loss: 0.3970\n"
     ]
    }
   ],
   "source": [
    "history = autoencoder.fit(\n",
    "          X_train,\n",
    "          y_train, \n",
    "          epochs=90, \n",
    "          batch_size=64,\n",
    "          validation_data=(X_val, y_val),\n",
    "          shuffle=True,\n",
    "        )"
   ]
  },
  {
   "cell_type": "code",
   "execution_count": 24,
   "id": "846f0e1c",
   "metadata": {
    "execution": {
     "iopub.execute_input": "2025-09-03T17:20:27.785975Z",
     "iopub.status.busy": "2025-09-03T17:20:27.785573Z",
     "iopub.status.idle": "2025-09-03T17:20:28.091613Z",
     "shell.execute_reply": "2025-09-03T17:20:28.090414Z"
    },
    "papermill": {
     "duration": 0.335194,
     "end_time": "2025-09-03T17:20:28.093442",
     "exception": false,
     "start_time": "2025-09-03T17:20:27.758248",
     "status": "completed"
    },
    "tags": []
   },
   "outputs": [
    {
     "data": {
      "text/plain": [
       "<matplotlib.legend.Legend at 0x7b0bc2013710>"
      ]
     },
     "execution_count": 24,
     "metadata": {},
     "output_type": "execute_result"
    },
    {
     "data": {
      "image/png": "[encoded data removed]",
      "text/plain": [
       "<Figure size 640x480 with 1 Axes>"
      ]
     },
     "metadata": {},
     "output_type": "display_data"
    }
   ],
   "source": [
    "plt.plot(history.history[\"loss\"], label=\"Training Loss\")\n",
    "plt.plot(history.history[\"val_loss\"], label=\"Validation Loss\")\n",
    "plt.legend()"
   ]
  },
  {
   "cell_type": "code",
   "execution_count": 25,
   "id": "1bc08708",
   "metadata": {
    "execution": {
     "iopub.execute_input": "2025-09-03T17:20:28.152157Z",
     "iopub.status.busy": "2025-09-03T17:20:28.151781Z",
     "iopub.status.idle": "2025-09-03T17:20:28.348337Z",
     "shell.execute_reply": "2025-09-03T17:20:28.347124Z"
    },
    "papermill": {
     "duration": 0.227634,
     "end_time": "2025-09-03T17:20:28.350140",
     "exception": false,
     "start_time": "2025-09-03T17:20:28.122506",
     "status": "completed"
    },
    "tags": []
   },
   "outputs": [
    {
     "name": "stdout",
     "output_type": "stream",
     "text": [
      "\u001b[1m6/6\u001b[0m \u001b[32m━━━━━━━━━━━━━━━━━━━━\u001b[0m\u001b[37m\u001b[0m \u001b[1m0s\u001b[0m 7ms/step \n"
     ]
    }
   ],
   "source": [
    "predictions=autoencoder.predict(X_test)\n",
    "y_pred = to_categorical(np.argmax(predictions, axis=1), num_classes=3)"
   ]
  },
  {
   "cell_type": "code",
   "execution_count": 26,
   "id": "a0a1ec2b",
   "metadata": {
    "execution": {
     "iopub.execute_input": "2025-09-03T17:20:28.480510Z",
     "iopub.status.busy": "2025-09-03T17:20:28.480186Z",
     "iopub.status.idle": "2025-09-03T17:20:28.596824Z",
     "shell.execute_reply": "2025-09-03T17:20:28.595971Z"
    },
    "papermill": {
     "duration": 0.219403,
     "end_time": "2025-09-03T17:20:28.598716",
     "exception": false,
     "start_time": "2025-09-03T17:20:28.379313",
     "status": "completed"
    },
    "tags": []
   },
   "outputs": [
    {
     "name": "stdout",
     "output_type": "stream",
     "text": [
      "\u001b[1m6/6\u001b[0m \u001b[32m━━━━━━━━━━━━━━━━━━━━\u001b[0m\u001b[37m\u001b[0m \u001b[1m0s\u001b[0m 7ms/step \n"
     ]
    }
   ],
   "source": [
    "predictions=autoencoder.predict(X_test)\n",
    "y_pred = to_categorical(np.argmax(predictions, axis=1), num_classes=3)"
   ]
  }
 ],
 "metadata": {
  "kaggle": {
   "accelerator": "none",
   "dataSources": [
    {
     "datasetId": 7183841,
     "sourceId": 11464109,
     "sourceType": "datasetVersion"
    }
   ],
   "dockerImageVersionId": 31089,
   "isGpuEnabled": false,
   "isInternetEnabled": false,
   "language": "python",
   "sourceType": "notebook"
  },
  "kernelspec": {
   "display_name": "Python 3",
   "language": "python",
   "name": "python3"
  },
  "language_info": {
   "codemirror_mode": {
    "name": "ipython",
    "version": 3
   },
   "file_extension": ".py",
   "mimetype": "text/x-python",
   "name": "python",
   "nbconvert_exporter": "python",
   "pygments_lexer": "ipython3",
   "version": "3.11.13"
  },
  "papermill": {
   "default_parameters": {},
   "duration": 59.788807,
   "end_time": "2025-09-03T17:20:31.535690",
   "environment_variables": {},
   "exception": null,
   "input_path": "__notebook__.ipynb",
   "output_path": "__notebook__.ipynb",
   "parameters": {},
   "start_time": "2025-09-03T17:19:31.746883",
   "version": "2.6.0"
  }
 },
 "nbformat": 4,
 "nbformat_minor": 5
}
