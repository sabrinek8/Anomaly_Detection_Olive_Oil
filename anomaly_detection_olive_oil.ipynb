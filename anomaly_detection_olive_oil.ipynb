{
 "cells": [
  {
   "cell_type": "markdown",
   "id": "4e3d7ef4",
   "metadata": {
    "papermill": {
     "duration": 0.008429,
     "end_time": "2025-09-03T21:07:16.129625",
     "exception": false,
     "start_time": "2025-09-03T21:07:16.121196",
     "status": "completed"
    },
    "tags": []
   },
   "source": [
    "# 📌 Détection d'Anomalies dans la Qualité de l'Huile d'Olive avec Autoencodeur\n"
   ]
  },
  {
   "cell_type": "code",
   "execution_count": 1,
   "id": "2570109b",
   "metadata": {
    "_cell_guid": "b1076dfc-b9ad-4769-8c92-a6c4dae69d19",
    "_uuid": "8f2839f25d086af736a60e9eeb907d3b93b6e0e5",
    "execution": {
     "iopub.execute_input": "2025-09-03T21:07:16.146305Z",
     "iopub.status.busy": "2025-09-03T21:07:16.145787Z",
     "iopub.status.idle": "2025-09-03T21:07:36.942218Z",
     "shell.execute_reply": "2025-09-03T21:07:36.941294Z"
    },
    "papermill": {
     "duration": 20.80657,
     "end_time": "2025-09-03T21:07:36.943938",
     "exception": false,
     "start_time": "2025-09-03T21:07:16.137368",
     "status": "completed"
    },
    "tags": []
   },
   "outputs": [
    {
     "name": "stderr",
     "output_type": "stream",
     "text": [
      "2025-09-03 21:07:20.197511: E external/local_xla/xla/stream_executor/cuda/cuda_fft.cc:477] Unable to register cuFFT factory: Attempting to register factory for plugin cuFFT when one has already been registered\n",
      "WARNING: All log messages before absl::InitializeLog() is called are written to STDERR\n",
      "E0000 00:00:1756933640.443829      13 cuda_dnn.cc:8310] Unable to register cuDNN factory: Attempting to register factory for plugin cuDNN when one has already been registered\n",
      "E0000 00:00:1756933640.514072      13 cuda_blas.cc:1418] Unable to register cuBLAS factory: Attempting to register factory for plugin cuBLAS when one has already been registered\n"
     ]
    }
   ],
   "source": [
    "import pandas as pd\n",
    "import matplotlib.pyplot as plt\n",
    "import tensorflow as tf\n",
    "from sklearn.model_selection import train_test_split\n",
    "from sklearn.metrics import accuracy_score, precision_score, recall_score, f1_score, fbeta_score\n",
    "from tensorflow.keras.utils import to_categorical\n",
    "from sklearn.metrics import precision_recall_fscore_support\n",
    "from sklearn.metrics import confusion_matrix\n",
    "from tensorflow.keras.models import load_model\n",
    "from tensorflow.keras import layers, models\n",
    "from tensorflow.keras.layers import LeakyReLU\n",
    "from tensorflow.keras import regularizers\n",
    "from sklearn.preprocessing import OneHotEncoder\n",
    "from tensorflow import keras\n",
    "from tensorflow.keras.utils import to_categorical\n",
    "from sklearn.metrics import precision_recall_fscore_support\n",
    "from tensorflow.keras.models import load_model\n",
    "import numpy as np\n",
    "import ast\n",
    "from tensorflow.keras import layers, Model\n",
    "from sklearn.preprocessing import StandardScaler\n",
    "import warnings\n",
    "warnings.filterwarnings(\"ignore\")\n"
   ]
  },
  {
   "cell_type": "markdown",
   "id": "affe236d",
   "metadata": {
    "papermill": {
     "duration": 0.007238,
     "end_time": "2025-09-03T21:07:36.959075",
     "exception": false,
     "start_time": "2025-09-03T21:07:36.951837",
     "status": "completed"
    },
    "tags": []
   },
   "source": [
    "## Chargement du Jeu de Données"
   ]
  },
  {
   "cell_type": "code",
   "execution_count": 2,
   "id": "dccde19d",
   "metadata": {
    "execution": {
     "iopub.execute_input": "2025-09-03T21:07:36.976509Z",
     "iopub.status.busy": "2025-09-03T21:07:36.975871Z",
     "iopub.status.idle": "2025-09-03T21:07:37.144987Z",
     "shell.execute_reply": "2025-09-03T21:07:37.144046Z"
    },
    "papermill": {
     "duration": 0.17898,
     "end_time": "2025-09-03T21:07:37.146529",
     "exception": false,
     "start_time": "2025-09-03T21:07:36.967549",
     "status": "completed"
    },
    "tags": []
   },
   "outputs": [],
   "source": [
    "df = pd.read_csv('/kaggle/input/olive-oil/Fluorescence_olive_oil_dataset.csv')\n"
   ]
  },
  {
   "cell_type": "code",
   "execution_count": 3,
   "id": "b1752011",
   "metadata": {
    "execution": {
     "iopub.execute_input": "2025-09-03T21:07:37.162633Z",
     "iopub.status.busy": "2025-09-03T21:07:37.162317Z",
     "iopub.status.idle": "2025-09-03T21:07:37.191353Z",
     "shell.execute_reply": "2025-09-03T21:07:37.190433Z"
    },
    "papermill": {
     "duration": 0.039007,
     "end_time": "2025-09-03T21:07:37.193068",
     "exception": false,
     "start_time": "2025-09-03T21:07:37.154061",
     "status": "completed"
    },
    "tags": []
   },
   "outputs": [
    {
     "data": {
      "text/html": [
       "<div>\n",
       "<style scoped>\n",
       "    .dataframe tbody tr th:only-of-type {\n",
       "        vertical-align: middle;\n",
       "    }\n",
       "\n",
       "    .dataframe tbody tr th {\n",
       "        vertical-align: top;\n",
       "    }\n",
       "\n",
       "    .dataframe thead th {\n",
       "        text-align: right;\n",
       "    }\n",
       "</style>\n",
       "<table border=\"1\" class=\"dataframe\">\n",
       "  <thead>\n",
       "    <tr style=\"text-align: right;\">\n",
       "      <th></th>\n",
       "      <th>Unnamed: 0</th>\n",
       "      <th>Sample</th>\n",
       "      <th>Repetition</th>\n",
       "      <th>Led</th>\n",
       "      <th>Data</th>\n",
       "      <th>Quality</th>\n",
       "      <th>FAEES</th>\n",
       "      <th>K232</th>\n",
       "      <th>K270</th>\n",
       "      <th>Acidity</th>\n",
       "      <th>Peroxide Index</th>\n",
       "    </tr>\n",
       "  </thead>\n",
       "  <tbody>\n",
       "    <tr>\n",
       "      <th>0</th>\n",
       "      <td>0</td>\n",
       "      <td>D73</td>\n",
       "      <td>19</td>\n",
       "      <td>2</td>\n",
       "      <td>[1490.0,1521.0,1544.0,1509.0,1491.0,1574.0,157...</td>\n",
       "      <td>EXTRA</td>\n",
       "      <td>15.0</td>\n",
       "      <td>1.66</td>\n",
       "      <td>0.14</td>\n",
       "      <td>0.20</td>\n",
       "      <td>8.9</td>\n",
       "    </tr>\n",
       "    <tr>\n",
       "      <th>1</th>\n",
       "      <td>1</td>\n",
       "      <td>D35</td>\n",
       "      <td>19</td>\n",
       "      <td>2</td>\n",
       "      <td>[1487.0,1518.0,1537.0,1506.0,1485.0,1562.0,156...</td>\n",
       "      <td>EXTRA</td>\n",
       "      <td>8.0</td>\n",
       "      <td>1.63</td>\n",
       "      <td>0.12</td>\n",
       "      <td>0.17</td>\n",
       "      <td>6.4</td>\n",
       "    </tr>\n",
       "    <tr>\n",
       "      <th>2</th>\n",
       "      <td>2</td>\n",
       "      <td>D77</td>\n",
       "      <td>3</td>\n",
       "      <td>1</td>\n",
       "      <td>[1490.0,1528.0,1541.0,1509.0,1486.0,1577.0,157...</td>\n",
       "      <td>VIRGEN</td>\n",
       "      <td>26.0</td>\n",
       "      <td>1.74</td>\n",
       "      <td>0.13</td>\n",
       "      <td>0.24</td>\n",
       "      <td>10.4</td>\n",
       "    </tr>\n",
       "    <tr>\n",
       "      <th>3</th>\n",
       "      <td>3</td>\n",
       "      <td>D09</td>\n",
       "      <td>8</td>\n",
       "      <td>2</td>\n",
       "      <td>[1486.0,1517.0,1531.0,1501.0,1483.0,1558.0,155...</td>\n",
       "      <td>LAMPANTE</td>\n",
       "      <td>NaN</td>\n",
       "      <td>NaN</td>\n",
       "      <td>NaN</td>\n",
       "      <td>NaN</td>\n",
       "      <td>NaN</td>\n",
       "    </tr>\n",
       "    <tr>\n",
       "      <th>4</th>\n",
       "      <td>4</td>\n",
       "      <td>D35</td>\n",
       "      <td>14</td>\n",
       "      <td>1</td>\n",
       "      <td>[1492.0,1515.0,1534.0,1505.0,1487.0,1568.0,156...</td>\n",
       "      <td>EXTRA</td>\n",
       "      <td>8.0</td>\n",
       "      <td>1.63</td>\n",
       "      <td>0.12</td>\n",
       "      <td>0.17</td>\n",
       "      <td>6.4</td>\n",
       "    </tr>\n",
       "  </tbody>\n",
       "</table>\n",
       "</div>"
      ],
      "text/plain": [
       "   Unnamed: 0 Sample  Repetition  Led  \\\n",
       "0           0    D73          19    2   \n",
       "1           1    D35          19    2   \n",
       "2           2    D77           3    1   \n",
       "3           3    D09           8    2   \n",
       "4           4    D35          14    1   \n",
       "\n",
       "                                                Data   Quality  FAEES  K232  \\\n",
       "0  [1490.0,1521.0,1544.0,1509.0,1491.0,1574.0,157...     EXTRA   15.0  1.66   \n",
       "1  [1487.0,1518.0,1537.0,1506.0,1485.0,1562.0,156...     EXTRA    8.0  1.63   \n",
       "2  [1490.0,1528.0,1541.0,1509.0,1486.0,1577.0,157...    VIRGEN   26.0  1.74   \n",
       "3  [1486.0,1517.0,1531.0,1501.0,1483.0,1558.0,155...  LAMPANTE    NaN   NaN   \n",
       "4  [1492.0,1515.0,1534.0,1505.0,1487.0,1568.0,156...     EXTRA    8.0  1.63   \n",
       "\n",
       "   K270  Acidity  Peroxide Index  \n",
       "0  0.14     0.20             8.9  \n",
       "1  0.12     0.17             6.4  \n",
       "2  0.13     0.24            10.4  \n",
       "3   NaN      NaN             NaN  \n",
       "4  0.12     0.17             6.4  "
      ]
     },
     "execution_count": 3,
     "metadata": {},
     "output_type": "execute_result"
    }
   ],
   "source": [
    "df.head()"
   ]
  },
  {
   "cell_type": "markdown",
   "id": "4244c7b5",
   "metadata": {
    "papermill": {
     "duration": 0.007151,
     "end_time": "2025-09-03T21:07:37.208117",
     "exception": false,
     "start_time": "2025-09-03T21:07:37.200966",
     "status": "completed"
    },
    "tags": []
   },
   "source": [
    "## Aperçu statistique"
   ]
  },
  {
   "cell_type": "code",
   "execution_count": 4,
   "id": "d3e643cc",
   "metadata": {
    "execution": {
     "iopub.execute_input": "2025-09-03T21:07:37.224157Z",
     "iopub.status.busy": "2025-09-03T21:07:37.223741Z",
     "iopub.status.idle": "2025-09-03T21:07:37.260006Z",
     "shell.execute_reply": "2025-09-03T21:07:37.259107Z"
    },
    "papermill": {
     "duration": 0.046197,
     "end_time": "2025-09-03T21:07:37.261659",
     "exception": false,
     "start_time": "2025-09-03T21:07:37.215462",
     "status": "completed"
    },
    "tags": []
   },
   "outputs": [
    {
     "data": {
      "text/html": [
       "<div>\n",
       "<style scoped>\n",
       "    .dataframe tbody tr th:only-of-type {\n",
       "        vertical-align: middle;\n",
       "    }\n",
       "\n",
       "    .dataframe tbody tr th {\n",
       "        vertical-align: top;\n",
       "    }\n",
       "\n",
       "    .dataframe thead th {\n",
       "        text-align: right;\n",
       "    }\n",
       "</style>\n",
       "<table border=\"1\" class=\"dataframe\">\n",
       "  <thead>\n",
       "    <tr style=\"text-align: right;\">\n",
       "      <th></th>\n",
       "      <th>Unnamed: 0</th>\n",
       "      <th>Repetition</th>\n",
       "      <th>Led</th>\n",
       "      <th>FAEES</th>\n",
       "      <th>K232</th>\n",
       "      <th>K270</th>\n",
       "      <th>Acidity</th>\n",
       "      <th>Peroxide Index</th>\n",
       "    </tr>\n",
       "  </thead>\n",
       "  <tbody>\n",
       "    <tr>\n",
       "      <th>count</th>\n",
       "      <td>960.000000</td>\n",
       "      <td>960.000000</td>\n",
       "      <td>960.000000</td>\n",
       "      <td>720.000000</td>\n",
       "      <td>720.000000</td>\n",
       "      <td>720.000000</td>\n",
       "      <td>880.000000</td>\n",
       "      <td>840.000000</td>\n",
       "    </tr>\n",
       "    <tr>\n",
       "      <th>mean</th>\n",
       "      <td>541.183333</td>\n",
       "      <td>9.500000</td>\n",
       "      <td>1.500000</td>\n",
       "      <td>18.666667</td>\n",
       "      <td>1.591944</td>\n",
       "      <td>0.132333</td>\n",
       "      <td>0.461364</td>\n",
       "      <td>8.009524</td>\n",
       "    </tr>\n",
       "    <tr>\n",
       "      <th>std</th>\n",
       "      <td>312.607160</td>\n",
       "      <td>5.769287</td>\n",
       "      <td>0.500261</td>\n",
       "      <td>11.183139</td>\n",
       "      <td>0.116583</td>\n",
       "      <td>0.015969</td>\n",
       "      <td>0.513697</td>\n",
       "      <td>3.699938</td>\n",
       "    </tr>\n",
       "    <tr>\n",
       "      <th>min</th>\n",
       "      <td>0.000000</td>\n",
       "      <td>0.000000</td>\n",
       "      <td>1.000000</td>\n",
       "      <td>7.000000</td>\n",
       "      <td>1.403000</td>\n",
       "      <td>0.108000</td>\n",
       "      <td>0.160000</td>\n",
       "      <td>4.600000</td>\n",
       "    </tr>\n",
       "    <tr>\n",
       "      <th>25%</th>\n",
       "      <td>269.750000</td>\n",
       "      <td>4.750000</td>\n",
       "      <td>1.000000</td>\n",
       "      <td>9.000000</td>\n",
       "      <td>1.537000</td>\n",
       "      <td>0.120000</td>\n",
       "      <td>0.180000</td>\n",
       "      <td>5.000000</td>\n",
       "    </tr>\n",
       "    <tr>\n",
       "      <th>50%</th>\n",
       "      <td>545.500000</td>\n",
       "      <td>9.500000</td>\n",
       "      <td>1.500000</td>\n",
       "      <td>15.500000</td>\n",
       "      <td>1.630000</td>\n",
       "      <td>0.130000</td>\n",
       "      <td>0.255000</td>\n",
       "      <td>8.400000</td>\n",
       "    </tr>\n",
       "    <tr>\n",
       "      <th>75%</th>\n",
       "      <td>812.250000</td>\n",
       "      <td>14.250000</td>\n",
       "      <td>2.000000</td>\n",
       "      <td>26.000000</td>\n",
       "      <td>1.630000</td>\n",
       "      <td>0.140000</td>\n",
       "      <td>0.400000</td>\n",
       "      <td>8.900000</td>\n",
       "    </tr>\n",
       "    <tr>\n",
       "      <th>max</th>\n",
       "      <td>1081.000000</td>\n",
       "      <td>19.000000</td>\n",
       "      <td>2.000000</td>\n",
       "      <td>47.000000</td>\n",
       "      <td>1.910000</td>\n",
       "      <td>0.170000</td>\n",
       "      <td>2.160000</td>\n",
       "      <td>22.000000</td>\n",
       "    </tr>\n",
       "  </tbody>\n",
       "</table>\n",
       "</div>"
      ],
      "text/plain": [
       "        Unnamed: 0  Repetition         Led       FAEES        K232  \\\n",
       "count   960.000000  960.000000  960.000000  720.000000  720.000000   \n",
       "mean    541.183333    9.500000    1.500000   18.666667    1.591944   \n",
       "std     312.607160    5.769287    0.500261   11.183139    0.116583   \n",
       "min       0.000000    0.000000    1.000000    7.000000    1.403000   \n",
       "25%     269.750000    4.750000    1.000000    9.000000    1.537000   \n",
       "50%     545.500000    9.500000    1.500000   15.500000    1.630000   \n",
       "75%     812.250000   14.250000    2.000000   26.000000    1.630000   \n",
       "max    1081.000000   19.000000    2.000000   47.000000    1.910000   \n",
       "\n",
       "             K270     Acidity  Peroxide Index  \n",
       "count  720.000000  880.000000      840.000000  \n",
       "mean     0.132333    0.461364        8.009524  \n",
       "std      0.015969    0.513697        3.699938  \n",
       "min      0.108000    0.160000        4.600000  \n",
       "25%      0.120000    0.180000        5.000000  \n",
       "50%      0.130000    0.255000        8.400000  \n",
       "75%      0.140000    0.400000        8.900000  \n",
       "max      0.170000    2.160000       22.000000  "
      ]
     },
     "execution_count": 4,
     "metadata": {},
     "output_type": "execute_result"
    }
   ],
   "source": [
    "df.describe()"
   ]
  },
  {
   "cell_type": "markdown",
   "id": "b4bae757",
   "metadata": {
    "papermill": {
     "duration": 0.007497,
     "end_time": "2025-09-03T21:07:37.277818",
     "exception": false,
     "start_time": "2025-09-03T21:07:37.270321",
     "status": "completed"
    },
    "tags": []
   },
   "source": [
    "### Suppression de colonnes inutiles dans le DataFrame\n"
   ]
  },
  {
   "cell_type": "code",
   "execution_count": 5,
   "id": "f3a2449a",
   "metadata": {
    "execution": {
     "iopub.execute_input": "2025-09-03T21:07:37.294685Z",
     "iopub.status.busy": "2025-09-03T21:07:37.294381Z",
     "iopub.status.idle": "2025-09-03T21:07:37.305826Z",
     "shell.execute_reply": "2025-09-03T21:07:37.304936Z"
    },
    "papermill": {
     "duration": 0.021835,
     "end_time": "2025-09-03T21:07:37.307471",
     "exception": false,
     "start_time": "2025-09-03T21:07:37.285636",
     "status": "completed"
    },
    "tags": []
   },
   "outputs": [],
   "source": [
    "df = df.drop(['Unnamed: 0', 'Sample'], axis=1)"
   ]
  },
  {
   "cell_type": "markdown",
   "id": "d2eaab0b",
   "metadata": {
    "papermill": {
     "duration": 0.007572,
     "end_time": "2025-09-03T21:07:37.324274",
     "exception": false,
     "start_time": "2025-09-03T21:07:37.316702",
     "status": "completed"
    },
    "tags": []
   },
   "source": [
    "### transformation de les valeurs de la colonne \"Led\" selon une nouvelle codification binaire pour préparer les données "
   ]
  },
  {
   "cell_type": "code",
   "execution_count": 6,
   "id": "fdf9723d",
   "metadata": {
    "execution": {
     "iopub.execute_input": "2025-09-03T21:07:37.341029Z",
     "iopub.status.busy": "2025-09-03T21:07:37.340585Z",
     "iopub.status.idle": "2025-09-03T21:07:37.347231Z",
     "shell.execute_reply": "2025-09-03T21:07:37.346392Z"
    },
    "papermill": {
     "duration": 0.01673,
     "end_time": "2025-09-03T21:07:37.348764",
     "exception": false,
     "start_time": "2025-09-03T21:07:37.332034",
     "status": "completed"
    },
    "tags": []
   },
   "outputs": [],
   "source": [
    "df[\"Led\"]=df[\"Led\"].replace({1:0,2:1})"
   ]
  },
  {
   "cell_type": "markdown",
   "id": "0f256899",
   "metadata": {
    "papermill": {
     "duration": 0.007394,
     "end_time": "2025-09-03T21:07:37.364061",
     "exception": false,
     "start_time": "2025-09-03T21:07:37.356667",
     "status": "completed"
    },
    "tags": []
   },
   "source": [
    "### Conversion des chaînes en listes Python"
   ]
  },
  {
   "cell_type": "code",
   "execution_count": 7,
   "id": "82a17e4e",
   "metadata": {
    "execution": {
     "iopub.execute_input": "2025-09-03T21:07:37.380411Z",
     "iopub.status.busy": "2025-09-03T21:07:37.380123Z",
     "iopub.status.idle": "2025-09-03T21:07:39.526465Z",
     "shell.execute_reply": "2025-09-03T21:07:39.525583Z"
    },
    "papermill": {
     "duration": 2.156524,
     "end_time": "2025-09-03T21:07:39.528143",
     "exception": false,
     "start_time": "2025-09-03T21:07:37.371619",
     "status": "completed"
    },
    "tags": []
   },
   "outputs": [],
   "source": [
    "data_to_array=df[\"Data\"].apply(lambda x: ast.literal_eval(x))"
   ]
  },
  {
   "cell_type": "markdown",
   "id": "1a6ac74b",
   "metadata": {
    "papermill": {
     "duration": 0.007478,
     "end_time": "2025-09-03T21:07:39.543559",
     "exception": false,
     "start_time": "2025-09-03T21:07:39.536081",
     "status": "completed"
    },
    "tags": []
   },
   "source": [
    "### Expansion des listes en colonnes , suppression de la colonne originale \"Data\" et concaténation"
   ]
  },
  {
   "cell_type": "code",
   "execution_count": 8,
   "id": "867088e0",
   "metadata": {
    "execution": {
     "iopub.execute_input": "2025-09-03T21:07:39.560150Z",
     "iopub.status.busy": "2025-09-03T21:07:39.559792Z",
     "iopub.status.idle": "2025-09-03T21:07:39.804244Z",
     "shell.execute_reply": "2025-09-03T21:07:39.803217Z"
    },
    "papermill": {
     "duration": 0.254828,
     "end_time": "2025-09-03T21:07:39.806002",
     "exception": false,
     "start_time": "2025-09-03T21:07:39.551174",
     "status": "completed"
    },
    "tags": []
   },
   "outputs": [],
   "source": [
    "data_expanded = pd.DataFrame(data_to_array.to_list())\n",
    "data_expanded_cols=data_expanded.columns\n",
    "df = df.drop(columns=['Data']).reset_index(drop=True)\n",
    "df = pd.concat([df, data_expanded], axis=1)"
   ]
  },
  {
   "cell_type": "code",
   "execution_count": 9,
   "id": "8f3c1085",
   "metadata": {
    "execution": {
     "iopub.execute_input": "2025-09-03T21:07:39.888295Z",
     "iopub.status.busy": "2025-09-03T21:07:39.887990Z",
     "iopub.status.idle": "2025-09-03T21:07:39.911482Z",
     "shell.execute_reply": "2025-09-03T21:07:39.910469Z"
    },
    "papermill": {
     "duration": 0.09913,
     "end_time": "2025-09-03T21:07:39.913064",
     "exception": false,
     "start_time": "2025-09-03T21:07:39.813934",
     "status": "completed"
    },
    "tags": []
   },
   "outputs": [
    {
     "data": {
      "text/html": [
       "<div>\n",
       "<style scoped>\n",
       "    .dataframe tbody tr th:only-of-type {\n",
       "        vertical-align: middle;\n",
       "    }\n",
       "\n",
       "    .dataframe tbody tr th {\n",
       "        vertical-align: top;\n",
       "    }\n",
       "\n",
       "    .dataframe thead th {\n",
       "        text-align: right;\n",
       "    }\n",
       "</style>\n",
       "<table border=\"1\" class=\"dataframe\">\n",
       "  <thead>\n",
       "    <tr style=\"text-align: right;\">\n",
       "      <th></th>\n",
       "      <th>Repetition</th>\n",
       "      <th>Led</th>\n",
       "      <th>Quality</th>\n",
       "      <th>FAEES</th>\n",
       "      <th>K232</th>\n",
       "      <th>K270</th>\n",
       "      <th>Acidity</th>\n",
       "      <th>Peroxide Index</th>\n",
       "      <th>0</th>\n",
       "      <th>1</th>\n",
       "      <th>...</th>\n",
       "      <th>1014</th>\n",
       "      <th>1015</th>\n",
       "      <th>1016</th>\n",
       "      <th>1017</th>\n",
       "      <th>1018</th>\n",
       "      <th>1019</th>\n",
       "      <th>1020</th>\n",
       "      <th>1021</th>\n",
       "      <th>1022</th>\n",
       "      <th>1023</th>\n",
       "    </tr>\n",
       "  </thead>\n",
       "  <tbody>\n",
       "    <tr>\n",
       "      <th>0</th>\n",
       "      <td>19</td>\n",
       "      <td>1</td>\n",
       "      <td>EXTRA</td>\n",
       "      <td>15.0</td>\n",
       "      <td>1.66</td>\n",
       "      <td>0.14</td>\n",
       "      <td>0.20</td>\n",
       "      <td>8.9</td>\n",
       "      <td>1490.0</td>\n",
       "      <td>1521.0</td>\n",
       "      <td>...</td>\n",
       "      <td>1641.0</td>\n",
       "      <td>1590.0</td>\n",
       "      <td>1595.0</td>\n",
       "      <td>1633.0</td>\n",
       "      <td>1545.0</td>\n",
       "      <td>1594.0</td>\n",
       "      <td>1614.0</td>\n",
       "      <td>1490.0</td>\n",
       "      <td>1605.0</td>\n",
       "      <td>1583.0</td>\n",
       "    </tr>\n",
       "    <tr>\n",
       "      <th>1</th>\n",
       "      <td>19</td>\n",
       "      <td>1</td>\n",
       "      <td>EXTRA</td>\n",
       "      <td>8.0</td>\n",
       "      <td>1.63</td>\n",
       "      <td>0.12</td>\n",
       "      <td>0.17</td>\n",
       "      <td>6.4</td>\n",
       "      <td>1487.0</td>\n",
       "      <td>1518.0</td>\n",
       "      <td>...</td>\n",
       "      <td>1626.0</td>\n",
       "      <td>1586.0</td>\n",
       "      <td>1588.0</td>\n",
       "      <td>1619.0</td>\n",
       "      <td>1547.0</td>\n",
       "      <td>1586.0</td>\n",
       "      <td>1610.0</td>\n",
       "      <td>1488.0</td>\n",
       "      <td>1598.0</td>\n",
       "      <td>1574.0</td>\n",
       "    </tr>\n",
       "    <tr>\n",
       "      <th>2</th>\n",
       "      <td>3</td>\n",
       "      <td>0</td>\n",
       "      <td>VIRGEN</td>\n",
       "      <td>26.0</td>\n",
       "      <td>1.74</td>\n",
       "      <td>0.13</td>\n",
       "      <td>0.24</td>\n",
       "      <td>10.4</td>\n",
       "      <td>1490.0</td>\n",
       "      <td>1528.0</td>\n",
       "      <td>...</td>\n",
       "      <td>1643.0</td>\n",
       "      <td>1592.0</td>\n",
       "      <td>1596.0</td>\n",
       "      <td>1631.0</td>\n",
       "      <td>1550.0</td>\n",
       "      <td>1596.0</td>\n",
       "      <td>1616.0</td>\n",
       "      <td>1486.0</td>\n",
       "      <td>1598.0</td>\n",
       "      <td>1579.0</td>\n",
       "    </tr>\n",
       "    <tr>\n",
       "      <th>3</th>\n",
       "      <td>8</td>\n",
       "      <td>1</td>\n",
       "      <td>LAMPANTE</td>\n",
       "      <td>NaN</td>\n",
       "      <td>NaN</td>\n",
       "      <td>NaN</td>\n",
       "      <td>NaN</td>\n",
       "      <td>NaN</td>\n",
       "      <td>1486.0</td>\n",
       "      <td>1517.0</td>\n",
       "      <td>...</td>\n",
       "      <td>1611.0</td>\n",
       "      <td>1574.0</td>\n",
       "      <td>1577.0</td>\n",
       "      <td>1602.0</td>\n",
       "      <td>1534.0</td>\n",
       "      <td>1572.0</td>\n",
       "      <td>1593.0</td>\n",
       "      <td>1483.0</td>\n",
       "      <td>1579.0</td>\n",
       "      <td>1565.0</td>\n",
       "    </tr>\n",
       "    <tr>\n",
       "      <th>4</th>\n",
       "      <td>14</td>\n",
       "      <td>0</td>\n",
       "      <td>EXTRA</td>\n",
       "      <td>8.0</td>\n",
       "      <td>1.63</td>\n",
       "      <td>0.12</td>\n",
       "      <td>0.17</td>\n",
       "      <td>6.4</td>\n",
       "      <td>1492.0</td>\n",
       "      <td>1515.0</td>\n",
       "      <td>...</td>\n",
       "      <td>1611.0</td>\n",
       "      <td>1569.0</td>\n",
       "      <td>1573.0</td>\n",
       "      <td>1605.0</td>\n",
       "      <td>1535.0</td>\n",
       "      <td>1573.0</td>\n",
       "      <td>1592.0</td>\n",
       "      <td>1476.0</td>\n",
       "      <td>1583.0</td>\n",
       "      <td>1560.0</td>\n",
       "    </tr>\n",
       "  </tbody>\n",
       "</table>\n",
       "<p>5 rows × 1032 columns</p>\n",
       "</div>"
      ],
      "text/plain": [
       "   Repetition  Led   Quality  FAEES  K232  K270  Acidity  Peroxide Index  \\\n",
       "0          19    1     EXTRA   15.0  1.66  0.14     0.20             8.9   \n",
       "1          19    1     EXTRA    8.0  1.63  0.12     0.17             6.4   \n",
       "2           3    0    VIRGEN   26.0  1.74  0.13     0.24            10.4   \n",
       "3           8    1  LAMPANTE    NaN   NaN   NaN      NaN             NaN   \n",
       "4          14    0     EXTRA    8.0  1.63  0.12     0.17             6.4   \n",
       "\n",
       "        0       1  ...    1014    1015    1016    1017    1018    1019  \\\n",
       "0  1490.0  1521.0  ...  1641.0  1590.0  1595.0  1633.0  1545.0  1594.0   \n",
       "1  1487.0  1518.0  ...  1626.0  1586.0  1588.0  1619.0  1547.0  1586.0   \n",
       "2  1490.0  1528.0  ...  1643.0  1592.0  1596.0  1631.0  1550.0  1596.0   \n",
       "3  1486.0  1517.0  ...  1611.0  1574.0  1577.0  1602.0  1534.0  1572.0   \n",
       "4  1492.0  1515.0  ...  1611.0  1569.0  1573.0  1605.0  1535.0  1573.0   \n",
       "\n",
       "     1020    1021    1022    1023  \n",
       "0  1614.0  1490.0  1605.0  1583.0  \n",
       "1  1610.0  1488.0  1598.0  1574.0  \n",
       "2  1616.0  1486.0  1598.0  1579.0  \n",
       "3  1593.0  1483.0  1579.0  1565.0  \n",
       "4  1592.0  1476.0  1583.0  1560.0  \n",
       "\n",
       "[5 rows x 1032 columns]"
      ]
     },
     "execution_count": 9,
     "metadata": {},
     "output_type": "execute_result"
    }
   ],
   "source": [
    "df.head(5)"
   ]
  },
  {
   "cell_type": "markdown",
   "id": "0c54315d",
   "metadata": {
    "papermill": {
     "duration": 0.008033,
     "end_time": "2025-09-03T21:07:39.929615",
     "exception": false,
     "start_time": "2025-09-03T21:07:39.921582",
     "status": "completed"
    },
    "tags": []
   },
   "source": [
    "### Séparation des colonnes catégorielles et numériques"
   ]
  },
  {
   "cell_type": "code",
   "execution_count": 10,
   "id": "9991b7fe",
   "metadata": {
    "execution": {
     "iopub.execute_input": "2025-09-03T21:07:39.947683Z",
     "iopub.status.busy": "2025-09-03T21:07:39.946986Z",
     "iopub.status.idle": "2025-09-03T21:07:39.951270Z",
     "shell.execute_reply": "2025-09-03T21:07:39.950453Z"
    },
    "papermill": {
     "duration": 0.014986,
     "end_time": "2025-09-03T21:07:39.952799",
     "exception": false,
     "start_time": "2025-09-03T21:07:39.937813",
     "status": "completed"
    },
    "tags": []
   },
   "outputs": [],
   "source": [
    "categorical_columns=[\"Repetition\",\"Quality\",\"Led\"]\n",
    "numerical_columns = [\"FAEES\", \"K232\", \"K270\", \"Acidity\", \"Peroxide Index\"]\n",
    "numerical_columns.extend(data_expanded_cols)"
   ]
  },
  {
   "cell_type": "markdown",
   "id": "1c77ad25",
   "metadata": {
    "papermill": {
     "duration": 0.007858,
     "end_time": "2025-09-03T21:07:39.969058",
     "exception": false,
     "start_time": "2025-09-03T21:07:39.961200",
     "status": "completed"
    },
    "tags": []
   },
   "source": [
    "### Vérification des valeurs manquantes"
   ]
  },
  {
   "cell_type": "code",
   "execution_count": 11,
   "id": "df37d1e2",
   "metadata": {
    "execution": {
     "iopub.execute_input": "2025-09-03T21:07:39.986455Z",
     "iopub.status.busy": "2025-09-03T21:07:39.986164Z",
     "iopub.status.idle": "2025-09-03T21:07:40.005431Z",
     "shell.execute_reply": "2025-09-03T21:07:40.004597Z"
    },
    "papermill": {
     "duration": 0.029764,
     "end_time": "2025-09-03T21:07:40.006882",
     "exception": false,
     "start_time": "2025-09-03T21:07:39.977118",
     "status": "completed"
    },
    "tags": []
   },
   "outputs": [
    {
     "data": {
      "text/plain": [
       "Repetition      0\n",
       "Led             0\n",
       "Quality         0\n",
       "FAEES         240\n",
       "K232          240\n",
       "             ... \n",
       "1019            0\n",
       "1020            0\n",
       "1021            0\n",
       "1022            0\n",
       "1023            0\n",
       "Length: 1032, dtype: int64"
      ]
     },
     "execution_count": 11,
     "metadata": {},
     "output_type": "execute_result"
    }
   ],
   "source": [
    "df.isna().sum()"
   ]
  },
  {
   "cell_type": "markdown",
   "id": "f37dc53c",
   "metadata": {
    "papermill": {
     "duration": 0.008177,
     "end_time": "2025-09-03T21:07:40.023943",
     "exception": false,
     "start_time": "2025-09-03T21:07:40.015766",
     "status": "completed"
    },
    "tags": []
   },
   "source": [
    "### Vérification de l'asymétrie des colonnes numériques"
   ]
  },
  {
   "cell_type": "code",
   "execution_count": 12,
   "id": "cc48c1ab",
   "metadata": {
    "execution": {
     "iopub.execute_input": "2025-09-03T21:07:40.041606Z",
     "iopub.status.busy": "2025-09-03T21:07:40.041310Z",
     "iopub.status.idle": "2025-09-03T21:07:40.108450Z",
     "shell.execute_reply": "2025-09-03T21:07:40.107556Z"
    },
    "papermill": {
     "duration": 0.077769,
     "end_time": "2025-09-03T21:07:40.109860",
     "exception": false,
     "start_time": "2025-09-03T21:07:40.032091",
     "status": "completed"
    },
    "tags": []
   },
   "outputs": [
    {
     "data": {
      "text/plain": [
       "FAEES             1.091297\n",
       "K232              0.713190\n",
       "K270              0.713331\n",
       "Acidity           2.371726\n",
       "Peroxide Index    2.414490\n",
       "0                 0.341968\n",
       "dtype: float64"
      ]
     },
     "execution_count": 12,
     "metadata": {},
     "output_type": "execute_result"
    }
   ],
   "source": [
    "df[numerical_columns].skew().head(6)"
   ]
  },
  {
   "cell_type": "markdown",
   "id": "2934972e",
   "metadata": {
    "papermill": {
     "duration": 0.008044,
     "end_time": "2025-09-03T21:07:40.126564",
     "exception": false,
     "start_time": "2025-09-03T21:07:40.118520",
     "status": "completed"
    },
    "tags": []
   },
   "source": [
    "### Remplissage des valeurs manquantes par la médiane ( skewness > 0.5)"
   ]
  },
  {
   "cell_type": "code",
   "execution_count": 13,
   "id": "d16f4bf0",
   "metadata": {
    "execution": {
     "iopub.execute_input": "2025-09-03T21:07:40.144321Z",
     "iopub.status.busy": "2025-09-03T21:07:40.143973Z",
     "iopub.status.idle": "2025-09-03T21:07:40.154632Z",
     "shell.execute_reply": "2025-09-03T21:07:40.153651Z"
    },
    "papermill": {
     "duration": 0.021659,
     "end_time": "2025-09-03T21:07:40.156480",
     "exception": false,
     "start_time": "2025-09-03T21:07:40.134821",
     "status": "completed"
    },
    "tags": []
   },
   "outputs": [],
   "source": [
    "cols_to_median=['FAEES', 'K232', 'K270', 'Acidity', 'Peroxide Index']\n",
    "df[cols_to_median]=df[cols_to_median].fillna(df[cols_to_median].median())"
   ]
  },
  {
   "cell_type": "markdown",
   "id": "bfa5db6f",
   "metadata": {
    "papermill": {
     "duration": 0.008568,
     "end_time": "2025-09-03T21:07:40.173966",
     "exception": false,
     "start_time": "2025-09-03T21:07:40.165398",
     "status": "completed"
    },
    "tags": []
   },
   "source": [
    "### Vérification finale des valeurs manquantes"
   ]
  },
  {
   "cell_type": "code",
   "execution_count": 14,
   "id": "6466bb7d",
   "metadata": {
    "execution": {
     "iopub.execute_input": "2025-09-03T21:07:40.192479Z",
     "iopub.status.busy": "2025-09-03T21:07:40.192164Z",
     "iopub.status.idle": "2025-09-03T21:07:40.210135Z",
     "shell.execute_reply": "2025-09-03T21:07:40.209286Z"
    },
    "papermill": {
     "duration": 0.029202,
     "end_time": "2025-09-03T21:07:40.211703",
     "exception": false,
     "start_time": "2025-09-03T21:07:40.182501",
     "status": "completed"
    },
    "tags": []
   },
   "outputs": [
    {
     "data": {
      "text/plain": [
       "Repetition    0\n",
       "Led           0\n",
       "Quality       0\n",
       "FAEES         0\n",
       "K232          0\n",
       "             ..\n",
       "1019          0\n",
       "1020          0\n",
       "1021          0\n",
       "1022          0\n",
       "1023          0\n",
       "Length: 1032, dtype: int64"
      ]
     },
     "execution_count": 14,
     "metadata": {},
     "output_type": "execute_result"
    }
   ],
   "source": [
    "df.isna().sum()"
   ]
  },
  {
   "cell_type": "code",
   "execution_count": 15,
   "id": "65cf626e",
   "metadata": {
    "execution": {
     "iopub.execute_input": "2025-09-03T21:07:40.229867Z",
     "iopub.status.busy": "2025-09-03T21:07:40.229561Z",
     "iopub.status.idle": "2025-09-03T21:07:40.263378Z",
     "shell.execute_reply": "2025-09-03T21:07:40.262257Z"
    },
    "papermill": {
     "duration": 0.044908,
     "end_time": "2025-09-03T21:07:40.265129",
     "exception": false,
     "start_time": "2025-09-03T21:07:40.220221",
     "status": "completed"
    },
    "tags": []
   },
   "outputs": [],
   "source": [
    "encoder = OneHotEncoder(sparse_output=False)\n",
    "encoded_array = encoder.fit_transform(df[['Quality']])\n",
    "encoded_df = pd.DataFrame(encoded_array, columns=encoder.get_feature_names_out(['Quality']))\n",
    "df2 = df.drop(columns=['Quality']).reset_index(drop=True)\n",
    "df2 = pd.concat([df2, encoded_df], axis=1)"
   ]
  },
  {
   "cell_type": "code",
   "execution_count": 16,
   "id": "81c6db68",
   "metadata": {
    "execution": {
     "iopub.execute_input": "2025-09-03T21:07:40.284030Z",
     "iopub.status.busy": "2025-09-03T21:07:40.283664Z",
     "iopub.status.idle": "2025-09-03T21:07:40.307213Z",
     "shell.execute_reply": "2025-09-03T21:07:40.306303Z"
    },
    "papermill": {
     "duration": 0.034925,
     "end_time": "2025-09-03T21:07:40.309115",
     "exception": false,
     "start_time": "2025-09-03T21:07:40.274190",
     "status": "completed"
    },
    "tags": []
   },
   "outputs": [
    {
     "data": {
      "text/html": [
       "<div>\n",
       "<style scoped>\n",
       "    .dataframe tbody tr th:only-of-type {\n",
       "        vertical-align: middle;\n",
       "    }\n",
       "\n",
       "    .dataframe tbody tr th {\n",
       "        vertical-align: top;\n",
       "    }\n",
       "\n",
       "    .dataframe thead th {\n",
       "        text-align: right;\n",
       "    }\n",
       "</style>\n",
       "<table border=\"1\" class=\"dataframe\">\n",
       "  <thead>\n",
       "    <tr style=\"text-align: right;\">\n",
       "      <th></th>\n",
       "      <th>Repetition</th>\n",
       "      <th>Led</th>\n",
       "      <th>FAEES</th>\n",
       "      <th>K232</th>\n",
       "      <th>K270</th>\n",
       "      <th>Acidity</th>\n",
       "      <th>Peroxide Index</th>\n",
       "      <th>0</th>\n",
       "      <th>1</th>\n",
       "      <th>2</th>\n",
       "      <th>...</th>\n",
       "      <th>1017</th>\n",
       "      <th>1018</th>\n",
       "      <th>1019</th>\n",
       "      <th>1020</th>\n",
       "      <th>1021</th>\n",
       "      <th>1022</th>\n",
       "      <th>1023</th>\n",
       "      <th>Quality_EXTRA</th>\n",
       "      <th>Quality_LAMPANTE</th>\n",
       "      <th>Quality_VIRGEN</th>\n",
       "    </tr>\n",
       "  </thead>\n",
       "  <tbody>\n",
       "    <tr>\n",
       "      <th>0</th>\n",
       "      <td>19</td>\n",
       "      <td>1</td>\n",
       "      <td>15.0</td>\n",
       "      <td>1.66</td>\n",
       "      <td>0.14</td>\n",
       "      <td>0.200</td>\n",
       "      <td>8.9</td>\n",
       "      <td>1490.0</td>\n",
       "      <td>1521.0</td>\n",
       "      <td>1544.0</td>\n",
       "      <td>...</td>\n",
       "      <td>1633.0</td>\n",
       "      <td>1545.0</td>\n",
       "      <td>1594.0</td>\n",
       "      <td>1614.0</td>\n",
       "      <td>1490.0</td>\n",
       "      <td>1605.0</td>\n",
       "      <td>1583.0</td>\n",
       "      <td>1.0</td>\n",
       "      <td>0.0</td>\n",
       "      <td>0.0</td>\n",
       "    </tr>\n",
       "    <tr>\n",
       "      <th>1</th>\n",
       "      <td>19</td>\n",
       "      <td>1</td>\n",
       "      <td>8.0</td>\n",
       "      <td>1.63</td>\n",
       "      <td>0.12</td>\n",
       "      <td>0.170</td>\n",
       "      <td>6.4</td>\n",
       "      <td>1487.0</td>\n",
       "      <td>1518.0</td>\n",
       "      <td>1537.0</td>\n",
       "      <td>...</td>\n",
       "      <td>1619.0</td>\n",
       "      <td>1547.0</td>\n",
       "      <td>1586.0</td>\n",
       "      <td>1610.0</td>\n",
       "      <td>1488.0</td>\n",
       "      <td>1598.0</td>\n",
       "      <td>1574.0</td>\n",
       "      <td>1.0</td>\n",
       "      <td>0.0</td>\n",
       "      <td>0.0</td>\n",
       "    </tr>\n",
       "    <tr>\n",
       "      <th>2</th>\n",
       "      <td>3</td>\n",
       "      <td>0</td>\n",
       "      <td>26.0</td>\n",
       "      <td>1.74</td>\n",
       "      <td>0.13</td>\n",
       "      <td>0.240</td>\n",
       "      <td>10.4</td>\n",
       "      <td>1490.0</td>\n",
       "      <td>1528.0</td>\n",
       "      <td>1541.0</td>\n",
       "      <td>...</td>\n",
       "      <td>1631.0</td>\n",
       "      <td>1550.0</td>\n",
       "      <td>1596.0</td>\n",
       "      <td>1616.0</td>\n",
       "      <td>1486.0</td>\n",
       "      <td>1598.0</td>\n",
       "      <td>1579.0</td>\n",
       "      <td>0.0</td>\n",
       "      <td>0.0</td>\n",
       "      <td>1.0</td>\n",
       "    </tr>\n",
       "    <tr>\n",
       "      <th>3</th>\n",
       "      <td>8</td>\n",
       "      <td>1</td>\n",
       "      <td>15.5</td>\n",
       "      <td>1.63</td>\n",
       "      <td>0.13</td>\n",
       "      <td>0.255</td>\n",
       "      <td>8.4</td>\n",
       "      <td>1486.0</td>\n",
       "      <td>1517.0</td>\n",
       "      <td>1531.0</td>\n",
       "      <td>...</td>\n",
       "      <td>1602.0</td>\n",
       "      <td>1534.0</td>\n",
       "      <td>1572.0</td>\n",
       "      <td>1593.0</td>\n",
       "      <td>1483.0</td>\n",
       "      <td>1579.0</td>\n",
       "      <td>1565.0</td>\n",
       "      <td>0.0</td>\n",
       "      <td>1.0</td>\n",
       "      <td>0.0</td>\n",
       "    </tr>\n",
       "    <tr>\n",
       "      <th>4</th>\n",
       "      <td>14</td>\n",
       "      <td>0</td>\n",
       "      <td>8.0</td>\n",
       "      <td>1.63</td>\n",
       "      <td>0.12</td>\n",
       "      <td>0.170</td>\n",
       "      <td>6.4</td>\n",
       "      <td>1492.0</td>\n",
       "      <td>1515.0</td>\n",
       "      <td>1534.0</td>\n",
       "      <td>...</td>\n",
       "      <td>1605.0</td>\n",
       "      <td>1535.0</td>\n",
       "      <td>1573.0</td>\n",
       "      <td>1592.0</td>\n",
       "      <td>1476.0</td>\n",
       "      <td>1583.0</td>\n",
       "      <td>1560.0</td>\n",
       "      <td>1.0</td>\n",
       "      <td>0.0</td>\n",
       "      <td>0.0</td>\n",
       "    </tr>\n",
       "  </tbody>\n",
       "</table>\n",
       "<p>5 rows × 1034 columns</p>\n",
       "</div>"
      ],
      "text/plain": [
       "   Repetition  Led  FAEES  K232  K270  Acidity  Peroxide Index       0  \\\n",
       "0          19    1   15.0  1.66  0.14    0.200             8.9  1490.0   \n",
       "1          19    1    8.0  1.63  0.12    0.170             6.4  1487.0   \n",
       "2           3    0   26.0  1.74  0.13    0.240            10.4  1490.0   \n",
       "3           8    1   15.5  1.63  0.13    0.255             8.4  1486.0   \n",
       "4          14    0    8.0  1.63  0.12    0.170             6.4  1492.0   \n",
       "\n",
       "        1       2  ...    1017    1018    1019    1020    1021    1022  \\\n",
       "0  1521.0  1544.0  ...  1633.0  1545.0  1594.0  1614.0  1490.0  1605.0   \n",
       "1  1518.0  1537.0  ...  1619.0  1547.0  1586.0  1610.0  1488.0  1598.0   \n",
       "2  1528.0  1541.0  ...  1631.0  1550.0  1596.0  1616.0  1486.0  1598.0   \n",
       "3  1517.0  1531.0  ...  1602.0  1534.0  1572.0  1593.0  1483.0  1579.0   \n",
       "4  1515.0  1534.0  ...  1605.0  1535.0  1573.0  1592.0  1476.0  1583.0   \n",
       "\n",
       "     1023  Quality_EXTRA  Quality_LAMPANTE  Quality_VIRGEN  \n",
       "0  1583.0            1.0               0.0             0.0  \n",
       "1  1574.0            1.0               0.0             0.0  \n",
       "2  1579.0            0.0               0.0             1.0  \n",
       "3  1565.0            0.0               1.0             0.0  \n",
       "4  1560.0            1.0               0.0             0.0  \n",
       "\n",
       "[5 rows x 1034 columns]"
      ]
     },
     "execution_count": 16,
     "metadata": {},
     "output_type": "execute_result"
    }
   ],
   "source": [
    "df2.head()"
   ]
  },
  {
   "cell_type": "markdown",
   "id": "283823bf",
   "metadata": {
    "papermill": {
     "duration": 0.00988,
     "end_time": "2025-09-03T21:07:40.328034",
     "exception": false,
     "start_time": "2025-09-03T21:07:40.318154",
     "status": "completed"
    },
    "tags": []
   },
   "source": [
    "### Split des données en train, validation et test"
   ]
  },
  {
   "cell_type": "code",
   "execution_count": 17,
   "id": "955e6f30",
   "metadata": {
    "execution": {
     "iopub.execute_input": "2025-09-03T21:07:40.346821Z",
     "iopub.status.busy": "2025-09-03T21:07:40.346498Z",
     "iopub.status.idle": "2025-09-03T21:07:40.362980Z",
     "shell.execute_reply": "2025-09-03T21:07:40.362218Z"
    },
    "papermill": {
     "duration": 0.027852,
     "end_time": "2025-09-03T21:07:40.364599",
     "exception": false,
     "start_time": "2025-09-03T21:07:40.336747",
     "status": "completed"
    },
    "tags": []
   },
   "outputs": [],
   "source": [
    "train_data, test_data = train_test_split(df2, test_size=0.2, random_state=42)\n",
    "train_data, val_data = train_test_split(train_data, test_size=0.2, random_state=42)"
   ]
  },
  {
   "cell_type": "code",
   "execution_count": 18,
   "id": "527de638",
   "metadata": {
    "execution": {
     "iopub.execute_input": "2025-09-03T21:07:40.383382Z",
     "iopub.status.busy": "2025-09-03T21:07:40.382732Z",
     "iopub.status.idle": "2025-09-03T21:07:40.469897Z",
     "shell.execute_reply": "2025-09-03T21:07:40.469072Z"
    },
    "papermill": {
     "duration": 0.098082,
     "end_time": "2025-09-03T21:07:40.471449",
     "exception": false,
     "start_time": "2025-09-03T21:07:40.373367",
     "status": "completed"
    },
    "tags": []
   },
   "outputs": [
    {
     "data": {
      "text/plain": [
       "Index([    'Repetition',          'FAEES',           'K232',           'K270',\n",
       "              'Acidity', 'Peroxide Index',                0,                1,\n",
       "                      2,                3,\n",
       "       ...\n",
       "                   1014,             1015,             1016,             1017,\n",
       "                   1018,             1019,             1020,             1021,\n",
       "                   1022,             1023],\n",
       "      dtype='object', length=1030)"
      ]
     },
     "execution_count": 18,
     "metadata": {},
     "output_type": "execute_result"
    }
   ],
   "source": [
    "num_cols = df2.columns[(df2.nunique() != 2)] \n",
    "num_cols"
   ]
  },
  {
   "cell_type": "markdown",
   "id": "3105efe5",
   "metadata": {
    "papermill": {
     "duration": 0.008595,
     "end_time": "2025-09-03T21:07:40.489050",
     "exception": false,
     "start_time": "2025-09-03T21:07:40.480455",
     "status": "completed"
    },
    "tags": []
   },
   "source": [
    "### Normalisation des données"
   ]
  },
  {
   "cell_type": "code",
   "execution_count": 19,
   "id": "4e511eba",
   "metadata": {
    "execution": {
     "iopub.execute_input": "2025-09-03T21:07:40.507764Z",
     "iopub.status.busy": "2025-09-03T21:07:40.507434Z",
     "iopub.status.idle": "2025-09-03T21:07:40.512793Z",
     "shell.execute_reply": "2025-09-03T21:07:40.511888Z"
    },
    "papermill": {
     "duration": 0.016482,
     "end_time": "2025-09-03T21:07:40.514199",
     "exception": false,
     "start_time": "2025-09-03T21:07:40.497717",
     "status": "completed"
    },
    "tags": []
   },
   "outputs": [],
   "source": [
    "def scale_data(data,cols):\n",
    "    data_to_scale=data[cols]\n",
    "    min_val = tf.reduce_min(data[cols]).numpy()\n",
    "    max_val= tf.reduce_max(data[cols]).numpy()\n",
    "    data[cols] = (data[cols] - min_val) / (max_val - min_val)\n",
    "    data = tf.cast(data, tf.float32)\n",
    "    return data"
   ]
  },
  {
   "cell_type": "code",
   "execution_count": 20,
   "id": "b5265df5",
   "metadata": {
    "execution": {
     "iopub.execute_input": "2025-09-03T21:07:40.532897Z",
     "iopub.status.busy": "2025-09-03T21:07:40.532599Z",
     "iopub.status.idle": "2025-09-03T21:07:41.041181Z",
     "shell.execute_reply": "2025-09-03T21:07:41.040419Z"
    },
    "papermill": {
     "duration": 0.519697,
     "end_time": "2025-09-03T21:07:41.042854",
     "exception": false,
     "start_time": "2025-09-03T21:07:40.523157",
     "status": "completed"
    },
    "tags": []
   },
   "outputs": [
    {
     "name": "stderr",
     "output_type": "stream",
     "text": [
      "2025-09-03 21:07:40.542306: E external/local_xla/xla/stream_executor/cuda/cuda_driver.cc:152] failed call to cuInit: INTERNAL: CUDA error: Failed call to cuInit: UNKNOWN ERROR (303)\n"
     ]
    }
   ],
   "source": [
    "train_data=scale_data(train_data,num_cols)\n",
    "test_data=scale_data(test_data,num_cols)\n",
    "val_data=scale_data(val_data,num_cols)\n",
    "train_data = tf.cast(train_data, tf.float32)\n",
    "test_data=tf.cast(test_data, tf.float32)\n",
    "val_data=tf.cast(val_data, tf.float32)"
   ]
  },
  {
   "cell_type": "markdown",
   "id": "e2ceb4b7",
   "metadata": {
    "papermill": {
     "duration": 0.008546,
     "end_time": "2025-09-03T21:07:41.060423",
     "exception": false,
     "start_time": "2025-09-03T21:07:41.051877",
     "status": "completed"
    },
    "tags": []
   },
   "source": [
    "### Séparation des features et labels"
   ]
  },
  {
   "cell_type": "code",
   "execution_count": 21,
   "id": "29b35603",
   "metadata": {
    "execution": {
     "iopub.execute_input": "2025-09-03T21:07:41.079532Z",
     "iopub.status.busy": "2025-09-03T21:07:41.078683Z",
     "iopub.status.idle": "2025-09-03T21:07:41.094370Z",
     "shell.execute_reply": "2025-09-03T21:07:41.093538Z"
    },
    "papermill": {
     "duration": 0.027056,
     "end_time": "2025-09-03T21:07:41.096180",
     "exception": false,
     "start_time": "2025-09-03T21:07:41.069124",
     "status": "completed"
    },
    "tags": []
   },
   "outputs": [],
   "source": [
    "X_train = train_data[:, :-3]  \n",
    "y_train = train_data[:, -3:]  \n",
    "\n",
    "X_test = test_data[:, :-3]  \n",
    "y_test = test_data[:, -3:] \n",
    "\n",
    "X_val= val_data[:, :-3]\n",
    "y_val= val_data[:,-3:]"
   ]
  },
  {
   "cell_type": "code",
   "execution_count": 22,
   "id": "9475d77c",
   "metadata": {
    "execution": {
     "iopub.execute_input": "2025-09-03T21:07:41.115141Z",
     "iopub.status.busy": "2025-09-03T21:07:41.114816Z",
     "iopub.status.idle": "2025-09-03T21:07:41.148639Z",
     "shell.execute_reply": "2025-09-03T21:07:41.147758Z"
    },
    "papermill": {
     "duration": 0.04531,
     "end_time": "2025-09-03T21:07:41.150565",
     "exception": false,
     "start_time": "2025-09-03T21:07:41.105255",
     "status": "completed"
    },
    "tags": []
   },
   "outputs": [],
   "source": [
    "class QualityClassifier(tf.keras.Model):\n",
    "  def __init__(self):\n",
    "    super(QualityClassifier, self).__init__()\n",
    "    self.encoder = tf.keras.Sequential([\n",
    "        layers.Dense(1024, activation=\"relu\"),\n",
    "        layers.Dense(128, activation=\"relu\"),\n",
    "        layers.Dense(64,activation=\"relu\"),\n",
    "        ])\n",
    "\n",
    "    self.classifier = tf.keras.Sequential([\n",
    "        layers.Dense(32, activation=\"relu\"),  \n",
    "        layers.Dense(3, activation=\"softmax\"),  \n",
    "        ])\n",
    "        \n",
    "  def call(self, x):\n",
    "    encoded = self.encoder(x)\n",
    "    class_probs = self.classifier(encoded)\n",
    "    return class_probs\n",
    "\n",
    "autoencoder = QualityClassifier()\n",
    "autoencoder.compile(optimizer=\"adam\", loss=\"categorical_crossentropy\", metrics=[\"accuracy\"])"
   ]
  },
  {
   "cell_type": "markdown",
   "id": "48f19299",
   "metadata": {
    "papermill": {
     "duration": 0.008874,
     "end_time": "2025-09-03T21:07:41.168860",
     "exception": false,
     "start_time": "2025-09-03T21:07:41.159986",
     "status": "completed"
    },
    "tags": []
   },
   "source": [
    "### Entraînement de l'autoencodeur"
   ]
  },
  {
   "cell_type": "code",
   "execution_count": 23,
   "id": "8f00c46a",
   "metadata": {
    "execution": {
     "iopub.execute_input": "2025-09-03T21:07:41.188475Z",
     "iopub.status.busy": "2025-09-03T21:07:41.188154Z",
     "iopub.status.idle": "2025-09-03T21:08:03.865697Z",
     "shell.execute_reply": "2025-09-03T21:08:03.864951Z"
    },
    "papermill": {
     "duration": 22.689628,
     "end_time": "2025-09-03T21:08:03.867456",
     "exception": false,
     "start_time": "2025-09-03T21:07:41.177828",
     "status": "completed"
    },
    "tags": []
   },
   "outputs": [
    {
     "name": "stdout",
     "output_type": "stream",
     "text": [
      "Epoch 1/90\n",
      "\u001b[1m10/10\u001b[0m \u001b[32m━━━━━━━━━━━━━━━━━━━━\u001b[0m\u001b[37m\u001b[0m \u001b[1m4s\u001b[0m 59ms/step - accuracy: 0.4000 - loss: 1.0362 - val_accuracy: 0.6039 - val_loss: 0.8831\n",
      "Epoch 2/90\n",
      "\u001b[1m10/10\u001b[0m \u001b[32m━━━━━━━━━━━━━━━━━━━━\u001b[0m\u001b[37m\u001b[0m \u001b[1m0s\u001b[0m 20ms/step - accuracy: 0.5977 - loss: 0.8509 - val_accuracy: 0.6494 - val_loss: 0.7264\n",
      "Epoch 3/90\n",
      "\u001b[1m10/10\u001b[0m \u001b[32m━━━━━━━━━━━━━━━━━━━━\u001b[0m\u001b[37m\u001b[0m \u001b[1m0s\u001b[0m 19ms/step - accuracy: 0.5863 - loss: 0.7434 - val_accuracy: 0.5130 - val_loss: 0.7085\n",
      "Epoch 4/90\n",
      "\u001b[1m10/10\u001b[0m \u001b[32m━━━━━━━━━━━━━━━━━━━━\u001b[0m\u001b[37m\u001b[0m \u001b[1m0s\u001b[0m 19ms/step - accuracy: 0.5905 - loss: 0.7180 - val_accuracy: 0.6558 - val_loss: 0.5960\n",
      "Epoch 5/90\n",
      "\u001b[1m10/10\u001b[0m \u001b[32m━━━━━━━━━━━━━━━━━━━━\u001b[0m\u001b[37m\u001b[0m \u001b[1m0s\u001b[0m 21ms/step - accuracy: 0.6578 - loss: 0.6469 - val_accuracy: 0.5390 - val_loss: 0.6659\n",
      "Epoch 6/90\n",
      "\u001b[1m10/10\u001b[0m \u001b[32m━━━━━━━━━━━━━━━━━━━━\u001b[0m\u001b[37m\u001b[0m \u001b[1m0s\u001b[0m 20ms/step - accuracy: 0.5720 - loss: 0.6748 - val_accuracy: 0.6299 - val_loss: 0.6020\n",
      "Epoch 7/90\n",
      "\u001b[1m10/10\u001b[0m \u001b[32m━━━━━━━━━━━━━━━━━━━━\u001b[0m\u001b[37m\u001b[0m \u001b[1m0s\u001b[0m 19ms/step - accuracy: 0.6186 - loss: 0.6525 - val_accuracy: 0.6948 - val_loss: 0.5685\n",
      "Epoch 8/90\n",
      "\u001b[1m10/10\u001b[0m \u001b[32m━━━━━━━━━━━━━━━━━━━━\u001b[0m\u001b[37m\u001b[0m \u001b[1m0s\u001b[0m 19ms/step - accuracy: 0.6491 - loss: 0.5980 - val_accuracy: 0.6623 - val_loss: 0.6102\n",
      "Epoch 9/90\n",
      "\u001b[1m10/10\u001b[0m \u001b[32m━━━━━━━━━━━━━━━━━━━━\u001b[0m\u001b[37m\u001b[0m \u001b[1m0s\u001b[0m 19ms/step - accuracy: 0.6984 - loss: 0.6050 - val_accuracy: 0.6364 - val_loss: 0.5949\n",
      "Epoch 10/90\n",
      "\u001b[1m10/10\u001b[0m \u001b[32m━━━━━━━━━━━━━━━━━━━━\u001b[0m\u001b[37m\u001b[0m \u001b[1m0s\u001b[0m 19ms/step - accuracy: 0.6907 - loss: 0.5728 - val_accuracy: 0.7208 - val_loss: 0.5359\n",
      "Epoch 11/90\n",
      "\u001b[1m10/10\u001b[0m \u001b[32m━━━━━━━━━━━━━━━━━━━━\u001b[0m\u001b[37m\u001b[0m \u001b[1m0s\u001b[0m 19ms/step - accuracy: 0.7051 - loss: 0.5770 - val_accuracy: 0.6623 - val_loss: 0.5449\n",
      "Epoch 12/90\n",
      "\u001b[1m10/10\u001b[0m \u001b[32m━━━━━━━━━━━━━━━━━━━━\u001b[0m\u001b[37m\u001b[0m \u001b[1m0s\u001b[0m 19ms/step - accuracy: 0.7147 - loss: 0.5603 - val_accuracy: 0.6429 - val_loss: 0.5838\n",
      "Epoch 13/90\n",
      "\u001b[1m10/10\u001b[0m \u001b[32m━━━━━━━━━━━━━━━━━━━━\u001b[0m\u001b[37m\u001b[0m \u001b[1m0s\u001b[0m 20ms/step - accuracy: 0.6915 - loss: 0.5710 - val_accuracy: 0.7143 - val_loss: 0.5200\n",
      "Epoch 14/90\n",
      "\u001b[1m10/10\u001b[0m \u001b[32m━━━━━━━━━━━━━━━━━━━━\u001b[0m\u001b[37m\u001b[0m \u001b[1m0s\u001b[0m 20ms/step - accuracy: 0.7267 - loss: 0.5430 - val_accuracy: 0.6494 - val_loss: 0.5419\n",
      "Epoch 15/90\n",
      "\u001b[1m10/10\u001b[0m \u001b[32m━━━━━━━━━━━━━━━━━━━━\u001b[0m\u001b[37m\u001b[0m \u001b[1m0s\u001b[0m 19ms/step - accuracy: 0.6749 - loss: 0.5682 - val_accuracy: 0.6688 - val_loss: 0.6499\n",
      "Epoch 16/90\n",
      "\u001b[1m10/10\u001b[0m \u001b[32m━━━━━━━━━━━━━━━━━━━━\u001b[0m\u001b[37m\u001b[0m \u001b[1m0s\u001b[0m 19ms/step - accuracy: 0.6690 - loss: 0.6071 - val_accuracy: 0.6753 - val_loss: 0.5547\n",
      "Epoch 17/90\n",
      "\u001b[1m10/10\u001b[0m \u001b[32m━━━━━━━━━━━━━━━━━━━━\u001b[0m\u001b[37m\u001b[0m \u001b[1m0s\u001b[0m 20ms/step - accuracy: 0.7039 - loss: 0.5544 - val_accuracy: 0.7273 - val_loss: 0.5089\n",
      "Epoch 18/90\n",
      "\u001b[1m10/10\u001b[0m \u001b[32m━━━━━━━━━━━━━━━━━━━━\u001b[0m\u001b[37m\u001b[0m \u001b[1m0s\u001b[0m 19ms/step - accuracy: 0.7119 - loss: 0.5600 - val_accuracy: 0.7532 - val_loss: 0.5280\n",
      "Epoch 19/90\n",
      "\u001b[1m10/10\u001b[0m \u001b[32m━━━━━━━━━━━━━━━━━━━━\u001b[0m\u001b[37m\u001b[0m \u001b[1m0s\u001b[0m 20ms/step - accuracy: 0.7148 - loss: 0.5662 - val_accuracy: 0.7078 - val_loss: 0.5330\n",
      "Epoch 20/90\n",
      "\u001b[1m10/10\u001b[0m \u001b[32m━━━━━━━━━━━━━━━━━━━━\u001b[0m\u001b[37m\u001b[0m \u001b[1m0s\u001b[0m 20ms/step - accuracy: 0.7353 - loss: 0.5373 - val_accuracy: 0.7208 - val_loss: 0.5543\n",
      "Epoch 21/90\n",
      "\u001b[1m10/10\u001b[0m \u001b[32m━━━━━━━━━━━━━━━━━━━━\u001b[0m\u001b[37m\u001b[0m \u001b[1m0s\u001b[0m 21ms/step - accuracy: 0.7277 - loss: 0.5266 - val_accuracy: 0.6883 - val_loss: 0.5184\n",
      "Epoch 22/90\n",
      "\u001b[1m10/10\u001b[0m \u001b[32m━━━━━━━━━━━━━━━━━━━━\u001b[0m\u001b[37m\u001b[0m \u001b[1m0s\u001b[0m 19ms/step - accuracy: 0.6524 - loss: 0.5493 - val_accuracy: 0.7338 - val_loss: 0.4981\n",
      "Epoch 23/90\n",
      "\u001b[1m10/10\u001b[0m \u001b[32m━━━━━━━━━━━━━━━━━━━━\u001b[0m\u001b[37m\u001b[0m \u001b[1m0s\u001b[0m 19ms/step - accuracy: 0.7432 - loss: 0.5122 - val_accuracy: 0.7338 - val_loss: 0.5253\n",
      "Epoch 24/90\n",
      "\u001b[1m10/10\u001b[0m \u001b[32m━━━━━━━━━━━━━━━━━━━━\u001b[0m\u001b[37m\u001b[0m \u001b[1m0s\u001b[0m 19ms/step - accuracy: 0.7337 - loss: 0.5221 - val_accuracy: 0.7338 - val_loss: 0.4747\n",
      "Epoch 25/90\n",
      "\u001b[1m10/10\u001b[0m \u001b[32m━━━━━━━━━━━━━━━━━━━━\u001b[0m\u001b[37m\u001b[0m \u001b[1m0s\u001b[0m 19ms/step - accuracy: 0.7382 - loss: 0.5078 - val_accuracy: 0.7208 - val_loss: 0.4638\n",
      "Epoch 26/90\n",
      "\u001b[1m10/10\u001b[0m \u001b[32m━━━━━━━━━━━━━━━━━━━━\u001b[0m\u001b[37m\u001b[0m \u001b[1m0s\u001b[0m 19ms/step - accuracy: 0.7101 - loss: 0.5122 - val_accuracy: 0.7662 - val_loss: 0.4921\n",
      "Epoch 27/90\n",
      "\u001b[1m10/10\u001b[0m \u001b[32m━━━━━━━━━━━━━━━━━━━━\u001b[0m\u001b[37m\u001b[0m \u001b[1m0s\u001b[0m 19ms/step - accuracy: 0.7156 - loss: 0.5359 - val_accuracy: 0.7532 - val_loss: 0.4982\n",
      "Epoch 28/90\n",
      "\u001b[1m10/10\u001b[0m \u001b[32m━━━━━━━━━━━━━━━━━━━━\u001b[0m\u001b[37m\u001b[0m \u001b[1m0s\u001b[0m 19ms/step - accuracy: 0.7096 - loss: 0.5617 - val_accuracy: 0.7338 - val_loss: 0.5014\n",
      "Epoch 29/90\n",
      "\u001b[1m10/10\u001b[0m \u001b[32m━━━━━━━━━━━━━━━━━━━━\u001b[0m\u001b[37m\u001b[0m \u001b[1m0s\u001b[0m 19ms/step - accuracy: 0.6940 - loss: 0.5492 - val_accuracy: 0.6623 - val_loss: 0.6566\n",
      "Epoch 30/90\n",
      "\u001b[1m10/10\u001b[0m \u001b[32m━━━━━━━━━━━━━━━━━━━━\u001b[0m\u001b[37m\u001b[0m \u001b[1m0s\u001b[0m 19ms/step - accuracy: 0.6967 - loss: 0.5893 - val_accuracy: 0.6883 - val_loss: 0.5447\n",
      "Epoch 31/90\n",
      "\u001b[1m10/10\u001b[0m \u001b[32m━━━━━━━━━━━━━━━━━━━━\u001b[0m\u001b[37m\u001b[0m \u001b[1m0s\u001b[0m 19ms/step - accuracy: 0.7286 - loss: 0.5303 - val_accuracy: 0.7792 - val_loss: 0.4729\n",
      "Epoch 32/90\n",
      "\u001b[1m10/10\u001b[0m \u001b[32m━━━━━━━━━━━━━━━━━━━━\u001b[0m\u001b[37m\u001b[0m \u001b[1m0s\u001b[0m 21ms/step - accuracy: 0.8018 - loss: 0.4555 - val_accuracy: 0.7468 - val_loss: 0.4491\n",
      "Epoch 33/90\n",
      "\u001b[1m10/10\u001b[0m \u001b[32m━━━━━━━━━━━━━━━━━━━━\u001b[0m\u001b[37m\u001b[0m \u001b[1m0s\u001b[0m 19ms/step - accuracy: 0.7581 - loss: 0.4764 - val_accuracy: 0.7987 - val_loss: 0.4467\n",
      "Epoch 34/90\n",
      "\u001b[1m10/10\u001b[0m \u001b[32m━━━━━━━━━━━━━━━━━━━━\u001b[0m\u001b[37m\u001b[0m \u001b[1m0s\u001b[0m 20ms/step - accuracy: 0.7865 - loss: 0.4587 - val_accuracy: 0.7597 - val_loss: 0.4730\n",
      "Epoch 35/90\n",
      "\u001b[1m10/10\u001b[0m \u001b[32m━━━━━━━━━━━━━━━━━━━━\u001b[0m\u001b[37m\u001b[0m \u001b[1m0s\u001b[0m 20ms/step - accuracy: 0.7889 - loss: 0.4831 - val_accuracy: 0.8247 - val_loss: 0.4148\n",
      "Epoch 36/90\n",
      "\u001b[1m10/10\u001b[0m \u001b[32m━━━━━━━━━━━━━━━━━━━━\u001b[0m\u001b[37m\u001b[0m \u001b[1m0s\u001b[0m 19ms/step - accuracy: 0.7976 - loss: 0.4505 - val_accuracy: 0.8117 - val_loss: 0.4158\n",
      "Epoch 37/90\n",
      "\u001b[1m10/10\u001b[0m \u001b[32m━━━━━━━━━━━━━━━━━━━━\u001b[0m\u001b[37m\u001b[0m \u001b[1m0s\u001b[0m 19ms/step - accuracy: 0.8099 - loss: 0.4486 - val_accuracy: 0.7727 - val_loss: 0.4322\n",
      "Epoch 38/90\n",
      "\u001b[1m10/10\u001b[0m \u001b[32m━━━━━━━━━━━━━━━━━━━━\u001b[0m\u001b[37m\u001b[0m \u001b[1m0s\u001b[0m 19ms/step - accuracy: 0.7951 - loss: 0.4495 - val_accuracy: 0.7727 - val_loss: 0.4615\n",
      "Epoch 39/90\n",
      "\u001b[1m10/10\u001b[0m \u001b[32m━━━━━━━━━━━━━━━━━━━━\u001b[0m\u001b[37m\u001b[0m \u001b[1m0s\u001b[0m 19ms/step - accuracy: 0.7999 - loss: 0.4757 - val_accuracy: 0.7143 - val_loss: 0.4321\n",
      "Epoch 40/90\n",
      "\u001b[1m10/10\u001b[0m \u001b[32m━━━━━━━━━━━━━━━━━━━━\u001b[0m\u001b[37m\u001b[0m \u001b[1m0s\u001b[0m 20ms/step - accuracy: 0.7707 - loss: 0.4683 - val_accuracy: 0.8377 - val_loss: 0.3841\n",
      "Epoch 41/90\n",
      "\u001b[1m10/10\u001b[0m \u001b[32m━━━━━━━━━━━━━━━━━━━━\u001b[0m\u001b[37m\u001b[0m \u001b[1m0s\u001b[0m 19ms/step - accuracy: 0.8417 - loss: 0.4247 - val_accuracy: 0.8506 - val_loss: 0.3812\n",
      "Epoch 42/90\n",
      "\u001b[1m10/10\u001b[0m \u001b[32m━━━━━━━━━━━━━━━━━━━━\u001b[0m\u001b[37m\u001b[0m \u001b[1m0s\u001b[0m 19ms/step - accuracy: 0.8324 - loss: 0.4144 - val_accuracy: 0.8052 - val_loss: 0.4141\n",
      "Epoch 43/90\n",
      "\u001b[1m10/10\u001b[0m \u001b[32m━━━━━━━━━━━━━━━━━━━━\u001b[0m\u001b[37m\u001b[0m \u001b[1m0s\u001b[0m 20ms/step - accuracy: 0.8073 - loss: 0.4335 - val_accuracy: 0.7468 - val_loss: 0.4907\n",
      "Epoch 44/90\n",
      "\u001b[1m10/10\u001b[0m \u001b[32m━━━━━━━━━━━━━━━━━━━━\u001b[0m\u001b[37m\u001b[0m \u001b[1m0s\u001b[0m 19ms/step - accuracy: 0.7445 - loss: 0.5163 - val_accuracy: 0.7532 - val_loss: 0.4309\n",
      "Epoch 45/90\n",
      "\u001b[1m10/10\u001b[0m \u001b[32m━━━━━━━━━━━━━━━━━━━━\u001b[0m\u001b[37m\u001b[0m \u001b[1m0s\u001b[0m 19ms/step - accuracy: 0.7023 - loss: 0.5364 - val_accuracy: 0.7403 - val_loss: 0.6229\n",
      "Epoch 46/90\n",
      "\u001b[1m10/10\u001b[0m \u001b[32m━━━━━━━━━━━━━━━━━━━━\u001b[0m\u001b[37m\u001b[0m \u001b[1m0s\u001b[0m 22ms/step - accuracy: 0.7554 - loss: 0.5793 - val_accuracy: 0.6234 - val_loss: 0.8613\n",
      "Epoch 47/90\n",
      "\u001b[1m10/10\u001b[0m \u001b[32m━━━━━━━━━━━━━━━━━━━━\u001b[0m\u001b[37m\u001b[0m \u001b[1m0s\u001b[0m 18ms/step - accuracy: 0.6645 - loss: 0.6142 - val_accuracy: 0.6429 - val_loss: 0.6074\n",
      "Epoch 48/90\n",
      "\u001b[1m10/10\u001b[0m \u001b[32m━━━━━━━━━━━━━━━━━━━━\u001b[0m\u001b[37m\u001b[0m \u001b[1m0s\u001b[0m 20ms/step - accuracy: 0.6543 - loss: 0.5854 - val_accuracy: 0.6234 - val_loss: 0.4908\n",
      "Epoch 49/90\n",
      "\u001b[1m10/10\u001b[0m \u001b[32m━━━━━━━━━━━━━━━━━━━━\u001b[0m\u001b[37m\u001b[0m \u001b[1m0s\u001b[0m 19ms/step - accuracy: 0.7254 - loss: 0.5068 - val_accuracy: 0.7662 - val_loss: 0.4366\n",
      "Epoch 50/90\n",
      "\u001b[1m10/10\u001b[0m \u001b[32m━━━━━━━━━━━━━━━━━━━━\u001b[0m\u001b[37m\u001b[0m \u001b[1m0s\u001b[0m 20ms/step - accuracy: 0.7544 - loss: 0.4629 - val_accuracy: 0.8052 - val_loss: 0.4114\n",
      "Epoch 51/90\n",
      "\u001b[1m10/10\u001b[0m \u001b[32m━━━━━━━━━━━━━━━━━━━━\u001b[0m\u001b[37m\u001b[0m \u001b[1m0s\u001b[0m 19ms/step - accuracy: 0.7988 - loss: 0.4335 - val_accuracy: 0.8377 - val_loss: 0.3979\n",
      "Epoch 52/90\n",
      "\u001b[1m10/10\u001b[0m \u001b[32m━━━━━━━━━━━━━━━━━━━━\u001b[0m\u001b[37m\u001b[0m \u001b[1m0s\u001b[0m 19ms/step - accuracy: 0.8469 - loss: 0.4128 - val_accuracy: 0.6623 - val_loss: 0.4255\n",
      "Epoch 53/90\n",
      "\u001b[1m10/10\u001b[0m \u001b[32m━━━━━━━━━━━━━━━━━━━━\u001b[0m\u001b[37m\u001b[0m \u001b[1m0s\u001b[0m 19ms/step - accuracy: 0.7230 - loss: 0.4423 - val_accuracy: 0.7922 - val_loss: 0.5049\n",
      "Epoch 54/90\n",
      "\u001b[1m10/10\u001b[0m \u001b[32m━━━━━━━━━━━━━━━━━━━━\u001b[0m\u001b[37m\u001b[0m \u001b[1m0s\u001b[0m 20ms/step - accuracy: 0.7319 - loss: 0.4649 - val_accuracy: 0.7987 - val_loss: 0.4308\n",
      "Epoch 55/90\n",
      "\u001b[1m10/10\u001b[0m \u001b[32m━━━━━━━━━━━━━━━━━━━━\u001b[0m\u001b[37m\u001b[0m \u001b[1m0s\u001b[0m 20ms/step - accuracy: 0.7396 - loss: 0.4860 - val_accuracy: 0.8052 - val_loss: 0.3983\n",
      "Epoch 56/90\n",
      "\u001b[1m10/10\u001b[0m \u001b[32m━━━━━━━━━━━━━━━━━━━━\u001b[0m\u001b[37m\u001b[0m \u001b[1m0s\u001b[0m 20ms/step - accuracy: 0.8026 - loss: 0.4508 - val_accuracy: 0.7727 - val_loss: 0.4280\n",
      "Epoch 57/90\n",
      "\u001b[1m10/10\u001b[0m \u001b[32m━━━━━━━━━━━━━━━━━━━━\u001b[0m\u001b[37m\u001b[0m \u001b[1m0s\u001b[0m 19ms/step - accuracy: 0.8353 - loss: 0.4061 - val_accuracy: 0.8442 - val_loss: 0.3906\n",
      "Epoch 58/90\n",
      "\u001b[1m10/10\u001b[0m \u001b[32m━━━━━━━━━━━━━━━━━━━━\u001b[0m\u001b[37m\u001b[0m \u001b[1m0s\u001b[0m 19ms/step - accuracy: 0.8269 - loss: 0.3982 - val_accuracy: 0.7987 - val_loss: 0.3798\n",
      "Epoch 59/90\n",
      "\u001b[1m10/10\u001b[0m \u001b[32m━━━━━━━━━━━━━━━━━━━━\u001b[0m\u001b[37m\u001b[0m \u001b[1m0s\u001b[0m 20ms/step - accuracy: 0.8406 - loss: 0.3738 - val_accuracy: 0.8377 - val_loss: 0.3663\n",
      "Epoch 60/90\n",
      "\u001b[1m10/10\u001b[0m \u001b[32m━━━━━━━━━━━━━━━━━━━━\u001b[0m\u001b[37m\u001b[0m \u001b[1m0s\u001b[0m 20ms/step - accuracy: 0.8516 - loss: 0.3821 - val_accuracy: 0.8506 - val_loss: 0.3487\n",
      "Epoch 61/90\n",
      "\u001b[1m10/10\u001b[0m \u001b[32m━━━━━━━━━━━━━━━━━━━━\u001b[0m\u001b[37m\u001b[0m \u001b[1m0s\u001b[0m 20ms/step - accuracy: 0.8526 - loss: 0.3583 - val_accuracy: 0.8831 - val_loss: 0.3223\n",
      "Epoch 62/90\n",
      "\u001b[1m10/10\u001b[0m \u001b[32m━━━━━━━━━━━━━━━━━━━━\u001b[0m\u001b[37m\u001b[0m \u001b[1m0s\u001b[0m 19ms/step - accuracy: 0.8374 - loss: 0.3711 - val_accuracy: 0.8247 - val_loss: 0.3444\n",
      "Epoch 63/90\n",
      "\u001b[1m10/10\u001b[0m \u001b[32m━━━━━━━━━━━━━━━━━━━━\u001b[0m\u001b[37m\u001b[0m \u001b[1m0s\u001b[0m 19ms/step - accuracy: 0.8302 - loss: 0.3740 - val_accuracy: 0.8636 - val_loss: 0.3399\n",
      "Epoch 64/90\n",
      "\u001b[1m10/10\u001b[0m \u001b[32m━━━━━━━━━━━━━━━━━━━━\u001b[0m\u001b[37m\u001b[0m \u001b[1m0s\u001b[0m 20ms/step - accuracy: 0.8617 - loss: 0.3471 - val_accuracy: 0.8571 - val_loss: 0.3160\n",
      "Epoch 65/90\n",
      "\u001b[1m10/10\u001b[0m \u001b[32m━━━━━━━━━━━━━━━━━━━━\u001b[0m\u001b[37m\u001b[0m \u001b[1m0s\u001b[0m 21ms/step - accuracy: 0.8834 - loss: 0.3041 - val_accuracy: 0.8636 - val_loss: 0.3196\n",
      "Epoch 66/90\n",
      "\u001b[1m10/10\u001b[0m \u001b[32m━━━━━━━━━━━━━━━━━━━━\u001b[0m\u001b[37m\u001b[0m \u001b[1m0s\u001b[0m 20ms/step - accuracy: 0.8552 - loss: 0.3310 - val_accuracy: 0.7662 - val_loss: 0.4505\n",
      "Epoch 67/90\n",
      "\u001b[1m10/10\u001b[0m \u001b[32m━━━━━━━━━━━━━━━━━━━━\u001b[0m\u001b[37m\u001b[0m \u001b[1m0s\u001b[0m 20ms/step - accuracy: 0.8193 - loss: 0.3705 - val_accuracy: 0.8636 - val_loss: 0.3316\n",
      "Epoch 68/90\n",
      "\u001b[1m10/10\u001b[0m \u001b[32m━━━━━━━━━━━━━━━━━━━━\u001b[0m\u001b[37m\u001b[0m \u001b[1m0s\u001b[0m 20ms/step - accuracy: 0.7512 - loss: 0.4827 - val_accuracy: 0.7662 - val_loss: 0.4221\n",
      "Epoch 69/90\n",
      "\u001b[1m10/10\u001b[0m \u001b[32m━━━━━━━━━━━━━━━━━━━━\u001b[0m\u001b[37m\u001b[0m \u001b[1m0s\u001b[0m 19ms/step - accuracy: 0.8401 - loss: 0.3832 - val_accuracy: 0.8052 - val_loss: 0.4915\n",
      "Epoch 70/90\n",
      "\u001b[1m10/10\u001b[0m \u001b[32m━━━━━━━━━━━━━━━━━━━━\u001b[0m\u001b[37m\u001b[0m \u001b[1m0s\u001b[0m 19ms/step - accuracy: 0.8459 - loss: 0.3756 - val_accuracy: 0.8442 - val_loss: 0.3375\n",
      "Epoch 71/90\n",
      "\u001b[1m10/10\u001b[0m \u001b[32m━━━━━━━━━━━━━━━━━━━━\u001b[0m\u001b[37m\u001b[0m \u001b[1m0s\u001b[0m 20ms/step - accuracy: 0.8521 - loss: 0.3310 - val_accuracy: 0.8506 - val_loss: 0.3354\n",
      "Epoch 72/90\n",
      "\u001b[1m10/10\u001b[0m \u001b[32m━━━━━━━━━━━━━━━━━━━━\u001b[0m\u001b[37m\u001b[0m \u001b[1m0s\u001b[0m 19ms/step - accuracy: 0.8702 - loss: 0.3144 - val_accuracy: 0.8506 - val_loss: 0.3110\n",
      "Epoch 73/90\n",
      "\u001b[1m10/10\u001b[0m \u001b[32m━━━━━━━━━━━━━━━━━━━━\u001b[0m\u001b[37m\u001b[0m \u001b[1m0s\u001b[0m 20ms/step - accuracy: 0.8715 - loss: 0.3011 - val_accuracy: 0.8831 - val_loss: 0.2892\n",
      "Epoch 74/90\n",
      "\u001b[1m10/10\u001b[0m \u001b[32m━━━━━━━━━━━━━━━━━━━━\u001b[0m\u001b[37m\u001b[0m \u001b[1m0s\u001b[0m 19ms/step - accuracy: 0.8931 - loss: 0.2687 - val_accuracy: 0.8831 - val_loss: 0.2865\n",
      "Epoch 75/90\n",
      "\u001b[1m10/10\u001b[0m \u001b[32m━━━━━━━━━━━━━━━━━━━━\u001b[0m\u001b[37m\u001b[0m \u001b[1m0s\u001b[0m 18ms/step - accuracy: 0.8710 - loss: 0.2965 - val_accuracy: 0.8506 - val_loss: 0.3105\n",
      "Epoch 76/90\n",
      "\u001b[1m10/10\u001b[0m \u001b[32m━━━━━━━━━━━━━━━━━━━━\u001b[0m\u001b[37m\u001b[0m \u001b[1m0s\u001b[0m 19ms/step - accuracy: 0.8424 - loss: 0.3472 - val_accuracy: 0.8506 - val_loss: 0.3078\n",
      "Epoch 77/90\n",
      "\u001b[1m10/10\u001b[0m \u001b[32m━━━━━━━━━━━━━━━━━━━━\u001b[0m\u001b[37m\u001b[0m \u001b[1m0s\u001b[0m 19ms/step - accuracy: 0.8788 - loss: 0.2797 - val_accuracy: 0.8571 - val_loss: 0.3253\n",
      "Epoch 78/90\n",
      "\u001b[1m10/10\u001b[0m \u001b[32m━━━━━━━━━━━━━━━━━━━━\u001b[0m\u001b[37m\u001b[0m \u001b[1m0s\u001b[0m 20ms/step - accuracy: 0.8363 - loss: 0.3719 - val_accuracy: 0.7143 - val_loss: 0.5497\n",
      "Epoch 79/90\n",
      "\u001b[1m10/10\u001b[0m \u001b[32m━━━━━━━━━━━━━━━━━━━━\u001b[0m\u001b[37m\u001b[0m \u001b[1m0s\u001b[0m 19ms/step - accuracy: 0.7404 - loss: 0.5270 - val_accuracy: 0.7273 - val_loss: 0.4755\n",
      "Epoch 80/90\n",
      "\u001b[1m10/10\u001b[0m \u001b[32m━━━━━━━━━━━━━━━━━━━━\u001b[0m\u001b[37m\u001b[0m \u001b[1m0s\u001b[0m 19ms/step - accuracy: 0.6973 - loss: 0.5406 - val_accuracy: 0.7727 - val_loss: 0.4631\n",
      "Epoch 81/90\n",
      "\u001b[1m10/10\u001b[0m \u001b[32m━━━━━━━━━━━━━━━━━━━━\u001b[0m\u001b[37m\u001b[0m \u001b[1m0s\u001b[0m 20ms/step - accuracy: 0.8049 - loss: 0.4757 - val_accuracy: 0.7857 - val_loss: 0.4453\n",
      "Epoch 82/90\n",
      "\u001b[1m10/10\u001b[0m \u001b[32m━━━━━━━━━━━━━━━━━━━━\u001b[0m\u001b[37m\u001b[0m \u001b[1m0s\u001b[0m 19ms/step - accuracy: 0.7567 - loss: 0.4467 - val_accuracy: 0.8052 - val_loss: 0.4002\n",
      "Epoch 83/90\n",
      "\u001b[1m10/10\u001b[0m \u001b[32m━━━━━━━━━━━━━━━━━━━━\u001b[0m\u001b[37m\u001b[0m \u001b[1m0s\u001b[0m 19ms/step - accuracy: 0.7874 - loss: 0.4395 - val_accuracy: 0.7727 - val_loss: 0.4447\n",
      "Epoch 84/90\n",
      "\u001b[1m10/10\u001b[0m \u001b[32m━━━━━━━━━━━━━━━━━━━━\u001b[0m\u001b[37m\u001b[0m \u001b[1m0s\u001b[0m 20ms/step - accuracy: 0.7944 - loss: 0.4179 - val_accuracy: 0.7273 - val_loss: 0.4580\n",
      "Epoch 85/90\n",
      "\u001b[1m10/10\u001b[0m \u001b[32m━━━━━━━━━━━━━━━━━━━━\u001b[0m\u001b[37m\u001b[0m \u001b[1m0s\u001b[0m 19ms/step - accuracy: 0.7522 - loss: 0.4591 - val_accuracy: 0.8377 - val_loss: 0.3784\n",
      "Epoch 86/90\n",
      "\u001b[1m10/10\u001b[0m \u001b[32m━━━━━━━━━━━━━━━━━━━━\u001b[0m\u001b[37m\u001b[0m \u001b[1m0s\u001b[0m 19ms/step - accuracy: 0.8376 - loss: 0.4044 - val_accuracy: 0.8247 - val_loss: 0.3736\n",
      "Epoch 87/90\n",
      "\u001b[1m10/10\u001b[0m \u001b[32m━━━━━━━━━━━━━━━━━━━━\u001b[0m\u001b[37m\u001b[0m \u001b[1m0s\u001b[0m 19ms/step - accuracy: 0.8404 - loss: 0.3685 - val_accuracy: 0.8506 - val_loss: 0.3423\n",
      "Epoch 88/90\n",
      "\u001b[1m10/10\u001b[0m \u001b[32m━━━━━━━━━━━━━━━━━━━━\u001b[0m\u001b[37m\u001b[0m \u001b[1m0s\u001b[0m 19ms/step - accuracy: 0.8508 - loss: 0.3574 - val_accuracy: 0.8506 - val_loss: 0.3487\n",
      "Epoch 89/90\n",
      "\u001b[1m10/10\u001b[0m \u001b[32m━━━━━━━━━━━━━━━━━━━━\u001b[0m\u001b[37m\u001b[0m \u001b[1m0s\u001b[0m 19ms/step - accuracy: 0.8484 - loss: 0.3713 - val_accuracy: 0.7857 - val_loss: 0.3870\n",
      "Epoch 90/90\n",
      "\u001b[1m10/10\u001b[0m \u001b[32m━━━━━━━━━━━━━━━━━━━━\u001b[0m\u001b[37m\u001b[0m \u001b[1m0s\u001b[0m 20ms/step - accuracy: 0.8275 - loss: 0.3779 - val_accuracy: 0.8506 - val_loss: 0.3288\n"
     ]
    }
   ],
   "source": [
    "history = autoencoder.fit(\n",
    "          X_train,\n",
    "          y_train, \n",
    "          epochs=90, \n",
    "          batch_size=64,\n",
    "          validation_data=(X_val, y_val),\n",
    "          shuffle=True,\n",
    "        )"
   ]
  },
  {
   "cell_type": "markdown",
   "id": "e045cca2",
   "metadata": {
    "papermill": {
     "duration": 0.027388,
     "end_time": "2025-09-03T21:08:03.924583",
     "exception": false,
     "start_time": "2025-09-03T21:08:03.897195",
     "status": "completed"
    },
    "tags": []
   },
   "source": [
    "### Prédictions"
   ]
  },
  {
   "cell_type": "code",
   "execution_count": 24,
   "id": "fece4907",
   "metadata": {
    "execution": {
     "iopub.execute_input": "2025-09-03T21:08:03.981761Z",
     "iopub.status.busy": "2025-09-03T21:08:03.981436Z",
     "iopub.status.idle": "2025-09-03T21:08:04.167168Z",
     "shell.execute_reply": "2025-09-03T21:08:04.166203Z"
    },
    "papermill": {
     "duration": 0.216356,
     "end_time": "2025-09-03T21:08:04.169024",
     "exception": false,
     "start_time": "2025-09-03T21:08:03.952668",
     "status": "completed"
    },
    "tags": []
   },
   "outputs": [
    {
     "name": "stdout",
     "output_type": "stream",
     "text": [
      "\u001b[1m6/6\u001b[0m \u001b[32m━━━━━━━━━━━━━━━━━━━━\u001b[0m\u001b[37m\u001b[0m \u001b[1m0s\u001b[0m 6ms/step \n"
     ]
    }
   ],
   "source": [
    "predictions=autoencoder.predict(X_test)\n",
    "y_pred = to_categorical(np.argmax(predictions, axis=1), num_classes=3)"
   ]
  },
  {
   "cell_type": "code",
   "execution_count": 25,
   "id": "cb70b793",
   "metadata": {
    "execution": {
     "iopub.execute_input": "2025-09-03T21:08:04.229560Z",
     "iopub.status.busy": "2025-09-03T21:08:04.229252Z",
     "iopub.status.idle": "2025-09-03T21:08:04.559057Z",
     "shell.execute_reply": "2025-09-03T21:08:04.558117Z"
    },
    "papermill": {
     "duration": 0.363067,
     "end_time": "2025-09-03T21:08:04.560623",
     "exception": false,
     "start_time": "2025-09-03T21:08:04.197556",
     "status": "completed"
    },
    "tags": []
   },
   "outputs": [
    {
     "data": {
      "text/plain": [
       "<matplotlib.legend.Legend at 0x790848568590>"
      ]
     },
     "execution_count": 25,
     "metadata": {},
     "output_type": "execute_result"
    },
    {
     "data": {
      "image/png": "[encoded data removed]",
      "text/plain": [
       "<Figure size 640x480 with 1 Axes>"
      ]
     },
     "metadata": {},
     "output_type": "display_data"
    }
   ],
   "source": [
    "plt.plot(history.history[\"loss\"], label=\"Training Loss\")\n",
    "plt.plot(history.history[\"val_loss\"], label=\"Validation Loss\")\n",
    "plt.legend()"
   ]
  },
  {
   "cell_type": "code",
   "execution_count": 26,
   "id": "e28692ef",
   "metadata": {
    "execution": {
     "iopub.execute_input": "2025-09-03T21:08:04.618971Z",
     "iopub.status.busy": "2025-09-03T21:08:04.618645Z",
     "iopub.status.idle": "2025-09-03T21:08:04.631108Z",
     "shell.execute_reply": "2025-09-03T21:08:04.630093Z"
    },
    "papermill": {
     "duration": 0.043807,
     "end_time": "2025-09-03T21:08:04.633047",
     "exception": false,
     "start_time": "2025-09-03T21:08:04.589240",
     "status": "completed"
    },
    "tags": []
   },
   "outputs": [
    {
     "name": "stdout",
     "output_type": "stream",
     "text": [
      "Accuracy: 0.828125\n",
      "Precision: 0.8952380952380953\n",
      "Recall: 0.8333333333333334\n",
      "F1-score: 0.8267419962335216\n"
     ]
    }
   ],
   "source": [
    "precision, recall, f1, _ = precision_recall_fscore_support(y_test, y_pred, average=\"macro\")  \n",
    "print(\"Accuracy:\",accuracy_score(y_test,y_pred))\n",
    "print(\"Precision:\", precision)\n",
    "print(\"Recall:\", recall)\n",
    "print(\"F1-score:\", f1)"
   ]
  },
  {
   "cell_type": "markdown",
   "id": "90528eb4",
   "metadata": {
    "papermill": {
     "duration": 0.029819,
     "end_time": "2025-09-03T21:08:04.692313",
     "exception": false,
     "start_time": "2025-09-03T21:08:04.662494",
     "status": "completed"
    },
    "tags": []
   },
   "source": [
    "# **Anomaly detection**"
   ]
  },
  {
   "cell_type": "code",
   "execution_count": 27,
   "id": "29198c57",
   "metadata": {
    "execution": {
     "iopub.execute_input": "2025-09-03T21:08:04.752862Z",
     "iopub.status.busy": "2025-09-03T21:08:04.752538Z",
     "iopub.status.idle": "2025-09-03T21:08:04.761651Z",
     "shell.execute_reply": "2025-09-03T21:08:04.760723Z"
    },
    "papermill": {
     "duration": 0.041493,
     "end_time": "2025-09-03T21:08:04.763076",
     "exception": false,
     "start_time": "2025-09-03T21:08:04.721583",
     "status": "completed"
    },
    "tags": []
   },
   "outputs": [
    {
     "name": "stdout",
     "output_type": "stream",
     "text": [
      "Binary label distribution:\n",
      "Train EXTRA: 266 NOT EXTRA: 348\n",
      "Test EXTRA: 72 NOT EXTRA: 120\n",
      "Val EXTRA: 62 NOT EXTRA: 92\n",
      "Feature shape: (614, 1031)\n"
     ]
    }
   ],
   "source": [
    "train_np = train_data.numpy()\n",
    "test_np = test_data.numpy()\n",
    "val_np = val_data.numpy()\n",
    "\n",
    "X_train = train_np[:, :-3]\n",
    "X_test = test_np[:, :-3]  \n",
    "X_val = val_np[:, :-3]\n",
    "\n",
    "\n",
    "y_train_binary = train_np[:, -3].astype(int) \n",
    "y_test_binary = test_np[:, -3].astype(int)\n",
    "y_val_binary = val_np[:, -3].astype(int)\n",
    "\n",
    "print(\"Binary label distribution:\")\n",
    "print(\"Train EXTRA:\", np.sum(y_train_binary), \"NOT EXTRA:\", len(y_train_binary) - np.sum(y_train_binary))\n",
    "print(\"Test EXTRA:\", np.sum(y_test_binary), \"NOT EXTRA:\", len(y_test_binary) - np.sum(y_test_binary))\n",
    "print(\"Val EXTRA:\", np.sum(y_val_binary), \"NOT EXTRA:\", len(y_val_binary) - np.sum(y_val_binary))\n",
    "\n",
    "print(\"Feature shape:\", X_train.shape)"
   ]
  },
  {
   "cell_type": "code",
   "execution_count": 28,
   "id": "6d758634",
   "metadata": {
    "execution": {
     "iopub.execute_input": "2025-09-03T21:08:04.823427Z",
     "iopub.status.busy": "2025-09-03T21:08:04.823099Z",
     "iopub.status.idle": "2025-09-03T21:08:04.842773Z",
     "shell.execute_reply": "2025-09-03T21:08:04.841952Z"
    },
    "papermill": {
     "duration": 0.051176,
     "end_time": "2025-09-03T21:08:04.844441",
     "exception": false,
     "start_time": "2025-09-03T21:08:04.793265",
     "status": "completed"
    },
    "tags": []
   },
   "outputs": [
    {
     "name": "stdout",
     "output_type": "stream",
     "text": [
      "Autoencoder created with input dimension: 1031\n"
     ]
    }
   ],
   "source": [
    "class SimpleAutoencoder(tf.keras.Model):\n",
    "    def __init__(self, input_dim):\n",
    "        super(SimpleAutoencoder, self).__init__()\n",
    "        # Encoder\n",
    "        self.encoder = tf.keras.Sequential([\n",
    "            layers.Dense(512, activation=\"relu\"),\n",
    "            layers.Dense(128, activation=\"relu\"), \n",
    "            layers.Dense(64, activation=\"relu\")  # bottleneck\n",
    "        ])\n",
    "        # Decoder  \n",
    "        self.decoder = tf.keras.Sequential([\n",
    "            layers.Dense(128, activation=\"relu\"),\n",
    "            layers.Dense(512, activation=\"relu\"),\n",
    "            layers.Dense(input_dim, activation=\"linear\")  # reconstruct input\n",
    "        ])\n",
    "        \n",
    "    def call(self, x):\n",
    "        encoded = self.encoder(x)\n",
    "        decoded = self.decoder(encoded)\n",
    "        return decoded\n",
    "\n",
    "input_dim = X_train.shape[1]  # 1031 features\n",
    "autoencoder = SimpleAutoencoder(input_dim)\n",
    "autoencoder.compile(optimizer=\"adam\", loss=\"mse\")\n",
    "\n",
    "print(\"Autoencoder created with input dimension:\", input_dim)"
   ]
  },
  {
   "cell_type": "code",
   "execution_count": 29,
   "id": "ba13a042",
   "metadata": {
    "execution": {
     "iopub.execute_input": "2025-09-03T21:08:04.905072Z",
     "iopub.status.busy": "2025-09-03T21:08:04.904761Z",
     "iopub.status.idle": "2025-09-03T21:08:27.144007Z",
     "shell.execute_reply": "2025-09-03T21:08:27.143069Z"
    },
    "papermill": {
     "duration": 22.271755,
     "end_time": "2025-09-03T21:08:27.145601",
     "exception": false,
     "start_time": "2025-09-03T21:08:04.873846",
     "status": "completed"
    },
    "tags": []
   },
   "outputs": [
    {
     "name": "stdout",
     "output_type": "stream",
     "text": [
      "Training samples:\n",
      "Normal samples for training: 266\n",
      "Normal samples for validation: 62\n",
      "Epoch 1/100\n",
      "\u001b[1m9/9\u001b[0m \u001b[32m━━━━━━━━━━━━━━━━━━━━\u001b[0m\u001b[37m\u001b[0m \u001b[1m3s\u001b[0m 51ms/step - loss: 0.0360 - val_loss: 0.0059\n",
      "Epoch 2/100\n",
      "\u001b[1m9/9\u001b[0m \u001b[32m━━━━━━━━━━━━━━━━━━━━\u001b[0m\u001b[37m\u001b[0m \u001b[1m0s\u001b[0m 19ms/step - loss: 0.0048 - val_loss: 0.0021\n",
      "Epoch 3/100\n",
      "\u001b[1m9/9\u001b[0m \u001b[32m━━━━━━━━━━━━━━━━━━━━\u001b[0m\u001b[37m\u001b[0m \u001b[1m0s\u001b[0m 19ms/step - loss: 0.0016 - val_loss: 0.0010\n",
      "Epoch 4/100\n",
      "\u001b[1m9/9\u001b[0m \u001b[32m━━━━━━━━━━━━━━━━━━━━\u001b[0m\u001b[37m\u001b[0m \u001b[1m0s\u001b[0m 19ms/step - loss: 9.4956e-04 - val_loss: 7.5355e-04\n",
      "Epoch 5/100\n",
      "\u001b[1m9/9\u001b[0m \u001b[32m━━━━━━━━━━━━━━━━━━━━\u001b[0m\u001b[37m\u001b[0m \u001b[1m0s\u001b[0m 19ms/step - loss: 7.1766e-04 - val_loss: 6.8111e-04\n",
      "Epoch 6/100\n",
      "\u001b[1m9/9\u001b[0m \u001b[32m━━━━━━━━━━━━━━━━━━━━\u001b[0m\u001b[37m\u001b[0m \u001b[1m0s\u001b[0m 20ms/step - loss: 6.2233e-04 - val_loss: 6.2886e-04\n",
      "Epoch 7/100\n",
      "\u001b[1m9/9\u001b[0m \u001b[32m━━━━━━━━━━━━━━━━━━━━\u001b[0m\u001b[37m\u001b[0m \u001b[1m0s\u001b[0m 20ms/step - loss: 5.7539e-04 - val_loss: 6.3510e-04\n",
      "Epoch 8/100\n",
      "\u001b[1m9/9\u001b[0m \u001b[32m━━━━━━━━━━━━━━━━━━━━\u001b[0m\u001b[37m\u001b[0m \u001b[1m0s\u001b[0m 20ms/step - loss: 5.8126e-04 - val_loss: 6.0577e-04\n",
      "Epoch 9/100\n",
      "\u001b[1m9/9\u001b[0m \u001b[32m━━━━━━━━━━━━━━━━━━━━\u001b[0m\u001b[37m\u001b[0m \u001b[1m0s\u001b[0m 19ms/step - loss: 5.7761e-04 - val_loss: 5.9388e-04\n",
      "Epoch 10/100\n",
      "\u001b[1m9/9\u001b[0m \u001b[32m━━━━━━━━━━━━━━━━━━━━\u001b[0m\u001b[37m\u001b[0m \u001b[1m0s\u001b[0m 19ms/step - loss: 5.6531e-04 - val_loss: 5.9228e-04\n",
      "Epoch 11/100\n",
      "\u001b[1m9/9\u001b[0m \u001b[32m━━━━━━━━━━━━━━━━━━━━\u001b[0m\u001b[37m\u001b[0m \u001b[1m0s\u001b[0m 19ms/step - loss: 5.4105e-04 - val_loss: 5.7763e-04\n",
      "Epoch 12/100\n",
      "\u001b[1m9/9\u001b[0m \u001b[32m━━━━━━━━━━━━━━━━━━━━\u001b[0m\u001b[37m\u001b[0m \u001b[1m0s\u001b[0m 19ms/step - loss: 5.3415e-04 - val_loss: 5.4934e-04\n",
      "Epoch 13/100\n",
      "\u001b[1m9/9\u001b[0m \u001b[32m━━━━━━━━━━━━━━━━━━━━\u001b[0m\u001b[37m\u001b[0m \u001b[1m0s\u001b[0m 20ms/step - loss: 5.1932e-04 - val_loss: 4.9438e-04\n",
      "Epoch 14/100\n",
      "\u001b[1m9/9\u001b[0m \u001b[32m━━━━━━━━━━━━━━━━━━━━\u001b[0m\u001b[37m\u001b[0m \u001b[1m0s\u001b[0m 19ms/step - loss: 4.3768e-04 - val_loss: 4.0461e-04\n",
      "Epoch 15/100\n",
      "\u001b[1m9/9\u001b[0m \u001b[32m━━━━━━━━━━━━━━━━━━━━\u001b[0m\u001b[37m\u001b[0m \u001b[1m0s\u001b[0m 19ms/step - loss: 3.6978e-04 - val_loss: 3.2383e-04\n",
      "Epoch 16/100\n",
      "\u001b[1m9/9\u001b[0m \u001b[32m━━━━━━━━━━━━━━━━━━━━\u001b[0m\u001b[37m\u001b[0m \u001b[1m0s\u001b[0m 19ms/step - loss: 2.8430e-04 - val_loss: 2.5866e-04\n",
      "Epoch 17/100\n",
      "\u001b[1m9/9\u001b[0m \u001b[32m━━━━━━━━━━━━━━━━━━━━\u001b[0m\u001b[37m\u001b[0m \u001b[1m0s\u001b[0m 19ms/step - loss: 2.4165e-04 - val_loss: 2.2393e-04\n",
      "Epoch 18/100\n",
      "\u001b[1m9/9\u001b[0m \u001b[32m━━━━━━━━━━━━━━━━━━━━\u001b[0m\u001b[37m\u001b[0m \u001b[1m0s\u001b[0m 19ms/step - loss: 2.1212e-04 - val_loss: 2.0510e-04\n",
      "Epoch 19/100\n",
      "\u001b[1m9/9\u001b[0m \u001b[32m━━━━━━━━━━━━━━━━━━━━\u001b[0m\u001b[37m\u001b[0m \u001b[1m0s\u001b[0m 19ms/step - loss: 1.9814e-04 - val_loss: 1.9617e-04\n",
      "Epoch 20/100\n",
      "\u001b[1m9/9\u001b[0m \u001b[32m━━━━━━━━━━━━━━━━━━━━\u001b[0m\u001b[37m\u001b[0m \u001b[1m0s\u001b[0m 19ms/step - loss: 1.7048e-04 - val_loss: 1.9004e-04\n",
      "Epoch 21/100\n",
      "\u001b[1m9/9\u001b[0m \u001b[32m━━━━━━━━━━━━━━━━━━━━\u001b[0m\u001b[37m\u001b[0m \u001b[1m0s\u001b[0m 19ms/step - loss: 1.7806e-04 - val_loss: 1.8031e-04\n",
      "Epoch 22/100\n",
      "\u001b[1m9/9\u001b[0m \u001b[32m━━━━━━━━━━━━━━━━━━━━\u001b[0m\u001b[37m\u001b[0m \u001b[1m0s\u001b[0m 19ms/step - loss: 1.6646e-04 - val_loss: 1.7558e-04\n",
      "Epoch 23/100\n",
      "\u001b[1m9/9\u001b[0m \u001b[32m━━━━━━━━━━━━━━━━━━━━\u001b[0m\u001b[37m\u001b[0m \u001b[1m0s\u001b[0m 19ms/step - loss: 1.5414e-04 - val_loss: 1.6324e-04\n",
      "Epoch 24/100\n",
      "\u001b[1m9/9\u001b[0m \u001b[32m━━━━━━━━━━━━━━━━━━━━\u001b[0m\u001b[37m\u001b[0m \u001b[1m0s\u001b[0m 19ms/step - loss: 1.5747e-04 - val_loss: 1.5619e-04\n",
      "Epoch 25/100\n",
      "\u001b[1m9/9\u001b[0m \u001b[32m━━━━━━━━━━━━━━━━━━━━\u001b[0m\u001b[37m\u001b[0m \u001b[1m0s\u001b[0m 19ms/step - loss: 1.4783e-04 - val_loss: 1.5109e-04\n",
      "Epoch 26/100\n",
      "\u001b[1m9/9\u001b[0m \u001b[32m━━━━━━━━━━━━━━━━━━━━\u001b[0m\u001b[37m\u001b[0m \u001b[1m0s\u001b[0m 19ms/step - loss: 1.3310e-04 - val_loss: 1.3236e-04\n",
      "Epoch 27/100\n",
      "\u001b[1m9/9\u001b[0m \u001b[32m━━━━━━━━━━━━━━━━━━━━\u001b[0m\u001b[37m\u001b[0m \u001b[1m0s\u001b[0m 20ms/step - loss: 1.2479e-04 - val_loss: 1.2768e-04\n",
      "Epoch 28/100\n",
      "\u001b[1m9/9\u001b[0m \u001b[32m━━━━━━━━━━━━━━━━━━━━\u001b[0m\u001b[37m\u001b[0m \u001b[1m0s\u001b[0m 19ms/step - loss: 1.3230e-04 - val_loss: 1.1970e-04\n",
      "Epoch 29/100\n",
      "\u001b[1m9/9\u001b[0m \u001b[32m━━━━━━━━━━━━━━━━━━━━\u001b[0m\u001b[37m\u001b[0m \u001b[1m0s\u001b[0m 20ms/step - loss: 1.0985e-04 - val_loss: 1.4835e-04\n",
      "Epoch 30/100\n",
      "\u001b[1m9/9\u001b[0m \u001b[32m━━━━━━━━━━━━━━━━━━━━\u001b[0m\u001b[37m\u001b[0m \u001b[1m0s\u001b[0m 19ms/step - loss: 1.3585e-04 - val_loss: 1.6363e-04\n",
      "Epoch 31/100\n",
      "\u001b[1m9/9\u001b[0m \u001b[32m━━━━━━━━━━━━━━━━━━━━\u001b[0m\u001b[37m\u001b[0m \u001b[1m0s\u001b[0m 19ms/step - loss: 1.4118e-04 - val_loss: 1.6136e-04\n",
      "Epoch 32/100\n",
      "\u001b[1m9/9\u001b[0m \u001b[32m━━━━━━━━━━━━━━━━━━━━\u001b[0m\u001b[37m\u001b[0m \u001b[1m0s\u001b[0m 20ms/step - loss: 1.6604e-04 - val_loss: 1.1753e-04\n",
      "Epoch 33/100\n",
      "\u001b[1m9/9\u001b[0m \u001b[32m━━━━━━━━━━━━━━━━━━━━\u001b[0m\u001b[37m\u001b[0m \u001b[1m0s\u001b[0m 20ms/step - loss: 1.3119e-04 - val_loss: 1.0448e-04\n",
      "Epoch 34/100\n",
      "\u001b[1m9/9\u001b[0m \u001b[32m━━━━━━━━━━━━━━━━━━━━\u001b[0m\u001b[37m\u001b[0m \u001b[1m0s\u001b[0m 24ms/step - loss: 1.0188e-04 - val_loss: 9.8082e-05\n",
      "Epoch 35/100\n",
      "\u001b[1m9/9\u001b[0m \u001b[32m━━━━━━━━━━━━━━━━━━━━\u001b[0m\u001b[37m\u001b[0m \u001b[1m0s\u001b[0m 19ms/step - loss: 1.0605e-04 - val_loss: 8.9674e-05\n",
      "Epoch 36/100\n",
      "\u001b[1m9/9\u001b[0m \u001b[32m━━━━━━━━━━━━━━━━━━━━\u001b[0m\u001b[37m\u001b[0m \u001b[1m0s\u001b[0m 19ms/step - loss: 8.7881e-05 - val_loss: 8.4198e-05\n",
      "Epoch 37/100\n",
      "\u001b[1m9/9\u001b[0m \u001b[32m━━━━━━━━━━━━━━━━━━━━\u001b[0m\u001b[37m\u001b[0m \u001b[1m0s\u001b[0m 19ms/step - loss: 8.8989e-05 - val_loss: 7.7820e-05\n",
      "Epoch 38/100\n",
      "\u001b[1m9/9\u001b[0m \u001b[32m━━━━━━━━━━━━━━━━━━━━\u001b[0m\u001b[37m\u001b[0m \u001b[1m0s\u001b[0m 19ms/step - loss: 6.9403e-05 - val_loss: 7.5158e-05\n",
      "Epoch 39/100\n",
      "\u001b[1m9/9\u001b[0m \u001b[32m━━━━━━━━━━━━━━━━━━━━\u001b[0m\u001b[37m\u001b[0m \u001b[1m0s\u001b[0m 19ms/step - loss: 7.0506e-05 - val_loss: 6.4325e-05\n",
      "Epoch 40/100\n",
      "\u001b[1m9/9\u001b[0m \u001b[32m━━━━━━━━━━━━━━━━━━━━\u001b[0m\u001b[37m\u001b[0m \u001b[1m0s\u001b[0m 18ms/step - loss: 7.4236e-05 - val_loss: 7.2598e-05\n",
      "Epoch 41/100\n",
      "\u001b[1m9/9\u001b[0m \u001b[32m━━━━━━━━━━━━━━━━━━━━\u001b[0m\u001b[37m\u001b[0m \u001b[1m0s\u001b[0m 19ms/step - loss: 6.0883e-05 - val_loss: 4.8420e-05\n",
      "Epoch 42/100\n",
      "\u001b[1m9/9\u001b[0m \u001b[32m━━━━━━━━━━━━━━━━━━━━\u001b[0m\u001b[37m\u001b[0m \u001b[1m0s\u001b[0m 20ms/step - loss: 4.9712e-05 - val_loss: 4.5568e-05\n",
      "Epoch 43/100\n",
      "\u001b[1m9/9\u001b[0m \u001b[32m━━━━━━━━━━━━━━━━━━━━\u001b[0m\u001b[37m\u001b[0m \u001b[1m0s\u001b[0m 19ms/step - loss: 4.4477e-05 - val_loss: 3.8463e-05\n",
      "Epoch 44/100\n",
      "\u001b[1m9/9\u001b[0m \u001b[32m━━━━━━━━━━━━━━━━━━━━\u001b[0m\u001b[37m\u001b[0m \u001b[1m0s\u001b[0m 19ms/step - loss: 4.4009e-05 - val_loss: 9.5921e-05\n",
      "Epoch 45/100\n",
      "\u001b[1m9/9\u001b[0m \u001b[32m━━━━━━━━━━━━━━━━━━━━\u001b[0m\u001b[37m\u001b[0m \u001b[1m0s\u001b[0m 19ms/step - loss: 8.3280e-05 - val_loss: 4.4573e-05\n",
      "Epoch 46/100\n",
      "\u001b[1m9/9\u001b[0m \u001b[32m━━━━━━━━━━━━━━━━━━━━\u001b[0m\u001b[37m\u001b[0m \u001b[1m0s\u001b[0m 19ms/step - loss: 5.1478e-05 - val_loss: 3.8024e-05\n",
      "Epoch 47/100\n",
      "\u001b[1m9/9\u001b[0m \u001b[32m━━━━━━━━━━━━━━━━━━━━\u001b[0m\u001b[37m\u001b[0m \u001b[1m0s\u001b[0m 20ms/step - loss: 4.1811e-05 - val_loss: 3.4505e-05\n",
      "Epoch 48/100\n",
      "\u001b[1m9/9\u001b[0m \u001b[32m━━━━━━━━━━━━━━━━━━━━\u001b[0m\u001b[37m\u001b[0m \u001b[1m0s\u001b[0m 19ms/step - loss: 3.8320e-05 - val_loss: 3.1305e-05\n",
      "Epoch 49/100\n",
      "\u001b[1m9/9\u001b[0m \u001b[32m━━━━━━━━━━━━━━━━━━━━\u001b[0m\u001b[37m\u001b[0m \u001b[1m0s\u001b[0m 20ms/step - loss: 3.4308e-05 - val_loss: 3.5147e-05\n",
      "Epoch 50/100\n",
      "\u001b[1m9/9\u001b[0m \u001b[32m━━━━━━━━━━━━━━━━━━━━\u001b[0m\u001b[37m\u001b[0m \u001b[1m0s\u001b[0m 20ms/step - loss: 5.0269e-05 - val_loss: 4.0203e-05\n",
      "Epoch 51/100\n",
      "\u001b[1m9/9\u001b[0m \u001b[32m━━━━━━━━━━━━━━━━━━━━\u001b[0m\u001b[37m\u001b[0m \u001b[1m0s\u001b[0m 19ms/step - loss: 4.2974e-05 - val_loss: 2.7565e-05\n",
      "Epoch 52/100\n",
      "\u001b[1m9/9\u001b[0m \u001b[32m━━━━━━━━━━━━━━━━━━━━\u001b[0m\u001b[37m\u001b[0m \u001b[1m0s\u001b[0m 19ms/step - loss: 3.6204e-05 - val_loss: 4.3439e-05\n",
      "Epoch 53/100\n",
      "\u001b[1m9/9\u001b[0m \u001b[32m━━━━━━━━━━━━━━━━━━━━\u001b[0m\u001b[37m\u001b[0m \u001b[1m0s\u001b[0m 19ms/step - loss: 3.5644e-05 - val_loss: 2.6684e-05\n",
      "Epoch 54/100\n",
      "\u001b[1m9/9\u001b[0m \u001b[32m━━━━━━━━━━━━━━━━━━━━\u001b[0m\u001b[37m\u001b[0m \u001b[1m0s\u001b[0m 19ms/step - loss: 3.9666e-05 - val_loss: 2.7864e-05\n",
      "Epoch 55/100\n",
      "\u001b[1m9/9\u001b[0m \u001b[32m━━━━━━━━━━━━━━━━━━━━\u001b[0m\u001b[37m\u001b[0m \u001b[1m0s\u001b[0m 19ms/step - loss: 3.2912e-05 - val_loss: 3.2063e-05\n",
      "Epoch 56/100\n",
      "\u001b[1m9/9\u001b[0m \u001b[32m━━━━━━━━━━━━━━━━━━━━\u001b[0m\u001b[37m\u001b[0m \u001b[1m0s\u001b[0m 19ms/step - loss: 3.7204e-05 - val_loss: 2.4955e-05\n",
      "Epoch 57/100\n",
      "\u001b[1m9/9\u001b[0m \u001b[32m━━━━━━━━━━━━━━━━━━━━\u001b[0m\u001b[37m\u001b[0m \u001b[1m0s\u001b[0m 19ms/step - loss: 3.5160e-05 - val_loss: 2.5025e-05\n",
      "Epoch 58/100\n",
      "\u001b[1m9/9\u001b[0m \u001b[32m━━━━━━━━━━━━━━━━━━━━\u001b[0m\u001b[37m\u001b[0m \u001b[1m0s\u001b[0m 19ms/step - loss: 3.1373e-05 - val_loss: 2.4404e-05\n",
      "Epoch 59/100\n",
      "\u001b[1m9/9\u001b[0m \u001b[32m━━━━━━━━━━━━━━━━━━━━\u001b[0m\u001b[37m\u001b[0m \u001b[1m0s\u001b[0m 19ms/step - loss: 3.1881e-05 - val_loss: 2.1369e-05\n",
      "Epoch 60/100\n",
      "\u001b[1m9/9\u001b[0m \u001b[32m━━━━━━━━━━━━━━━━━━━━\u001b[0m\u001b[37m\u001b[0m \u001b[1m0s\u001b[0m 19ms/step - loss: 2.6883e-05 - val_loss: 2.1774e-05\n",
      "Epoch 61/100\n",
      "\u001b[1m9/9\u001b[0m \u001b[32m━━━━━━━━━━━━━━━━━━━━\u001b[0m\u001b[37m\u001b[0m \u001b[1m0s\u001b[0m 19ms/step - loss: 3.0289e-05 - val_loss: 2.4326e-05\n",
      "Epoch 62/100\n",
      "\u001b[1m9/9\u001b[0m \u001b[32m━━━━━━━━━━━━━━━━━━━━\u001b[0m\u001b[37m\u001b[0m \u001b[1m0s\u001b[0m 20ms/step - loss: 2.5667e-05 - val_loss: 4.6016e-05\n",
      "Epoch 63/100\n",
      "\u001b[1m9/9\u001b[0m \u001b[32m━━━━━━━━━━━━━━━━━━━━\u001b[0m\u001b[37m\u001b[0m \u001b[1m0s\u001b[0m 19ms/step - loss: 4.3588e-05 - val_loss: 2.3130e-05\n",
      "Epoch 64/100\n",
      "\u001b[1m9/9\u001b[0m \u001b[32m━━━━━━━━━━━━━━━━━━━━\u001b[0m\u001b[37m\u001b[0m \u001b[1m0s\u001b[0m 19ms/step - loss: 3.1328e-05 - val_loss: 2.2893e-05\n",
      "Epoch 65/100\n",
      "\u001b[1m9/9\u001b[0m \u001b[32m━━━━━━━━━━━━━━━━━━━━\u001b[0m\u001b[37m\u001b[0m \u001b[1m0s\u001b[0m 20ms/step - loss: 2.7629e-05 - val_loss: 2.0587e-05\n",
      "Epoch 66/100\n",
      "\u001b[1m9/9\u001b[0m \u001b[32m━━━━━━━━━━━━━━━━━━━━\u001b[0m\u001b[37m\u001b[0m \u001b[1m0s\u001b[0m 23ms/step - loss: 2.8533e-05 - val_loss: 2.0673e-05\n",
      "Epoch 67/100\n",
      "\u001b[1m9/9\u001b[0m \u001b[32m━━━━━━━━━━━━━━━━━━━━\u001b[0m\u001b[37m\u001b[0m \u001b[1m0s\u001b[0m 19ms/step - loss: 2.3899e-05 - val_loss: 2.0323e-05\n",
      "Epoch 68/100\n",
      "\u001b[1m9/9\u001b[0m \u001b[32m━━━━━━━━━━━━━━━━━━━━\u001b[0m\u001b[37m\u001b[0m \u001b[1m0s\u001b[0m 19ms/step - loss: 2.2859e-05 - val_loss: 2.4210e-05\n",
      "Epoch 69/100\n",
      "\u001b[1m9/9\u001b[0m \u001b[32m━━━━━━━━━━━━━━━━━━━━\u001b[0m\u001b[37m\u001b[0m \u001b[1m0s\u001b[0m 20ms/step - loss: 2.9202e-05 - val_loss: 5.0659e-05\n",
      "Epoch 70/100\n",
      "\u001b[1m9/9\u001b[0m \u001b[32m━━━━━━━━━━━━━━━━━━━━\u001b[0m\u001b[37m\u001b[0m \u001b[1m0s\u001b[0m 20ms/step - loss: 5.5351e-05 - val_loss: 2.2583e-05\n",
      "Epoch 71/100\n",
      "\u001b[1m9/9\u001b[0m \u001b[32m━━━━━━━━━━━━━━━━━━━━\u001b[0m\u001b[37m\u001b[0m \u001b[1m0s\u001b[0m 19ms/step - loss: 2.7628e-05 - val_loss: 2.1301e-05\n",
      "Epoch 72/100\n",
      "\u001b[1m9/9\u001b[0m \u001b[32m━━━━━━━━━━━━━━━━━━━━\u001b[0m\u001b[37m\u001b[0m \u001b[1m0s\u001b[0m 19ms/step - loss: 2.7413e-05 - val_loss: 2.6097e-05\n",
      "Epoch 73/100\n",
      "\u001b[1m9/9\u001b[0m \u001b[32m━━━━━━━━━━━━━━━━━━━━\u001b[0m\u001b[37m\u001b[0m \u001b[1m0s\u001b[0m 19ms/step - loss: 2.4691e-05 - val_loss: 2.2908e-05\n",
      "Epoch 74/100\n",
      "\u001b[1m9/9\u001b[0m \u001b[32m━━━━━━━━━━━━━━━━━━━━\u001b[0m\u001b[37m\u001b[0m \u001b[1m0s\u001b[0m 19ms/step - loss: 2.7209e-05 - val_loss: 2.4976e-05\n",
      "Epoch 75/100\n",
      "\u001b[1m9/9\u001b[0m \u001b[32m━━━━━━━━━━━━━━━━━━━━\u001b[0m\u001b[37m\u001b[0m \u001b[1m0s\u001b[0m 19ms/step - loss: 2.3140e-05 - val_loss: 2.8746e-05\n",
      "Epoch 76/100\n",
      "\u001b[1m9/9\u001b[0m \u001b[32m━━━━━━━━━━━━━━━━━━━━\u001b[0m\u001b[37m\u001b[0m \u001b[1m0s\u001b[0m 19ms/step - loss: 3.0747e-05 - val_loss: 1.8567e-05\n",
      "Epoch 77/100\n",
      "\u001b[1m9/9\u001b[0m \u001b[32m━━━━━━━━━━━━━━━━━━━━\u001b[0m\u001b[37m\u001b[0m \u001b[1m0s\u001b[0m 19ms/step - loss: 2.1418e-05 - val_loss: 1.7471e-05\n",
      "Epoch 78/100\n",
      "\u001b[1m9/9\u001b[0m \u001b[32m━━━━━━━━━━━━━━━━━━━━\u001b[0m\u001b[37m\u001b[0m \u001b[1m0s\u001b[0m 19ms/step - loss: 1.7965e-05 - val_loss: 1.4744e-05\n",
      "Epoch 79/100\n",
      "\u001b[1m9/9\u001b[0m \u001b[32m━━━━━━━━━━━━━━━━━━━━\u001b[0m\u001b[37m\u001b[0m \u001b[1m0s\u001b[0m 20ms/step - loss: 1.4782e-05 - val_loss: 2.3767e-05\n",
      "Epoch 80/100\n",
      "\u001b[1m9/9\u001b[0m \u001b[32m━━━━━━━━━━━━━━━━━━━━\u001b[0m\u001b[37m\u001b[0m \u001b[1m0s\u001b[0m 20ms/step - loss: 2.7417e-05 - val_loss: 2.7144e-05\n",
      "Epoch 81/100\n",
      "\u001b[1m9/9\u001b[0m \u001b[32m━━━━━━━━━━━━━━━━━━━━\u001b[0m\u001b[37m\u001b[0m \u001b[1m0s\u001b[0m 19ms/step - loss: 3.0846e-05 - val_loss: 2.5534e-05\n",
      "Epoch 82/100\n",
      "\u001b[1m9/9\u001b[0m \u001b[32m━━━━━━━━━━━━━━━━━━━━\u001b[0m\u001b[37m\u001b[0m \u001b[1m0s\u001b[0m 19ms/step - loss: 6.2103e-05 - val_loss: 7.1443e-05\n",
      "Epoch 83/100\n",
      "\u001b[1m9/9\u001b[0m \u001b[32m━━━━━━━━━━━━━━━━━━━━\u001b[0m\u001b[37m\u001b[0m \u001b[1m0s\u001b[0m 19ms/step - loss: 7.2481e-05 - val_loss: 3.8928e-05\n",
      "Epoch 84/100\n",
      "\u001b[1m9/9\u001b[0m \u001b[32m━━━━━━━━━━━━━━━━━━━━\u001b[0m\u001b[37m\u001b[0m \u001b[1m0s\u001b[0m 19ms/step - loss: 3.7453e-05 - val_loss: 3.3822e-05\n",
      "Epoch 85/100\n",
      "\u001b[1m9/9\u001b[0m \u001b[32m━━━━━━━━━━━━━━━━━━━━\u001b[0m\u001b[37m\u001b[0m \u001b[1m0s\u001b[0m 20ms/step - loss: 2.4650e-05 - val_loss: 1.2475e-05\n",
      "Epoch 86/100\n",
      "\u001b[1m9/9\u001b[0m \u001b[32m━━━━━━━━━━━━━━━━━━━━\u001b[0m\u001b[37m\u001b[0m \u001b[1m0s\u001b[0m 22ms/step - loss: 1.3101e-05 - val_loss: 9.0899e-06\n",
      "Epoch 87/100\n",
      "\u001b[1m9/9\u001b[0m \u001b[32m━━━━━━━━━━━━━━━━━━━━\u001b[0m\u001b[37m\u001b[0m \u001b[1m0s\u001b[0m 19ms/step - loss: 1.0087e-05 - val_loss: 6.8687e-06\n",
      "Epoch 88/100\n",
      "\u001b[1m9/9\u001b[0m \u001b[32m━━━━━━━━━━━━━━━━━━━━\u001b[0m\u001b[37m\u001b[0m \u001b[1m0s\u001b[0m 18ms/step - loss: 6.3594e-06 - val_loss: 6.0211e-06\n",
      "Epoch 89/100\n",
      "\u001b[1m9/9\u001b[0m \u001b[32m━━━━━━━━━━━━━━━━━━━━\u001b[0m\u001b[37m\u001b[0m \u001b[1m0s\u001b[0m 19ms/step - loss: 5.6815e-06 - val_loss: 7.7644e-06\n",
      "Epoch 90/100\n",
      "\u001b[1m9/9\u001b[0m \u001b[32m━━━━━━━━━━━━━━━━━━━━\u001b[0m\u001b[37m\u001b[0m \u001b[1m0s\u001b[0m 19ms/step - loss: 5.8308e-06 - val_loss: 5.3100e-06\n",
      "Epoch 91/100\n",
      "\u001b[1m9/9\u001b[0m \u001b[32m━━━━━━━━━━━━━━━━━━━━\u001b[0m\u001b[37m\u001b[0m \u001b[1m0s\u001b[0m 20ms/step - loss: 5.0332e-06 - val_loss: 3.9453e-06\n",
      "Epoch 92/100\n",
      "\u001b[1m9/9\u001b[0m \u001b[32m━━━━━━━━━━━━━━━━━━━━\u001b[0m\u001b[37m\u001b[0m \u001b[1m0s\u001b[0m 19ms/step - loss: 4.0134e-06 - val_loss: 4.7421e-06\n",
      "Epoch 93/100\n",
      "\u001b[1m9/9\u001b[0m \u001b[32m━━━━━━━━━━━━━━━━━━━━\u001b[0m\u001b[37m\u001b[0m \u001b[1m0s\u001b[0m 19ms/step - loss: 3.7732e-06 - val_loss: 5.0685e-06\n",
      "Epoch 94/100\n",
      "\u001b[1m9/9\u001b[0m \u001b[32m━━━━━━━━━━━━━━━━━━━━\u001b[0m\u001b[37m\u001b[0m \u001b[1m0s\u001b[0m 20ms/step - loss: 4.1978e-06 - val_loss: 6.0702e-06\n",
      "Epoch 95/100\n",
      "\u001b[1m9/9\u001b[0m \u001b[32m━━━━━━━━━━━━━━━━━━━━\u001b[0m\u001b[37m\u001b[0m \u001b[1m0s\u001b[0m 19ms/step - loss: 5.0186e-06 - val_loss: 6.6101e-06\n",
      "Epoch 96/100\n",
      "\u001b[1m9/9\u001b[0m \u001b[32m━━━━━━━━━━━━━━━━━━━━\u001b[0m\u001b[37m\u001b[0m \u001b[1m0s\u001b[0m 19ms/step - loss: 5.1197e-06 - val_loss: 3.6481e-06\n",
      "Epoch 97/100\n",
      "\u001b[1m9/9\u001b[0m \u001b[32m━━━━━━━━━━━━━━━━━━━━\u001b[0m\u001b[37m\u001b[0m \u001b[1m0s\u001b[0m 19ms/step - loss: 3.9030e-06 - val_loss: 4.6735e-06\n",
      "Epoch 98/100\n",
      "\u001b[1m9/9\u001b[0m \u001b[32m━━━━━━━━━━━━━━━━━━━━\u001b[0m\u001b[37m\u001b[0m \u001b[1m0s\u001b[0m 19ms/step - loss: 3.8622e-06 - val_loss: 7.6146e-06\n",
      "Epoch 99/100\n",
      "\u001b[1m9/9\u001b[0m \u001b[32m━━━━━━━━━━━━━━━━━━━━\u001b[0m\u001b[37m\u001b[0m \u001b[1m0s\u001b[0m 19ms/step - loss: 6.6466e-06 - val_loss: 3.8422e-06\n",
      "Epoch 100/100\n",
      "\u001b[1m9/9\u001b[0m \u001b[32m━━━━━━━━━━━━━━━━━━━━\u001b[0m\u001b[37m\u001b[0m \u001b[1m0s\u001b[0m 18ms/step - loss: 4.6590e-06 - val_loss: 8.4251e-06\n",
      "Training completed!\n"
     ]
    }
   ],
   "source": [
    "X_train_normal = X_train[y_train_binary == 1]\n",
    "X_val_normal = X_val[y_val_binary == 1]\n",
    "\n",
    "print(\"Training samples:\")\n",
    "print(\"Normal samples for training:\", X_train_normal.shape[0])\n",
    "print(\"Normal samples for validation:\", X_val_normal.shape[0])\n",
    "\n",
    "history = autoencoder.fit(\n",
    "    X_train_normal, X_train_normal,  \n",
    "    epochs=100,\n",
    "    batch_size=32,\n",
    "    validation_data=(X_val_normal, X_val_normal),\n",
    "    verbose=1\n",
    ")\n",
    "\n",
    "print(\"Training completed!\")"
   ]
  },
  {
   "cell_type": "code",
   "execution_count": 30,
   "id": "bc62ef6d",
   "metadata": {
    "execution": {
     "iopub.execute_input": "2025-09-03T21:08:27.246979Z",
     "iopub.status.busy": "2025-09-03T21:08:27.246613Z",
     "iopub.status.idle": "2025-09-03T21:08:27.313081Z",
     "shell.execute_reply": "2025-09-03T21:08:27.311669Z"
    },
    "papermill": {
     "duration": 0.118938,
     "end_time": "2025-09-03T21:08:27.314578",
     "exception": false,
     "start_time": "2025-09-03T21:08:27.195640",
     "status": "completed"
    },
    "tags": []
   },
   "outputs": [
    {
     "name": "stdout",
     "output_type": "stream",
     "text": [
      "Anomaly threshold: 0.0000\n",
      "Prediction distribution:\n",
      "Predicted normal: 78\n",
      "Predicted anomaly: 114\n",
      "True normal: 72\n",
      "True anomaly: 120\n"
     ]
    }
   ],
   "source": [
    "train_reconstructions = autoencoder(X_train_normal)\n",
    "train_mse = tf.keras.losses.mse(X_train_normal, train_reconstructions)\n",
    "\n",
    "# Set threshold as 95th percentile of training errors\n",
    "threshold = np.percentile(train_mse, 95)\n",
    "print(f\"Anomaly threshold: {threshold:.4f}\")\n",
    "\n",
    "test_reconstructions = autoencoder(X_test)\n",
    "test_mse = tf.keras.losses.mse(X_test, test_reconstructions)\n",
    "\n",
    "y_pred_anomaly = (test_mse > threshold).numpy().astype(int)\n",
    "\n",
    "y_true_anomaly = 1 - y_test_binary  # flip: 0=normal, 1=anomaly\n",
    "\n",
    "print(\"Prediction distribution:\")\n",
    "print(\"Predicted normal:\", np.sum(y_pred_anomaly == 0))\n",
    "print(\"Predicted anomaly:\", np.sum(y_pred_anomaly == 1))\n",
    "print(\"True normal:\", np.sum(y_true_anomaly == 0)) \n",
    "print(\"True anomaly:\", np.sum(y_true_anomaly == 1))"
   ]
  },
  {
   "cell_type": "code",
   "execution_count": 31,
   "id": "44115682",
   "metadata": {
    "execution": {
     "iopub.execute_input": "2025-09-03T21:08:27.416846Z",
     "iopub.status.busy": "2025-09-03T21:08:27.416515Z",
     "iopub.status.idle": "2025-09-03T21:08:27.432768Z",
     "shell.execute_reply": "2025-09-03T21:08:27.431289Z"
    },
    "papermill": {
     "duration": 0.069452,
     "end_time": "2025-09-03T21:08:27.434545",
     "exception": false,
     "start_time": "2025-09-03T21:08:27.365093",
     "status": "completed"
    },
    "tags": []
   },
   "outputs": [
    {
     "name": "stdout",
     "output_type": "stream",
     "text": [
      "=== ANOMALY DETECTION RESULTS ===\n",
      "Accuracy: 0.9375\n",
      "Precision: 0.9737\n",
      "Recall: 0.9250\n",
      "F1-score: 0.9487\n",
      "\n",
      "Confusion Matrix:\n",
      "Predicted:  Normal  Anomaly\n",
      "True Normal:   69      3\n",
      "True Anomaly:   9     111\n"
     ]
    }
   ],
   "source": [
    "accuracy = accuracy_score(y_true_anomaly, y_pred_anomaly)\n",
    "precision = precision_score(y_true_anomaly, y_pred_anomaly)\n",
    "recall = recall_score(y_true_anomaly, y_pred_anomaly)\n",
    "f1 = f1_score(y_true_anomaly, y_pred_anomaly)\n",
    "\n",
    "print(\"=== ANOMALY DETECTION RESULTS ===\")\n",
    "print(f\"Accuracy: {accuracy:.4f}\")\n",
    "print(f\"Precision: {precision:.4f}\")\n",
    "print(f\"Recall: {recall:.4f}\")\n",
    "print(f\"F1-score: {f1:.4f}\")\n",
    "\n",
    "# confusion matrix\n",
    "cm = confusion_matrix(y_true_anomaly, y_pred_anomaly)\n",
    "print(\"\\nConfusion Matrix:\")\n",
    "print(\"Predicted:  Normal  Anomaly\")\n",
    "print(f\"True Normal:   {cm[0,0]:2d}     {cm[0,1]:2d}\")\n",
    "print(f\"True Anomaly:  {cm[1,0]:2d}     {cm[1,1]:2d}\")\n",
    "\n"
   ]
  },
  {
   "cell_type": "code",
   "execution_count": 32,
   "id": "3a911265",
   "metadata": {
    "execution": {
     "iopub.execute_input": "2025-09-03T21:08:27.539688Z",
     "iopub.status.busy": "2025-09-03T21:08:27.539062Z",
     "iopub.status.idle": "2025-09-03T21:08:27.582145Z",
     "shell.execute_reply": "2025-09-03T21:08:27.581099Z"
    },
    "papermill": {
     "duration": 0.097036,
     "end_time": "2025-09-03T21:08:27.583933",
     "exception": false,
     "start_time": "2025-09-03T21:08:27.486897",
     "status": "completed"
    },
    "tags": []
   },
   "outputs": [
    {
     "name": "stdout",
     "output_type": "stream",
     "text": [
      "Threshold optimization:\n",
      "Percentile | Threshold | Accuracy | Precision | Recall | F1-score\n",
      "-----------------------------------------------------------------\n",
      "      90 |  0.00001 |   0.9375 |    0.9576 | 0.9417 |   0.9496\n",
      "      92 |  0.00001 |   0.9427 |    0.9658 | 0.9417 |   0.9536\n",
      "      94 |  0.00001 |   0.9375 |    0.9737 | 0.9250 |   0.9487\n",
      "      95 |  0.00001 |   0.9375 |    0.9737 | 0.9250 |   0.9487\n",
      "      96 |  0.00001 |   0.9271 |    0.9732 | 0.9083 |   0.9397\n",
      "      97 |  0.00001 |   0.9323 |    0.9820 | 0.9083 |   0.9437\n",
      "      98 |  0.00001 |   0.9271 |    0.9818 | 0.9000 |   0.9391\n",
      "\n",
      "Best threshold: 0.00001 (at 92th percentile)\n",
      "Best F1-score: 0.9536\n"
     ]
    }
   ],
   "source": [
    "thresholds_to_try = [90, 92, 94, 95, 96, 97, 98]\n",
    "best_f1 = 0\n",
    "best_threshold = threshold\n",
    "\n",
    "print(\"Threshold optimization:\")\n",
    "print(\"Percentile | Threshold | Accuracy | Precision | Recall | F1-score\")\n",
    "print(\"-\" * 65)\n",
    "\n",
    "for percentile in thresholds_to_try:\n",
    "    thresh = np.percentile(train_mse, percentile)\n",
    "    pred_anomaly = (test_mse > thresh).numpy().astype(int)\n",
    "    \n",
    "    acc = accuracy_score(y_true_anomaly, pred_anomaly)\n",
    "    prec = precision_score(y_true_anomaly, pred_anomaly)\n",
    "    rec = recall_score(y_true_anomaly, pred_anomaly)\n",
    "    f1_temp = f1_score(y_true_anomaly, pred_anomaly)\n",
    "    \n",
    "    print(f\"{percentile:8d} | {thresh:8.5f} | {acc:8.4f} | {prec:9.4f} | {rec:6.4f} | {f1_temp:8.4f}\")\n",
    "    \n",
    "    if f1_temp > best_f1:\n",
    "        best_f1 = f1_temp\n",
    "        best_threshold = thresh\n",
    "        best_percentile = percentile\n",
    "\n",
    "print(f\"\\nBest threshold: {best_threshold:.5f} (at {best_percentile}th percentile)\")\n",
    "print(f\"Best F1-score: {best_f1:.4f}\")"
   ]
  },
  {
   "cell_type": "code",
   "execution_count": 33,
   "id": "e0ae3f66",
   "metadata": {
    "execution": {
     "iopub.execute_input": "2025-09-03T21:08:27.682066Z",
     "iopub.status.busy": "2025-09-03T21:08:27.681745Z",
     "iopub.status.idle": "2025-09-03T21:08:27.697040Z",
     "shell.execute_reply": "2025-09-03T21:08:27.695827Z"
    },
    "papermill": {
     "duration": 0.066561,
     "end_time": "2025-09-03T21:08:27.698844",
     "exception": false,
     "start_time": "2025-09-03T21:08:27.632283",
     "status": "completed"
    },
    "tags": []
   },
   "outputs": [
    {
     "name": "stdout",
     "output_type": "stream",
     "text": [
      "=== FINAL OPTIMIZED RESULTS ===\n",
      "Accuracy: 0.9375\n",
      "Precision: 0.9576\n",
      "Recall: 0.9417\n",
      "F1-score: 0.9496\n",
      "\n",
      "Final Confusion Matrix:\n",
      "Predicted:    Normal  Anomaly\n",
      "True Normal:     67      5\n",
      "True Anomaly:     7     113\n",
      " autoencoder results:\n",
      "Accuracy: 0.9375, Precision: 0.9576, Recall: 0.9417, F1: 0.9496\n"
     ]
    }
   ],
   "source": [
    "optimal_threshold = np.percentile(train_mse, 90)\n",
    "y_pred_final = (test_mse > optimal_threshold).numpy().astype(int)\n",
    "\n",
    "final_accuracy = accuracy_score(y_true_anomaly, y_pred_final)\n",
    "final_precision = precision_score(y_true_anomaly, y_pred_final)\n",
    "final_recall = recall_score(y_true_anomaly, y_pred_final)\n",
    "final_f1 = f1_score(y_true_anomaly, y_pred_final)\n",
    "\n",
    "print(\"=== FINAL OPTIMIZED RESULTS ===\")\n",
    "print(f\"Accuracy: {final_accuracy:.4f}\")\n",
    "print(f\"Precision: {final_precision:.4f}\")\n",
    "print(f\"Recall: {final_recall:.4f}\")\n",
    "print(f\"F1-score: {final_f1:.4f}\")\n",
    "\n",
    "cm_final = confusion_matrix(y_true_anomaly, y_pred_final)\n",
    "print(\"\\nFinal Confusion Matrix:\")\n",
    "print(\"Predicted:    Normal  Anomaly\")\n",
    "print(f\"True Normal:     {cm_final[0,0]:2d}     {cm_final[0,1]:2d}\")\n",
    "print(f\"True Anomaly:    {cm_final[1,0]:2d}     {cm_final[1,1]:2d}\")\n",
    "\n",
    "print(f\" autoencoder results:\")\n",
    "print(f\"Accuracy: {final_accuracy:.4f}, Precision: {final_precision:.4f}, Recall: {final_recall:.4f}, F1: {final_f1:.4f}\")"
   ]
  }
 ],
 "metadata": {
  "kaggle": {
   "accelerator": "none",
   "dataSources": [
    {
     "datasetId": 7183841,
     "sourceId": 11464109,
     "sourceType": "datasetVersion"
    }
   ],
   "dockerImageVersionId": 31089,
   "isGpuEnabled": false,
   "isInternetEnabled": false,
   "language": "python",
   "sourceType": "notebook"
  },
  "kernelspec": {
   "display_name": "Python 3",
   "language": "python",
   "name": "python3"
  },
  "language_info": {
   "codemirror_mode": {
    "name": "ipython",
    "version": 3
   },
   "file_extension": ".py",
   "mimetype": "text/x-python",
   "name": "python",
   "nbconvert_exporter": "python",
   "pygments_lexer": "ipython3",
   "version": "3.11.13"
  },
  "papermill": {
   "default_parameters": {},
   "duration": 80.729225,
   "end_time": "2025-09-03T21:08:31.307891",
   "environment_variables": {},
   "exception": null,
   "input_path": "__notebook__.ipynb",
   "output_path": "__notebook__.ipynb",
   "parameters": {},
   "start_time": "2025-09-03T21:07:10.578666",
   "version": "2.6.0"
  }
 },
 "nbformat": 4,
 "nbformat_minor": 5
}
