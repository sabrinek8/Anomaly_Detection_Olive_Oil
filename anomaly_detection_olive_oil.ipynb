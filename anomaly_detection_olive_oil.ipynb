{
 "cells": [
  {
   "cell_type": "markdown",
   "id": "843ef925",
   "metadata": {
    "papermill": {
     "duration": 0.010372,
     "end_time": "2025-09-03T21:28:23.175204",
     "exception": false,
     "start_time": "2025-09-03T21:28:23.164832",
     "status": "completed"
    },
    "tags": []
   },
   "source": [
    "# 📌 Détection d'Anomalies dans la Qualité de l'Huile d'Olive avec Autoencodeur\n"
   ]
  },
  {
   "cell_type": "code",
   "execution_count": 1,
   "id": "e009920b",
   "metadata": {
    "_cell_guid": "b1076dfc-b9ad-4769-8c92-a6c4dae69d19",
    "_uuid": "8f2839f25d086af736a60e9eeb907d3b93b6e0e5",
    "execution": {
     "iopub.execute_input": "2025-09-03T21:28:23.195099Z",
     "iopub.status.busy": "2025-09-03T21:28:23.194658Z",
     "iopub.status.idle": "2025-09-03T21:28:46.186433Z",
     "shell.execute_reply": "2025-09-03T21:28:46.185199Z"
    },
    "papermill": {
     "duration": 23.006012,
     "end_time": "2025-09-03T21:28:46.190294",
     "exception": false,
     "start_time": "2025-09-03T21:28:23.184282",
     "status": "completed"
    },
    "tags": []
   },
   "outputs": [
    {
     "name": "stderr",
     "output_type": "stream",
     "text": [
      "2025-09-03 21:28:27.594136: E external/local_xla/xla/stream_executor/cuda/cuda_fft.cc:477] Unable to register cuFFT factory: Attempting to register factory for plugin cuFFT when one has already been registered\n",
      "WARNING: All log messages before absl::InitializeLog() is called are written to STDERR\n",
      "E0000 00:00:1756934907.900149      13 cuda_dnn.cc:8310] Unable to register cuDNN factory: Attempting to register factory for plugin cuDNN when one has already been registered\n",
      "E0000 00:00:1756934907.976465      13 cuda_blas.cc:1418] Unable to register cuBLAS factory: Attempting to register factory for plugin cuBLAS when one has already been registered\n"
     ]
    }
   ],
   "source": [
    "import pandas as pd\n",
    "import matplotlib.pyplot as plt\n",
    "import tensorflow as tf\n",
    "from sklearn.model_selection import train_test_split\n",
    "from sklearn.metrics import accuracy_score, precision_score, recall_score, f1_score, fbeta_score\n",
    "from tensorflow.keras.utils import to_categorical\n",
    "from sklearn.metrics import precision_recall_fscore_support\n",
    "from sklearn.metrics import confusion_matrix\n",
    "from tensorflow.keras.models import load_model\n",
    "from tensorflow.keras import layers, models\n",
    "from tensorflow.keras.layers import LeakyReLU\n",
    "from tensorflow.keras import regularizers\n",
    "from sklearn.preprocessing import OneHotEncoder\n",
    "from tensorflow import keras\n",
    "from tensorflow.keras.utils import to_categorical\n",
    "from sklearn.metrics import precision_recall_fscore_support\n",
    "from tensorflow.keras.models import load_model\n",
    "import numpy as np\n",
    "import ast\n",
    "from tensorflow.keras import layers, Model\n",
    "from sklearn.preprocessing import StandardScaler\n",
    "import warnings\n",
    "warnings.filterwarnings(\"ignore\")\n"
   ]
  },
  {
   "cell_type": "markdown",
   "id": "235c9997",
   "metadata": {
    "papermill": {
     "duration": 0.009356,
     "end_time": "2025-09-03T21:28:46.209010",
     "exception": false,
     "start_time": "2025-09-03T21:28:46.199654",
     "status": "completed"
    },
    "tags": []
   },
   "source": [
    "## EDA"
   ]
  },
  {
   "cell_type": "markdown",
   "id": "6c26c971",
   "metadata": {
    "papermill": {
     "duration": 0.008197,
     "end_time": "2025-09-03T21:28:46.225959",
     "exception": false,
     "start_time": "2025-09-03T21:28:46.217762",
     "status": "completed"
    },
    "tags": []
   },
   "source": [
    "### Chargement du Jeu de Données"
   ]
  },
  {
   "cell_type": "code",
   "execution_count": 2,
   "id": "9168d045",
   "metadata": {
    "execution": {
     "iopub.execute_input": "2025-09-03T21:28:46.243025Z",
     "iopub.status.busy": "2025-09-03T21:28:46.242409Z",
     "iopub.status.idle": "2025-09-03T21:28:46.408268Z",
     "shell.execute_reply": "2025-09-03T21:28:46.407166Z"
    },
    "papermill": {
     "duration": 0.177354,
     "end_time": "2025-09-03T21:28:46.410971",
     "exception": false,
     "start_time": "2025-09-03T21:28:46.233617",
     "status": "completed"
    },
    "tags": []
   },
   "outputs": [],
   "source": [
    "df = pd.read_csv('/kaggle/input/olive-oil/Fluorescence_olive_oil_dataset.csv')\n"
   ]
  },
  {
   "cell_type": "code",
   "execution_count": 3,
   "id": "4939701e",
   "metadata": {
    "execution": {
     "iopub.execute_input": "2025-09-03T21:28:46.431999Z",
     "iopub.status.busy": "2025-09-03T21:28:46.431639Z",
     "iopub.status.idle": "2025-09-03T21:28:46.466436Z",
     "shell.execute_reply": "2025-09-03T21:28:46.465314Z"
    },
    "papermill": {
     "duration": 0.046288,
     "end_time": "2025-09-03T21:28:46.468582",
     "exception": false,
     "start_time": "2025-09-03T21:28:46.422294",
     "status": "completed"
    },
    "tags": []
   },
   "outputs": [
    {
     "data": {
      "text/html": [
       "<div>\n",
       "<style scoped>\n",
       "    .dataframe tbody tr th:only-of-type {\n",
       "        vertical-align: middle;\n",
       "    }\n",
       "\n",
       "    .dataframe tbody tr th {\n",
       "        vertical-align: top;\n",
       "    }\n",
       "\n",
       "    .dataframe thead th {\n",
       "        text-align: right;\n",
       "    }\n",
       "</style>\n",
       "<table border=\"1\" class=\"dataframe\">\n",
       "  <thead>\n",
       "    <tr style=\"text-align: right;\">\n",
       "      <th></th>\n",
       "      <th>Unnamed: 0</th>\n",
       "      <th>Sample</th>\n",
       "      <th>Repetition</th>\n",
       "      <th>Led</th>\n",
       "      <th>Data</th>\n",
       "      <th>Quality</th>\n",
       "      <th>FAEES</th>\n",
       "      <th>K232</th>\n",
       "      <th>K270</th>\n",
       "      <th>Acidity</th>\n",
       "      <th>Peroxide Index</th>\n",
       "    </tr>\n",
       "  </thead>\n",
       "  <tbody>\n",
       "    <tr>\n",
       "      <th>0</th>\n",
       "      <td>0</td>\n",
       "      <td>D73</td>\n",
       "      <td>19</td>\n",
       "      <td>2</td>\n",
       "      <td>[1490.0,1521.0,1544.0,1509.0,1491.0,1574.0,157...</td>\n",
       "      <td>EXTRA</td>\n",
       "      <td>15.0</td>\n",
       "      <td>1.66</td>\n",
       "      <td>0.14</td>\n",
       "      <td>0.20</td>\n",
       "      <td>8.9</td>\n",
       "    </tr>\n",
       "    <tr>\n",
       "      <th>1</th>\n",
       "      <td>1</td>\n",
       "      <td>D35</td>\n",
       "      <td>19</td>\n",
       "      <td>2</td>\n",
       "      <td>[1487.0,1518.0,1537.0,1506.0,1485.0,1562.0,156...</td>\n",
       "      <td>EXTRA</td>\n",
       "      <td>8.0</td>\n",
       "      <td>1.63</td>\n",
       "      <td>0.12</td>\n",
       "      <td>0.17</td>\n",
       "      <td>6.4</td>\n",
       "    </tr>\n",
       "    <tr>\n",
       "      <th>2</th>\n",
       "      <td>2</td>\n",
       "      <td>D77</td>\n",
       "      <td>3</td>\n",
       "      <td>1</td>\n",
       "      <td>[1490.0,1528.0,1541.0,1509.0,1486.0,1577.0,157...</td>\n",
       "      <td>VIRGEN</td>\n",
       "      <td>26.0</td>\n",
       "      <td>1.74</td>\n",
       "      <td>0.13</td>\n",
       "      <td>0.24</td>\n",
       "      <td>10.4</td>\n",
       "    </tr>\n",
       "    <tr>\n",
       "      <th>3</th>\n",
       "      <td>3</td>\n",
       "      <td>D09</td>\n",
       "      <td>8</td>\n",
       "      <td>2</td>\n",
       "      <td>[1486.0,1517.0,1531.0,1501.0,1483.0,1558.0,155...</td>\n",
       "      <td>LAMPANTE</td>\n",
       "      <td>NaN</td>\n",
       "      <td>NaN</td>\n",
       "      <td>NaN</td>\n",
       "      <td>NaN</td>\n",
       "      <td>NaN</td>\n",
       "    </tr>\n",
       "    <tr>\n",
       "      <th>4</th>\n",
       "      <td>4</td>\n",
       "      <td>D35</td>\n",
       "      <td>14</td>\n",
       "      <td>1</td>\n",
       "      <td>[1492.0,1515.0,1534.0,1505.0,1487.0,1568.0,156...</td>\n",
       "      <td>EXTRA</td>\n",
       "      <td>8.0</td>\n",
       "      <td>1.63</td>\n",
       "      <td>0.12</td>\n",
       "      <td>0.17</td>\n",
       "      <td>6.4</td>\n",
       "    </tr>\n",
       "  </tbody>\n",
       "</table>\n",
       "</div>"
      ],
      "text/plain": [
       "   Unnamed: 0 Sample  Repetition  Led  \\\n",
       "0           0    D73          19    2   \n",
       "1           1    D35          19    2   \n",
       "2           2    D77           3    1   \n",
       "3           3    D09           8    2   \n",
       "4           4    D35          14    1   \n",
       "\n",
       "                                                Data   Quality  FAEES  K232  \\\n",
       "0  [1490.0,1521.0,1544.0,1509.0,1491.0,1574.0,157...     EXTRA   15.0  1.66   \n",
       "1  [1487.0,1518.0,1537.0,1506.0,1485.0,1562.0,156...     EXTRA    8.0  1.63   \n",
       "2  [1490.0,1528.0,1541.0,1509.0,1486.0,1577.0,157...    VIRGEN   26.0  1.74   \n",
       "3  [1486.0,1517.0,1531.0,1501.0,1483.0,1558.0,155...  LAMPANTE    NaN   NaN   \n",
       "4  [1492.0,1515.0,1534.0,1505.0,1487.0,1568.0,156...     EXTRA    8.0  1.63   \n",
       "\n",
       "   K270  Acidity  Peroxide Index  \n",
       "0  0.14     0.20             8.9  \n",
       "1  0.12     0.17             6.4  \n",
       "2  0.13     0.24            10.4  \n",
       "3   NaN      NaN             NaN  \n",
       "4  0.12     0.17             6.4  "
      ]
     },
     "execution_count": 3,
     "metadata": {},
     "output_type": "execute_result"
    }
   ],
   "source": [
    "df.head()"
   ]
  },
  {
   "cell_type": "markdown",
   "id": "e1c811c0",
   "metadata": {
    "papermill": {
     "duration": 0.00759,
     "end_time": "2025-09-03T21:28:46.484678",
     "exception": false,
     "start_time": "2025-09-03T21:28:46.477088",
     "status": "completed"
    },
    "tags": []
   },
   "source": [
    "### Aperçu statistique"
   ]
  },
  {
   "cell_type": "code",
   "execution_count": 4,
   "id": "990372fc",
   "metadata": {
    "execution": {
     "iopub.execute_input": "2025-09-03T21:28:46.503463Z",
     "iopub.status.busy": "2025-09-03T21:28:46.503069Z",
     "iopub.status.idle": "2025-09-03T21:28:46.566997Z",
     "shell.execute_reply": "2025-09-03T21:28:46.565300Z"
    },
    "papermill": {
     "duration": 0.07528,
     "end_time": "2025-09-03T21:28:46.569177",
     "exception": false,
     "start_time": "2025-09-03T21:28:46.493897",
     "status": "completed"
    },
    "tags": []
   },
   "outputs": [
    {
     "data": {
      "text/html": [
       "<div>\n",
       "<style scoped>\n",
       "    .dataframe tbody tr th:only-of-type {\n",
       "        vertical-align: middle;\n",
       "    }\n",
       "\n",
       "    .dataframe tbody tr th {\n",
       "        vertical-align: top;\n",
       "    }\n",
       "\n",
       "    .dataframe thead th {\n",
       "        text-align: right;\n",
       "    }\n",
       "</style>\n",
       "<table border=\"1\" class=\"dataframe\">\n",
       "  <thead>\n",
       "    <tr style=\"text-align: right;\">\n",
       "      <th></th>\n",
       "      <th>Unnamed: 0</th>\n",
       "      <th>Repetition</th>\n",
       "      <th>Led</th>\n",
       "      <th>FAEES</th>\n",
       "      <th>K232</th>\n",
       "      <th>K270</th>\n",
       "      <th>Acidity</th>\n",
       "      <th>Peroxide Index</th>\n",
       "    </tr>\n",
       "  </thead>\n",
       "  <tbody>\n",
       "    <tr>\n",
       "      <th>count</th>\n",
       "      <td>960.000000</td>\n",
       "      <td>960.000000</td>\n",
       "      <td>960.000000</td>\n",
       "      <td>720.000000</td>\n",
       "      <td>720.000000</td>\n",
       "      <td>720.000000</td>\n",
       "      <td>880.000000</td>\n",
       "      <td>840.000000</td>\n",
       "    </tr>\n",
       "    <tr>\n",
       "      <th>mean</th>\n",
       "      <td>541.183333</td>\n",
       "      <td>9.500000</td>\n",
       "      <td>1.500000</td>\n",
       "      <td>18.666667</td>\n",
       "      <td>1.591944</td>\n",
       "      <td>0.132333</td>\n",
       "      <td>0.461364</td>\n",
       "      <td>8.009524</td>\n",
       "    </tr>\n",
       "    <tr>\n",
       "      <th>std</th>\n",
       "      <td>312.607160</td>\n",
       "      <td>5.769287</td>\n",
       "      <td>0.500261</td>\n",
       "      <td>11.183139</td>\n",
       "      <td>0.116583</td>\n",
       "      <td>0.015969</td>\n",
       "      <td>0.513697</td>\n",
       "      <td>3.699938</td>\n",
       "    </tr>\n",
       "    <tr>\n",
       "      <th>min</th>\n",
       "      <td>0.000000</td>\n",
       "      <td>0.000000</td>\n",
       "      <td>1.000000</td>\n",
       "      <td>7.000000</td>\n",
       "      <td>1.403000</td>\n",
       "      <td>0.108000</td>\n",
       "      <td>0.160000</td>\n",
       "      <td>4.600000</td>\n",
       "    </tr>\n",
       "    <tr>\n",
       "      <th>25%</th>\n",
       "      <td>269.750000</td>\n",
       "      <td>4.750000</td>\n",
       "      <td>1.000000</td>\n",
       "      <td>9.000000</td>\n",
       "      <td>1.537000</td>\n",
       "      <td>0.120000</td>\n",
       "      <td>0.180000</td>\n",
       "      <td>5.000000</td>\n",
       "    </tr>\n",
       "    <tr>\n",
       "      <th>50%</th>\n",
       "      <td>545.500000</td>\n",
       "      <td>9.500000</td>\n",
       "      <td>1.500000</td>\n",
       "      <td>15.500000</td>\n",
       "      <td>1.630000</td>\n",
       "      <td>0.130000</td>\n",
       "      <td>0.255000</td>\n",
       "      <td>8.400000</td>\n",
       "    </tr>\n",
       "    <tr>\n",
       "      <th>75%</th>\n",
       "      <td>812.250000</td>\n",
       "      <td>14.250000</td>\n",
       "      <td>2.000000</td>\n",
       "      <td>26.000000</td>\n",
       "      <td>1.630000</td>\n",
       "      <td>0.140000</td>\n",
       "      <td>0.400000</td>\n",
       "      <td>8.900000</td>\n",
       "    </tr>\n",
       "    <tr>\n",
       "      <th>max</th>\n",
       "      <td>1081.000000</td>\n",
       "      <td>19.000000</td>\n",
       "      <td>2.000000</td>\n",
       "      <td>47.000000</td>\n",
       "      <td>1.910000</td>\n",
       "      <td>0.170000</td>\n",
       "      <td>2.160000</td>\n",
       "      <td>22.000000</td>\n",
       "    </tr>\n",
       "  </tbody>\n",
       "</table>\n",
       "</div>"
      ],
      "text/plain": [
       "        Unnamed: 0  Repetition         Led       FAEES        K232  \\\n",
       "count   960.000000  960.000000  960.000000  720.000000  720.000000   \n",
       "mean    541.183333    9.500000    1.500000   18.666667    1.591944   \n",
       "std     312.607160    5.769287    0.500261   11.183139    0.116583   \n",
       "min       0.000000    0.000000    1.000000    7.000000    1.403000   \n",
       "25%     269.750000    4.750000    1.000000    9.000000    1.537000   \n",
       "50%     545.500000    9.500000    1.500000   15.500000    1.630000   \n",
       "75%     812.250000   14.250000    2.000000   26.000000    1.630000   \n",
       "max    1081.000000   19.000000    2.000000   47.000000    1.910000   \n",
       "\n",
       "             K270     Acidity  Peroxide Index  \n",
       "count  720.000000  880.000000      840.000000  \n",
       "mean     0.132333    0.461364        8.009524  \n",
       "std      0.015969    0.513697        3.699938  \n",
       "min      0.108000    0.160000        4.600000  \n",
       "25%      0.120000    0.180000        5.000000  \n",
       "50%      0.130000    0.255000        8.400000  \n",
       "75%      0.140000    0.400000        8.900000  \n",
       "max      0.170000    2.160000       22.000000  "
      ]
     },
     "execution_count": 4,
     "metadata": {},
     "output_type": "execute_result"
    }
   ],
   "source": [
    "df.describe()"
   ]
  },
  {
   "cell_type": "markdown",
   "id": "35bdbfe0",
   "metadata": {
    "papermill": {
     "duration": 0.007868,
     "end_time": "2025-09-03T21:28:46.585971",
     "exception": false,
     "start_time": "2025-09-03T21:28:46.578103",
     "status": "completed"
    },
    "tags": []
   },
   "source": [
    "### Suppression de colonnes inutiles dans le DataFrame\n"
   ]
  },
  {
   "cell_type": "code",
   "execution_count": 5,
   "id": "436da6e7",
   "metadata": {
    "execution": {
     "iopub.execute_input": "2025-09-03T21:28:46.603863Z",
     "iopub.status.busy": "2025-09-03T21:28:46.603512Z",
     "iopub.status.idle": "2025-09-03T21:28:46.618620Z",
     "shell.execute_reply": "2025-09-03T21:28:46.617208Z"
    },
    "papermill": {
     "duration": 0.02695,
     "end_time": "2025-09-03T21:28:46.621024",
     "exception": false,
     "start_time": "2025-09-03T21:28:46.594074",
     "status": "completed"
    },
    "tags": []
   },
   "outputs": [],
   "source": [
    "df = df.drop(['Unnamed: 0', 'Sample'], axis=1)"
   ]
  },
  {
   "cell_type": "markdown",
   "id": "59391b59",
   "metadata": {
    "papermill": {
     "duration": 0.009017,
     "end_time": "2025-09-03T21:28:46.639091",
     "exception": false,
     "start_time": "2025-09-03T21:28:46.630074",
     "status": "completed"
    },
    "tags": []
   },
   "source": [
    "### transformation de les valeurs de la colonne \"Led\" selon une nouvelle codification binaire pour préparer les données "
   ]
  },
  {
   "cell_type": "code",
   "execution_count": 6,
   "id": "e8239d48",
   "metadata": {
    "execution": {
     "iopub.execute_input": "2025-09-03T21:28:46.658564Z",
     "iopub.status.busy": "2025-09-03T21:28:46.657801Z",
     "iopub.status.idle": "2025-09-03T21:28:46.666674Z",
     "shell.execute_reply": "2025-09-03T21:28:46.665525Z"
    },
    "papermill": {
     "duration": 0.020528,
     "end_time": "2025-09-03T21:28:46.668810",
     "exception": false,
     "start_time": "2025-09-03T21:28:46.648282",
     "status": "completed"
    },
    "tags": []
   },
   "outputs": [],
   "source": [
    "df[\"Led\"]=df[\"Led\"].replace({1:0,2:1})"
   ]
  },
  {
   "cell_type": "markdown",
   "id": "df06ffea",
   "metadata": {
    "papermill": {
     "duration": 0.010315,
     "end_time": "2025-09-03T21:28:46.689896",
     "exception": false,
     "start_time": "2025-09-03T21:28:46.679581",
     "status": "completed"
    },
    "tags": []
   },
   "source": [
    "### Conversion des chaînes en listes Python"
   ]
  },
  {
   "cell_type": "code",
   "execution_count": 7,
   "id": "7e4be694",
   "metadata": {
    "execution": {
     "iopub.execute_input": "2025-09-03T21:28:46.714459Z",
     "iopub.status.busy": "2025-09-03T21:28:46.714072Z",
     "iopub.status.idle": "2025-09-03T21:28:48.805985Z",
     "shell.execute_reply": "2025-09-03T21:28:48.804848Z"
    },
    "papermill": {
     "duration": 2.107888,
     "end_time": "2025-09-03T21:28:48.807908",
     "exception": false,
     "start_time": "2025-09-03T21:28:46.700020",
     "status": "completed"
    },
    "tags": []
   },
   "outputs": [],
   "source": [
    "data_to_array=df[\"Data\"].apply(lambda x: ast.literal_eval(x))"
   ]
  },
  {
   "cell_type": "markdown",
   "id": "ddeab9ee",
   "metadata": {
    "papermill": {
     "duration": 0.00777,
     "end_time": "2025-09-03T21:28:48.824680",
     "exception": false,
     "start_time": "2025-09-03T21:28:48.816910",
     "status": "completed"
    },
    "tags": []
   },
   "source": [
    "### Expansion des listes en colonnes , suppression de la colonne originale \"Data\" et concaténation"
   ]
  },
  {
   "cell_type": "code",
   "execution_count": 8,
   "id": "74c9fc00",
   "metadata": {
    "execution": {
     "iopub.execute_input": "2025-09-03T21:28:48.914259Z",
     "iopub.status.busy": "2025-09-03T21:28:48.913248Z",
     "iopub.status.idle": "2025-09-03T21:28:49.162157Z",
     "shell.execute_reply": "2025-09-03T21:28:49.160864Z"
    },
    "papermill": {
     "duration": 0.329945,
     "end_time": "2025-09-03T21:28:49.163873",
     "exception": false,
     "start_time": "2025-09-03T21:28:48.833928",
     "status": "completed"
    },
    "tags": []
   },
   "outputs": [],
   "source": [
    "data_expanded = pd.DataFrame(data_to_array.to_list())\n",
    "data_expanded_cols=data_expanded.columns\n",
    "df = df.drop(columns=['Data']).reset_index(drop=True)\n",
    "df = pd.concat([df, data_expanded], axis=1)"
   ]
  },
  {
   "cell_type": "code",
   "execution_count": 9,
   "id": "6d60d3e1",
   "metadata": {
    "execution": {
     "iopub.execute_input": "2025-09-03T21:28:49.184100Z",
     "iopub.status.busy": "2025-09-03T21:28:49.183758Z",
     "iopub.status.idle": "2025-09-03T21:28:49.214634Z",
     "shell.execute_reply": "2025-09-03T21:28:49.212752Z"
    },
    "papermill": {
     "duration": 0.042565,
     "end_time": "2025-09-03T21:28:49.216635",
     "exception": false,
     "start_time": "2025-09-03T21:28:49.174070",
     "status": "completed"
    },
    "tags": []
   },
   "outputs": [
    {
     "data": {
      "text/html": [
       "<div>\n",
       "<style scoped>\n",
       "    .dataframe tbody tr th:only-of-type {\n",
       "        vertical-align: middle;\n",
       "    }\n",
       "\n",
       "    .dataframe tbody tr th {\n",
       "        vertical-align: top;\n",
       "    }\n",
       "\n",
       "    .dataframe thead th {\n",
       "        text-align: right;\n",
       "    }\n",
       "</style>\n",
       "<table border=\"1\" class=\"dataframe\">\n",
       "  <thead>\n",
       "    <tr style=\"text-align: right;\">\n",
       "      <th></th>\n",
       "      <th>Repetition</th>\n",
       "      <th>Led</th>\n",
       "      <th>Quality</th>\n",
       "      <th>FAEES</th>\n",
       "      <th>K232</th>\n",
       "      <th>K270</th>\n",
       "      <th>Acidity</th>\n",
       "      <th>Peroxide Index</th>\n",
       "      <th>0</th>\n",
       "      <th>1</th>\n",
       "      <th>...</th>\n",
       "      <th>1014</th>\n",
       "      <th>1015</th>\n",
       "      <th>1016</th>\n",
       "      <th>1017</th>\n",
       "      <th>1018</th>\n",
       "      <th>1019</th>\n",
       "      <th>1020</th>\n",
       "      <th>1021</th>\n",
       "      <th>1022</th>\n",
       "      <th>1023</th>\n",
       "    </tr>\n",
       "  </thead>\n",
       "  <tbody>\n",
       "    <tr>\n",
       "      <th>0</th>\n",
       "      <td>19</td>\n",
       "      <td>1</td>\n",
       "      <td>EXTRA</td>\n",
       "      <td>15.0</td>\n",
       "      <td>1.66</td>\n",
       "      <td>0.14</td>\n",
       "      <td>0.20</td>\n",
       "      <td>8.9</td>\n",
       "      <td>1490.0</td>\n",
       "      <td>1521.0</td>\n",
       "      <td>...</td>\n",
       "      <td>1641.0</td>\n",
       "      <td>1590.0</td>\n",
       "      <td>1595.0</td>\n",
       "      <td>1633.0</td>\n",
       "      <td>1545.0</td>\n",
       "      <td>1594.0</td>\n",
       "      <td>1614.0</td>\n",
       "      <td>1490.0</td>\n",
       "      <td>1605.0</td>\n",
       "      <td>1583.0</td>\n",
       "    </tr>\n",
       "    <tr>\n",
       "      <th>1</th>\n",
       "      <td>19</td>\n",
       "      <td>1</td>\n",
       "      <td>EXTRA</td>\n",
       "      <td>8.0</td>\n",
       "      <td>1.63</td>\n",
       "      <td>0.12</td>\n",
       "      <td>0.17</td>\n",
       "      <td>6.4</td>\n",
       "      <td>1487.0</td>\n",
       "      <td>1518.0</td>\n",
       "      <td>...</td>\n",
       "      <td>1626.0</td>\n",
       "      <td>1586.0</td>\n",
       "      <td>1588.0</td>\n",
       "      <td>1619.0</td>\n",
       "      <td>1547.0</td>\n",
       "      <td>1586.0</td>\n",
       "      <td>1610.0</td>\n",
       "      <td>1488.0</td>\n",
       "      <td>1598.0</td>\n",
       "      <td>1574.0</td>\n",
       "    </tr>\n",
       "    <tr>\n",
       "      <th>2</th>\n",
       "      <td>3</td>\n",
       "      <td>0</td>\n",
       "      <td>VIRGEN</td>\n",
       "      <td>26.0</td>\n",
       "      <td>1.74</td>\n",
       "      <td>0.13</td>\n",
       "      <td>0.24</td>\n",
       "      <td>10.4</td>\n",
       "      <td>1490.0</td>\n",
       "      <td>1528.0</td>\n",
       "      <td>...</td>\n",
       "      <td>1643.0</td>\n",
       "      <td>1592.0</td>\n",
       "      <td>1596.0</td>\n",
       "      <td>1631.0</td>\n",
       "      <td>1550.0</td>\n",
       "      <td>1596.0</td>\n",
       "      <td>1616.0</td>\n",
       "      <td>1486.0</td>\n",
       "      <td>1598.0</td>\n",
       "      <td>1579.0</td>\n",
       "    </tr>\n",
       "    <tr>\n",
       "      <th>3</th>\n",
       "      <td>8</td>\n",
       "      <td>1</td>\n",
       "      <td>LAMPANTE</td>\n",
       "      <td>NaN</td>\n",
       "      <td>NaN</td>\n",
       "      <td>NaN</td>\n",
       "      <td>NaN</td>\n",
       "      <td>NaN</td>\n",
       "      <td>1486.0</td>\n",
       "      <td>1517.0</td>\n",
       "      <td>...</td>\n",
       "      <td>1611.0</td>\n",
       "      <td>1574.0</td>\n",
       "      <td>1577.0</td>\n",
       "      <td>1602.0</td>\n",
       "      <td>1534.0</td>\n",
       "      <td>1572.0</td>\n",
       "      <td>1593.0</td>\n",
       "      <td>1483.0</td>\n",
       "      <td>1579.0</td>\n",
       "      <td>1565.0</td>\n",
       "    </tr>\n",
       "    <tr>\n",
       "      <th>4</th>\n",
       "      <td>14</td>\n",
       "      <td>0</td>\n",
       "      <td>EXTRA</td>\n",
       "      <td>8.0</td>\n",
       "      <td>1.63</td>\n",
       "      <td>0.12</td>\n",
       "      <td>0.17</td>\n",
       "      <td>6.4</td>\n",
       "      <td>1492.0</td>\n",
       "      <td>1515.0</td>\n",
       "      <td>...</td>\n",
       "      <td>1611.0</td>\n",
       "      <td>1569.0</td>\n",
       "      <td>1573.0</td>\n",
       "      <td>1605.0</td>\n",
       "      <td>1535.0</td>\n",
       "      <td>1573.0</td>\n",
       "      <td>1592.0</td>\n",
       "      <td>1476.0</td>\n",
       "      <td>1583.0</td>\n",
       "      <td>1560.0</td>\n",
       "    </tr>\n",
       "  </tbody>\n",
       "</table>\n",
       "<p>5 rows × 1032 columns</p>\n",
       "</div>"
      ],
      "text/plain": [
       "   Repetition  Led   Quality  FAEES  K232  K270  Acidity  Peroxide Index  \\\n",
       "0          19    1     EXTRA   15.0  1.66  0.14     0.20             8.9   \n",
       "1          19    1     EXTRA    8.0  1.63  0.12     0.17             6.4   \n",
       "2           3    0    VIRGEN   26.0  1.74  0.13     0.24            10.4   \n",
       "3           8    1  LAMPANTE    NaN   NaN   NaN      NaN             NaN   \n",
       "4          14    0     EXTRA    8.0  1.63  0.12     0.17             6.4   \n",
       "\n",
       "        0       1  ...    1014    1015    1016    1017    1018    1019  \\\n",
       "0  1490.0  1521.0  ...  1641.0  1590.0  1595.0  1633.0  1545.0  1594.0   \n",
       "1  1487.0  1518.0  ...  1626.0  1586.0  1588.0  1619.0  1547.0  1586.0   \n",
       "2  1490.0  1528.0  ...  1643.0  1592.0  1596.0  1631.0  1550.0  1596.0   \n",
       "3  1486.0  1517.0  ...  1611.0  1574.0  1577.0  1602.0  1534.0  1572.0   \n",
       "4  1492.0  1515.0  ...  1611.0  1569.0  1573.0  1605.0  1535.0  1573.0   \n",
       "\n",
       "     1020    1021    1022    1023  \n",
       "0  1614.0  1490.0  1605.0  1583.0  \n",
       "1  1610.0  1488.0  1598.0  1574.0  \n",
       "2  1616.0  1486.0  1598.0  1579.0  \n",
       "3  1593.0  1483.0  1579.0  1565.0  \n",
       "4  1592.0  1476.0  1583.0  1560.0  \n",
       "\n",
       "[5 rows x 1032 columns]"
      ]
     },
     "execution_count": 9,
     "metadata": {},
     "output_type": "execute_result"
    }
   ],
   "source": [
    "df.head(5)"
   ]
  },
  {
   "cell_type": "markdown",
   "id": "4d0b422e",
   "metadata": {
    "papermill": {
     "duration": 0.009264,
     "end_time": "2025-09-03T21:28:49.238886",
     "exception": false,
     "start_time": "2025-09-03T21:28:49.229622",
     "status": "completed"
    },
    "tags": []
   },
   "source": [
    "### Séparation des colonnes catégorielles et numériques"
   ]
  },
  {
   "cell_type": "code",
   "execution_count": 10,
   "id": "60de6828",
   "metadata": {
    "execution": {
     "iopub.execute_input": "2025-09-03T21:28:49.260193Z",
     "iopub.status.busy": "2025-09-03T21:28:49.259847Z",
     "iopub.status.idle": "2025-09-03T21:28:49.265658Z",
     "shell.execute_reply": "2025-09-03T21:28:49.264564Z"
    },
    "papermill": {
     "duration": 0.018641,
     "end_time": "2025-09-03T21:28:49.267692",
     "exception": false,
     "start_time": "2025-09-03T21:28:49.249051",
     "status": "completed"
    },
    "tags": []
   },
   "outputs": [],
   "source": [
    "categorical_columns=[\"Repetition\",\"Quality\",\"Led\"]\n",
    "numerical_columns = [\"FAEES\", \"K232\", \"K270\", \"Acidity\", \"Peroxide Index\"]\n",
    "numerical_columns.extend(data_expanded_cols)"
   ]
  },
  {
   "cell_type": "markdown",
   "id": "5a1a59fd",
   "metadata": {
    "papermill": {
     "duration": 0.008524,
     "end_time": "2025-09-03T21:28:49.285190",
     "exception": false,
     "start_time": "2025-09-03T21:28:49.276666",
     "status": "completed"
    },
    "tags": []
   },
   "source": [
    "### Vérification des valeurs manquantes"
   ]
  },
  {
   "cell_type": "code",
   "execution_count": 11,
   "id": "16a0dfad",
   "metadata": {
    "execution": {
     "iopub.execute_input": "2025-09-03T21:28:49.306362Z",
     "iopub.status.busy": "2025-09-03T21:28:49.305986Z",
     "iopub.status.idle": "2025-09-03T21:28:49.325941Z",
     "shell.execute_reply": "2025-09-03T21:28:49.324731Z"
    },
    "papermill": {
     "duration": 0.03247,
     "end_time": "2025-09-03T21:28:49.328041",
     "exception": false,
     "start_time": "2025-09-03T21:28:49.295571",
     "status": "completed"
    },
    "tags": []
   },
   "outputs": [
    {
     "data": {
      "text/plain": [
       "Repetition      0\n",
       "Led             0\n",
       "Quality         0\n",
       "FAEES         240\n",
       "K232          240\n",
       "             ... \n",
       "1019            0\n",
       "1020            0\n",
       "1021            0\n",
       "1022            0\n",
       "1023            0\n",
       "Length: 1032, dtype: int64"
      ]
     },
     "execution_count": 11,
     "metadata": {},
     "output_type": "execute_result"
    }
   ],
   "source": [
    "df.isna().sum()"
   ]
  },
  {
   "cell_type": "markdown",
   "id": "d8bfd1f5",
   "metadata": {
    "papermill": {
     "duration": 0.008502,
     "end_time": "2025-09-03T21:28:49.346023",
     "exception": false,
     "start_time": "2025-09-03T21:28:49.337521",
     "status": "completed"
    },
    "tags": []
   },
   "source": [
    "### Vérification de l'asymétrie des colonnes numériques"
   ]
  },
  {
   "cell_type": "code",
   "execution_count": 12,
   "id": "2f464ab8",
   "metadata": {
    "execution": {
     "iopub.execute_input": "2025-09-03T21:28:49.366625Z",
     "iopub.status.busy": "2025-09-03T21:28:49.366286Z",
     "iopub.status.idle": "2025-09-03T21:28:49.424992Z",
     "shell.execute_reply": "2025-09-03T21:28:49.424023Z"
    },
    "papermill": {
     "duration": 0.070316,
     "end_time": "2025-09-03T21:28:49.426715",
     "exception": false,
     "start_time": "2025-09-03T21:28:49.356399",
     "status": "completed"
    },
    "tags": []
   },
   "outputs": [
    {
     "data": {
      "text/plain": [
       "FAEES             1.091297\n",
       "K232              0.713190\n",
       "K270              0.713331\n",
       "Acidity           2.371726\n",
       "Peroxide Index    2.414490\n",
       "0                 0.341968\n",
       "dtype: float64"
      ]
     },
     "execution_count": 12,
     "metadata": {},
     "output_type": "execute_result"
    }
   ],
   "source": [
    "df[numerical_columns].skew().head(6)"
   ]
  },
  {
   "cell_type": "markdown",
   "id": "0e688844",
   "metadata": {
    "papermill": {
     "duration": 0.008966,
     "end_time": "2025-09-03T21:28:49.444754",
     "exception": false,
     "start_time": "2025-09-03T21:28:49.435788",
     "status": "completed"
    },
    "tags": []
   },
   "source": [
    "### Remplissage des valeurs manquantes par la médiane ( skewness > 0.5)"
   ]
  },
  {
   "cell_type": "code",
   "execution_count": 13,
   "id": "e06b7d69",
   "metadata": {
    "execution": {
     "iopub.execute_input": "2025-09-03T21:28:49.465724Z",
     "iopub.status.busy": "2025-09-03T21:28:49.465261Z",
     "iopub.status.idle": "2025-09-03T21:28:49.477678Z",
     "shell.execute_reply": "2025-09-03T21:28:49.476542Z"
    },
    "papermill": {
     "duration": 0.025131,
     "end_time": "2025-09-03T21:28:49.479626",
     "exception": false,
     "start_time": "2025-09-03T21:28:49.454495",
     "status": "completed"
    },
    "tags": []
   },
   "outputs": [],
   "source": [
    "cols_to_median=['FAEES', 'K232', 'K270', 'Acidity', 'Peroxide Index']\n",
    "df[cols_to_median]=df[cols_to_median].fillna(df[cols_to_median].median())"
   ]
  },
  {
   "cell_type": "markdown",
   "id": "d0168cc1",
   "metadata": {
    "papermill": {
     "duration": 0.009789,
     "end_time": "2025-09-03T21:28:49.498623",
     "exception": false,
     "start_time": "2025-09-03T21:28:49.488834",
     "status": "completed"
    },
    "tags": []
   },
   "source": [
    "### Vérification finale des valeurs manquantes"
   ]
  },
  {
   "cell_type": "code",
   "execution_count": 14,
   "id": "72e20faa",
   "metadata": {
    "execution": {
     "iopub.execute_input": "2025-09-03T21:28:49.517686Z",
     "iopub.status.busy": "2025-09-03T21:28:49.517358Z",
     "iopub.status.idle": "2025-09-03T21:28:49.536396Z",
     "shell.execute_reply": "2025-09-03T21:28:49.535374Z"
    },
    "papermill": {
     "duration": 0.030712,
     "end_time": "2025-09-03T21:28:49.538179",
     "exception": false,
     "start_time": "2025-09-03T21:28:49.507467",
     "status": "completed"
    },
    "tags": []
   },
   "outputs": [
    {
     "data": {
      "text/plain": [
       "Repetition    0\n",
       "Led           0\n",
       "Quality       0\n",
       "FAEES         0\n",
       "K232          0\n",
       "             ..\n",
       "1019          0\n",
       "1020          0\n",
       "1021          0\n",
       "1022          0\n",
       "1023          0\n",
       "Length: 1032, dtype: int64"
      ]
     },
     "execution_count": 14,
     "metadata": {},
     "output_type": "execute_result"
    }
   ],
   "source": [
    "df.isna().sum()"
   ]
  },
  {
   "cell_type": "code",
   "execution_count": 15,
   "id": "70d8971a",
   "metadata": {
    "execution": {
     "iopub.execute_input": "2025-09-03T21:28:49.560926Z",
     "iopub.status.busy": "2025-09-03T21:28:49.560610Z",
     "iopub.status.idle": "2025-09-03T21:28:49.598508Z",
     "shell.execute_reply": "2025-09-03T21:28:49.597239Z"
    },
    "papermill": {
     "duration": 0.051012,
     "end_time": "2025-09-03T21:28:49.600452",
     "exception": false,
     "start_time": "2025-09-03T21:28:49.549440",
     "status": "completed"
    },
    "tags": []
   },
   "outputs": [],
   "source": [
    "encoder = OneHotEncoder(sparse_output=False)\n",
    "encoded_array = encoder.fit_transform(df[['Quality']])\n",
    "encoded_df = pd.DataFrame(encoded_array, columns=encoder.get_feature_names_out(['Quality']))\n",
    "df2 = df.drop(columns=['Quality']).reset_index(drop=True)\n",
    "df2 = pd.concat([df2, encoded_df], axis=1)"
   ]
  },
  {
   "cell_type": "code",
   "execution_count": 16,
   "id": "9d723525",
   "metadata": {
    "execution": {
     "iopub.execute_input": "2025-09-03T21:28:49.621017Z",
     "iopub.status.busy": "2025-09-03T21:28:49.620599Z",
     "iopub.status.idle": "2025-09-03T21:28:49.647737Z",
     "shell.execute_reply": "2025-09-03T21:28:49.646526Z"
    },
    "papermill": {
     "duration": 0.040082,
     "end_time": "2025-09-03T21:28:49.650082",
     "exception": false,
     "start_time": "2025-09-03T21:28:49.610000",
     "status": "completed"
    },
    "tags": []
   },
   "outputs": [
    {
     "data": {
      "text/html": [
       "<div>\n",
       "<style scoped>\n",
       "    .dataframe tbody tr th:only-of-type {\n",
       "        vertical-align: middle;\n",
       "    }\n",
       "\n",
       "    .dataframe tbody tr th {\n",
       "        vertical-align: top;\n",
       "    }\n",
       "\n",
       "    .dataframe thead th {\n",
       "        text-align: right;\n",
       "    }\n",
       "</style>\n",
       "<table border=\"1\" class=\"dataframe\">\n",
       "  <thead>\n",
       "    <tr style=\"text-align: right;\">\n",
       "      <th></th>\n",
       "      <th>Repetition</th>\n",
       "      <th>Led</th>\n",
       "      <th>FAEES</th>\n",
       "      <th>K232</th>\n",
       "      <th>K270</th>\n",
       "      <th>Acidity</th>\n",
       "      <th>Peroxide Index</th>\n",
       "      <th>0</th>\n",
       "      <th>1</th>\n",
       "      <th>2</th>\n",
       "      <th>...</th>\n",
       "      <th>1017</th>\n",
       "      <th>1018</th>\n",
       "      <th>1019</th>\n",
       "      <th>1020</th>\n",
       "      <th>1021</th>\n",
       "      <th>1022</th>\n",
       "      <th>1023</th>\n",
       "      <th>Quality_EXTRA</th>\n",
       "      <th>Quality_LAMPANTE</th>\n",
       "      <th>Quality_VIRGEN</th>\n",
       "    </tr>\n",
       "  </thead>\n",
       "  <tbody>\n",
       "    <tr>\n",
       "      <th>0</th>\n",
       "      <td>19</td>\n",
       "      <td>1</td>\n",
       "      <td>15.0</td>\n",
       "      <td>1.66</td>\n",
       "      <td>0.14</td>\n",
       "      <td>0.200</td>\n",
       "      <td>8.9</td>\n",
       "      <td>1490.0</td>\n",
       "      <td>1521.0</td>\n",
       "      <td>1544.0</td>\n",
       "      <td>...</td>\n",
       "      <td>1633.0</td>\n",
       "      <td>1545.0</td>\n",
       "      <td>1594.0</td>\n",
       "      <td>1614.0</td>\n",
       "      <td>1490.0</td>\n",
       "      <td>1605.0</td>\n",
       "      <td>1583.0</td>\n",
       "      <td>1.0</td>\n",
       "      <td>0.0</td>\n",
       "      <td>0.0</td>\n",
       "    </tr>\n",
       "    <tr>\n",
       "      <th>1</th>\n",
       "      <td>19</td>\n",
       "      <td>1</td>\n",
       "      <td>8.0</td>\n",
       "      <td>1.63</td>\n",
       "      <td>0.12</td>\n",
       "      <td>0.170</td>\n",
       "      <td>6.4</td>\n",
       "      <td>1487.0</td>\n",
       "      <td>1518.0</td>\n",
       "      <td>1537.0</td>\n",
       "      <td>...</td>\n",
       "      <td>1619.0</td>\n",
       "      <td>1547.0</td>\n",
       "      <td>1586.0</td>\n",
       "      <td>1610.0</td>\n",
       "      <td>1488.0</td>\n",
       "      <td>1598.0</td>\n",
       "      <td>1574.0</td>\n",
       "      <td>1.0</td>\n",
       "      <td>0.0</td>\n",
       "      <td>0.0</td>\n",
       "    </tr>\n",
       "    <tr>\n",
       "      <th>2</th>\n",
       "      <td>3</td>\n",
       "      <td>0</td>\n",
       "      <td>26.0</td>\n",
       "      <td>1.74</td>\n",
       "      <td>0.13</td>\n",
       "      <td>0.240</td>\n",
       "      <td>10.4</td>\n",
       "      <td>1490.0</td>\n",
       "      <td>1528.0</td>\n",
       "      <td>1541.0</td>\n",
       "      <td>...</td>\n",
       "      <td>1631.0</td>\n",
       "      <td>1550.0</td>\n",
       "      <td>1596.0</td>\n",
       "      <td>1616.0</td>\n",
       "      <td>1486.0</td>\n",
       "      <td>1598.0</td>\n",
       "      <td>1579.0</td>\n",
       "      <td>0.0</td>\n",
       "      <td>0.0</td>\n",
       "      <td>1.0</td>\n",
       "    </tr>\n",
       "    <tr>\n",
       "      <th>3</th>\n",
       "      <td>8</td>\n",
       "      <td>1</td>\n",
       "      <td>15.5</td>\n",
       "      <td>1.63</td>\n",
       "      <td>0.13</td>\n",
       "      <td>0.255</td>\n",
       "      <td>8.4</td>\n",
       "      <td>1486.0</td>\n",
       "      <td>1517.0</td>\n",
       "      <td>1531.0</td>\n",
       "      <td>...</td>\n",
       "      <td>1602.0</td>\n",
       "      <td>1534.0</td>\n",
       "      <td>1572.0</td>\n",
       "      <td>1593.0</td>\n",
       "      <td>1483.0</td>\n",
       "      <td>1579.0</td>\n",
       "      <td>1565.0</td>\n",
       "      <td>0.0</td>\n",
       "      <td>1.0</td>\n",
       "      <td>0.0</td>\n",
       "    </tr>\n",
       "    <tr>\n",
       "      <th>4</th>\n",
       "      <td>14</td>\n",
       "      <td>0</td>\n",
       "      <td>8.0</td>\n",
       "      <td>1.63</td>\n",
       "      <td>0.12</td>\n",
       "      <td>0.170</td>\n",
       "      <td>6.4</td>\n",
       "      <td>1492.0</td>\n",
       "      <td>1515.0</td>\n",
       "      <td>1534.0</td>\n",
       "      <td>...</td>\n",
       "      <td>1605.0</td>\n",
       "      <td>1535.0</td>\n",
       "      <td>1573.0</td>\n",
       "      <td>1592.0</td>\n",
       "      <td>1476.0</td>\n",
       "      <td>1583.0</td>\n",
       "      <td>1560.0</td>\n",
       "      <td>1.0</td>\n",
       "      <td>0.0</td>\n",
       "      <td>0.0</td>\n",
       "    </tr>\n",
       "  </tbody>\n",
       "</table>\n",
       "<p>5 rows × 1034 columns</p>\n",
       "</div>"
      ],
      "text/plain": [
       "   Repetition  Led  FAEES  K232  K270  Acidity  Peroxide Index       0  \\\n",
       "0          19    1   15.0  1.66  0.14    0.200             8.9  1490.0   \n",
       "1          19    1    8.0  1.63  0.12    0.170             6.4  1487.0   \n",
       "2           3    0   26.0  1.74  0.13    0.240            10.4  1490.0   \n",
       "3           8    1   15.5  1.63  0.13    0.255             8.4  1486.0   \n",
       "4          14    0    8.0  1.63  0.12    0.170             6.4  1492.0   \n",
       "\n",
       "        1       2  ...    1017    1018    1019    1020    1021    1022  \\\n",
       "0  1521.0  1544.0  ...  1633.0  1545.0  1594.0  1614.0  1490.0  1605.0   \n",
       "1  1518.0  1537.0  ...  1619.0  1547.0  1586.0  1610.0  1488.0  1598.0   \n",
       "2  1528.0  1541.0  ...  1631.0  1550.0  1596.0  1616.0  1486.0  1598.0   \n",
       "3  1517.0  1531.0  ...  1602.0  1534.0  1572.0  1593.0  1483.0  1579.0   \n",
       "4  1515.0  1534.0  ...  1605.0  1535.0  1573.0  1592.0  1476.0  1583.0   \n",
       "\n",
       "     1023  Quality_EXTRA  Quality_LAMPANTE  Quality_VIRGEN  \n",
       "0  1583.0            1.0               0.0             0.0  \n",
       "1  1574.0            1.0               0.0             0.0  \n",
       "2  1579.0            0.0               0.0             1.0  \n",
       "3  1565.0            0.0               1.0             0.0  \n",
       "4  1560.0            1.0               0.0             0.0  \n",
       "\n",
       "[5 rows x 1034 columns]"
      ]
     },
     "execution_count": 16,
     "metadata": {},
     "output_type": "execute_result"
    }
   ],
   "source": [
    "df2.head()"
   ]
  },
  {
   "cell_type": "markdown",
   "id": "fde52e07",
   "metadata": {
    "papermill": {
     "duration": 0.009139,
     "end_time": "2025-09-03T21:28:49.669101",
     "exception": false,
     "start_time": "2025-09-03T21:28:49.659962",
     "status": "completed"
    },
    "tags": []
   },
   "source": [
    "## Classification Multi-Classe"
   ]
  },
  {
   "cell_type": "markdown",
   "id": "b4de47f8",
   "metadata": {
    "papermill": {
     "duration": 0.009512,
     "end_time": "2025-09-03T21:28:49.689623",
     "exception": false,
     "start_time": "2025-09-03T21:28:49.680111",
     "status": "completed"
    },
    "tags": []
   },
   "source": [
    "### Split des données en train, validation et test"
   ]
  },
  {
   "cell_type": "code",
   "execution_count": 17,
   "id": "542bf62e",
   "metadata": {
    "execution": {
     "iopub.execute_input": "2025-09-03T21:28:49.712952Z",
     "iopub.status.busy": "2025-09-03T21:28:49.712604Z",
     "iopub.status.idle": "2025-09-03T21:28:49.738782Z",
     "shell.execute_reply": "2025-09-03T21:28:49.736822Z"
    },
    "papermill": {
     "duration": 0.040895,
     "end_time": "2025-09-03T21:28:49.741008",
     "exception": false,
     "start_time": "2025-09-03T21:28:49.700113",
     "status": "completed"
    },
    "tags": []
   },
   "outputs": [],
   "source": [
    "train_data, test_data = train_test_split(df2, test_size=0.2, random_state=42)\n",
    "train_data, val_data = train_test_split(train_data, test_size=0.2, random_state=42)"
   ]
  },
  {
   "cell_type": "code",
   "execution_count": 18,
   "id": "f7dc427d",
   "metadata": {
    "execution": {
     "iopub.execute_input": "2025-09-03T21:28:49.762400Z",
     "iopub.status.busy": "2025-09-03T21:28:49.762000Z",
     "iopub.status.idle": "2025-09-03T21:28:49.866388Z",
     "shell.execute_reply": "2025-09-03T21:28:49.865324Z"
    },
    "papermill": {
     "duration": 0.116489,
     "end_time": "2025-09-03T21:28:49.868111",
     "exception": false,
     "start_time": "2025-09-03T21:28:49.751622",
     "status": "completed"
    },
    "tags": []
   },
   "outputs": [
    {
     "data": {
      "text/plain": [
       "Index([    'Repetition',          'FAEES',           'K232',           'K270',\n",
       "              'Acidity', 'Peroxide Index',                0,                1,\n",
       "                      2,                3,\n",
       "       ...\n",
       "                   1014,             1015,             1016,             1017,\n",
       "                   1018,             1019,             1020,             1021,\n",
       "                   1022,             1023],\n",
       "      dtype='object', length=1030)"
      ]
     },
     "execution_count": 18,
     "metadata": {},
     "output_type": "execute_result"
    }
   ],
   "source": [
    "num_cols = df2.columns[(df2.nunique() != 2)] \n",
    "num_cols"
   ]
  },
  {
   "cell_type": "markdown",
   "id": "7f38dd24",
   "metadata": {
    "papermill": {
     "duration": 0.009194,
     "end_time": "2025-09-03T21:28:49.887723",
     "exception": false,
     "start_time": "2025-09-03T21:28:49.878529",
     "status": "completed"
    },
    "tags": []
   },
   "source": [
    "### Normalisation des données"
   ]
  },
  {
   "cell_type": "code",
   "execution_count": 19,
   "id": "ab5ffa00",
   "metadata": {
    "execution": {
     "iopub.execute_input": "2025-09-03T21:28:49.910248Z",
     "iopub.status.busy": "2025-09-03T21:28:49.909898Z",
     "iopub.status.idle": "2025-09-03T21:28:49.916009Z",
     "shell.execute_reply": "2025-09-03T21:28:49.914859Z"
    },
    "papermill": {
     "duration": 0.020208,
     "end_time": "2025-09-03T21:28:49.917920",
     "exception": false,
     "start_time": "2025-09-03T21:28:49.897712",
     "status": "completed"
    },
    "tags": []
   },
   "outputs": [],
   "source": [
    "def scale_data(data,cols):\n",
    "    data_to_scale=data[cols]\n",
    "    min_val = tf.reduce_min(data[cols]).numpy()\n",
    "    max_val= tf.reduce_max(data[cols]).numpy()\n",
    "    data[cols] = (data[cols] - min_val) / (max_val - min_val)\n",
    "    data = tf.cast(data, tf.float32)\n",
    "    return data"
   ]
  },
  {
   "cell_type": "code",
   "execution_count": 20,
   "id": "49726a9b",
   "metadata": {
    "execution": {
     "iopub.execute_input": "2025-09-03T21:28:49.938025Z",
     "iopub.status.busy": "2025-09-03T21:28:49.937691Z",
     "iopub.status.idle": "2025-09-03T21:28:50.802325Z",
     "shell.execute_reply": "2025-09-03T21:28:50.801207Z"
    },
    "papermill": {
     "duration": 0.877017,
     "end_time": "2025-09-03T21:28:50.804442",
     "exception": false,
     "start_time": "2025-09-03T21:28:49.927425",
     "status": "completed"
    },
    "tags": []
   },
   "outputs": [
    {
     "name": "stderr",
     "output_type": "stream",
     "text": [
      "2025-09-03 21:28:49.949884: E external/local_xla/xla/stream_executor/cuda/cuda_driver.cc:152] failed call to cuInit: INTERNAL: CUDA error: Failed call to cuInit: UNKNOWN ERROR (303)\n"
     ]
    }
   ],
   "source": [
    "train_data=scale_data(train_data,num_cols)\n",
    "test_data=scale_data(test_data,num_cols)\n",
    "val_data=scale_data(val_data,num_cols)\n",
    "train_data = tf.cast(train_data, tf.float32)\n",
    "test_data=tf.cast(test_data, tf.float32)\n",
    "val_data=tf.cast(val_data, tf.float32)"
   ]
  },
  {
   "cell_type": "markdown",
   "id": "14238813",
   "metadata": {
    "papermill": {
     "duration": 0.009218,
     "end_time": "2025-09-03T21:28:50.823415",
     "exception": false,
     "start_time": "2025-09-03T21:28:50.814197",
     "status": "completed"
    },
    "tags": []
   },
   "source": [
    "### Séparation des features et labels"
   ]
  },
  {
   "cell_type": "code",
   "execution_count": 21,
   "id": "1c3083eb",
   "metadata": {
    "execution": {
     "iopub.execute_input": "2025-09-03T21:28:50.844569Z",
     "iopub.status.busy": "2025-09-03T21:28:50.844252Z",
     "iopub.status.idle": "2025-09-03T21:28:50.861958Z",
     "shell.execute_reply": "2025-09-03T21:28:50.860896Z"
    },
    "papermill": {
     "duration": 0.03079,
     "end_time": "2025-09-03T21:28:50.863794",
     "exception": false,
     "start_time": "2025-09-03T21:28:50.833004",
     "status": "completed"
    },
    "tags": []
   },
   "outputs": [],
   "source": [
    "X_train = train_data[:, :-3]  \n",
    "y_train = train_data[:, -3:]  \n",
    "\n",
    "X_test = test_data[:, :-3]  \n",
    "y_test = test_data[:, -3:] \n",
    "\n",
    "X_val= val_data[:, :-3]\n",
    "y_val= val_data[:,-3:]"
   ]
  },
  {
   "cell_type": "code",
   "execution_count": 22,
   "id": "d3b8b4de",
   "metadata": {
    "execution": {
     "iopub.execute_input": "2025-09-03T21:28:50.884383Z",
     "iopub.status.busy": "2025-09-03T21:28:50.883995Z",
     "iopub.status.idle": "2025-09-03T21:28:50.921646Z",
     "shell.execute_reply": "2025-09-03T21:28:50.920460Z"
    },
    "papermill": {
     "duration": 0.050198,
     "end_time": "2025-09-03T21:28:50.923439",
     "exception": false,
     "start_time": "2025-09-03T21:28:50.873241",
     "status": "completed"
    },
    "tags": []
   },
   "outputs": [],
   "source": [
    "class QualityClassifier(tf.keras.Model):\n",
    "  def __init__(self):\n",
    "    super(QualityClassifier, self).__init__()\n",
    "    self.encoder = tf.keras.Sequential([\n",
    "        layers.Dense(1024, activation=\"relu\"),\n",
    "        layers.Dense(128, activation=\"relu\"),\n",
    "        layers.Dense(64,activation=\"relu\"),\n",
    "        ])\n",
    "\n",
    "    self.classifier = tf.keras.Sequential([\n",
    "        layers.Dense(32, activation=\"relu\"),  \n",
    "        layers.Dense(3, activation=\"softmax\"),  \n",
    "        ])\n",
    "        \n",
    "  def call(self, x):\n",
    "    encoded = self.encoder(x)\n",
    "    class_probs = self.classifier(encoded)\n",
    "    return class_probs\n",
    "\n",
    "autoencoder = QualityClassifier()\n",
    "autoencoder.compile(optimizer=\"adam\", loss=\"categorical_crossentropy\", metrics=[\"accuracy\"])"
   ]
  },
  {
   "cell_type": "markdown",
   "id": "d7577288",
   "metadata": {
    "papermill": {
     "duration": 0.009018,
     "end_time": "2025-09-03T21:28:50.942722",
     "exception": false,
     "start_time": "2025-09-03T21:28:50.933704",
     "status": "completed"
    },
    "tags": []
   },
   "source": [
    "### Entraînement de l'autoencodeur"
   ]
  },
  {
   "cell_type": "code",
   "execution_count": 23,
   "id": "b2f5b9ad",
   "metadata": {
    "execution": {
     "iopub.execute_input": "2025-09-03T21:28:50.962950Z",
     "iopub.status.busy": "2025-09-03T21:28:50.962661Z",
     "iopub.status.idle": "2025-09-03T21:29:16.795730Z",
     "shell.execute_reply": "2025-09-03T21:29:16.794528Z"
    },
    "papermill": {
     "duration": 25.846361,
     "end_time": "2025-09-03T21:29:16.798237",
     "exception": false,
     "start_time": "2025-09-03T21:28:50.951876",
     "status": "completed"
    },
    "tags": []
   },
   "outputs": [
    {
     "name": "stdout",
     "output_type": "stream",
     "text": [
      "Epoch 1/90\n",
      "\u001b[1m10/10\u001b[0m \u001b[32m━━━━━━━━━━━━━━━━━━━━\u001b[0m\u001b[37m\u001b[0m \u001b[1m4s\u001b[0m 64ms/step - accuracy: 0.4072 - loss: 1.0349 - val_accuracy: 0.5065 - val_loss: 0.9447\n",
      "Epoch 2/90\n",
      "\u001b[1m10/10\u001b[0m \u001b[32m━━━━━━━━━━━━━━━━━━━━\u001b[0m\u001b[37m\u001b[0m \u001b[1m0s\u001b[0m 20ms/step - accuracy: 0.5287 - loss: 0.9016 - val_accuracy: 0.4610 - val_loss: 0.8910\n",
      "Epoch 3/90\n",
      "\u001b[1m10/10\u001b[0m \u001b[32m━━━━━━━━━━━━━━━━━━━━\u001b[0m\u001b[37m\u001b[0m \u001b[1m0s\u001b[0m 21ms/step - accuracy: 0.5652 - loss: 0.7864 - val_accuracy: 0.5649 - val_loss: 0.6960\n",
      "Epoch 4/90\n",
      "\u001b[1m10/10\u001b[0m \u001b[32m━━━━━━━━━━━━━━━━━━━━\u001b[0m\u001b[37m\u001b[0m \u001b[1m0s\u001b[0m 22ms/step - accuracy: 0.5304 - loss: 0.6967 - val_accuracy: 0.5909 - val_loss: 0.6387\n",
      "Epoch 5/90\n",
      "\u001b[1m10/10\u001b[0m \u001b[32m━━━━━━━━━━━━━━━━━━━━\u001b[0m\u001b[37m\u001b[0m \u001b[1m0s\u001b[0m 26ms/step - accuracy: 0.5799 - loss: 0.6698 - val_accuracy: 0.6299 - val_loss: 0.6096\n",
      "Epoch 6/90\n",
      "\u001b[1m10/10\u001b[0m \u001b[32m━━━━━━━━━━━━━━━━━━━━\u001b[0m\u001b[37m\u001b[0m \u001b[1m0s\u001b[0m 21ms/step - accuracy: 0.6253 - loss: 0.6194 - val_accuracy: 0.6623 - val_loss: 0.6053\n",
      "Epoch 7/90\n",
      "\u001b[1m10/10\u001b[0m \u001b[32m━━━━━━━━━━━━━━━━━━━━\u001b[0m\u001b[37m\u001b[0m \u001b[1m0s\u001b[0m 21ms/step - accuracy: 0.5898 - loss: 0.6195 - val_accuracy: 0.6429 - val_loss: 0.6270\n",
      "Epoch 8/90\n",
      "\u001b[1m10/10\u001b[0m \u001b[32m━━━━━━━━━━━━━━━━━━━━\u001b[0m\u001b[37m\u001b[0m \u001b[1m0s\u001b[0m 22ms/step - accuracy: 0.6398 - loss: 0.5971 - val_accuracy: 0.6429 - val_loss: 0.5873\n",
      "Epoch 9/90\n",
      "\u001b[1m10/10\u001b[0m \u001b[32m━━━━━━━━━━━━━━━━━━━━\u001b[0m\u001b[37m\u001b[0m \u001b[1m0s\u001b[0m 25ms/step - accuracy: 0.6136 - loss: 0.6428 - val_accuracy: 0.6558 - val_loss: 0.6603\n",
      "Epoch 10/90\n",
      "\u001b[1m10/10\u001b[0m \u001b[32m━━━━━━━━━━━━━━━━━━━━\u001b[0m\u001b[37m\u001b[0m \u001b[1m0s\u001b[0m 25ms/step - accuracy: 0.6629 - loss: 0.6140 - val_accuracy: 0.5974 - val_loss: 0.5967\n",
      "Epoch 11/90\n",
      "\u001b[1m10/10\u001b[0m \u001b[32m━━━━━━━━━━━━━━━━━━━━\u001b[0m\u001b[37m\u001b[0m \u001b[1m0s\u001b[0m 28ms/step - accuracy: 0.5865 - loss: 0.6324 - val_accuracy: 0.7143 - val_loss: 0.5561\n",
      "Epoch 12/90\n",
      "\u001b[1m10/10\u001b[0m \u001b[32m━━━━━━━━━━━━━━━━━━━━\u001b[0m\u001b[37m\u001b[0m \u001b[1m0s\u001b[0m 24ms/step - accuracy: 0.6598 - loss: 0.6486 - val_accuracy: 0.6429 - val_loss: 0.6315\n",
      "Epoch 13/90\n",
      "\u001b[1m10/10\u001b[0m \u001b[32m━━━━━━━━━━━━━━━━━━━━\u001b[0m\u001b[37m\u001b[0m \u001b[1m0s\u001b[0m 22ms/step - accuracy: 0.6347 - loss: 0.6306 - val_accuracy: 0.6688 - val_loss: 0.5914\n",
      "Epoch 14/90\n",
      "\u001b[1m10/10\u001b[0m \u001b[32m━━━━━━━━━━━━━━━━━━━━\u001b[0m\u001b[37m\u001b[0m \u001b[1m0s\u001b[0m 22ms/step - accuracy: 0.6665 - loss: 0.6196 - val_accuracy: 0.6429 - val_loss: 0.7278\n",
      "Epoch 15/90\n",
      "\u001b[1m10/10\u001b[0m \u001b[32m━━━━━━━━━━━━━━━━━━━━\u001b[0m\u001b[37m\u001b[0m \u001b[1m0s\u001b[0m 21ms/step - accuracy: 0.6378 - loss: 0.6566 - val_accuracy: 0.7143 - val_loss: 0.5913\n",
      "Epoch 16/90\n",
      "\u001b[1m10/10\u001b[0m \u001b[32m━━━━━━━━━━━━━━━━━━━━\u001b[0m\u001b[37m\u001b[0m \u001b[1m0s\u001b[0m 21ms/step - accuracy: 0.6880 - loss: 0.5783 - val_accuracy: 0.6429 - val_loss: 0.5976\n",
      "Epoch 17/90\n",
      "\u001b[1m10/10\u001b[0m \u001b[32m━━━━━━━━━━━━━━━━━━━━\u001b[0m\u001b[37m\u001b[0m \u001b[1m0s\u001b[0m 23ms/step - accuracy: 0.6874 - loss: 0.5728 - val_accuracy: 0.6688 - val_loss: 0.5424\n",
      "Epoch 18/90\n",
      "\u001b[1m10/10\u001b[0m \u001b[32m━━━━━━━━━━━━━━━━━━━━\u001b[0m\u001b[37m\u001b[0m \u001b[1m0s\u001b[0m 25ms/step - accuracy: 0.7539 - loss: 0.5302 - val_accuracy: 0.7338 - val_loss: 0.5346\n",
      "Epoch 19/90\n",
      "\u001b[1m10/10\u001b[0m \u001b[32m━━━━━━━━━━━━━━━━━━━━\u001b[0m\u001b[37m\u001b[0m \u001b[1m0s\u001b[0m 23ms/step - accuracy: 0.7269 - loss: 0.5346 - val_accuracy: 0.6558 - val_loss: 0.6134\n",
      "Epoch 20/90\n",
      "\u001b[1m10/10\u001b[0m \u001b[32m━━━━━━━━━━━━━━━━━━━━\u001b[0m\u001b[37m\u001b[0m \u001b[1m0s\u001b[0m 21ms/step - accuracy: 0.6904 - loss: 0.5639 - val_accuracy: 0.7338 - val_loss: 0.5058\n",
      "Epoch 21/90\n",
      "\u001b[1m10/10\u001b[0m \u001b[32m━━━━━━━━━━━━━━━━━━━━\u001b[0m\u001b[37m\u001b[0m \u001b[1m0s\u001b[0m 21ms/step - accuracy: 0.7301 - loss: 0.5397 - val_accuracy: 0.7208 - val_loss: 0.4940\n",
      "Epoch 22/90\n",
      "\u001b[1m10/10\u001b[0m \u001b[32m━━━━━━━━━━━━━━━━━━━━\u001b[0m\u001b[37m\u001b[0m \u001b[1m0s\u001b[0m 20ms/step - accuracy: 0.7224 - loss: 0.5310 - val_accuracy: 0.7273 - val_loss: 0.4826\n",
      "Epoch 23/90\n",
      "\u001b[1m10/10\u001b[0m \u001b[32m━━━━━━━━━━━━━━━━━━━━\u001b[0m\u001b[37m\u001b[0m \u001b[1m0s\u001b[0m 21ms/step - accuracy: 0.7595 - loss: 0.4939 - val_accuracy: 0.6948 - val_loss: 0.4921\n",
      "Epoch 24/90\n",
      "\u001b[1m10/10\u001b[0m \u001b[32m━━━━━━━━━━━━━━━━━━━━\u001b[0m\u001b[37m\u001b[0m \u001b[1m0s\u001b[0m 20ms/step - accuracy: 0.6938 - loss: 0.5417 - val_accuracy: 0.7597 - val_loss: 0.4886\n",
      "Epoch 25/90\n",
      "\u001b[1m10/10\u001b[0m \u001b[32m━━━━━━━━━━━━━━━━━━━━\u001b[0m\u001b[37m\u001b[0m \u001b[1m0s\u001b[0m 20ms/step - accuracy: 0.7086 - loss: 0.5265 - val_accuracy: 0.7208 - val_loss: 0.5015\n",
      "Epoch 26/90\n",
      "\u001b[1m10/10\u001b[0m \u001b[32m━━━━━━━━━━━━━━━━━━━━\u001b[0m\u001b[37m\u001b[0m \u001b[1m0s\u001b[0m 21ms/step - accuracy: 0.7020 - loss: 0.5458 - val_accuracy: 0.7273 - val_loss: 0.4916\n",
      "Epoch 27/90\n",
      "\u001b[1m10/10\u001b[0m \u001b[32m━━━━━━━━━━━━━━━━━━━━\u001b[0m\u001b[37m\u001b[0m \u001b[1m0s\u001b[0m 21ms/step - accuracy: 0.7294 - loss: 0.5321 - val_accuracy: 0.6234 - val_loss: 0.5752\n",
      "Epoch 28/90\n",
      "\u001b[1m10/10\u001b[0m \u001b[32m━━━━━━━━━━━━━━━━━━━━\u001b[0m\u001b[37m\u001b[0m \u001b[1m0s\u001b[0m 22ms/step - accuracy: 0.6940 - loss: 0.5565 - val_accuracy: 0.7273 - val_loss: 0.4973\n",
      "Epoch 29/90\n",
      "\u001b[1m10/10\u001b[0m \u001b[32m━━━━━━━━━━━━━━━━━━━━\u001b[0m\u001b[37m\u001b[0m \u001b[1m0s\u001b[0m 22ms/step - accuracy: 0.7256 - loss: 0.5320 - val_accuracy: 0.6753 - val_loss: 0.5741\n",
      "Epoch 30/90\n",
      "\u001b[1m10/10\u001b[0m \u001b[32m━━━━━━━━━━━━━━━━━━━━\u001b[0m\u001b[37m\u001b[0m \u001b[1m0s\u001b[0m 23ms/step - accuracy: 0.6743 - loss: 0.5812 - val_accuracy: 0.7078 - val_loss: 0.5847\n",
      "Epoch 31/90\n",
      "\u001b[1m10/10\u001b[0m \u001b[32m━━━━━━━━━━━━━━━━━━━━\u001b[0m\u001b[37m\u001b[0m \u001b[1m0s\u001b[0m 23ms/step - accuracy: 0.7520 - loss: 0.5150 - val_accuracy: 0.7338 - val_loss: 0.4912\n",
      "Epoch 32/90\n",
      "\u001b[1m10/10\u001b[0m \u001b[32m━━━━━━━━━━━━━━━━━━━━\u001b[0m\u001b[37m\u001b[0m \u001b[1m0s\u001b[0m 24ms/step - accuracy: 0.7559 - loss: 0.4562 - val_accuracy: 0.7273 - val_loss: 0.4866\n",
      "Epoch 33/90\n",
      "\u001b[1m10/10\u001b[0m \u001b[32m━━━━━━━━━━━━━━━━━━━━\u001b[0m\u001b[37m\u001b[0m \u001b[1m0s\u001b[0m 32ms/step - accuracy: 0.7677 - loss: 0.4628 - val_accuracy: 0.7403 - val_loss: 0.4764\n",
      "Epoch 34/90\n",
      "\u001b[1m10/10\u001b[0m \u001b[32m━━━━━━━━━━━━━━━━━━━━\u001b[0m\u001b[37m\u001b[0m \u001b[1m0s\u001b[0m 31ms/step - accuracy: 0.7596 - loss: 0.4690 - val_accuracy: 0.7338 - val_loss: 0.4478\n",
      "Epoch 35/90\n",
      "\u001b[1m10/10\u001b[0m \u001b[32m━━━━━━━━━━━━━━━━━━━━\u001b[0m\u001b[37m\u001b[0m \u001b[1m0s\u001b[0m 29ms/step - accuracy: 0.7989 - loss: 0.4682 - val_accuracy: 0.7662 - val_loss: 0.4336\n",
      "Epoch 36/90\n",
      "\u001b[1m10/10\u001b[0m \u001b[32m━━━━━━━━━━━━━━━━━━━━\u001b[0m\u001b[37m\u001b[0m \u001b[1m0s\u001b[0m 23ms/step - accuracy: 0.7866 - loss: 0.4393 - val_accuracy: 0.7792 - val_loss: 0.4321\n",
      "Epoch 37/90\n",
      "\u001b[1m10/10\u001b[0m \u001b[32m━━━━━━━━━━━━━━━━━━━━\u001b[0m\u001b[37m\u001b[0m \u001b[1m0s\u001b[0m 21ms/step - accuracy: 0.7280 - loss: 0.4653 - val_accuracy: 0.7338 - val_loss: 0.4183\n",
      "Epoch 38/90\n",
      "\u001b[1m10/10\u001b[0m \u001b[32m━━━━━━━━━━━━━━━━━━━━\u001b[0m\u001b[37m\u001b[0m \u001b[1m0s\u001b[0m 22ms/step - accuracy: 0.7750 - loss: 0.4250 - val_accuracy: 0.7727 - val_loss: 0.4030\n",
      "Epoch 39/90\n",
      "\u001b[1m10/10\u001b[0m \u001b[32m━━━━━━━━━━━━━━━━━━━━\u001b[0m\u001b[37m\u001b[0m \u001b[1m0s\u001b[0m 20ms/step - accuracy: 0.8112 - loss: 0.4229 - val_accuracy: 0.7922 - val_loss: 0.4199\n",
      "Epoch 40/90\n",
      "\u001b[1m10/10\u001b[0m \u001b[32m━━━━━━━━━━━━━━━━━━━━\u001b[0m\u001b[37m\u001b[0m \u001b[1m0s\u001b[0m 20ms/step - accuracy: 0.7951 - loss: 0.4344 - val_accuracy: 0.8312 - val_loss: 0.3840\n",
      "Epoch 41/90\n",
      "\u001b[1m10/10\u001b[0m \u001b[32m━━━━━━━━━━━━━━━━━━━━\u001b[0m\u001b[37m\u001b[0m \u001b[1m0s\u001b[0m 20ms/step - accuracy: 0.8164 - loss: 0.3918 - val_accuracy: 0.8377 - val_loss: 0.3827\n",
      "Epoch 42/90\n",
      "\u001b[1m10/10\u001b[0m \u001b[32m━━━━━━━━━━━━━━━━━━━━\u001b[0m\u001b[37m\u001b[0m \u001b[1m0s\u001b[0m 20ms/step - accuracy: 0.7963 - loss: 0.4125 - val_accuracy: 0.8506 - val_loss: 0.4278\n",
      "Epoch 43/90\n",
      "\u001b[1m10/10\u001b[0m \u001b[32m━━━━━━━━━━━━━━━━━━━━\u001b[0m\u001b[37m\u001b[0m \u001b[1m0s\u001b[0m 20ms/step - accuracy: 0.7979 - loss: 0.4322 - val_accuracy: 0.7727 - val_loss: 0.4111\n",
      "Epoch 44/90\n",
      "\u001b[1m10/10\u001b[0m \u001b[32m━━━━━━━━━━━━━━━━━━━━\u001b[0m\u001b[37m\u001b[0m \u001b[1m0s\u001b[0m 21ms/step - accuracy: 0.8018 - loss: 0.4110 - val_accuracy: 0.7922 - val_loss: 0.4071\n",
      "Epoch 45/90\n",
      "\u001b[1m10/10\u001b[0m \u001b[32m━━━━━━━━━━━━━━━━━━━━\u001b[0m\u001b[37m\u001b[0m \u001b[1m0s\u001b[0m 21ms/step - accuracy: 0.8095 - loss: 0.4292 - val_accuracy: 0.8571 - val_loss: 0.3678\n",
      "Epoch 46/90\n",
      "\u001b[1m10/10\u001b[0m \u001b[32m━━━━━━━━━━━━━━━━━━━━\u001b[0m\u001b[37m\u001b[0m \u001b[1m0s\u001b[0m 21ms/step - accuracy: 0.8333 - loss: 0.3909 - val_accuracy: 0.8636 - val_loss: 0.3452\n",
      "Epoch 47/90\n",
      "\u001b[1m10/10\u001b[0m \u001b[32m━━━━━━━━━━━━━━━━━━━━\u001b[0m\u001b[37m\u001b[0m \u001b[1m0s\u001b[0m 23ms/step - accuracy: 0.8741 - loss: 0.3532 - val_accuracy: 0.8701 - val_loss: 0.3449\n",
      "Epoch 48/90\n",
      "\u001b[1m10/10\u001b[0m \u001b[32m━━━━━━━━━━━━━━━━━━━━\u001b[0m\u001b[37m\u001b[0m \u001b[1m0s\u001b[0m 24ms/step - accuracy: 0.8489 - loss: 0.3694 - val_accuracy: 0.8377 - val_loss: 0.3552\n",
      "Epoch 49/90\n",
      "\u001b[1m10/10\u001b[0m \u001b[32m━━━━━━━━━━━━━━━━━━━━\u001b[0m\u001b[37m\u001b[0m \u001b[1m0s\u001b[0m 22ms/step - accuracy: 0.8431 - loss: 0.3682 - val_accuracy: 0.8636 - val_loss: 0.3222\n",
      "Epoch 50/90\n",
      "\u001b[1m10/10\u001b[0m \u001b[32m━━━━━━━━━━━━━━━━━━━━\u001b[0m\u001b[37m\u001b[0m \u001b[1m0s\u001b[0m 20ms/step - accuracy: 0.8710 - loss: 0.3425 - val_accuracy: 0.7987 - val_loss: 0.4131\n",
      "Epoch 51/90\n",
      "\u001b[1m10/10\u001b[0m \u001b[32m━━━━━━━━━━━━━━━━━━━━\u001b[0m\u001b[37m\u001b[0m \u001b[1m0s\u001b[0m 25ms/step - accuracy: 0.8346 - loss: 0.3578 - val_accuracy: 0.8636 - val_loss: 0.3410\n",
      "Epoch 52/90\n",
      "\u001b[1m10/10\u001b[0m \u001b[32m━━━━━━━━━━━━━━━━━━━━\u001b[0m\u001b[37m\u001b[0m \u001b[1m0s\u001b[0m 28ms/step - accuracy: 0.8393 - loss: 0.3532 - val_accuracy: 0.8312 - val_loss: 0.3660\n",
      "Epoch 53/90\n",
      "\u001b[1m10/10\u001b[0m \u001b[32m━━━━━━━━━━━━━━━━━━━━\u001b[0m\u001b[37m\u001b[0m \u001b[1m0s\u001b[0m 24ms/step - accuracy: 0.8258 - loss: 0.3876 - val_accuracy: 0.8636 - val_loss: 0.3217\n",
      "Epoch 54/90\n",
      "\u001b[1m10/10\u001b[0m \u001b[32m━━━━━━━━━━━━━━━━━━━━\u001b[0m\u001b[37m\u001b[0m \u001b[1m0s\u001b[0m 29ms/step - accuracy: 0.8627 - loss: 0.3175 - val_accuracy: 0.7987 - val_loss: 0.3977\n",
      "Epoch 55/90\n",
      "\u001b[1m10/10\u001b[0m \u001b[32m━━━━━━━━━━━━━━━━━━━━\u001b[0m\u001b[37m\u001b[0m \u001b[1m1s\u001b[0m 22ms/step - accuracy: 0.7117 - loss: 0.5380 - val_accuracy: 0.7078 - val_loss: 0.5205\n",
      "Epoch 56/90\n",
      "\u001b[1m10/10\u001b[0m \u001b[32m━━━━━━━━━━━━━━━━━━━━\u001b[0m\u001b[37m\u001b[0m \u001b[1m0s\u001b[0m 23ms/step - accuracy: 0.6539 - loss: 0.6101 - val_accuracy: 0.7078 - val_loss: 0.5170\n",
      "Epoch 57/90\n",
      "\u001b[1m10/10\u001b[0m \u001b[32m━━━━━━━━━━━━━━━━━━━━\u001b[0m\u001b[37m\u001b[0m \u001b[1m0s\u001b[0m 21ms/step - accuracy: 0.6670 - loss: 0.5714 - val_accuracy: 0.7143 - val_loss: 0.4903\n",
      "Epoch 58/90\n",
      "\u001b[1m10/10\u001b[0m \u001b[32m━━━━━━━━━━━━━━━━━━━━\u001b[0m\u001b[37m\u001b[0m \u001b[1m0s\u001b[0m 20ms/step - accuracy: 0.7307 - loss: 0.5235 - val_accuracy: 0.7078 - val_loss: 0.4711\n",
      "Epoch 59/90\n",
      "\u001b[1m10/10\u001b[0m \u001b[32m━━━━━━━━━━━━━━━━━━━━\u001b[0m\u001b[37m\u001b[0m \u001b[1m0s\u001b[0m 20ms/step - accuracy: 0.7367 - loss: 0.4949 - val_accuracy: 0.7273 - val_loss: 0.4581\n",
      "Epoch 60/90\n",
      "\u001b[1m10/10\u001b[0m \u001b[32m━━━━━━━━━━━━━━━━━━━━\u001b[0m\u001b[37m\u001b[0m \u001b[1m0s\u001b[0m 20ms/step - accuracy: 0.7460 - loss: 0.4943 - val_accuracy: 0.7273 - val_loss: 0.4511\n",
      "Epoch 61/90\n",
      "\u001b[1m10/10\u001b[0m \u001b[32m━━━━━━━━━━━━━━━━━━━━\u001b[0m\u001b[37m\u001b[0m \u001b[1m0s\u001b[0m 20ms/step - accuracy: 0.7472 - loss: 0.4761 - val_accuracy: 0.7857 - val_loss: 0.4252\n",
      "Epoch 62/90\n",
      "\u001b[1m10/10\u001b[0m \u001b[32m━━━━━━━━━━━━━━━━━━━━\u001b[0m\u001b[37m\u001b[0m \u001b[1m0s\u001b[0m 20ms/step - accuracy: 0.7725 - loss: 0.4519 - val_accuracy: 0.8312 - val_loss: 0.4130\n",
      "Epoch 63/90\n",
      "\u001b[1m10/10\u001b[0m \u001b[32m━━━━━━━━━━━━━━━━━━━━\u001b[0m\u001b[37m\u001b[0m \u001b[1m0s\u001b[0m 21ms/step - accuracy: 0.8261 - loss: 0.4262 - val_accuracy: 0.8766 - val_loss: 0.3738\n",
      "Epoch 64/90\n",
      "\u001b[1m10/10\u001b[0m \u001b[32m━━━━━━━━━━━━━━━━━━━━\u001b[0m\u001b[37m\u001b[0m \u001b[1m0s\u001b[0m 20ms/step - accuracy: 0.8777 - loss: 0.3877 - val_accuracy: 0.8377 - val_loss: 0.3727\n",
      "Epoch 65/90\n",
      "\u001b[1m10/10\u001b[0m \u001b[32m━━━━━━━━━━━━━━━━━━━━\u001b[0m\u001b[37m\u001b[0m \u001b[1m0s\u001b[0m 20ms/step - accuracy: 0.7813 - loss: 0.4633 - val_accuracy: 0.7403 - val_loss: 0.4572\n",
      "Epoch 66/90\n",
      "\u001b[1m10/10\u001b[0m \u001b[32m━━━━━━━━━━━━━━━━━━━━\u001b[0m\u001b[37m\u001b[0m \u001b[1m0s\u001b[0m 21ms/step - accuracy: 0.7436 - loss: 0.4833 - val_accuracy: 0.7273 - val_loss: 0.4791\n",
      "Epoch 67/90\n",
      "\u001b[1m10/10\u001b[0m \u001b[32m━━━━━━━━━━━━━━━━━━━━\u001b[0m\u001b[37m\u001b[0m \u001b[1m0s\u001b[0m 23ms/step - accuracy: 0.7328 - loss: 0.5290 - val_accuracy: 0.7597 - val_loss: 0.4387\n",
      "Epoch 68/90\n",
      "\u001b[1m10/10\u001b[0m \u001b[32m━━━━━━━━━━━━━━━━━━━━\u001b[0m\u001b[37m\u001b[0m \u001b[1m0s\u001b[0m 21ms/step - accuracy: 0.7396 - loss: 0.4734 - val_accuracy: 0.7727 - val_loss: 0.4406\n",
      "Epoch 69/90\n",
      "\u001b[1m10/10\u001b[0m \u001b[32m━━━━━━━━━━━━━━━━━━━━\u001b[0m\u001b[37m\u001b[0m \u001b[1m0s\u001b[0m 22ms/step - accuracy: 0.7804 - loss: 0.4283 - val_accuracy: 0.7792 - val_loss: 0.4003\n",
      "Epoch 70/90\n",
      "\u001b[1m10/10\u001b[0m \u001b[32m━━━━━━━━━━━━━━━━━━━━\u001b[0m\u001b[37m\u001b[0m \u001b[1m0s\u001b[0m 20ms/step - accuracy: 0.7949 - loss: 0.4299 - val_accuracy: 0.8312 - val_loss: 0.3807\n",
      "Epoch 71/90\n",
      "\u001b[1m10/10\u001b[0m \u001b[32m━━━━━━━━━━━━━━━━━━━━\u001b[0m\u001b[37m\u001b[0m \u001b[1m0s\u001b[0m 22ms/step - accuracy: 0.8083 - loss: 0.4226 - val_accuracy: 0.8312 - val_loss: 0.3627\n",
      "Epoch 72/90\n",
      "\u001b[1m10/10\u001b[0m \u001b[32m━━━━━━━━━━━━━━━━━━━━\u001b[0m\u001b[37m\u001b[0m \u001b[1m0s\u001b[0m 21ms/step - accuracy: 0.7925 - loss: 0.4178 - val_accuracy: 0.7597 - val_loss: 0.4356\n",
      "Epoch 73/90\n",
      "\u001b[1m10/10\u001b[0m \u001b[32m━━━━━━━━━━━━━━━━━━━━\u001b[0m\u001b[37m\u001b[0m \u001b[1m0s\u001b[0m 23ms/step - accuracy: 0.8245 - loss: 0.3832 - val_accuracy: 0.7857 - val_loss: 0.3676\n",
      "Epoch 74/90\n",
      "\u001b[1m10/10\u001b[0m \u001b[32m━━━━━━━━━━━━━━━━━━━━\u001b[0m\u001b[37m\u001b[0m \u001b[1m0s\u001b[0m 21ms/step - accuracy: 0.8211 - loss: 0.3824 - val_accuracy: 0.8377 - val_loss: 0.3322\n",
      "Epoch 75/90\n",
      "\u001b[1m10/10\u001b[0m \u001b[32m━━━━━━━━━━━━━━━━━━━━\u001b[0m\u001b[37m\u001b[0m \u001b[1m0s\u001b[0m 20ms/step - accuracy: 0.8922 - loss: 0.2980 - val_accuracy: 0.8831 - val_loss: 0.3088\n",
      "Epoch 76/90\n",
      "\u001b[1m10/10\u001b[0m \u001b[32m━━━━━━━━━━━━━━━━━━━━\u001b[0m\u001b[37m\u001b[0m \u001b[1m0s\u001b[0m 21ms/step - accuracy: 0.8704 - loss: 0.3251 - val_accuracy: 0.8701 - val_loss: 0.3101\n",
      "Epoch 77/90\n",
      "\u001b[1m10/10\u001b[0m \u001b[32m━━━━━━━━━━━━━━━━━━━━\u001b[0m\u001b[37m\u001b[0m \u001b[1m0s\u001b[0m 22ms/step - accuracy: 0.8734 - loss: 0.3089 - val_accuracy: 0.8571 - val_loss: 0.3517\n",
      "Epoch 78/90\n",
      "\u001b[1m10/10\u001b[0m \u001b[32m━━━━━━━━━━━━━━━━━━━━\u001b[0m\u001b[37m\u001b[0m \u001b[1m0s\u001b[0m 22ms/step - accuracy: 0.8713 - loss: 0.3328 - val_accuracy: 0.8831 - val_loss: 0.3005\n",
      "Epoch 79/90\n",
      "\u001b[1m10/10\u001b[0m \u001b[32m━━━━━━━━━━━━━━━━━━━━\u001b[0m\u001b[37m\u001b[0m \u001b[1m0s\u001b[0m 25ms/step - accuracy: 0.9083 - loss: 0.2688 - val_accuracy: 0.8896 - val_loss: 0.2868\n",
      "Epoch 80/90\n",
      "\u001b[1m10/10\u001b[0m \u001b[32m━━━━━━━━━━━━━━━━━━━━\u001b[0m\u001b[37m\u001b[0m \u001b[1m0s\u001b[0m 21ms/step - accuracy: 0.9055 - loss: 0.2903 - val_accuracy: 0.8766 - val_loss: 0.2879\n",
      "Epoch 81/90\n",
      "\u001b[1m10/10\u001b[0m \u001b[32m━━━━━━━━━━━━━━━━━━━━\u001b[0m\u001b[37m\u001b[0m \u001b[1m0s\u001b[0m 21ms/step - accuracy: 0.8895 - loss: 0.2908 - val_accuracy: 0.8896 - val_loss: 0.2843\n",
      "Epoch 82/90\n",
      "\u001b[1m10/10\u001b[0m \u001b[32m━━━━━━━━━━━━━━━━━━━━\u001b[0m\u001b[37m\u001b[0m \u001b[1m0s\u001b[0m 20ms/step - accuracy: 0.8969 - loss: 0.2851 - val_accuracy: 0.7273 - val_loss: 0.4808\n",
      "Epoch 83/90\n",
      "\u001b[1m10/10\u001b[0m \u001b[32m━━━━━━━━━━━━━━━━━━━━\u001b[0m\u001b[37m\u001b[0m \u001b[1m0s\u001b[0m 20ms/step - accuracy: 0.7531 - loss: 0.5559 - val_accuracy: 0.8571 - val_loss: 0.3196\n",
      "Epoch 84/90\n",
      "\u001b[1m10/10\u001b[0m \u001b[32m━━━━━━━━━━━━━━━━━━━━\u001b[0m\u001b[37m\u001b[0m \u001b[1m0s\u001b[0m 21ms/step - accuracy: 0.8501 - loss: 0.3648 - val_accuracy: 0.8506 - val_loss: 0.3872\n",
      "Epoch 85/90\n",
      "\u001b[1m10/10\u001b[0m \u001b[32m━━━━━━━━━━━━━━━━━━━━\u001b[0m\u001b[37m\u001b[0m \u001b[1m0s\u001b[0m 20ms/step - accuracy: 0.8618 - loss: 0.3289 - val_accuracy: 0.8831 - val_loss: 0.2943\n",
      "Epoch 86/90\n",
      "\u001b[1m10/10\u001b[0m \u001b[32m━━━━━━━━━━━━━━━━━━━━\u001b[0m\u001b[37m\u001b[0m \u001b[1m0s\u001b[0m 20ms/step - accuracy: 0.8941 - loss: 0.2925 - val_accuracy: 0.8831 - val_loss: 0.2920\n",
      "Epoch 87/90\n",
      "\u001b[1m10/10\u001b[0m \u001b[32m━━━━━━━━━━━━━━━━━━━━\u001b[0m\u001b[37m\u001b[0m \u001b[1m0s\u001b[0m 21ms/step - accuracy: 0.8851 - loss: 0.2868 - val_accuracy: 0.8831 - val_loss: 0.2831\n",
      "Epoch 88/90\n",
      "\u001b[1m10/10\u001b[0m \u001b[32m━━━━━━━━━━━━━━━━━━━━\u001b[0m\u001b[37m\u001b[0m \u001b[1m0s\u001b[0m 22ms/step - accuracy: 0.8855 - loss: 0.2932 - val_accuracy: 0.7143 - val_loss: 0.5350\n",
      "Epoch 89/90\n",
      "\u001b[1m10/10\u001b[0m \u001b[32m━━━━━━━━━━━━━━━━━━━━\u001b[0m\u001b[37m\u001b[0m \u001b[1m0s\u001b[0m 21ms/step - accuracy: 0.6631 - loss: 0.6295 - val_accuracy: 0.7597 - val_loss: 0.5195\n",
      "Epoch 90/90\n",
      "\u001b[1m10/10\u001b[0m \u001b[32m━━━━━━━━━━━━━━━━━━━━\u001b[0m\u001b[37m\u001b[0m \u001b[1m0s\u001b[0m 21ms/step - accuracy: 0.7393 - loss: 0.5488 - val_accuracy: 0.7208 - val_loss: 0.4699\n"
     ]
    }
   ],
   "source": [
    "history = autoencoder.fit(\n",
    "          X_train,\n",
    "          y_train, \n",
    "          epochs=90, \n",
    "          batch_size=64,\n",
    "          validation_data=(X_val, y_val),\n",
    "          shuffle=True,\n",
    "        )"
   ]
  },
  {
   "cell_type": "markdown",
   "id": "32fdb96d",
   "metadata": {
    "papermill": {
     "duration": 0.029811,
     "end_time": "2025-09-03T21:29:16.859294",
     "exception": false,
     "start_time": "2025-09-03T21:29:16.829483",
     "status": "completed"
    },
    "tags": []
   },
   "source": [
    "### Prédictions"
   ]
  },
  {
   "cell_type": "code",
   "execution_count": 24,
   "id": "496306e6",
   "metadata": {
    "execution": {
     "iopub.execute_input": "2025-09-03T21:29:16.921315Z",
     "iopub.status.busy": "2025-09-03T21:29:16.920951Z",
     "iopub.status.idle": "2025-09-03T21:29:17.122682Z",
     "shell.execute_reply": "2025-09-03T21:29:17.121670Z"
    },
    "papermill": {
     "duration": 0.234281,
     "end_time": "2025-09-03T21:29:17.124560",
     "exception": false,
     "start_time": "2025-09-03T21:29:16.890279",
     "status": "completed"
    },
    "tags": []
   },
   "outputs": [
    {
     "name": "stdout",
     "output_type": "stream",
     "text": [
      "\u001b[1m6/6\u001b[0m \u001b[32m━━━━━━━━━━━━━━━━━━━━\u001b[0m\u001b[37m\u001b[0m \u001b[1m0s\u001b[0m 7ms/step \n"
     ]
    }
   ],
   "source": [
    "predictions=autoencoder.predict(X_test)\n",
    "y_pred = to_categorical(np.argmax(predictions, axis=1), num_classes=3)"
   ]
  },
  {
   "cell_type": "code",
   "execution_count": 25,
   "id": "1b59d7a3",
   "metadata": {
    "execution": {
     "iopub.execute_input": "2025-09-03T21:29:17.185820Z",
     "iopub.status.busy": "2025-09-03T21:29:17.185496Z",
     "iopub.status.idle": "2025-09-03T21:29:17.506316Z",
     "shell.execute_reply": "2025-09-03T21:29:17.505199Z"
    },
    "papermill": {
     "duration": 0.353685,
     "end_time": "2025-09-03T21:29:17.508377",
     "exception": false,
     "start_time": "2025-09-03T21:29:17.154692",
     "status": "completed"
    },
    "tags": []
   },
   "outputs": [
    {
     "data": {
      "text/plain": [
       "<matplotlib.legend.Legend at 0x7869b826f3d0>"
      ]
     },
     "execution_count": 25,
     "metadata": {},
     "output_type": "execute_result"
    },
    {
     "data": {
      "image/png": "[encoded data removed]",
      "text/plain": [
       "<Figure size 640x480 with 1 Axes>"
      ]
     },
     "metadata": {},
     "output_type": "display_data"
    }
   ],
   "source": [
    "plt.plot(history.history[\"loss\"], label=\"Training Loss\")\n",
    "plt.plot(history.history[\"val_loss\"], label=\"Validation Loss\")\n",
    "plt.legend()"
   ]
  },
  {
   "cell_type": "code",
   "execution_count": 26,
   "id": "19a3776a",
   "metadata": {
    "execution": {
     "iopub.execute_input": "2025-09-03T21:29:17.573913Z",
     "iopub.status.busy": "2025-09-03T21:29:17.573036Z",
     "iopub.status.idle": "2025-09-03T21:29:17.587648Z",
     "shell.execute_reply": "2025-09-03T21:29:17.586393Z"
    },
    "papermill": {
     "duration": 0.049629,
     "end_time": "2025-09-03T21:29:17.589486",
     "exception": false,
     "start_time": "2025-09-03T21:29:17.539857",
     "status": "completed"
    },
    "tags": []
   },
   "outputs": [
    {
     "name": "stdout",
     "output_type": "stream",
     "text": [
      "Accuracy: 0.7135416666666666\n",
      "Precision: 0.829301269979236\n",
      "Recall: 0.7243265993265994\n",
      "F1-score: 0.6849969412743713\n"
     ]
    }
   ],
   "source": [
    "precision, recall, f1, _ = precision_recall_fscore_support(y_test, y_pred, average=\"macro\")  \n",
    "print(\"Accuracy:\",accuracy_score(y_test,y_pred))\n",
    "print(\"Precision:\", precision)\n",
    "print(\"Recall:\", recall)\n",
    "print(\"F1-score:\", f1)"
   ]
  },
  {
   "cell_type": "markdown",
   "id": "066af49d",
   "metadata": {
    "papermill": {
     "duration": 0.034151,
     "end_time": "2025-09-03T21:29:17.656919",
     "exception": false,
     "start_time": "2025-09-03T21:29:17.622768",
     "status": "completed"
    },
    "tags": []
   },
   "source": [
    "## Classification biniare"
   ]
  },
  {
   "cell_type": "code",
   "execution_count": 27,
   "id": "d9dd7f27",
   "metadata": {
    "execution": {
     "iopub.execute_input": "2025-09-03T21:29:17.722234Z",
     "iopub.status.busy": "2025-09-03T21:29:17.721838Z",
     "iopub.status.idle": "2025-09-03T21:29:17.732003Z",
     "shell.execute_reply": "2025-09-03T21:29:17.730760Z"
    },
    "papermill": {
     "duration": 0.0452,
     "end_time": "2025-09-03T21:29:17.733757",
     "exception": false,
     "start_time": "2025-09-03T21:29:17.688557",
     "status": "completed"
    },
    "tags": []
   },
   "outputs": [
    {
     "name": "stdout",
     "output_type": "stream",
     "text": [
      "Binary label distribution:\n",
      "Train EXTRA: 266 NOT EXTRA: 348\n",
      "Test EXTRA: 72 NOT EXTRA: 120\n",
      "Val EXTRA: 62 NOT EXTRA: 92\n",
      "Feature shape: (614, 1031)\n"
     ]
    }
   ],
   "source": [
    "train_np = train_data.numpy()\n",
    "test_np = test_data.numpy()\n",
    "val_np = val_data.numpy()\n",
    "\n",
    "X_train = train_np[:, :-3]\n",
    "X_test = test_np[:, :-3]  \n",
    "X_val = val_np[:, :-3]\n",
    "\n",
    "\n",
    "y_train_binary = train_np[:, -3].astype(int) \n",
    "y_test_binary = test_np[:, -3].astype(int)\n",
    "y_val_binary = val_np[:, -3].astype(int)\n",
    "\n",
    "print(\"Binary label distribution:\")\n",
    "print(\"Train EXTRA:\", np.sum(y_train_binary), \"NOT EXTRA:\", len(y_train_binary) - np.sum(y_train_binary))\n",
    "print(\"Test EXTRA:\", np.sum(y_test_binary), \"NOT EXTRA:\", len(y_test_binary) - np.sum(y_test_binary))\n",
    "print(\"Val EXTRA:\", np.sum(y_val_binary), \"NOT EXTRA:\", len(y_val_binary) - np.sum(y_val_binary))\n",
    "\n",
    "print(\"Feature shape:\", X_train.shape)"
   ]
  },
  {
   "cell_type": "code",
   "execution_count": 28,
   "id": "49b2ec7b",
   "metadata": {
    "execution": {
     "iopub.execute_input": "2025-09-03T21:29:17.801437Z",
     "iopub.status.busy": "2025-09-03T21:29:17.801044Z",
     "iopub.status.idle": "2025-09-03T21:29:17.824371Z",
     "shell.execute_reply": "2025-09-03T21:29:17.822840Z"
    },
    "papermill": {
     "duration": 0.058815,
     "end_time": "2025-09-03T21:29:17.826001",
     "exception": false,
     "start_time": "2025-09-03T21:29:17.767186",
     "status": "completed"
    },
    "tags": []
   },
   "outputs": [
    {
     "name": "stdout",
     "output_type": "stream",
     "text": [
      "Autoencoder created with input dimension: 1031\n"
     ]
    }
   ],
   "source": [
    "class SimpleAutoencoder(tf.keras.Model):\n",
    "    def __init__(self, input_dim):\n",
    "        super(SimpleAutoencoder, self).__init__()\n",
    "        # Encoder\n",
    "        self.encoder = tf.keras.Sequential([\n",
    "            layers.Dense(512, activation=\"relu\"),\n",
    "            layers.Dense(128, activation=\"relu\"), \n",
    "            layers.Dense(64, activation=\"relu\")  # bottleneck\n",
    "        ])\n",
    "        # Decoder  \n",
    "        self.decoder = tf.keras.Sequential([\n",
    "            layers.Dense(128, activation=\"relu\"),\n",
    "            layers.Dense(512, activation=\"relu\"),\n",
    "            layers.Dense(input_dim, activation=\"linear\")  # reconstruct input\n",
    "        ])\n",
    "        \n",
    "    def call(self, x):\n",
    "        encoded = self.encoder(x)\n",
    "        decoded = self.decoder(encoded)\n",
    "        return decoded\n",
    "\n",
    "input_dim = X_train.shape[1]  # 1031 features\n",
    "autoencoder = SimpleAutoencoder(input_dim)\n",
    "autoencoder.compile(optimizer=\"adam\", loss=\"mse\")\n",
    "\n",
    "print(\"Autoencoder created with input dimension:\", input_dim)"
   ]
  },
  {
   "cell_type": "code",
   "execution_count": 29,
   "id": "11882805",
   "metadata": {
    "execution": {
     "iopub.execute_input": "2025-09-03T21:29:17.893227Z",
     "iopub.status.busy": "2025-09-03T21:29:17.892835Z",
     "iopub.status.idle": "2025-09-03T21:29:42.684587Z",
     "shell.execute_reply": "2025-09-03T21:29:42.683455Z"
    },
    "papermill": {
     "duration": 24.829146,
     "end_time": "2025-09-03T21:29:42.686388",
     "exception": false,
     "start_time": "2025-09-03T21:29:17.857242",
     "status": "completed"
    },
    "tags": []
   },
   "outputs": [
    {
     "name": "stdout",
     "output_type": "stream",
     "text": [
      "Training samples:\n",
      "Normal samples for training: 266\n",
      "Normal samples for validation: 62\n",
      "Epoch 1/100\n",
      "\u001b[1m9/9\u001b[0m \u001b[32m━━━━━━━━━━━━━━━━━━━━\u001b[0m\u001b[37m\u001b[0m \u001b[1m4s\u001b[0m 56ms/step - loss: 0.0369 - val_loss: 0.0065\n",
      "Epoch 2/100\n",
      "\u001b[1m9/9\u001b[0m \u001b[32m━━━━━━━━━━━━━━━━━━━━\u001b[0m\u001b[37m\u001b[0m \u001b[1m0s\u001b[0m 20ms/step - loss: 0.0050 - val_loss: 0.0019\n",
      "Epoch 3/100\n",
      "\u001b[1m9/9\u001b[0m \u001b[32m━━━━━━━━━━━━━━━━━━━━\u001b[0m\u001b[37m\u001b[0m \u001b[1m0s\u001b[0m 21ms/step - loss: 0.0016 - val_loss: 9.9004e-04\n",
      "Epoch 4/100\n",
      "\u001b[1m9/9\u001b[0m \u001b[32m━━━━━━━━━━━━━━━━━━━━\u001b[0m\u001b[37m\u001b[0m \u001b[1m0s\u001b[0m 21ms/step - loss: 9.0047e-04 - val_loss: 7.5585e-04\n",
      "Epoch 5/100\n",
      "\u001b[1m9/9\u001b[0m \u001b[32m━━━━━━━━━━━━━━━━━━━━\u001b[0m\u001b[37m\u001b[0m \u001b[1m0s\u001b[0m 20ms/step - loss: 6.8616e-04 - val_loss: 6.6310e-04\n",
      "Epoch 6/100\n",
      "\u001b[1m9/9\u001b[0m \u001b[32m━━━━━━━━━━━━━━━━━━━━\u001b[0m\u001b[37m\u001b[0m \u001b[1m0s\u001b[0m 23ms/step - loss: 5.8926e-04 - val_loss: 6.1644e-04\n",
      "Epoch 7/100\n",
      "\u001b[1m9/9\u001b[0m \u001b[32m━━━━━━━━━━━━━━━━━━━━\u001b[0m\u001b[37m\u001b[0m \u001b[1m0s\u001b[0m 22ms/step - loss: 5.6461e-04 - val_loss: 6.0609e-04\n",
      "Epoch 8/100\n",
      "\u001b[1m9/9\u001b[0m \u001b[32m━━━━━━━━━━━━━━━━━━━━\u001b[0m\u001b[37m\u001b[0m \u001b[1m0s\u001b[0m 21ms/step - loss: 5.5731e-04 - val_loss: 5.7501e-04\n",
      "Epoch 9/100\n",
      "\u001b[1m9/9\u001b[0m \u001b[32m━━━━━━━━━━━━━━━━━━━━\u001b[0m\u001b[37m\u001b[0m \u001b[1m0s\u001b[0m 21ms/step - loss: 5.4311e-04 - val_loss: 5.3327e-04\n",
      "Epoch 10/100\n",
      "\u001b[1m9/9\u001b[0m \u001b[32m━━━━━━━━━━━━━━━━━━━━\u001b[0m\u001b[37m\u001b[0m \u001b[1m0s\u001b[0m 21ms/step - loss: 5.0890e-04 - val_loss: 5.0771e-04\n",
      "Epoch 11/100\n",
      "\u001b[1m9/9\u001b[0m \u001b[32m━━━━━━━━━━━━━━━━━━━━\u001b[0m\u001b[37m\u001b[0m \u001b[1m0s\u001b[0m 21ms/step - loss: 4.2698e-04 - val_loss: 4.2808e-04\n",
      "Epoch 12/100\n",
      "\u001b[1m9/9\u001b[0m \u001b[32m━━━━━━━━━━━━━━━━━━━━\u001b[0m\u001b[37m\u001b[0m \u001b[1m0s\u001b[0m 20ms/step - loss: 3.7417e-04 - val_loss: 3.5469e-04\n",
      "Epoch 13/100\n",
      "\u001b[1m9/9\u001b[0m \u001b[32m━━━━━━━━━━━━━━━━━━━━\u001b[0m\u001b[37m\u001b[0m \u001b[1m0s\u001b[0m 20ms/step - loss: 3.3599e-04 - val_loss: 2.8726e-04\n",
      "Epoch 14/100\n",
      "\u001b[1m9/9\u001b[0m \u001b[32m━━━━━━━━━━━━━━━━━━━━\u001b[0m\u001b[37m\u001b[0m \u001b[1m0s\u001b[0m 20ms/step - loss: 2.6595e-04 - val_loss: 2.5432e-04\n",
      "Epoch 15/100\n",
      "\u001b[1m9/9\u001b[0m \u001b[32m━━━━━━━━━━━━━━━━━━━━\u001b[0m\u001b[37m\u001b[0m \u001b[1m0s\u001b[0m 20ms/step - loss: 2.4048e-04 - val_loss: 2.2925e-04\n",
      "Epoch 16/100\n",
      "\u001b[1m9/9\u001b[0m \u001b[32m━━━━━━━━━━━━━━━━━━━━\u001b[0m\u001b[37m\u001b[0m \u001b[1m0s\u001b[0m 20ms/step - loss: 2.0958e-04 - val_loss: 2.0908e-04\n",
      "Epoch 17/100\n",
      "\u001b[1m9/9\u001b[0m \u001b[32m━━━━━━━━━━━━━━━━━━━━\u001b[0m\u001b[37m\u001b[0m \u001b[1m0s\u001b[0m 20ms/step - loss: 1.9074e-04 - val_loss: 1.9684e-04\n",
      "Epoch 18/100\n",
      "\u001b[1m9/9\u001b[0m \u001b[32m━━━━━━━━━━━━━━━━━━━━\u001b[0m\u001b[37m\u001b[0m \u001b[1m0s\u001b[0m 21ms/step - loss: 1.6173e-04 - val_loss: 1.8849e-04\n",
      "Epoch 19/100\n",
      "\u001b[1m9/9\u001b[0m \u001b[32m━━━━━━━━━━━━━━━━━━━━\u001b[0m\u001b[37m\u001b[0m \u001b[1m0s\u001b[0m 22ms/step - loss: 1.8138e-04 - val_loss: 1.7772e-04\n",
      "Epoch 20/100\n",
      "\u001b[1m9/9\u001b[0m \u001b[32m━━━━━━━━━━━━━━━━━━━━\u001b[0m\u001b[37m\u001b[0m \u001b[1m0s\u001b[0m 25ms/step - loss: 1.5792e-04 - val_loss: 1.7638e-04\n",
      "Epoch 21/100\n",
      "\u001b[1m9/9\u001b[0m \u001b[32m━━━━━━━━━━━━━━━━━━━━\u001b[0m\u001b[37m\u001b[0m \u001b[1m0s\u001b[0m 21ms/step - loss: 1.6800e-04 - val_loss: 1.6312e-04\n",
      "Epoch 22/100\n",
      "\u001b[1m9/9\u001b[0m \u001b[32m━━━━━━━━━━━━━━━━━━━━\u001b[0m\u001b[37m\u001b[0m \u001b[1m0s\u001b[0m 21ms/step - loss: 1.5642e-04 - val_loss: 1.5857e-04\n",
      "Epoch 23/100\n",
      "\u001b[1m9/9\u001b[0m \u001b[32m━━━━━━━━━━━━━━━━━━━━\u001b[0m\u001b[37m\u001b[0m \u001b[1m0s\u001b[0m 22ms/step - loss: 1.5308e-04 - val_loss: 1.4949e-04\n",
      "Epoch 24/100\n",
      "\u001b[1m9/9\u001b[0m \u001b[32m━━━━━━━━━━━━━━━━━━━━\u001b[0m\u001b[37m\u001b[0m \u001b[1m0s\u001b[0m 21ms/step - loss: 1.4792e-04 - val_loss: 1.7336e-04\n",
      "Epoch 25/100\n",
      "\u001b[1m9/9\u001b[0m \u001b[32m━━━━━━━━━━━━━━━━━━━━\u001b[0m\u001b[37m\u001b[0m \u001b[1m0s\u001b[0m 21ms/step - loss: 1.5223e-04 - val_loss: 1.3126e-04\n",
      "Epoch 26/100\n",
      "\u001b[1m9/9\u001b[0m \u001b[32m━━━━━━━━━━━━━━━━━━━━\u001b[0m\u001b[37m\u001b[0m \u001b[1m0s\u001b[0m 21ms/step - loss: 1.5487e-04 - val_loss: 1.2745e-04\n",
      "Epoch 27/100\n",
      "\u001b[1m9/9\u001b[0m \u001b[32m━━━━━━━━━━━━━━━━━━━━\u001b[0m\u001b[37m\u001b[0m \u001b[1m0s\u001b[0m 22ms/step - loss: 1.4206e-04 - val_loss: 1.1409e-04\n",
      "Epoch 28/100\n",
      "\u001b[1m9/9\u001b[0m \u001b[32m━━━━━━━━━━━━━━━━━━━━\u001b[0m\u001b[37m\u001b[0m \u001b[1m0s\u001b[0m 21ms/step - loss: 1.1215e-04 - val_loss: 1.1018e-04\n",
      "Epoch 29/100\n",
      "\u001b[1m9/9\u001b[0m \u001b[32m━━━━━━━━━━━━━━━━━━━━\u001b[0m\u001b[37m\u001b[0m \u001b[1m0s\u001b[0m 21ms/step - loss: 1.0921e-04 - val_loss: 1.0664e-04\n",
      "Epoch 30/100\n",
      "\u001b[1m9/9\u001b[0m \u001b[32m━━━━━━━━━━━━━━━━━━━━\u001b[0m\u001b[37m\u001b[0m \u001b[1m0s\u001b[0m 21ms/step - loss: 9.8319e-05 - val_loss: 9.8656e-05\n",
      "Epoch 31/100\n",
      "\u001b[1m9/9\u001b[0m \u001b[32m━━━━━━━━━━━━━━━━━━━━\u001b[0m\u001b[37m\u001b[0m \u001b[1m0s\u001b[0m 21ms/step - loss: 1.0226e-04 - val_loss: 9.7351e-05\n",
      "Epoch 32/100\n",
      "\u001b[1m9/9\u001b[0m \u001b[32m━━━━━━━━━━━━━━━━━━━━\u001b[0m\u001b[37m\u001b[0m \u001b[1m0s\u001b[0m 21ms/step - loss: 9.7563e-05 - val_loss: 9.0830e-05\n",
      "Epoch 33/100\n",
      "\u001b[1m9/9\u001b[0m \u001b[32m━━━━━━━━━━━━━━━━━━━━\u001b[0m\u001b[37m\u001b[0m \u001b[1m0s\u001b[0m 21ms/step - loss: 9.5872e-05 - val_loss: 9.1536e-05\n",
      "Epoch 34/100\n",
      "\u001b[1m9/9\u001b[0m \u001b[32m━━━━━━━━━━━━━━━━━━━━\u001b[0m\u001b[37m\u001b[0m \u001b[1m0s\u001b[0m 21ms/step - loss: 8.6950e-05 - val_loss: 7.8745e-05\n",
      "Epoch 35/100\n",
      "\u001b[1m9/9\u001b[0m \u001b[32m━━━━━━━━━━━━━━━━━━━━\u001b[0m\u001b[37m\u001b[0m \u001b[1m0s\u001b[0m 21ms/step - loss: 9.2120e-05 - val_loss: 7.3998e-05\n",
      "Epoch 36/100\n",
      "\u001b[1m9/9\u001b[0m \u001b[32m━━━━━━━━━━━━━━━━━━━━\u001b[0m\u001b[37m\u001b[0m \u001b[1m0s\u001b[0m 20ms/step - loss: 7.1547e-05 - val_loss: 6.8230e-05\n",
      "Epoch 37/100\n",
      "\u001b[1m9/9\u001b[0m \u001b[32m━━━━━━━━━━━━━━━━━━━━\u001b[0m\u001b[37m\u001b[0m \u001b[1m0s\u001b[0m 22ms/step - loss: 7.0837e-05 - val_loss: 5.6097e-05\n",
      "Epoch 38/100\n",
      "\u001b[1m9/9\u001b[0m \u001b[32m━━━━━━━━━━━━━━━━━━━━\u001b[0m\u001b[37m\u001b[0m \u001b[1m0s\u001b[0m 20ms/step - loss: 7.6321e-05 - val_loss: 6.9122e-05\n",
      "Epoch 39/100\n",
      "\u001b[1m9/9\u001b[0m \u001b[32m━━━━━━━━━━━━━━━━━━━━\u001b[0m\u001b[37m\u001b[0m \u001b[1m0s\u001b[0m 20ms/step - loss: 6.2725e-05 - val_loss: 4.1323e-05\n",
      "Epoch 40/100\n",
      "\u001b[1m9/9\u001b[0m \u001b[32m━━━━━━━━━━━━━━━━━━━━\u001b[0m\u001b[37m\u001b[0m \u001b[1m0s\u001b[0m 20ms/step - loss: 4.9569e-05 - val_loss: 5.6821e-05\n",
      "Epoch 41/100\n",
      "\u001b[1m9/9\u001b[0m \u001b[32m━━━━━━━━━━━━━━━━━━━━\u001b[0m\u001b[37m\u001b[0m \u001b[1m0s\u001b[0m 20ms/step - loss: 6.3205e-05 - val_loss: 4.6692e-05\n",
      "Epoch 42/100\n",
      "\u001b[1m9/9\u001b[0m \u001b[32m━━━━━━━━━━━━━━━━━━━━\u001b[0m\u001b[37m\u001b[0m \u001b[1m0s\u001b[0m 21ms/step - loss: 5.7800e-05 - val_loss: 5.8185e-05\n",
      "Epoch 43/100\n",
      "\u001b[1m9/9\u001b[0m \u001b[32m━━━━━━━━━━━━━━━━━━━━\u001b[0m\u001b[37m\u001b[0m \u001b[1m0s\u001b[0m 21ms/step - loss: 6.6784e-05 - val_loss: 6.4186e-05\n",
      "Epoch 44/100\n",
      "\u001b[1m9/9\u001b[0m \u001b[32m━━━━━━━━━━━━━━━━━━━━\u001b[0m\u001b[37m\u001b[0m \u001b[1m0s\u001b[0m 20ms/step - loss: 5.5899e-05 - val_loss: 3.2122e-05\n",
      "Epoch 45/100\n",
      "\u001b[1m9/9\u001b[0m \u001b[32m━━━━━━━━━━━━━━━━━━━━\u001b[0m\u001b[37m\u001b[0m \u001b[1m0s\u001b[0m 20ms/step - loss: 3.7883e-05 - val_loss: 3.1295e-05\n",
      "Epoch 46/100\n",
      "\u001b[1m9/9\u001b[0m \u001b[32m━━━━━━━━━━━━━━━━━━━━\u001b[0m\u001b[37m\u001b[0m \u001b[1m0s\u001b[0m 21ms/step - loss: 3.4160e-05 - val_loss: 2.7980e-05\n",
      "Epoch 47/100\n",
      "\u001b[1m9/9\u001b[0m \u001b[32m━━━━━━━━━━━━━━━━━━━━\u001b[0m\u001b[37m\u001b[0m \u001b[1m0s\u001b[0m 22ms/step - loss: 3.8490e-05 - val_loss: 2.8420e-05\n",
      "Epoch 48/100\n",
      "\u001b[1m9/9\u001b[0m \u001b[32m━━━━━━━━━━━━━━━━━━━━\u001b[0m\u001b[37m\u001b[0m \u001b[1m0s\u001b[0m 22ms/step - loss: 3.6853e-05 - val_loss: 2.6670e-05\n",
      "Epoch 49/100\n",
      "\u001b[1m9/9\u001b[0m \u001b[32m━━━━━━━━━━━━━━━━━━━━\u001b[0m\u001b[37m\u001b[0m \u001b[1m0s\u001b[0m 21ms/step - loss: 3.2287e-05 - val_loss: 2.5075e-05\n",
      "Epoch 50/100\n",
      "\u001b[1m9/9\u001b[0m \u001b[32m━━━━━━━━━━━━━━━━━━━━\u001b[0m\u001b[37m\u001b[0m \u001b[1m0s\u001b[0m 22ms/step - loss: 3.1561e-05 - val_loss: 2.5690e-05\n",
      "Epoch 51/100\n",
      "\u001b[1m9/9\u001b[0m \u001b[32m━━━━━━━━━━━━━━━━━━━━\u001b[0m\u001b[37m\u001b[0m \u001b[1m0s\u001b[0m 21ms/step - loss: 3.3217e-05 - val_loss: 2.6355e-05\n",
      "Epoch 52/100\n",
      "\u001b[1m9/9\u001b[0m \u001b[32m━━━━━━━━━━━━━━━━━━━━\u001b[0m\u001b[37m\u001b[0m \u001b[1m0s\u001b[0m 20ms/step - loss: 3.5305e-05 - val_loss: 2.7330e-05\n",
      "Epoch 53/100\n",
      "\u001b[1m9/9\u001b[0m \u001b[32m━━━━━━━━━━━━━━━━━━━━\u001b[0m\u001b[37m\u001b[0m \u001b[1m0s\u001b[0m 21ms/step - loss: 3.2513e-05 - val_loss: 2.4623e-05\n",
      "Epoch 54/100\n",
      "\u001b[1m9/9\u001b[0m \u001b[32m━━━━━━━━━━━━━━━━━━━━\u001b[0m\u001b[37m\u001b[0m \u001b[1m0s\u001b[0m 22ms/step - loss: 2.5475e-05 - val_loss: 2.6346e-05\n",
      "Epoch 55/100\n",
      "\u001b[1m9/9\u001b[0m \u001b[32m━━━━━━━━━━━━━━━━━━━━\u001b[0m\u001b[37m\u001b[0m \u001b[1m0s\u001b[0m 21ms/step - loss: 2.8456e-05 - val_loss: 2.4743e-05\n",
      "Epoch 56/100\n",
      "\u001b[1m9/9\u001b[0m \u001b[32m━━━━━━━━━━━━━━━━━━━━\u001b[0m\u001b[37m\u001b[0m \u001b[1m0s\u001b[0m 21ms/step - loss: 3.1419e-05 - val_loss: 2.3914e-05\n",
      "Epoch 57/100\n",
      "\u001b[1m9/9\u001b[0m \u001b[32m━━━━━━━━━━━━━━━━━━━━\u001b[0m\u001b[37m\u001b[0m \u001b[1m0s\u001b[0m 20ms/step - loss: 3.4254e-05 - val_loss: 2.3803e-05\n",
      "Epoch 58/100\n",
      "\u001b[1m9/9\u001b[0m \u001b[32m━━━━━━━━━━━━━━━━━━━━\u001b[0m\u001b[37m\u001b[0m \u001b[1m0s\u001b[0m 20ms/step - loss: 3.0655e-05 - val_loss: 2.2663e-05\n",
      "Epoch 59/100\n",
      "\u001b[1m9/9\u001b[0m \u001b[32m━━━━━━━━━━━━━━━━━━━━\u001b[0m\u001b[37m\u001b[0m \u001b[1m0s\u001b[0m 21ms/step - loss: 3.1146e-05 - val_loss: 2.5185e-05\n",
      "Epoch 60/100\n",
      "\u001b[1m9/9\u001b[0m \u001b[32m━━━━━━━━━━━━━━━━━━━━\u001b[0m\u001b[37m\u001b[0m \u001b[1m0s\u001b[0m 24ms/step - loss: 4.1475e-05 - val_loss: 2.7292e-05\n",
      "Epoch 61/100\n",
      "\u001b[1m9/9\u001b[0m \u001b[32m━━━━━━━━━━━━━━━━━━━━\u001b[0m\u001b[37m\u001b[0m \u001b[1m0s\u001b[0m 24ms/step - loss: 2.9371e-05 - val_loss: 2.5425e-05\n",
      "Epoch 62/100\n",
      "\u001b[1m9/9\u001b[0m \u001b[32m━━━━━━━━━━━━━━━━━━━━\u001b[0m\u001b[37m\u001b[0m \u001b[1m0s\u001b[0m 20ms/step - loss: 3.3665e-05 - val_loss: 2.1693e-05\n",
      "Epoch 63/100\n",
      "\u001b[1m9/9\u001b[0m \u001b[32m━━━━━━━━━━━━━━━━━━━━\u001b[0m\u001b[37m\u001b[0m \u001b[1m0s\u001b[0m 21ms/step - loss: 2.7330e-05 - val_loss: 2.1933e-05\n",
      "Epoch 64/100\n",
      "\u001b[1m9/9\u001b[0m \u001b[32m━━━━━━━━━━━━━━━━━━━━\u001b[0m\u001b[37m\u001b[0m \u001b[1m0s\u001b[0m 20ms/step - loss: 2.1361e-05 - val_loss: 1.9866e-05\n",
      "Epoch 65/100\n",
      "\u001b[1m9/9\u001b[0m \u001b[32m━━━━━━━━━━━━━━━━━━━━\u001b[0m\u001b[37m\u001b[0m \u001b[1m0s\u001b[0m 21ms/step - loss: 2.3350e-05 - val_loss: 2.6295e-05\n",
      "Epoch 66/100\n",
      "\u001b[1m9/9\u001b[0m \u001b[32m━━━━━━━━━━━━━━━━━━━━\u001b[0m\u001b[37m\u001b[0m \u001b[1m0s\u001b[0m 23ms/step - loss: 3.5141e-05 - val_loss: 3.3745e-05\n",
      "Epoch 67/100\n",
      "\u001b[1m9/9\u001b[0m \u001b[32m━━━━━━━━━━━━━━━━━━━━\u001b[0m\u001b[37m\u001b[0m \u001b[1m0s\u001b[0m 21ms/step - loss: 6.3862e-05 - val_loss: 4.3866e-05\n",
      "Epoch 68/100\n",
      "\u001b[1m9/9\u001b[0m \u001b[32m━━━━━━━━━━━━━━━━━━━━\u001b[0m\u001b[37m\u001b[0m \u001b[1m0s\u001b[0m 21ms/step - loss: 5.2223e-05 - val_loss: 6.4909e-05\n",
      "Epoch 69/100\n",
      "\u001b[1m9/9\u001b[0m \u001b[32m━━━━━━━━━━━━━━━━━━━━\u001b[0m\u001b[37m\u001b[0m \u001b[1m0s\u001b[0m 21ms/step - loss: 5.0897e-05 - val_loss: 3.6889e-05\n",
      "Epoch 70/100\n",
      "\u001b[1m9/9\u001b[0m \u001b[32m━━━━━━━━━━━━━━━━━━━━\u001b[0m\u001b[37m\u001b[0m \u001b[1m0s\u001b[0m 22ms/step - loss: 3.5087e-05 - val_loss: 5.1359e-05\n",
      "Epoch 71/100\n",
      "\u001b[1m9/9\u001b[0m \u001b[32m━━━━━━━━━━━━━━━━━━━━\u001b[0m\u001b[37m\u001b[0m \u001b[1m0s\u001b[0m 24ms/step - loss: 4.6931e-05 - val_loss: 2.7664e-05\n",
      "Epoch 72/100\n",
      "\u001b[1m9/9\u001b[0m \u001b[32m━━━━━━━━━━━━━━━━━━━━\u001b[0m\u001b[37m\u001b[0m \u001b[1m0s\u001b[0m 24ms/step - loss: 3.1767e-05 - val_loss: 2.6159e-05\n",
      "Epoch 73/100\n",
      "\u001b[1m9/9\u001b[0m \u001b[32m━━━━━━━━━━━━━━━━━━━━\u001b[0m\u001b[37m\u001b[0m \u001b[1m0s\u001b[0m 22ms/step - loss: 2.7325e-05 - val_loss: 2.1864e-05\n",
      "Epoch 74/100\n",
      "\u001b[1m9/9\u001b[0m \u001b[32m━━━━━━━━━━━━━━━━━━━━\u001b[0m\u001b[37m\u001b[0m \u001b[1m0s\u001b[0m 21ms/step - loss: 2.6317e-05 - val_loss: 1.9243e-05\n",
      "Epoch 75/100\n",
      "\u001b[1m9/9\u001b[0m \u001b[32m━━━━━━━━━━━━━━━━━━━━\u001b[0m\u001b[37m\u001b[0m \u001b[1m0s\u001b[0m 21ms/step - loss: 2.2720e-05 - val_loss: 2.1948e-05\n",
      "Epoch 76/100\n",
      "\u001b[1m9/9\u001b[0m \u001b[32m━━━━━━━━━━━━━━━━━━━━\u001b[0m\u001b[37m\u001b[0m \u001b[1m0s\u001b[0m 20ms/step - loss: 2.3512e-05 - val_loss: 1.5852e-05\n",
      "Epoch 77/100\n",
      "\u001b[1m9/9\u001b[0m \u001b[32m━━━━━━━━━━━━━━━━━━━━\u001b[0m\u001b[37m\u001b[0m \u001b[1m0s\u001b[0m 22ms/step - loss: 1.7693e-05 - val_loss: 1.3546e-05\n",
      "Epoch 78/100\n",
      "\u001b[1m9/9\u001b[0m \u001b[32m━━━━━━━━━━━━━━━━━━━━\u001b[0m\u001b[37m\u001b[0m \u001b[1m0s\u001b[0m 23ms/step - loss: 1.4452e-05 - val_loss: 1.3121e-05\n",
      "Epoch 79/100\n",
      "\u001b[1m9/9\u001b[0m \u001b[32m━━━━━━━━━━━━━━━━━━━━\u001b[0m\u001b[37m\u001b[0m \u001b[1m0s\u001b[0m 22ms/step - loss: 1.6107e-05 - val_loss: 1.1322e-05\n",
      "Epoch 80/100\n",
      "\u001b[1m9/9\u001b[0m \u001b[32m━━━━━━━━━━━━━━━━━━━━\u001b[0m\u001b[37m\u001b[0m \u001b[1m0s\u001b[0m 20ms/step - loss: 1.2832e-05 - val_loss: 8.9288e-06\n",
      "Epoch 81/100\n",
      "\u001b[1m9/9\u001b[0m \u001b[32m━━━━━━━━━━━━━━━━━━━━\u001b[0m\u001b[37m\u001b[0m \u001b[1m0s\u001b[0m 21ms/step - loss: 1.0418e-05 - val_loss: 1.3783e-05\n",
      "Epoch 82/100\n",
      "\u001b[1m9/9\u001b[0m \u001b[32m━━━━━━━━━━━━━━━━━━━━\u001b[0m\u001b[37m\u001b[0m \u001b[1m0s\u001b[0m 20ms/step - loss: 1.1216e-05 - val_loss: 1.7721e-05\n",
      "Epoch 83/100\n",
      "\u001b[1m9/9\u001b[0m \u001b[32m━━━━━━━━━━━━━━━━━━━━\u001b[0m\u001b[37m\u001b[0m \u001b[1m0s\u001b[0m 20ms/step - loss: 1.9720e-05 - val_loss: 1.3180e-05\n",
      "Epoch 84/100\n",
      "\u001b[1m9/9\u001b[0m \u001b[32m━━━━━━━━━━━━━━━━━━━━\u001b[0m\u001b[37m\u001b[0m \u001b[1m0s\u001b[0m 20ms/step - loss: 1.0591e-05 - val_loss: 8.1837e-06\n",
      "Epoch 85/100\n",
      "\u001b[1m9/9\u001b[0m \u001b[32m━━━━━━━━━━━━━━━━━━━━\u001b[0m\u001b[37m\u001b[0m \u001b[1m0s\u001b[0m 20ms/step - loss: 7.5326e-06 - val_loss: 8.1004e-06\n",
      "Epoch 86/100\n",
      "\u001b[1m9/9\u001b[0m \u001b[32m━━━━━━━━━━━━━━━━━━━━\u001b[0m\u001b[37m\u001b[0m \u001b[1m0s\u001b[0m 20ms/step - loss: 7.8751e-06 - val_loss: 9.2735e-06\n",
      "Epoch 87/100\n",
      "\u001b[1m9/9\u001b[0m \u001b[32m━━━━━━━━━━━━━━━━━━━━\u001b[0m\u001b[37m\u001b[0m \u001b[1m0s\u001b[0m 20ms/step - loss: 7.9346e-06 - val_loss: 1.1911e-05\n",
      "Epoch 88/100\n",
      "\u001b[1m9/9\u001b[0m \u001b[32m━━━━━━━━━━━━━━━━━━━━\u001b[0m\u001b[37m\u001b[0m \u001b[1m0s\u001b[0m 20ms/step - loss: 1.1224e-05 - val_loss: 9.4414e-06\n",
      "Epoch 89/100\n",
      "\u001b[1m9/9\u001b[0m \u001b[32m━━━━━━━━━━━━━━━━━━━━\u001b[0m\u001b[37m\u001b[0m \u001b[1m0s\u001b[0m 21ms/step - loss: 7.6488e-06 - val_loss: 6.2378e-06\n",
      "Epoch 90/100\n",
      "\u001b[1m9/9\u001b[0m \u001b[32m━━━━━━━━━━━━━━━━━━━━\u001b[0m\u001b[37m\u001b[0m \u001b[1m0s\u001b[0m 20ms/step - loss: 6.0584e-06 - val_loss: 1.1400e-05\n",
      "Epoch 91/100\n",
      "\u001b[1m9/9\u001b[0m \u001b[32m━━━━━━━━━━━━━━━━━━━━\u001b[0m\u001b[37m\u001b[0m \u001b[1m0s\u001b[0m 20ms/step - loss: 9.6789e-06 - val_loss: 5.1610e-06\n",
      "Epoch 92/100\n",
      "\u001b[1m9/9\u001b[0m \u001b[32m━━━━━━━━━━━━━━━━━━━━\u001b[0m\u001b[37m\u001b[0m \u001b[1m0s\u001b[0m 21ms/step - loss: 1.0035e-05 - val_loss: 1.5615e-05\n",
      "Epoch 93/100\n",
      "\u001b[1m9/9\u001b[0m \u001b[32m━━━━━━━━━━━━━━━━━━━━\u001b[0m\u001b[37m\u001b[0m \u001b[1m0s\u001b[0m 21ms/step - loss: 2.4762e-05 - val_loss: 1.2500e-05\n",
      "Epoch 94/100\n",
      "\u001b[1m9/9\u001b[0m \u001b[32m━━━━━━━━━━━━━━━━━━━━\u001b[0m\u001b[37m\u001b[0m \u001b[1m0s\u001b[0m 21ms/step - loss: 1.3621e-05 - val_loss: 2.1312e-05\n",
      "Epoch 95/100\n",
      "\u001b[1m9/9\u001b[0m \u001b[32m━━━━━━━━━━━━━━━━━━━━\u001b[0m\u001b[37m\u001b[0m \u001b[1m0s\u001b[0m 21ms/step - loss: 1.5369e-05 - val_loss: 8.7372e-06\n",
      "Epoch 96/100\n",
      "\u001b[1m9/9\u001b[0m \u001b[32m━━━━━━━━━━━━━━━━━━━━\u001b[0m\u001b[37m\u001b[0m \u001b[1m0s\u001b[0m 23ms/step - loss: 1.1403e-05 - val_loss: 6.9773e-06\n",
      "Epoch 97/100\n",
      "\u001b[1m9/9\u001b[0m \u001b[32m━━━━━━━━━━━━━━━━━━━━\u001b[0m\u001b[37m\u001b[0m \u001b[1m0s\u001b[0m 20ms/step - loss: 8.3240e-06 - val_loss: 8.8830e-06\n",
      "Epoch 98/100\n",
      "\u001b[1m9/9\u001b[0m \u001b[32m━━━━━━━━━━━━━━━━━━━━\u001b[0m\u001b[37m\u001b[0m \u001b[1m0s\u001b[0m 21ms/step - loss: 6.7084e-06 - val_loss: 3.3122e-06\n",
      "Epoch 99/100\n",
      "\u001b[1m9/9\u001b[0m \u001b[32m━━━━━━━━━━━━━━━━━━━━\u001b[0m\u001b[37m\u001b[0m \u001b[1m0s\u001b[0m 22ms/step - loss: 4.2337e-06 - val_loss: 7.9128e-06\n",
      "Epoch 100/100\n",
      "\u001b[1m9/9\u001b[0m \u001b[32m━━━━━━━━━━━━━━━━━━━━\u001b[0m\u001b[37m\u001b[0m \u001b[1m0s\u001b[0m 21ms/step - loss: 5.6249e-06 - val_loss: 5.5322e-06\n",
      "Training completed!\n"
     ]
    }
   ],
   "source": [
    "X_train_normal = X_train[y_train_binary == 1]\n",
    "X_val_normal = X_val[y_val_binary == 1]\n",
    "\n",
    "print(\"Training samples:\")\n",
    "print(\"Normal samples for training:\", X_train_normal.shape[0])\n",
    "print(\"Normal samples for validation:\", X_val_normal.shape[0])\n",
    "\n",
    "history = autoencoder.fit(\n",
    "    X_train_normal, X_train_normal,  \n",
    "    epochs=100,\n",
    "    batch_size=32,\n",
    "    validation_data=(X_val_normal, X_val_normal),\n",
    "    verbose=1\n",
    ")\n",
    "\n",
    "print(\"Training completed!\")"
   ]
  },
  {
   "cell_type": "code",
   "execution_count": 30,
   "id": "c382e2e9",
   "metadata": {
    "execution": {
     "iopub.execute_input": "2025-09-03T21:29:42.797535Z",
     "iopub.status.busy": "2025-09-03T21:29:42.797036Z",
     "iopub.status.idle": "2025-09-03T21:29:42.873367Z",
     "shell.execute_reply": "2025-09-03T21:29:42.872361Z"
    },
    "papermill": {
     "duration": 0.133327,
     "end_time": "2025-09-03T21:29:42.874987",
     "exception": false,
     "start_time": "2025-09-03T21:29:42.741660",
     "status": "completed"
    },
    "tags": []
   },
   "outputs": [
    {
     "name": "stdout",
     "output_type": "stream",
     "text": [
      "Anomaly threshold: 0.0000\n",
      "Prediction distribution:\n",
      "Predicted normal: 81\n",
      "Predicted anomaly: 111\n",
      "True normal: 72\n",
      "True anomaly: 120\n"
     ]
    }
   ],
   "source": [
    "train_reconstructions = autoencoder(X_train_normal)\n",
    "train_mse = tf.keras.losses.mse(X_train_normal, train_reconstructions)\n",
    "\n",
    "# Set threshold as 95th percentile of training errors\n",
    "threshold = np.percentile(train_mse, 95)\n",
    "print(f\"Anomaly threshold: {threshold:.4f}\")\n",
    "\n",
    "test_reconstructions = autoencoder(X_test)\n",
    "test_mse = tf.keras.losses.mse(X_test, test_reconstructions)\n",
    "\n",
    "y_pred_anomaly = (test_mse > threshold).numpy().astype(int)\n",
    "\n",
    "y_true_anomaly = 1 - y_test_binary  # flip: 0=normal, 1=anomaly\n",
    "\n",
    "print(\"Prediction distribution:\")\n",
    "print(\"Predicted normal:\", np.sum(y_pred_anomaly == 0))\n",
    "print(\"Predicted anomaly:\", np.sum(y_pred_anomaly == 1))\n",
    "print(\"True normal:\", np.sum(y_true_anomaly == 0)) \n",
    "print(\"True anomaly:\", np.sum(y_true_anomaly == 1))"
   ]
  },
  {
   "cell_type": "code",
   "execution_count": 31,
   "id": "41eae98a",
   "metadata": {
    "execution": {
     "iopub.execute_input": "2025-09-03T21:29:42.985706Z",
     "iopub.status.busy": "2025-09-03T21:29:42.985334Z",
     "iopub.status.idle": "2025-09-03T21:29:43.003607Z",
     "shell.execute_reply": "2025-09-03T21:29:43.001671Z"
    },
    "papermill": {
     "duration": 0.075121,
     "end_time": "2025-09-03T21:29:43.006056",
     "exception": false,
     "start_time": "2025-09-03T21:29:42.930935",
     "status": "completed"
    },
    "tags": []
   },
   "outputs": [
    {
     "name": "stdout",
     "output_type": "stream",
     "text": [
      "=== ANOMALY DETECTION RESULTS ===\n",
      "Accuracy: 0.9219\n",
      "Precision: 0.9730\n",
      "Recall: 0.9000\n",
      "F1-score: 0.9351\n",
      "\n",
      "Confusion Matrix:\n",
      "Predicted:  Normal  Anomaly\n",
      "True Normal:   69      3\n",
      "True Anomaly:  12     108\n"
     ]
    }
   ],
   "source": [
    "accuracy = accuracy_score(y_true_anomaly, y_pred_anomaly)\n",
    "precision = precision_score(y_true_anomaly, y_pred_anomaly)\n",
    "recall = recall_score(y_true_anomaly, y_pred_anomaly)\n",
    "f1 = f1_score(y_true_anomaly, y_pred_anomaly)\n",
    "\n",
    "print(\"=== ANOMALY DETECTION RESULTS ===\")\n",
    "print(f\"Accuracy: {accuracy:.4f}\")\n",
    "print(f\"Precision: {precision:.4f}\")\n",
    "print(f\"Recall: {recall:.4f}\")\n",
    "print(f\"F1-score: {f1:.4f}\")\n",
    "\n",
    "# confusion matrix\n",
    "cm = confusion_matrix(y_true_anomaly, y_pred_anomaly)\n",
    "print(\"\\nConfusion Matrix:\")\n",
    "print(\"Predicted:  Normal  Anomaly\")\n",
    "print(f\"True Normal:   {cm[0,0]:2d}     {cm[0,1]:2d}\")\n",
    "print(f\"True Anomaly:  {cm[1,0]:2d}     {cm[1,1]:2d}\")\n",
    "\n"
   ]
  },
  {
   "cell_type": "code",
   "execution_count": 32,
   "id": "a7361e43",
   "metadata": {
    "execution": {
     "iopub.execute_input": "2025-09-03T21:29:43.112364Z",
     "iopub.status.busy": "2025-09-03T21:29:43.111986Z",
     "iopub.status.idle": "2025-09-03T21:29:43.153550Z",
     "shell.execute_reply": "2025-09-03T21:29:43.152396Z"
    },
    "papermill": {
     "duration": 0.096768,
     "end_time": "2025-09-03T21:29:43.155093",
     "exception": false,
     "start_time": "2025-09-03T21:29:43.058325",
     "status": "completed"
    },
    "tags": []
   },
   "outputs": [
    {
     "name": "stdout",
     "output_type": "stream",
     "text": [
      "Threshold optimization:\n",
      "Percentile | Threshold | Accuracy | Precision | Recall | F1-score\n",
      "-----------------------------------------------------------------\n",
      "      90 |  0.00001 |   0.9271 |    0.9569 | 0.9250 |   0.9407\n",
      "      92 |  0.00001 |   0.9271 |    0.9732 | 0.9083 |   0.9397\n",
      "      94 |  0.00001 |   0.9219 |    0.9730 | 0.9000 |   0.9351\n",
      "      95 |  0.00001 |   0.9219 |    0.9730 | 0.9000 |   0.9351\n",
      "      96 |  0.00001 |   0.9115 |    0.9725 | 0.8833 |   0.9258\n",
      "      97 |  0.00001 |   0.9062 |    0.9811 | 0.8667 |   0.9204\n",
      "      98 |  0.00001 |   0.8906 |    0.9806 | 0.8417 |   0.9058\n",
      "\n",
      "Best threshold: 0.00001 (at 90th percentile)\n",
      "Best F1-score: 0.9407\n"
     ]
    }
   ],
   "source": [
    "thresholds_to_try = [90, 92, 94, 95, 96, 97, 98]\n",
    "best_f1 = 0\n",
    "best_threshold = threshold\n",
    "\n",
    "print(\"Threshold optimization:\")\n",
    "print(\"Percentile | Threshold | Accuracy | Precision | Recall | F1-score\")\n",
    "print(\"-\" * 65)\n",
    "\n",
    "for percentile in thresholds_to_try:\n",
    "    thresh = np.percentile(train_mse, percentile)\n",
    "    pred_anomaly = (test_mse > thresh).numpy().astype(int)\n",
    "    \n",
    "    acc = accuracy_score(y_true_anomaly, pred_anomaly)\n",
    "    prec = precision_score(y_true_anomaly, pred_anomaly)\n",
    "    rec = recall_score(y_true_anomaly, pred_anomaly)\n",
    "    f1_temp = f1_score(y_true_anomaly, pred_anomaly)\n",
    "    \n",
    "    print(f\"{percentile:8d} | {thresh:8.5f} | {acc:8.4f} | {prec:9.4f} | {rec:6.4f} | {f1_temp:8.4f}\")\n",
    "    \n",
    "    if f1_temp > best_f1:\n",
    "        best_f1 = f1_temp\n",
    "        best_threshold = thresh\n",
    "        best_percentile = percentile\n",
    "\n",
    "print(f\"\\nBest threshold: {best_threshold:.5f} (at {best_percentile}th percentile)\")\n",
    "print(f\"Best F1-score: {best_f1:.4f}\")"
   ]
  },
  {
   "cell_type": "code",
   "execution_count": 33,
   "id": "1855b209",
   "metadata": {
    "execution": {
     "iopub.execute_input": "2025-09-03T21:29:43.265965Z",
     "iopub.status.busy": "2025-09-03T21:29:43.265610Z",
     "iopub.status.idle": "2025-09-03T21:29:43.282840Z",
     "shell.execute_reply": "2025-09-03T21:29:43.281473Z"
    },
    "papermill": {
     "duration": 0.073165,
     "end_time": "2025-09-03T21:29:43.284791",
     "exception": false,
     "start_time": "2025-09-03T21:29:43.211626",
     "status": "completed"
    },
    "tags": []
   },
   "outputs": [
    {
     "name": "stdout",
     "output_type": "stream",
     "text": [
      "=== FINAL OPTIMIZED RESULTS ===\n",
      "Accuracy: 0.9271\n",
      "Precision: 0.9569\n",
      "Recall: 0.9250\n",
      "F1-score: 0.9407\n",
      "\n",
      "Final Confusion Matrix:\n",
      "Predicted:    Normal  Anomaly\n",
      "True Normal:     67      5\n",
      "True Anomaly:     9     111\n",
      " autoencoder results:\n",
      "Accuracy: 0.9271, Precision: 0.9569, Recall: 0.9250, F1: 0.9407\n"
     ]
    }
   ],
   "source": [
    "optimal_threshold = np.percentile(train_mse, 90)\n",
    "y_pred_final = (test_mse > optimal_threshold).numpy().astype(int)\n",
    "\n",
    "final_accuracy = accuracy_score(y_true_anomaly, y_pred_final)\n",
    "final_precision = precision_score(y_true_anomaly, y_pred_final)\n",
    "final_recall = recall_score(y_true_anomaly, y_pred_final)\n",
    "final_f1 = f1_score(y_true_anomaly, y_pred_final)\n",
    "\n",
    "print(\"=== FINAL OPTIMIZED RESULTS ===\")\n",
    "print(f\"Accuracy: {final_accuracy:.4f}\")\n",
    "print(f\"Precision: {final_precision:.4f}\")\n",
    "print(f\"Recall: {final_recall:.4f}\")\n",
    "print(f\"F1-score: {final_f1:.4f}\")\n",
    "\n",
    "cm_final = confusion_matrix(y_true_anomaly, y_pred_final)\n",
    "print(\"\\nFinal Confusion Matrix:\")\n",
    "print(\"Predicted:    Normal  Anomaly\")\n",
    "print(f\"True Normal:     {cm_final[0,0]:2d}     {cm_final[0,1]:2d}\")\n",
    "print(f\"True Anomaly:    {cm_final[1,0]:2d}     {cm_final[1,1]:2d}\")\n",
    "\n",
    "print(f\" autoencoder results:\")\n",
    "print(f\"Accuracy: {final_accuracy:.4f}, Precision: {final_precision:.4f}, Recall: {final_recall:.4f}, F1: {final_f1:.4f}\")"
   ]
  }
 ],
 "metadata": {
  "kaggle": {
   "accelerator": "none",
   "dataSources": [
    {
     "datasetId": 7183841,
     "sourceId": 11464109,
     "sourceType": "datasetVersion"
    }
   ],
   "dockerImageVersionId": 31089,
   "isGpuEnabled": false,
   "isInternetEnabled": false,
   "language": "python",
   "sourceType": "notebook"
  },
  "kernelspec": {
   "display_name": "Python 3",
   "language": "python",
   "name": "python3"
  },
  "language_info": {
   "codemirror_mode": {
    "name": "ipython",
    "version": 3
   },
   "file_extension": ".py",
   "mimetype": "text/x-python",
   "name": "python",
   "nbconvert_exporter": "python",
   "pygments_lexer": "ipython3",
   "version": "3.11.13"
  },
  "papermill": {
   "default_parameters": {},
   "duration": 90.59727,
   "end_time": "2025-09-03T21:29:46.921227",
   "environment_variables": {},
   "exception": null,
   "input_path": "__notebook__.ipynb",
   "output_path": "__notebook__.ipynb",
   "parameters": {},
   "start_time": "2025-09-03T21:28:16.323957",
   "version": "2.6.0"
  }
 },
 "nbformat": 4,
 "nbformat_minor": 5
}
